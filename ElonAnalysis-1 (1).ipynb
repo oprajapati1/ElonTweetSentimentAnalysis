{
 "cells": [
  {
   "cell_type": "code",
   "execution_count": 1,
   "metadata": {},
   "outputs": [],
   "source": [
    "# Suppressing Warnings\n",
    "\n",
    "import warnings\n",
    "warnings.filterwarnings('ignore')\n",
    "\n",
    "\n",
    "# Importing libraries\n",
    "\n",
    "import pandas as pd\n",
    "import numpy as np\n",
    "import re\n",
    "import matplotlib.pyplot as plt\n",
    "import seaborn as sns\n",
    "from textblob import TextBlob\n",
    "import plotly.express as px\n",
    "from datetime import datetime, timedelta\n",
    "\n",
    "\n",
    "\n"
   ]
  },
  {
   "cell_type": "code",
   "execution_count": 2,
   "metadata": {},
   "outputs": [
    {
     "data": {
      "text/html": [
       "<div>\n",
       "<style scoped>\n",
       "    .dataframe tbody tr th:only-of-type {\n",
       "        vertical-align: middle;\n",
       "    }\n",
       "\n",
       "    .dataframe tbody tr th {\n",
       "        vertical-align: top;\n",
       "    }\n",
       "\n",
       "    .dataframe thead th {\n",
       "        text-align: right;\n",
       "    }\n",
       "</style>\n",
       "<table border=\"1\" class=\"dataframe\">\n",
       "  <thead>\n",
       "    <tr style=\"text-align: right;\">\n",
       "      <th></th>\n",
       "      <th>Tweets</th>\n",
       "      <th>Retweets</th>\n",
       "      <th>Likes</th>\n",
       "      <th>Date</th>\n",
       "      <th>Cleaned_Tweets</th>\n",
       "    </tr>\n",
       "  </thead>\n",
       "  <tbody>\n",
       "    <tr>\n",
       "      <th>0</th>\n",
       "      <td>@PeterSchiff 🤣 thanks</td>\n",
       "      <td>209</td>\n",
       "      <td>7021</td>\n",
       "      <td>2022-10-27 16:17:39</td>\n",
       "      <td>thanks</td>\n",
       "    </tr>\n",
       "    <tr>\n",
       "      <th>1</th>\n",
       "      <td>@ZubyMusic Absolutely</td>\n",
       "      <td>755</td>\n",
       "      <td>26737</td>\n",
       "      <td>2022-10-27 13:19:25</td>\n",
       "      <td>Absolutely</td>\n",
       "    </tr>\n",
       "    <tr>\n",
       "      <th>2</th>\n",
       "      <td>Dear Twitter Advertisers https://t.co/GMwHmInPAS</td>\n",
       "      <td>55927</td>\n",
       "      <td>356623</td>\n",
       "      <td>2022-10-27 13:08:00</td>\n",
       "      <td>Dear Twitter Advertisers</td>\n",
       "    </tr>\n",
       "    <tr>\n",
       "      <th>3</th>\n",
       "      <td>Meeting a lot of cool people at Twitter today!</td>\n",
       "      <td>9366</td>\n",
       "      <td>195546</td>\n",
       "      <td>2022-10-26 21:39:32</td>\n",
       "      <td>Meeting a lot of cool people at Twitter today!</td>\n",
       "    </tr>\n",
       "    <tr>\n",
       "      <th>4</th>\n",
       "      <td>Entering Twitter HQ – let that sink in! https:...</td>\n",
       "      <td>145520</td>\n",
       "      <td>1043592</td>\n",
       "      <td>2022-10-26 18:45:58</td>\n",
       "      <td>Entering Twitter HQ – let that sink in!</td>\n",
       "    </tr>\n",
       "  </tbody>\n",
       "</table>\n",
       "</div>"
      ],
      "text/plain": [
       "                                              Tweets  Retweets    Likes  \\\n",
       "0                              @PeterSchiff 🤣 thanks       209     7021   \n",
       "1                              @ZubyMusic Absolutely       755    26737   \n",
       "2   Dear Twitter Advertisers https://t.co/GMwHmInPAS     55927   356623   \n",
       "3     Meeting a lot of cool people at Twitter today!      9366   195546   \n",
       "4  Entering Twitter HQ – let that sink in! https:...    145520  1043592   \n",
       "\n",
       "                  Date                                  Cleaned_Tweets  \n",
       "0  2022-10-27 16:17:39                                          thanks  \n",
       "1  2022-10-27 13:19:25                                      Absolutely  \n",
       "2  2022-10-27 13:08:00                        Dear Twitter Advertisers  \n",
       "3  2022-10-26 21:39:32  Meeting a lot of cool people at Twitter today!  \n",
       "4  2022-10-26 18:45:58         Entering Twitter HQ – let that sink in!  "
      ]
     },
     "execution_count": 2,
     "metadata": {},
     "output_type": "execute_result"
    }
   ],
   "source": [
    "df = pd.read_csv('/Users/benadams/Downloads/elontweets.csv')\n",
    "df.head()\n"
   ]
  },
  {
   "cell_type": "code",
   "execution_count": 3,
   "metadata": {},
   "outputs": [],
   "source": [
    "# remove tweets where the cleaned version is empty\n",
    "df.drop(df[df['Cleaned_Tweets'] == ''].index, inplace = True)"
   ]
  },
  {
   "cell_type": "code",
   "execution_count": 4,
   "metadata": {},
   "outputs": [],
   "source": [
    "#function to get the subjectivity of a tweet\n",
    "def getSubjectivity(twt):\n",
    "  return TextBlob(twt).sentiment.subjectivity\n",
    "\n",
    "#function to get the polarity of a tweet\n",
    "def getPolarity(twt):\n",
    "  return TextBlob(twt).sentiment.polarity"
   ]
  },
  {
   "cell_type": "code",
   "execution_count": 5,
   "metadata": {},
   "outputs": [],
   "source": [
    "#Create two new columns to save the results of the created functions \n",
    "df['Subjectivity'] = df['Cleaned_Tweets'].apply(getSubjectivity)\n",
    "df['Polarity'] = df['Cleaned_Tweets'].apply(getPolarity)"
   ]
  },
  {
   "cell_type": "code",
   "execution_count": 6,
   "metadata": {},
   "outputs": [
    {
     "data": {
      "text/html": [
       "<div>\n",
       "<style scoped>\n",
       "    .dataframe tbody tr th:only-of-type {\n",
       "        vertical-align: middle;\n",
       "    }\n",
       "\n",
       "    .dataframe tbody tr th {\n",
       "        vertical-align: top;\n",
       "    }\n",
       "\n",
       "    .dataframe thead th {\n",
       "        text-align: right;\n",
       "    }\n",
       "</style>\n",
       "<table border=\"1\" class=\"dataframe\">\n",
       "  <thead>\n",
       "    <tr style=\"text-align: right;\">\n",
       "      <th></th>\n",
       "      <th>Tweets</th>\n",
       "      <th>Retweets</th>\n",
       "      <th>Likes</th>\n",
       "      <th>Date</th>\n",
       "      <th>Cleaned_Tweets</th>\n",
       "      <th>Subjectivity</th>\n",
       "      <th>Polarity</th>\n",
       "    </tr>\n",
       "  </thead>\n",
       "  <tbody>\n",
       "    <tr>\n",
       "      <th>2</th>\n",
       "      <td>Dear Twitter Advertisers https://t.co/GMwHmInPAS</td>\n",
       "      <td>55927</td>\n",
       "      <td>356623</td>\n",
       "      <td>2022-10-27 13:08:00</td>\n",
       "      <td>Dear Twitter Advertisers</td>\n",
       "      <td>0.000000</td>\n",
       "      <td>0.000000</td>\n",
       "    </tr>\n",
       "    <tr>\n",
       "      <th>3</th>\n",
       "      <td>Meeting a lot of cool people at Twitter today!</td>\n",
       "      <td>9366</td>\n",
       "      <td>195546</td>\n",
       "      <td>2022-10-26 21:39:32</td>\n",
       "      <td>Meeting a lot of cool people at Twitter today!</td>\n",
       "      <td>0.650000</td>\n",
       "      <td>0.437500</td>\n",
       "    </tr>\n",
       "    <tr>\n",
       "      <th>4</th>\n",
       "      <td>Entering Twitter HQ – let that sink in! https:...</td>\n",
       "      <td>145520</td>\n",
       "      <td>1043592</td>\n",
       "      <td>2022-10-26 18:45:58</td>\n",
       "      <td>Entering Twitter HQ – let that sink in!</td>\n",
       "      <td>0.000000</td>\n",
       "      <td>0.000000</td>\n",
       "    </tr>\n",
       "    <tr>\n",
       "      <th>5</th>\n",
       "      <td>@ARodTV Definitely closer to citizen journalis...</td>\n",
       "      <td>699</td>\n",
       "      <td>10189</td>\n",
       "      <td>2022-10-26 17:05:16</td>\n",
       "      <td>Definitely closer to citizen journalism – loca...</td>\n",
       "      <td>0.333333</td>\n",
       "      <td>0.166667</td>\n",
       "    </tr>\n",
       "    <tr>\n",
       "      <th>7</th>\n",
       "      <td>A beautiful thing about Twitter is how it empo...</td>\n",
       "      <td>37951</td>\n",
       "      <td>294406</td>\n",
       "      <td>2022-10-26 15:27:40</td>\n",
       "      <td>A beautiful thing about Twitter is how it empo...</td>\n",
       "      <td>0.812500</td>\n",
       "      <td>0.675000</td>\n",
       "    </tr>\n",
       "  </tbody>\n",
       "</table>\n",
       "</div>"
      ],
      "text/plain": [
       "                                              Tweets  Retweets    Likes  \\\n",
       "2   Dear Twitter Advertisers https://t.co/GMwHmInPAS     55927   356623   \n",
       "3     Meeting a lot of cool people at Twitter today!      9366   195546   \n",
       "4  Entering Twitter HQ – let that sink in! https:...    145520  1043592   \n",
       "5  @ARodTV Definitely closer to citizen journalis...       699    10189   \n",
       "7  A beautiful thing about Twitter is how it empo...     37951   294406   \n",
       "\n",
       "                  Date                                     Cleaned_Tweets  \\\n",
       "2  2022-10-27 13:08:00                           Dear Twitter Advertisers   \n",
       "3  2022-10-26 21:39:32     Meeting a lot of cool people at Twitter today!   \n",
       "4  2022-10-26 18:45:58            Entering Twitter HQ – let that sink in!   \n",
       "5  2022-10-26 17:05:16  Definitely closer to citizen journalism – loca...   \n",
       "7  2022-10-26 15:27:40  A beautiful thing about Twitter is how it empo...   \n",
       "\n",
       "   Subjectivity  Polarity  \n",
       "2      0.000000  0.000000  \n",
       "3      0.650000  0.437500  \n",
       "4      0.000000  0.000000  \n",
       "5      0.333333  0.166667  \n",
       "7      0.812500  0.675000  "
      ]
     },
     "execution_count": 6,
     "metadata": {},
     "output_type": "execute_result"
    }
   ],
   "source": [
    "#Find all tweets containing the word twitter\n",
    "twitter_df = df[df['Cleaned_Tweets'].str.contains(r'\\bTwitter\\b', case=False, na=False)]\n",
    "twitter_df.shape\n",
    "twitter_df.head(5)\n"
   ]
  },
  {
   "cell_type": "code",
   "execution_count": 7,
   "metadata": {},
   "outputs": [
    {
     "data": {
      "text/plain": [
       "(53, 7)"
      ]
     },
     "execution_count": 7,
     "metadata": {},
     "output_type": "execute_result"
    }
   ],
   "source": [
    "#Find all tweets containing the word spaceX\n",
    "spaceX_df = df[df['Cleaned_Tweets'].str.contains(r'\\SpaceX\\b', case=False, na=False)]\n",
    "spaceX_df.shape"
   ]
  },
  {
   "cell_type": "code",
   "execution_count": 8,
   "metadata": {},
   "outputs": [
    {
     "data": {
      "text/html": [
       "<div>\n",
       "<style scoped>\n",
       "    .dataframe tbody tr th:only-of-type {\n",
       "        vertical-align: middle;\n",
       "    }\n",
       "\n",
       "    .dataframe tbody tr th {\n",
       "        vertical-align: top;\n",
       "    }\n",
       "\n",
       "    .dataframe thead th {\n",
       "        text-align: right;\n",
       "    }\n",
       "</style>\n",
       "<table border=\"1\" class=\"dataframe\">\n",
       "  <thead>\n",
       "    <tr style=\"text-align: right;\">\n",
       "      <th></th>\n",
       "      <th>Tweets</th>\n",
       "      <th>Retweets</th>\n",
       "      <th>Likes</th>\n",
       "      <th>Date</th>\n",
       "      <th>Cleaned_Tweets</th>\n",
       "      <th>Subjectivity</th>\n",
       "      <th>Polarity</th>\n",
       "    </tr>\n",
       "  </thead>\n",
       "  <tbody>\n",
       "    <tr>\n",
       "      <th>68</th>\n",
       "      <td>@teslaownersSV @BillyM2k Varies a lot. Tesla &amp;...</td>\n",
       "      <td>337</td>\n",
       "      <td>3623</td>\n",
       "      <td>2022-10-21 06:11:05</td>\n",
       "      <td>Varies a lot. Tesla &amp;amp; SpaceX are in good p...</td>\n",
       "      <td>0.491667</td>\n",
       "      <td>0.358333</td>\n",
       "    </tr>\n",
       "    <tr>\n",
       "      <th>278</th>\n",
       "      <td>In case you missed Tesla AI Day 2022\\nhttps://...</td>\n",
       "      <td>3087</td>\n",
       "      <td>42431</td>\n",
       "      <td>2022-10-07 14:11:05</td>\n",
       "      <td>In case you missed Tesla AI Day 2022</td>\n",
       "      <td>0.000000</td>\n",
       "      <td>0.000000</td>\n",
       "    </tr>\n",
       "    <tr>\n",
       "      <th>287</th>\n",
       "      <td>Excited to announce start of production of Tes...</td>\n",
       "      <td>31298</td>\n",
       "      <td>363590</td>\n",
       "      <td>2022-10-06 23:50:57</td>\n",
       "      <td>Excited to announce start of production of Tes...</td>\n",
       "      <td>0.750000</td>\n",
       "      <td>0.468750</td>\n",
       "    </tr>\n",
       "    <tr>\n",
       "      <th>308</th>\n",
       "      <td>@LindseyGrahamSC First of all, Tesla hasn’t ha...</td>\n",
       "      <td>4545</td>\n",
       "      <td>41444</td>\n",
       "      <td>2022-10-06 01:27:54</td>\n",
       "      <td>First of all, Tesla hasn’t had that consumer t...</td>\n",
       "      <td>0.333333</td>\n",
       "      <td>0.250000</td>\n",
       "    </tr>\n",
       "    <tr>\n",
       "      <th>341</th>\n",
       "      <td>@WholeMarsBlog Would be cool to make a game us...</td>\n",
       "      <td>381</td>\n",
       "      <td>6011</td>\n",
       "      <td>2022-10-03 07:58:13</td>\n",
       "      <td>Would be cool to make a game using Tesla Sim t...</td>\n",
       "      <td>0.446296</td>\n",
       "      <td>-0.068519</td>\n",
       "    </tr>\n",
       "  </tbody>\n",
       "</table>\n",
       "</div>"
      ],
      "text/plain": [
       "                                                Tweets  Retweets   Likes  \\\n",
       "68   @teslaownersSV @BillyM2k Varies a lot. Tesla &...       337    3623   \n",
       "278  In case you missed Tesla AI Day 2022\\nhttps://...      3087   42431   \n",
       "287  Excited to announce start of production of Tes...     31298  363590   \n",
       "308  @LindseyGrahamSC First of all, Tesla hasn’t ha...      4545   41444   \n",
       "341  @WholeMarsBlog Would be cool to make a game us...       381    6011   \n",
       "\n",
       "                    Date                                     Cleaned_Tweets  \\\n",
       "68   2022-10-21 06:11:05  Varies a lot. Tesla &amp; SpaceX are in good p...   \n",
       "278  2022-10-07 14:11:05               In case you missed Tesla AI Day 2022   \n",
       "287  2022-10-06 23:50:57  Excited to announce start of production of Tes...   \n",
       "308  2022-10-06 01:27:54  First of all, Tesla hasn’t had that consumer t...   \n",
       "341  2022-10-03 07:58:13  Would be cool to make a game using Tesla Sim t...   \n",
       "\n",
       "     Subjectivity  Polarity  \n",
       "68       0.491667  0.358333  \n",
       "278      0.000000  0.000000  \n",
       "287      0.750000  0.468750  \n",
       "308      0.333333  0.250000  \n",
       "341      0.446296 -0.068519  "
      ]
     },
     "execution_count": 8,
     "metadata": {},
     "output_type": "execute_result"
    }
   ],
   "source": [
    "#Find all tweets containing the word tesla\n",
    "tesla_df = df[df['Cleaned_Tweets'].str.contains(r'\\bTesla\\b', case=False, na=False)]\n",
    "tesla_df.shape\n",
    "tesla_df.head(5)"
   ]
  },
  {
   "cell_type": "code",
   "execution_count": 9,
   "metadata": {},
   "outputs": [
    {
     "data": {
      "application/vnd.plotly.v1+json": {
       "config": {
        "plotlyServerURL": "https://plot.ly"
       },
       "data": [
        {
         "customdata": [
          [
           " thanks"
          ],
          [
           "Absolutely"
          ],
          [
           "Dear Twitter Advertisers"
          ],
          [
           "Meeting a lot of cool people at Twitter today!"
          ],
          [
           "Entering Twitter HQ – let that sink in!"
          ],
          [
           "Definitely closer to citizen journalism – local news orgs are under-appreciated &amp; should get way more prominence on Twitter"
          ],
          [
           "Nobody bats 1000 "
          ],
          [
           "A beautiful thing about Twitter is how it empowers citizen journalism – people are able to disseminate news without an establishment bias"
          ],
          [
           "I’m a big fan of citizen journalism!"
          ],
          [
           "“According to unnamed sources close to the matter who wish to remain anonymous” "
          ],
          [
           "“The New York Times has emerged as a new, chaotic actor in global politics. The paper’s interventions in some of the world’s most combustible conflicts have sometimes been a boon, but their messaging has also caused problems.”"
          ],
          [
           "Yes!"
          ],
          [
           "30% is a lot"
          ],
          [
           "Concerning"
          ],
          [
           "Works on any moving land object"
          ],
          [
           "Fasting rocks"
          ],
          [
           "Had to do a double-take. This is the first non-fake Vitalik tweet I’ve seen in a while."
          ],
          [
           "One man’s hedge is another man’s shrub"
          ],
          [
           "Yup"
          ],
          [
           "True"
          ],
          [
           "Too much respect for authority inhibits innovation"
          ],
          [
           "What lesson took you the longest to unlearn?"
          ],
          [
           "διαλεκτική"
          ],
          [
           "Twitter should be as broadly inclusive as possible, serving as a fair forum for lively, even if occasionally rancorous, debate between widely divergent beliefs."
          ],
          [
           "Absolutely necessary"
          ],
          [
           "!"
          ],
          [
           "Important"
          ],
          [
           "Yup"
          ],
          [
           "Exactly!"
          ],
          [
           "Yeah, doesn’t make sense"
          ],
          [
           "Good thread"
          ],
          [
           "I only play crazy 9’s"
          ],
          [
           "That’s the plan, unless it is damaged in testing. What really matters is that ship &amp; booster production line is spooling up. Also, each new ship &amp; booster has incremental design improvements."
          ],
          [
           "Yeah, I’m back to spare bedroom /couch surfing at friend’s houses in Silicon Valley, which I did for about a decade.Frankly, I like it this way, as I get to see my friends, who I love, more often."
          ],
          [
           "I did as a child, but found it to be too simple to be useful in real life: a mere 8 by 8 grid, no fog of war, no technology tree, no random map or spawn position, only 2 players, both sides exact same pieces, etc.Polytopia addresses these limitations."
          ],
          [
           "And I don’t even own a house, let alone a “mansion”, you douche"
          ],
          [
           "While it’s true that Kasparov is almost as good at playing chess as my iPhone, he is otherwise an idiot"
          ],
          [
           "Yes"
          ],
          [
           "How exciting to be alive at the same time as the largest animal ever! Wild that Blue whales are bigger than the biggest dinosaur."
          ],
          [
           "You’re most welcome"
          ],
          [
           "Before DoD even came back with an answer, I told  that SpaceX would not turn off Starlink even if DoD refused to provide funding"
          ],
          [
           "Absolutely!"
          ],
          [
           "Interesting"
          ],
          [
           "Great game"
          ],
          [
           "Maybe it was a social media algorithm, not even people"
          ],
          [
           "Think about who might have decided “The Current Thing” before accepting it"
          ],
          [
           "Who decides “The Current Thing?”Real question. I don’t know."
          ],
          [
           "Exactly. WaPo are such hypocrites."
          ],
          [
           "Neuralink show &amp; tell now on Nov 30"
          ],
          [
           "Had to be done"
          ],
          [
           "We’ve come a long way"
          ],
          [
           "i know|nothing|is forever"
          ],
          [
           "Good point "
          ],
          [
           "This needs to change. Manufacturing is awesome!"
          ],
          [
           "It will happen"
          ],
          [
           "Hear! Hear!"
          ],
          [
           "Why are you perpetuating propaganda concocted by the oil &amp; gas industry to distract you from the 6 trillion dollars per *year* of subsidies those companies receive?"
          ],
          [
           "Switzerland &amp; Belgium have great chocolate, but I do also love eccentric British &amp; Irish artisanal sweet shops"
          ],
          [
           "Good thread"
          ],
          [
           "Next week. It’s actually a major release, so a lot more internal testing is needed before going to public beta."
          ],
          [
           "Cool"
          ],
          [
           " Although there could be more R&amp;D in candy tbh. Feels like there hasn’t been much improvement in decades."
          ],
          [
           "Headline is misleading. Starlink can obviously offer far more robust positioning than GPS, as it will have ~1000X more satellites over time. Not all will have line of sight to users, but still &gt;10X GPS &amp; far stronger signal.Just not today’s problem."
          ],
          [
           "One of my favorite conspiracy theories is that the world is actually 80% men"
          ],
          [
           "un ass ailable logic!"
          ],
          [
           "Yes"
          ],
          [
           "You’re right. Eventually, we all run out of time."
          ],
          [
           "Only Giga Berlin can make these colors, as paint shop was specially built to apply many fine layers of paint, giving it complexity not otherwise possible"
          ],
          [
           "Varies a lot. Tesla &amp; SpaceX are in good positions, but many other companies are not. Recessions do have a silver lining in that companies that shouldn’t exist stop existing."
          ],
          [
           "Those who want Putin removed are laboring under the misapprehension that whoever replaces him will be more amenable to peace or western philosophy, but I think this is unlikely – the Kremlin is not the Nice Guy Olympics"
          ],
          [
           "Russia overrunning Ukraine would destabilize the entire region, perhaps the world"
          ],
          [
           "If Russia faced calamitous defeat in conventional warfare for something as strategically critical as Crimea, the probability of using nuclear weapons is high"
          ],
          [
           "I do. Yes."
          ],
          [
           "Still very unlikely, but this is the closest we’ve been since Cuba in ‘62"
          ],
          [
           "Just guessing, but probably until spring of ‘24"
          ],
          [
           "It sure would be nice to have one year without a horrible global event"
          ],
          [
           "“Brutal for both sides” will be a common phrase in the months to come"
          ],
          [
           "No way"
          ],
          [
           "Maybe"
          ],
          [
           "Certainly warrants closer scrutiny"
          ],
          [
           "Btw, how’s it going in Bakhmut?"
          ],
          [
           "Pretty good troll tbh"
          ],
          [
           "*humour"
          ],
          [
           "I couldn’t agree more "
          ],
          [
           "British humor is the best"
          ],
          [
           "Compromise is overwhelmingly the most likely outcome – just a question of how much death &amp; destruction happens before then"
          ],
          [
           "That should be the nature of the debate"
          ],
          [
           "Most probable outcome by far is a horrible war of attrition that destroys Ukraine &amp; severely damages Russia, with massive body count on both sides.And, in the end, the same outcome. So why?"
          ],
          [
           "Exactly"
          ],
          [
           "Congrats to  team on 48th launch this year! Falcon 9 now holds record for most launches of a single vehicle type in a year."
          ],
          [
           "Same"
          ],
          [
           "Exactly"
          ],
          [
           "SpaceX has more active satellites in orbit than rest of Earth combined, tracking to double rest of Earth soon"
          ],
          [
           "The media reports with great fanfare my predictions that are late, but rarely those that come early"
          ],
          [
           "Accelerating sustainable energy is our primary mission"
          ],
          [
           "Will require truly exceptional execution, but it is possible"
          ],
          [
           "I will not let you down, no matter what it takes"
          ],
          [
           "Awesome"
          ],
          [
           "We even did a Starlink video call on one airplane aloft to Starlink on another, far away, airplane aloft and it worked perfectly with no lag!"
          ],
          [
           "Vox Populi Vox Dei"
          ],
          [
           "Several major architectural upgrades in 10.69.3, so it’s much more than a point release, but we’re sticking with 10.69 just cause haha"
          ],
          [
           "Sounds fair"
          ],
          [
           "Definitely giving me kid naming ideas "
          ],
          [
           "And … sold out!"
          ],
          [
           "Internet in airplanes will feel same as if you were accessing Internet at home!"
          ],
          [
           "28,700 bottles of exquisite Burnt Hair perfume already sold! Only 1,300 left of this unique, limited edition, collector’s item."
          ],
          [
           "We’re working on it. Hope to release something next week."
          ],
          [
           "No money from DoD, but several other countries, orgs &amp; individuals are paying for ~11k/25k terminals (thanks!).SpaceX is losing ~$20M/month due to unpaid service &amp; costs related to enhanced security measures for cyberwar defense, but we’ll keep doing it (sigh)."
          ],
          [
           "Smart? Maybe. Does dumb stuff? Definitely!"
          ],
          [
           "True"
          ],
          [
           "Exactly"
          ],
          [
           "Should I make weapons? Ideally, not."
          ],
          [
           "An easy prediction"
          ],
          [
           "Drone War I"
          ],
          [
           "(Actually) Smart Summon is almost done"
          ],
          [
           "Yes"
          ],
          [
           "I have a plan"
          ],
          [
           "Thanks Optimus :)"
          ],
          [
           "To be precise, 25,300 terminals were sent to Ukraine, but, at present, only 10,630 are paying for service"
          ],
          [
           "SpaceX has already withdrawn its request for funding"
          ],
          [
           "Wrong analogy. America also had a humiliating withdrawal from Afghanistan. No one in America sees that country as part of America.Crimea *is* seen as a crucial part of Russia by Russia, much as Hawaii is seen as a crucial part of America."
          ],
          [
           "Probably not"
          ],
          [
           "Practice makes perfect …"
          ],
          [
           "Russia has been punched in the nose and forced to retreat many times by Ukraine. But what you don’t want to do is give Russia a choice of total, humiliating defeat or nukes – then the probability of them using nukes is high."
          ],
          [
           "Obviously many disagree with this logic, but what do they think is their probability of being wrong about WW3. If they say 0%, they are utterly dangerous fools."
          ],
          [
           "But, hey, look on the bright side! At least Russia doesn’t get Crimea in that scenario, so you can be comforted by that thought, while watching the mushroom clouds rise."
          ],
          [
           "If Russia faces destruction of their army and utter defeat by NATO, they will use nukes, then NATO will respond with nukes and civilization is over"
          ],
          [
           "Whether one likes it or not, Crimea is absolutely seen as a core part of Russia by Russia. Crimea is also of critical national security importance to Russia, as it is their southern navy base.From their standpoint losing Crimea is like USA losing Hawaii &amp; Pearl Harbor."
          ],
          [
           "Exactly"
          ],
          [
           "If Russia is faced with the choice of losing Crimea or using battlefield nukes, they will choose the latter.We’ve already sanctioned/cutoff Russia in every possible way, so what more do they have left to lose? If we nuke Russia back, they will nuke us and then we have WW3."
          ],
          [
           "Exceptionally well-said"
          ],
          [
           "Standard (non-performance) 3 &amp; Y suspension in production now has improved comfort, without affecting handling"
          ],
          [
           "Yeah, RV version is lower priority than standard version. You should still see high speeds during off hours. Is that happening?As we add more satellites &amp; upgrade satellite technology, speeds in high user density locations should see significant increases."
          ],
          [
           "Ok, we will add a donate option to Starlink"
          ],
          [
           "That’s oddly low. Normally, much higher."
          ],
          [
           "Are there others that want to donate Starlinks to places in need?"
          ],
          [
           "Ok"
          ],
          [
           " that’s happened to me many times"
          ],
          [
           "A much quieter leaf blower is possible"
          ],
          [
           "This is harder than it sounds, but ok"
          ],
          [
           "Deus X Machina"
          ],
          [
           "We are proceeding very carefully. If there is a RUD on the pad, Starship progress will be set back by ~6 months."
          ],
          [
           "Game over when (not if) Earth gets hit by an object of that size"
          ],
          [
           "Ramen &gt;&gt; Lambos"
          ],
          [
           "Used a lot in rocketry"
          ],
          [
           "So true"
          ],
          [
           "Every millipede has its millennia"
          ],
          [
           "We should bring back their outfits"
          ],
          [
           "Good thread"
          ],
          [
           "Fancy a game of meme tennis?"
          ],
          [
           "Buy Burnt Hair from a company that digs holes!"
          ],
          [
           "I read this as goth clowns lonely"
          ],
          [
           "Did you hear about the dyslexic KBG agent – it’s pot secret!"
          ],
          [
           "Venn diagram intersection of those two audiences is pretty small, I guess"
          ],
          [
           "Not as popular as I’d hoped (sigh)"
          ],
          [
           "Pitching my idea once again for a crossover of Das Boot &amp; Boss Baby.“Das Baby” – Hijinks on the high seas!"
          ],
          [
           "Just a scratch, we can buff it out"
          ],
          [
           "Mostly accurate"
          ],
          [
           "The comments in this thread are a conspiracy theorist’s wet dream"
          ],
          [
           "Yup"
          ],
          [
           "7 years ago"
          ],
          [
           "Definitely one of the strangest meetings I’ve ever experienced.  was there too."
          ],
          [
           "I’m trying my hardest to de-escalate this situation and obviously failing"
          ],
          [
           "Damned if you do, damned if you don’t, so … guess I’m just damned"
          ],
          [
           "Starship &amp; next-gen Starlink satellites are key, but much risk lies ahead before those are working at scale"
          ],
          [
           "The hilarious thing is you’re not wrong "
          ],
          [
           "So it goes …"
          ],
          [
           "Fate loves irony"
          ],
          [
           "Even so, we should still do good deeds"
          ],
          [
           "The hell with it … even though Starlink is still losing money &amp; other companies are getting billions of taxpayer $, we’ll just keep funding Ukraine govt for free"
          ],
          [
           "That dude is not just a “condition of anonymity” spineless coward, he’s also an ignorant fool. Starlink was directly requested by the Ukraine government, as it was the only thing that worked."
          ],
          [
           "It has required a lot of our resources. Going into super lockdown mode slows down new development progress, as we have to resist attacks from a sophisticated adversary actively at war."
          ],
          [
           "DoD provided about 3% of the Falcon 1 development cost. Appreciated, certainly, but should be seen in context."
          ],
          [
           "Of course. And their signal jamming systems are also getting better."
          ],
          [
           "The amount SpaceX is requesting for a major battlefield advantage is less than the cost of one new GPS satellite. Ironically, GPS doesn’t work on battlefields, as the signal is easy to jam, but Starlink does."
          ],
          [
           "Would be great if someday humanity stopped pointing nukes at itself that would destroy almost all life on Earth.In any given year, there is a chance above zero that they will be launched. We are now at the highest risk in 60 years."
          ],
          [
           "Curses, foiled again!"
          ],
          [
           "Accurate"
          ],
          [
           "Russia has the ability to destroy USA &amp; Europe utterly with nuclear missiles in less than 30 minutes &amp; vice versa.A surprising number of people don’t know this.Of course, it would be MAD to use them, but it is also MAD to be in this situation at all."
          ],
          [
           "This has potential"
          ],
          [
           "Internet fiber, phone lines, cell towers &amp; other space-based comms in war areas have been destroyed. Starlink is all that’s left. For now."
          ],
          [
           "Thank you for clarifying this "
          ],
          [
           "Starlink is the primary communications system of the Ukrainian army on the war front. If anyone else wants this job, please be my guest …"
          ],
          [
           "Big difference between peace comms vs warfront comms. Starlink is only comms system still working at warfront – others all dead. Russia is actively trying to kill Starlink. To safeguard, SpaceX has diverted massive resources towards defense.Even so, Starlink may still die."
          ],
          [
           "Concerning"
          ],
          [
           "Are there citizens of nations who are helping Ukraine on this list?"
          ],
          [
           "But surely no reasonable person would launch nuclear war?The problem with that logic is if we were dealing with reasonable people, we wouldn’t have war in the first place."
          ],
          [
           "Is this list real? What’s the URL?"
          ],
          [
           "Yay!!"
          ],
          [
           "People should never fear turbulence. Commercial airliner wings can handle insane amounts of bending."
          ],
          [
           "The right question to ask"
          ],
          [
           "We’re just following his recommendation "
          ],
          [
           "Falcon can probably get Starlink past breakeven, but Starship is needed to fund Mars"
          ],
          [
           "Yes"
          ],
          [
           "In addition to terminals, we have to create, launch, maintain &amp; replenish satellites &amp; ground stations &amp; pay telcos for access to Internet via gateways. We’ve also had to defend against cyberattacks &amp; jamming, which are getting harder.Burn is approaching ~$20M/month."
          ],
          [
           "Also, Starlink is still losing money! It is insanely difficult for a LEO communications constellation to avoid bankruptcy – that was the fate of every company that tried this before.When asked what the goal of Starlink was at a space conference, I said “not go bankrupt”."
          ],
          [
           "Maybe the  got their "
          ],
          [
           "Very few in Iran so far"
          ],
          [
           "Strange that nothing was leaked about our competitors in space launch &amp; communications, Lockheed &amp; Boeing, who get over $60B …Wouldn’t be surprised to find this particular individual working there when he retires from DoD. Corruption at its finest."
          ],
          [
           "SpaceX is not asking to recoup past expenses, but also cannot fund the existing system indefinitely *and* send several thousand more terminals that have data usage up to 100X greater than typical households. This is unreasonable."
          ],
          [
           "Vital to the future of consciousness"
          ],
          [
           "srsly"
          ],
          [
           "Next week"
          ],
          [
           "Envy has driven him to madness"
          ],
          [
           "Starlink requires nothing except ~50 Watt power source. With a small solar system plus battery or a generator, you will have connectivity anywhere."
          ],
          [
           "True"
          ],
          [
           "There are some active terminals"
          ],
          [
           "Of course, this happens almost every day. They successfully destroyed Viasat in Ukraine several months ago."
          ],
          [
           "Starlink has faced relentless jamming attacks &amp; SpaceX relentless cyberwar. So far, their success has been limited."
          ],
          [
           "Noted"
          ],
          [
           "Starlink data usage growth in Ukraine"
          ],
          [
           "20,000!!"
          ],
          [
           "Cool"
          ],
          [
           "Maybe with .3"
          ],
          [
           "This is real"
          ],
          [
           " “My opinion is Burnt Hair is just Elon saying, chill out, have a laugh, and share a laugh.”"
          ],
          [
           "Oh the irony "
          ],
          [
           "We might need a different name, as this is basically just Starlink with roaming capability, so you can take your terminal anywhere."
          ],
          [
           "The counter-intuitive thing is that it’s actually gonna be a sick product!"
          ],
          [
           "Please buy my perfume, so I can buy Twitter"
          ],
          [
           "And right on cue  …"
          ],
          [
           "You’re most welcome. Glad to support Ukraine."
          ],
          [
           "Doesn’t get more lit than this!"
          ],
          [
           "BE the change you want in the world!"
          ],
          [
           "Can’t wait for media stories tomorrow about $1M of Burnt Hair sold "
          ],
          [
           "10,000 bottles of Burnt Hair sold!"
          ],
          [
           "Over 5000 bottles of Burnt Hair sold!"
          ],
          [
           "An omnigender product"
          ],
          [
           "With a name like mine, getting into the fragrance business was inevitable – why did I even fight it for so long!?"
          ],
          [
           "And you can pay with Doge!"
          ],
          [
           "The finest fragrance on Earth!"
          ],
          [
           "Nobody should trust Bremmer"
          ],
          [
           "Maybe one day we can finally achieve"
          ],
          [
           "The next question one is typically asked is “Have you tried ayahuasca?”"
          ],
          [
           "Not subtle"
          ],
          [
           "Sam, there is a such a thing as meditating too much"
          ],
          [
           "Yes, back to regularly scheduled programming"
          ],
          [
           "Pointless, as there is currently no overlap between Russian and Ukrainian demands – it’s not even close"
          ],
          [
           "No, it is not. I have spoken to Putin only once and that was about 18 months ago. The subject matter was space."
          ],
          [
           "Talked to ye today &amp; expressed my concerns about his recent tweet, which I think he took to heart"
          ],
          [
           "It was built &amp; paid for at my request. Hunter &amp; team did great work."
          ],
          [
           "It will"
          ],
          [
           "Strange"
          ],
          [
           "I have no desire to become involved in wars, but it is safe to say that all bets are off if the nukes start flying"
          ],
          [
           "Strong candidate to win most counter-intuitive product of the year!"
          ],
          [
           "Important to bear in mind when reading anything"
          ],
          [
           "Indeed, that kinetic energy scales with the square of velocity is not well-appreciated!A sealed escape pod with a heat shield would probably work."
          ],
          [
           "So many blind spots"
          ],
          [
           "There are ~25k terminals in Ukraine, but each terminal can be used to provide an Internet uplink to a cell phone tower, so potentially several thousand people can be served by a single terminal"
          ],
          [
           "Coming soon from The"
          ],
          [
           "Yup, it will float"
          ],
          [
           "Too busy trying to survive at the time"
          ],
          [
           "They were invited to further their career elsewhere"
          ],
          [
           "There is a giant 30ft (literal) fork in the road outside the Autopilot office in Palo Alto"
          ],
          [
           "Mine"
          ],
          [
           "I love the inverse poetry of making metaphors literal"
          ],
          [
           "That is quite an interesting story. We sent what appeared to be identical emails to all, but each was actually coded with either one or two spaces between sentences, forming a binary signature that identified the leaker."
          ],
          [
           "Because it runs recursively"
          ],
          [
           "Nuclear war probability is rising rapidly"
          ],
          [
           "An eye for an eye leaves everyone blind"
          ],
          [
           "Perhaps we can talk again today?"
          ],
          [
           "True, Starlink provided a decisive battlefield advantage"
          ],
          [
           "I’ve been up all night trying to think of any possible way to de-escalate this war"
          ],
          [
           "Feels so long ago. A pleasant memory :)"
          ],
          [
           "Double-header"
          ],
          [
           "Agreed"
          ],
          [
           "Beautiful"
          ],
          [
           "Welcome back to Twitter, my friend!"
          ],
          [
           "Dojo uses bf16, so actual performance difference vs 64 bit is much less than it would seem, since you truncate so many useless zeroes &amp; round from there"
          ],
          [
           "Two Dragons on"
          ],
          [
           "Can’t wait to see this beast in action!"
          ],
          [
           "Even better build coming next week"
          ],
          [
           "Quite a few. Trying to do the right thing, which is not always clear."
          ],
          [
           "I am in regular contact with Fedorov"
          ],
          [
           "Bad reporting by FT. This article falsely claims that Starlink terminals &amp; service were paid for, when only a small percentage have been. This operation has cost SpaceX $80M &amp; will exceed $100M by end of year.As for what’s happening on the battlefield, that’s classified."
          ],
          [
           "Starlink will provide the vast majority of bandwidth from space"
          ],
          [
           "You’d need an electric propeller mounted on the tow hitch to go faster than a few knots. There might a creative wheel hub design that can generate meaningful thrust."
          ],
          [
           "Norway rocks!   "
          ],
          [
           "In case you missed Tesla AI Day 2022"
          ],
          [
           "Satellite constellation capability comes down to tonnage to orbit per year times capability per ton"
          ],
          [
           "SpaceX Dragon docking with  (extended video)"
          ],
          [
           "Very intense 7 days indeed"
          ],
          [
           "Personally, I like the latter, but to each their own"
          ],
          [
           "I think being able to dial the content you see from “warm &amp; fuzzy” all the way to “bring it on mf!” is the way to go"
          ],
          [
           "Software engineering, server operations &amp; design will rule the roost"
          ],
          [
           "There will be very rapid product evolution"
          ],
          [
           "500 mile range &amp; super fun to drive"
          ],
          [
           "Excited to announce start of production of Tesla Semi Truck with deliveries to  on Dec 1st!"
          ],
          [
           "Tiny helium leak (just barely triggered abort), but we take no risks with customer satellites. Standing down to investigate."
          ],
          [
           "Agreed"
          ],
          [
           "Plot twist!"
          ],
          [
           "Elon liking his own tweets liking his own tweets …"
          ],
          [
           "Dragon is now docked to"
          ],
          [
           "Video"
          ],
          [
           "Starlink view of 2nd stage deorbit burn"
          ],
          [
           "I will try my best"
          ],
          [
           "I’m a big fan of Ukraine, but not of WW3"
          ],
          [
           "Cute. You can get surprisingly close to a wild baby rhino &amp; Mom if you stay downwind."
          ],
          [
           "There are no angels in war."
          ],
          [
           "Accurate assessment"
          ],
          [
           "Correct"
          ],
          [
           "So they’re saying that not buying Twitter is bad, but also buying Twitter is bad!?"
          ],
          [
           "We talked via videoconference last year"
          ],
          [
           "War is the ultimate Supreme Court"
          ],
          [
           "Kherson and Zaporizhzhia almost certainly do not want to join Russia – annexation of those regions was done to ensure a land bridge and water supply to Crimea"
          ],
          [
           "Obviously, not everyone who voted for the pro-Russia party wanted to join Russia, but it would also be inaccurate to say that none did."
          ],
          [
           "Below is the electoral map of 2012. Blue is the pro-Russia party."
          ],
          [
           "Assuming you believe that the will of the people matters, we should, in any given conflict region, support the will of those who live there. Most of Ukraine unequivocally wants to be part of Ukraine, but some eastern portions have Russian majorities and prefer Russia."
          ],
          [
           "First of all, Tesla hasn’t had that consumer tax credit for years &amp; we didn’t ask for this one – GM &amp; Ford did"
          ],
          [
           "Another batch of Starlinks in orbit, 7 hours after the astronaut launch"
          ],
          [
           "That wouldn’t be hard to do"
          ],
          [
           "Twitter is an accelerant to fulfilling the original  vision"
          ],
          [
           "I do not think it is simple at all, but I have yet to hear any realistic path to peace.Ukraine has achieved many brilliant tactical victories, but should be wary of overconfidence leading to strategic defeat.When Russia fully mobilizes, millions on both sides will die."
          ],
          [
           "10.69.3 will actually be a major upgrade. We’re keeping .69 just because haha."
          ],
          [
           "Twitter probably accelerates X by 3 to 5 years, but I could be wrong"
          ],
          [
           "Buying Twitter is an accelerant to creating X, the everything app"
          ],
          [
           "Should be noted that Starlink is still far from cash flow positive. All LEO communications constellations to date have gone bankrupt, so any support is super helpful."
          ],
          [
           "A small number of terminals were paid for by the govt, vast majority were not. This is just another bs WaPo hit piece."
          ],
          [
           "I still very much support Ukraine, but am convinced that massive escalation of the war will cause great harm to Ukraine and possibly the world."
          ],
          [
           "We gave Starlinks to Ukraine &amp; lost $80M+ in doing so, while putting SpaceX &amp; myself at serious risk of Russian cyberattack.What have you done besides tweet?"
          ],
          [
           "SpaceX’s out of pocket cost to enable &amp; support Starlink in Ukraine is ~$80M so far. Our support for Russia is $0. Obviously, we are pro Ukraine.Trying to retake Crimea will cause massive death, probably fail &amp; risk nuclear war. This would be terrible for Ukraine &amp; Earth."
          ],
          [
           "In other news, remote controlled anal beads sold out everywhere"
          ],
          [
           "That referendum was questionable, which is why I suggested repeating it under UN (or other trusted entity) supervision"
          ],
          [
           "Great, offer a UN supervised vote and if Russia refuses, then war it is"
          ],
          [
           "Maybe a similar approach to Kosovo"
          ],
          [
           "No, I’m suggesting voting under UN (or pick your most trusted entity or country) supervision"
          ],
          [
           "Russia is doing partial mobilization. They go to full war mobilization if Crimea is at risk. Death on both sides will be devastating.Russia has &gt;3 times population of Ukraine, so victory for Ukraine is unlikely in total war. If you care about the people of Ukraine, seek peace."
          ],
          [
           "You are assuming that I wish to be popular. I don’t care.I do care that millions of people may die needlessly for an essentially identical outcome."
          ],
          [
           "Let’s try this then: the will of the people who live in the Donbas &amp; Crimea should decide whether they’re part of Russia or Ukraine"
          ],
          [
           "Cheese is amazing"
          ],
          [
           "Indeed. Biggest bot attack I’ve ever seen."
          ],
          [
           "The bot attack on this poll is strong!"
          ],
          [
           "The will of the people should decide whether they are part of Russia or Ukraine, but Russia invaded areas that would unequivocally choose to be part of Ukraine"
          ],
          [
           "Also worth noting that a possible, albeit unlikely, outcome from this conflict is nuclear war"
          ],
          [
           "This is highly likely to be the outcome in the end – just a question of how many die before then"
          ],
          [
           "Ukraine-Russia Peace:- Redo elections of annexed regions under UN supervision. Russia leaves if that is will of the people.- Crimea formally part of Russia, as it has been since 1783 (until Khrushchev’s mistake).- Water supply to Crimea assured.- Ukraine remains neutral."
          ],
          [
           "Yes"
          ],
          [
           "That is my assessment too"
          ],
          [
           "Well-said! Also, we try to operate the team as non-hierarchically as possible &amp; allow movement between project areas, so you don’t get pigeon-holed."
          ],
          [
           "I’m trying my hardest! Perhaps more people might consider loving humanity. Our collective light of consciousness is a tiny candle in a vast darkness. Please do not let it go out."
          ],
          [
           "Optimus will be sickkk"
          ],
          [
           "Would be cool to make a game using Tesla Sim that’s literally your city &amp; neighborhood, down to skid marks on road &amp; then inject fantasy/sci-fi elements"
          ],
          [
           "Occasionally"
          ],
          [
           "And people wonder why I sometimes think we’re in a simulation …"
          ],
          [
           "144 trillion operations per second"
          ],
          [
           "The embarrassing hose down photos were highly motivating tbh"
          ],
          [
           "Tunneled under the road from one property to another. This is to test the new machine."
          ],
          [
           "Unfortunately, snail is still faster, but TBC might beat snail by end of 2024"
          ],
          [
           "Prufrock II emerging from the ground"
          ],
          [
           "But between now and then, we do actually need to work hard"
          ],
          [
           "I don’t care about boosting the stock, but the economic implications are obvious"
          ],
          [
           "Do not let ancient grudge break to new mutiny"
          ],
          [
           "So many talented Russians in America"
          ],
          [
           "Customer experience suffers when there is an end of quarter rush. Steady as she goes is the right move."
          ],
          [
           "War always gives ample reason for vengeance for all sides. Only by overcoming this instinct can there be peace."
          ],
          [
           "Smoothing out crazy end of quarter delivery wave to reduce expedite costs &amp; relieve stress on Tesla team. Aiming for steadier deliveries intra-quarter."
          ],
          [
           "It’s funny reading simultaneous criticism that it’s already been done, but also it’s impossible "
          ],
          [
           "??"
          ],
          [
           "Master Plan (mé·nage à) Trois is all about tonnage"
          ],
          [
           "Thanks, we have a great team"
          ],
          [
           "Beautiful"
          ],
          [
           "Exactly"
          ],
          [
           "Recording of Tesla AI Day 2022"
          ],
          [
           "Join"
          ],
          [
           "A little"
          ],
          [
           "That and giving it a brain"
          ],
          [
           "And Wegovy"
          ],
          [
           "Yes"
          ],
          [
           "Fasting"
          ],
          [
           "Uh oh, mine must be tiny!"
          ],
          [
           " "
          ],
          [
           "Naturally, there will be a catgirl version of our Optimus robot"
          ],
          [
           "The point of AI Day is to show the immense depth &amp; breadth of Tesla in AI, compute hardware &amp; robotics"
          ],
          [
           "Yup"
          ],
          [
           "Should be according to greatest need, not race or anything else"
          ],
          [
           "!!"
          ],
          [
           "Webcast link"
          ],
          [
           "Tesla AI Day 2022 starts at precisely 6:15pm California time"
          ],
          [
           "Tesla team is awesome, such an honor to work with them!"
          ],
          [
           "Now"
          ],
          [
           "That is not cgi"
          ],
          [
           "The hands of Optimus"
          ],
          [
           "I still love the 747. Epic plane."
          ],
          [
           "Haha "
          ],
          [
           "Such an incredible engine!"
          ],
          [
           "Yay"
          ],
          [
           "True"
          ],
          [
           "Needs be able to get from Starbase to South Padre Island, which requires crossing the channel"
          ],
          [
           "Off-label use "
          ],
          [
           "Cybertruck will be waterproof enough to serve briefly as a boat, so it can cross rivers, lakes &amp; even seas that aren’t too choppy"
          ],
          [
           "Submarines use electric motors under water …"
          ],
          [
           "Works on land too"
          ],
          [
           "As well as advanced chip &amp; supercomputer engineers for next-gen training &amp; inference"
          ],
          [
           "Note, this event is meant for recruiting AI &amp; robotics engineers, so will be highly technical"
          ],
          [
           "Pretty much. AI/robotics engineers who understand what problems need to be solved will like what they see."
          ],
          [
           "There will be lots of technical detail &amp; cool hardware demos"
          ],
          [
           "Good analysis"
          ],
          [
           "Rated for 280+ kph (174+ mph) winds"
          ],
          [
           "Starlink Maritime system enables high speed Internet connectivity even in heavy seas &amp; hurricane winds"
          ],
          [
           "Last coal shipment arrived in Hawaii at same time as Tesla Megapack batteries that will enable 24/7 sustainable energy"
          ],
          [
           "Still very tiny potatoes compared to what’s needed to make life multiplanetary"
          ],
          [
           "SpaceX now delivering about twice as much payload to orbit as rest of world combined"
          ],
          [
           "Extremely concerning"
          ],
          [
           "How ironic, that’s what Henrik Fisker did to Tesla in 2007! Karma is a …"
          ],
          [
           "They need to add a lot of batteries to the grid to buffer energy"
          ],
          [
           "I guess this joke is a slow burn … "
          ],
          [
           "Big improvement in high speed cross-traffic velocity NN coming next month"
          ],
          [
           "Maybe worth talking at some point"
          ],
          [
           "Make “hair on fire” not just a metaphor"
          ],
          [
           "Stand out in a crowd! Get noticed as you walk through the airport!"
          ],
          [
           "Coming soon from  the same people that sold you a Flamethrower"
          ],
          [
           "“Burnt Hair” – Scent for Men by Singed"
          ],
          [
           "I’m a little preoccupied rn"
          ],
          [
           "Batteries ftw"
          ],
          [
           "Good point"
          ],
          [
           "My son, Saxon, was amazed that so many paper newspapers are still produced every day. He said they probably just search the Internet &amp; print it out. Yup, with rare exception, that is *actually* what they do haha."
          ],
          [
           "Falcon 9 fairing cam captures 2nd stage plume, booster entry burn &amp; Earth in twilight"
          ],
          [
           "Even then, Lenin would’ve gotten nowhere without Ludendorff’s train"
          ],
          [
           "Charming …"
          ],
          [
           "Starlink now over 1M user terminals manufactured"
          ],
          [
           "Siegel is obviously correct"
          ],
          [
           "Activating Starlink …"
          ],
          [
           "Education is the path out of poverty and Internet access enables education"
          ],
          [
           "Exactly"
          ],
          [
           "Starlink connecting schools in the Amazon"
          ],
          [
           "It is"
          ],
          [
           "Why is this a PopMech story?"
          ],
          [
           "Yup (sigh)"
          ],
          [
           "Fully reusable orbital rockets are the fundamental breakthrough needed for humanity to become a multiplanet species"
          ],
          [
           "The terminology is outdated &amp; inaccurate. This is a tiny over-the-air software update. To the best of our knowledge, there have been no injuries."
          ],
          [
           "Your car needs a camera upgrade, which is free of charge. There are a few thousand cars in a similar situation. Replacement cameras will be available early next month."
          ],
          [
           "While (!pheromone) {}"
          ],
          [
           "Shaded patio"
          ],
          [
           "Actually, I live in a little house on Weems St that cost ~$50k (but I’ve done a lot with the place!)"
          ],
          [
           "Aka cogency"
          ],
          [
           "Looks awesome "
          ],
          [
           "Maybe little electric Tesla boats with a retro-futuristic Victorian design"
          ],
          [
           "Long-term goal is a boardwalk with amenities that goes all the way to downtown Austin, so you can walk, bike or kayak"
          ],
          [
           "Area from south Giga to river really will be next-level great &amp; open to public!"
          ],
          [
           "Ecological paradise plans from south portion of Giga Texas to river look great, however we must first get the factory financially on its feet"
          ],
          [
           "I was instrumental in creating OpenAI, which made DALL-E"
          ],
          [
           "Although his methods of instruction very strongly favored stick over carrot, I did learn a tremendous amount of engineering from him &amp; appreciation of art (he is an extremely talented artist)"
          ],
          [
           "Boys High was a good school, but it was government, not private. Brooklyn would be considered a middle income, not exclusive, neighborhood in America."
          ],
          [
           "For sure"
          ],
          [
           "Errol ran out of money in the 90’s. My brother &amp; I financially supported him &amp; his extended family in South Africa since then on condition that he not do bad things. Unfortunately, he did do bad things :("
          ],
          [
           "This is true"
          ],
          [
           "With some improvements, it will achieve 300 Mps"
          ],
          [
           "Incorrect. There was tuition for students from outside the school district, which was a small part of the student body, incl black students, but not for students in district, which I was.Also, I was there for 2.5 years, previously attending govt schools for 9 of 12 years."
          ],
          [
           "I went to government schools, not private, except for part of one year in third grade"
          ],
          [
           "Probably Q2 next year, with vehicles initially transferred by boat from Port of Brownsville to the Cape"
          ],
          [
           "That’s the plan. We’re taking a little  risk there, as engine isolation was done as retrofit, so not as good as on Booster 9."
          ],
          [
           "Late next month maybe, but November seems highly likely. We will have two boosters &amp; ships ready for orbital flight by then, with full stack production at roughly one every two months."
          ],
          [
           "Our focus is on reliability upgrades for flight on Booster 7 and completing Booster 9, which has many design changes, especially for full engine RUD isolation."
          ],
          [
           "Exactly"
          ],
          [
           "Seems that way"
          ],
          [
           ". what’s going on?"
          ],
          [
           "Such miracles are impossible"
          ],
          [
           "That’s a real picture?"
          ],
          [
           "Absolutely"
          ],
          [
           "Unsurprisingly, Reich is also a hypocrite"
          ],
          [
           "Reich is suicidally boring"
          ],
          [
           "You both an idiot and a liar"
          ],
          [
           "Curiouser and curiouser …"
          ],
          [
           "Same"
          ],
          [
           "Yes"
          ],
          [
           "Happy birthday bro, love you"
          ],
          [
           "Yes, all US &amp; Canada cars with safety scores above 80 should receive an invitation to download FSD Beta by tomorrow"
          ],
          [
           "Note, Autopilot/AI team is also working on Optimus and (actually smart) summon/autopark, which have end of month deadlines"
          ],
          [
           "Next month"
          ],
          [
           "Yes"
          ],
          [
           "Ok"
          ],
          [
           "Starlink will ask for an exemption to Iranian sanctions in this regard"
          ],
          [
           "Looking forward to providing Starlink service to the people of Zambia!"
          ],
          [
           "Car will move on tighter gaps as we enhance NN velocity predictions for crossing traffic. 10.69.3 next month has some step-change improvements."
          ],
          [
           "*10.69.2.2"
          ],
          [
           "FSD Beta 10.69.2.1 looks good, extending to 160k owners in US &amp; Canada"
          ],
          [
           "Profoundly important concept"
          ],
          [
           "Baltasar Gracián, Oráculo Manual y Arte de Prudencia"
          ],
          [
           "Great for clearing dust!"
          ],
          [
           "Booster 7 now returns to high bay for robustness upgrades &amp; booster 8 moves to pad for testing.Next big test is probably full stack wet dress rehearsal, then 33 engine firing in a few weeks."
          ],
          [
           "7 engine static fire"
          ],
          [
           "Chamber pressure looked good on all 7 engines"
          ],
          [
           "Yes, seven engine static fire"
          ],
          [
           "There is too much latency in Fed decisions. Problematic in a fast-changing world."
          ],
          [
           "Tunnels ftw"
          ],
          [
           "Yes, the fundamental error is reasoning by analogy, rather than first principles"
          ],
          [
           "starry, starry night paint your paletteblue and gray"
          ],
          [
           "Starlink is now active on all continents, including Antarctica"
          ],
          [
           "Another batch with lasers reaches orbit"
          ],
          [
           "True"
          ],
          [
           "Starship will be an incredible enabler for science. Full reusability &amp; high production rate drive several orders of magnitude improvement in $/kg to orbit &amp; beyond.Next gen Starlink constellation is primary user of this rocket, so science doesn’t need to cover fixed cost."
          ],
          [
           "Should be Alexander, the Greatest. After all, is there a better Alexander?"
          ],
          [
           "Hyperloop could do that trip in less than half an hour"
          ],
          [
           "Looks like they’re fighting an actual fire demon!"
          ],
          [
           "to help mend the fault in our stars"
          ],
          [
           "It will be later this year when laser links activate on polar constellation"
          ],
          [
           "Starlink is meant for peaceful use only"
          ],
          [
           "Is it really true that four-year-olds are receiving hormone treatment?"
          ],
          [
           "Technically true, but Earth’s economy is extremely far from physical limits. Energy is the foundation of the economy, but we’re using a very tiny amount of available energy, even if we only used PV."
          ],
          [
           "Beta expanding to safety scores above 80 after 10.69.2.1 goes out"
          ],
          [
           "10.69.2.1 coming out in a few days with additional polish, 10.69.3 comes out shortly after AI Day"
          ],
          [
           "or their short shorts"
          ],
          [
           "Salted butter is amazing, but should be stored at room temperature"
          ],
          [
           "Drop 0.25%"
          ],
          [
           "Exactly, this is neither subtle nor secret"
          ],
          [
           "Layers upon layers of neural nets, ever higher"
          ],
          [
           "Subtle "
          ],
          [
           "Note, we are working on making the whistle sound much louder"
          ],
          [
           "But u have to pay in Doge"
          ],
          [
           "Blow the whistle!"
          ],
          [
           "True"
          ],
          [
           "Could be worse"
          ],
          [
           "Fair point"
          ],
          [
           "Good thread"
          ],
          [
           "Sounds pretty bad"
          ],
          [
           "Please fix"
          ],
          [
           "My tweets are being suppressed!"
          ],
          [
           "This says it all:“None of the members of the Stripe chat who spoke with me said that they accepted payment or agreed to speak to the firms about Zatko, and all said they wished to defend his credibility.”"
          ],
          [
           "Anyone know who the secret clients are? Let’s out them on Twitter rn haha."
          ],
          [
           "Absolutely"
          ],
          [
           "True"
          ],
          [
           "I’m testing it today in Palo Alto"
          ],
          [
           "Rome show is underappreciated"
          ],
          [
           "This was harder than reaching volume production, which was insanely hard"
          ],
          [
           "There is appetite for an infinite number of interesting tweets"
          ],
          [
           "Take a moment to …"
          ],
          [
           "The residual value of gasoline cars bought today will be much lower than people think"
          ],
          [
           "Supercharger centers with solar &amp; batteries are the long-term vision"
          ],
          [
           "Won’t be long before we view gasoline cars the same way we view steam engines today"
          ],
          [
           "Socrates can be a little boring tbh"
          ],
          [
           "Yes"
          ],
          [
           "Our view of reality is always wrong, just a question of how wrong"
          ],
          [
           "I guess we could make Joe mode quieter"
          ],
          [
           "Still doing same thing, but bigger"
          ],
          [
           "Looks good to roll out to all Tesla owners with 10.12.2 (~100k cars)!"
          ],
          [
           "That is probably the right order of magnitude"
          ],
          [
           "Real-world validation &amp; billions of miles of real-world training are what will make FSD superhuman"
          ],
          [
           "Yup"
          ],
          [
           "Sigh"
          ],
          [
           "FSD Beta 10.69.2 rolling out now. Please note that top priority is safety, so expect it to be overly cautious, especially around pedestrians."
          ],
          [
           "Falcon arching to orbit"
          ],
          [
           "No obvious limit to rocket reflight so far"
          ],
          [
           "Instagram is an envy amplifier"
          ],
          [
           "Yes"
          ],
          [
           "Team found a bug causing an 8% delay in detecting pedestrians at &gt;50m. That’s been fixed, so rolling out tonight."
          ],
          [
           "That’s pretty accurate"
          ],
          [
           "Haha"
          ],
          [
           "Astronomy too"
          ],
          [
           "Internal beta rollout tonight, wider tomorrow"
          ],
          [
           "It’s coming!"
          ],
          [
           "Take Materials Science 101. You won’t regret it."
          ],
          [
           "A major Fed rate hike risks deflation"
          ],
          [
           "Please lmk when that happens"
          ],
          [
           "Absolutely, the Tesla fleet in Australia is growing rapidly, so we do need to ramp up service in general"
          ],
          [
           "Tesla North America aiming for &gt;50% same hour service"
          ],
          [
           "Anubis"
          ],
          [
           "Nice. I’m dressing up as a sink &amp; knocking on random doors. Once they see me, they will have no choice but to let that sink in."
          ],
          [
           "One of our most complex missions"
          ],
          [
           "Bot block party"
          ],
          [
           "Assuming 25% efficient PV cells at 0.8 surface coverage"
          ],
          [
           "Exactly. Ecosystem is almost entirely dependent on the sun already. Civilization’s energy needs are absurdly tiny compared to what the sun sends us for free (~1 GWh/day/km^2)."
          ],
          [
           "Yup, there’s a reason we do static fires! Much better to break things on the ground than en route to orbit."
          ],
          [
           "Solar panels, ground mount &amp; rooftop, paired with stationary batteries, will be civilization’s primary source of energy, as sure as day follows night. Mark these words."
          ],
          [
           "I love the graffiti art at Giga Berlin!"
          ],
          [
           "So much empty land &amp; only a tiny percentage needed to power entire country!"
          ],
          [
           "It’s looking good so far"
          ],
          [
           "Indeed"
          ],
          [
           "We’ve had some promising conversations with Apple about Starlink connectivity. iPhone team is obv super smart.For sure, closing link from space to phone will work best if phone software &amp; hardware adapt to space-based signals vs Starlink purely emulating cell tower."
          ],
          [
           "Note, I am putting a lot of time personally into advancing Tesla service to make it awesome. Hopefully, this is starting to be felt by Tesla owners."
          ],
          [
           "You’re right, we should credit Tesla owners $100 if we change appointments with less than 24 hours notice. Should be reciprocal."
          ],
          [
           "Lot of people still don’t realize Tesla makes uninterruptible power supplies for your whole home (Powerwall)"
          ],
          [
           "And remember "
          ],
          [
           "This thread brings back a lot of memories"
          ],
          [
           "We have since improved it further"
          ],
          [
           "The primary solution to a sustainable energy future is solar/wind with batteries for when sun doesn’t shine or wind doesn’t blow, interconnected with conventional high voltage lines. No unknown technology is needed!Hydro+geothermal+fission will also be non-trivial contributors."
          ],
          [
           "Fusion would be expensive energy, given difficulty of obtaining and transporting source fuel, plus maintaining the reactor. Far better to use the Sun – thermonuclear reactor with no need to refuel or service."
          ],
          [
           "Only 64 squares, no fog of war, no tech tree, only a few different pieces,no random spawn. Chess is a simple game. I prefer Polytopia."
          ],
          [
           "Interesting …"
          ],
          [
           "“That’s not punny!”"
          ],
          [
           "More solar + batteries needed. Batteries are great at dealing with peak demand."
          ],
          [
           "I accept 99% of cookies, but  if choc chip"
          ],
          [
           "If Twitter put as much effort into bot/spam removal as they do into subpoenas, we wouldn’t have this problem in the first place!"
          ],
          [
           "We have advised all potential witnesses to provide full cooperation to the court, but we do not control their actions"
          ],
          [
           "Read the actual ruling. We had zero to do with David Sack’s response. Zero."
          ],
          [
           "Those who claim any criticism of Rings of Power means you’re racist are outing themselves as closet racists"
          ],
          [
           "Peter Jackson did excellent work with Lord of the Rings. The Hobbit was stretched too long for a short book."
          ],
          [
           "For now, supply is too low, but ordering a Powerwall by itself should be possible end of year"
          ],
          [
           "Cool"
          ],
          [
           "Order a Tesla Powerwall battery for blackout protection!"
          ],
          [
           "And 90% of my comments are bots "
          ],
          [
           "Almost every male character so far is a coward, a jerk or both. Only Galadriel is brave, smart and nice."
          ],
          [
           "Release of 10.69.2 probably end of week. Needs a bit more polish."
          ],
          [
           "Tolkien is turning in his grave"
          ],
          [
           "10.69.2 has a relatively small number of code changes, but their practical effect will be significant"
          ],
          [
           "More Starlinks reach orbit"
          ],
          [
           "It will probably help proportionate to the cost of raising children"
          ],
          [
           "Important. South Korea is currently tracking to lose about half its population roughly every generation. Long lifespan hides the dire nature of the problem."
          ],
          [
           ". invited me to open for one of his shows. Thanks Chris! I will try not to flounder too much."
          ],
          [
           "Yes, also very important"
          ],
          [
           "Accurate assessment. Raptor design started out using H2, but switched to CH4. Latter is best combo of high efficiency &amp; ease of operation imo.Delta-v difference between H2 &amp; CH4 is small for most missions, because CH4 tank is much smaller &amp; no insulation is needed."
          ],
          [
           "Moody’s is irrelevant"
          ],
          [
           "Hope Connor is ok!"
          ],
          [
           "!!"
          ],
          [
           "!"
          ],
          [
           "On a $/bot basis, this deal is awesome"
          ],
          [
           "Sure sounds higher than 5%!"
          ],
          [
           "I intend to do so as soon as possible"
          ],
          [
           "Yeah, aiming for up to 100 flights next year"
          ],
          [
           "Now launching every ~5 days"
          ],
          [
           "10.69.2 goes out to 100k owners next week"
          ],
          [
           "SJM question"
          ],
          [
           "Spent the day walking entire Giga Berlin production line – team is doing excellent work!"
          ],
          [
           "10.69.1 is even better. We reduced latency &amp; jitter in hardware command loop, so time from object detection to brake actuation is 10% to 20% better."
          ],
          [
           "Kickass Internet connection coming Royal Caribbean ships soon!"
          ],
          [
           "It’s true"
          ],
          [
           "Ancient times"
          ],
          [
           "It will grow by at least 5 to 10 meters over time"
          ],
          [
           "First few days, just 1k owners, but going to 10k if no major issues. Note, 10.69.2, hopefully going out week after this, is the wide release beta."
          ],
          [
           "Good to ask yourself this often"
          ],
          [
           "Agreed, we recently made this change &amp; many others.An intense effort is underway to achieve robust engine containment in case of RUD to protect booster, other engines &amp; launch ring."
          ],
          [
           "This will happen again – just a matter of time"
          ],
          [
           "Godspeed Artemis!"
          ],
          [
           "The swoop of the X is meant to represent the rocket’s arc to orbit"
          ],
          [
           "Hopefully, this week"
          ],
          [
           "I somewhat agonized over the Tesla &amp; SpaceX font design (love fonts tbh). There are some similarities, particularly use of negative space. We’ve made many little tweaks over the years."
          ],
          [
           "Wise actions"
          ],
          [
           "Diet Coke is amazing"
          ],
          [
           "Please share some things in this thread which are working for you in life &amp; that others may find helpful!"
          ],
          [
           "Yeah, I lift a little …"
          ],
          [
           "Over 20 lbs down from my (unhealthy) peak weight"
          ],
          [
           "From time to time, I will share some things that seem to be working for me, in case you find it helpful"
          ],
          [
           "The Zero fasting app is quite good"
          ],
          [
           "On advice of a good friend, I’ve been fasting periodically &amp; feel healthier"
          ],
          [
           "Yes, but I’ve done a lot with the place!"
          ],
          [
           "gnus news snooze"
          ],
          [
           "Coming"
          ],
          [
           "Ares"
          ],
          [
           "What do you call a Great Dane eating a small piece of ham in a tiny village?Hamlet eating hamlet in a hamlet!(Middle part credit to GAM)"
          ],
          [
           "Squeezing extra performance out of Falcon 9 – almost at 17 metric tons to an actual useful orbit with booster &amp; fairing reusable!"
          ],
          [
           "Maybe it’s times for new roman"
          ],
          [
           "Getting to orbit &amp; back is harder than it may seem"
          ],
          [
           "The caffeine one is most troubling"
          ],
          [
           "Some are indeed sadly anti-human"
          ],
          [
           "Countries should be increasing nuclear power generation! It is insane from a national security standpoint &amp; bad for the environment to shut them down."
          ],
          [
           "LotR/HG2G"
          ],
          [
           "It is safe to say that our output will not exceed the mass of the known universe"
          ],
          [
           "Similarly high cycle life with nickel cathode is possible if optimizing for that.Adding silicon to (primarily carbon) anode, which improves energy density, reduces cycle life, due to large volumetric changes during charge/discharge."
          ],
          [
           "True"
          ],
          [
           "That, plus pessimism about the future / false overpopulation fears"
          ],
          [
           "Yes"
          ],
          [
           "(And I do think global warming is a major risk)"
          ],
          [
           "Yes"
          ],
          [
           "Mark these words"
          ],
          [
           "Population collapse due to low birth rates is a much bigger risk to civilization than global warming"
          ],
          [
           "Good summary"
          ],
          [
           "Yes"
          ],
          [
           "Yes"
          ],
          [
           "Note, connectivity will be 2 to 4 Mbits per cell zone, so will work great for texting &amp; voice calls, but not high bandwidth"
          ],
          [
           "Starlink V2, launching next year, will transmit direct to mobile phones, eliminating dead zones worldwide"
          ],
          [
           "Livestream of big news in about an hour"
          ],
          [
           "10.69.1 releases Monday night. 10.69.2 about a week or so later – this will be the wide beta version."
          ],
          [
           "Ron Barron is awesome"
          ],
          [
           "  crazy"
          ],
          [
           "I would gladly obey their commands, but I can’t tell what they’re saying!"
          ],
          [
           "I do not doubt that. Criticism, public or private, is welcome after we go to wide beta. Early beta has many known issues. The reason we release it to a limited number of cars is to discover unknown issues."
          ],
          [
           "No. Let me make something clear: James contacted me directly to be included in *early* beta, which is only ~1000 cars, mostly employees. Early beta explicitly has issues or it would be rolled out widely, so publicly criticizing something he had asked for is wrong."
          ],
          [
           "This is something special"
          ],
          [
           "The course of civilization is not always upward"
          ],
          [
           "True"
          ],
          [
           "Mechazilla loads Starship on launchpad"
          ],
          [
           "10.69 is in limited release for a reason. Please do not ask to be included in early beta releases and then complain."
          ],
          [
           "!!"
          ],
          [
           "So spam prevalence *was* shared with the board, but the board chose not disclose that to the public …"
          ],
          [
           "Important thread"
          ],
          [
           "In case anyone feels like buying a fine whistle …"
          ],
          [
           "Yet another “verified”"
          ],
          [
           "You’re waking up in the morning!?"
          ],
          [
           "Neuralink progress update show &amp; tell on October 31 st (Halloween)"
          ],
          [
           "2 main goals this year: - Starship to orbit- FSD wide releaseMany other things, of course, but those are the 2 giant kahunas. Will require insane work by many super talented people, but, if anyone can do it, they can. It is an honor to work with such awesome human beings."
          ],
          [
           "It is the fastest way to get between one downtown and another with known physics (and the Standard Model is proving quiet resilient)!"
          ],
          [
           "Would be cool to do a (much simplified) Hyperloop demo tunnel between maybe Austin &amp; San Antonio?"
          ],
          [
           "Now  tunnels are in active use in Vegas. Try it if you’re in town. Will be expanding to connect all major destinations in Vegas plus airport."
          ],
          [
           "Funny how there are often simultaneous reactions saying “it’s impossible” and “it was already done 3000 years ago”"
          ],
          [
           "Glad it’s working out! Thanks for giving us this tough case to solve. That’s what field testing is all about.This early version of 10.69 is being extra cautious, so waits for a moderately big gap in traffic to cross. Upcoming releases will do better in heavy traffic."
          ],
          [
           "Just wanted to emphasize again that our awesome Tesla software/AI team is who really deserves the credit. The talent level at Tesla is incredible."
          ],
          [
           "Note, you can upgrade your existing car to FSD in 2 mins via the Tesla app"
          ],
          [
           "After wide release of FSD Beta 10.69.2, price of FSD will rise to $15k in North America on September 5th. Current price will be honored for orders made before Sept 5th, but delivered later."
          ],
          [
           "FSD Beta 10.69 started rolling out to Tesla owners last night. This build is a big step forward!10.69.1 probably end of week with wider release.1069.2 in a few weeks should be good enough to provide to all FSD Beta participants."
          ],
          [
           "Tesla Autopilot/AI team did great work with 10.69! Some point releases needed for polish, so 10.69.2 should really shine."
          ],
          [
           "Worth hearing about Tesla Autopilot software/AI progress"
          ],
          [
           "As mentioned previously, this is a major release, so we need to be cautious. Goes out to ~1000 Beta participants later today."
          ],
          [
           "Might need a new PO Box after tweeting this "
          ],
          [
           "Nice letter from Bill Nix, who would’ve been my prof at Stanford if I hadn’t put grad studies on (permanent) deferment"
          ],
          [
           "Each fairing half is a fully capable reentry vehicle with its own thrusters, thermal protection, avionics &amp; sensor suite"
          ],
          [
           "Free Willy was never free "
          ],
          [
           "Still so grateful "
          ],
          [
           "There are many major code changes, so this will be an extra cautious rollout.Releasing on 8/20 to ~1000 Tesla owners, then 10.69.1 next week to accommodate feedback &amp; release to ~10k customers, then 10.69.2 week after &amp; release to rest of FSD Beta."
          ],
          [
           "Entropy"
          ],
          [
           "Those are the questions that Twitter is doing everything possible to avoid answering …"
          ],
          [
           "Modifying your car after delivery is legal in America, so yes "
          ],
          [
           "That said, we will add autoconfigure to side mirrors"
          ],
          [
           "Side mirrors cause ~5% range reduction at highway speed"
          ],
          [
           "Yes, but side mirrors won’t be needed in a self-driving future"
          ],
          [
           "For some reason, I just agree with that guy so much!"
          ],
          [
           " This Magic Moment "
          ],
          [
           "*shall"
          ],
          [
           "I will seek out one of these “Mars Bars” tomorrow!"
          ],
          [
           "Being a Mom is just as important as any career"
          ],
          [
           "Highly Recommend"
          ],
          [
           "Mercury, the forbidden candy"
          ],
          [
           "Yes"
          ],
          [
           "Almost all of Earth’s energy comes from the sun already – we would be a dark iceball at near absolute zero if not for the sun. And essentially the entire ecosystem is solar-powered.Civilization uses a tiny amount of energy by comparison. Not hard to generate from wind/solar."
          ],
          [
           "Although, if it were any team, it would be Man U. They were my fav team as a kid."
          ],
          [
           "no u"
          ],
          [
           "Standup is my side-hustle"
          ],
          [
           "And I’m not buying Coca-Cola to put the cocaine back in, despite the extreme popularity of such a move"
          ],
          [
           "No, this is a long-running joke on Twitter. I’m not buying any sports teams."
          ],
          [
           "Got to build those YouTube subscriptions!"
          ],
          [
           "Note, we are trying to reduce delivery times as quickly as possible. Long wait times are not a good thing."
          ],
          [
           "Yeah, that’s what I mean"
          ],
          [
           "Also, I’m buying Manchester United ur welcome"
          ],
          [
           "The downside of elf ear surgery probably outweighs the upside"
          ],
          [
           "To be clear, I support the left half of the Republican Party and the right half of the Democratic Party!"
          ],
          [
           "Reasonably accurate translation"
          ],
          [
           " ok we’ll turn it on"
          ],
          [
           "Yes. Tesla Autopilot/AI team is doing amazing work! 10.69 will be worth its name."
          ],
          [
           "Strange that this receives very little attention in the media"
          ],
          [
           "400k from one border crossing in less than a year?"
          ],
          [
           "Congrats Giga Shanghai on making millionth car! Total Teslas made now over 3M."
          ],
          [
           "Production is a much bigger challenge than demand"
          ],
          [
           "I hope there is a self-sustaining city on Mars in 20 years!"
          ],
          [
           "Just Read The Instructions"
          ],
          [
           "8/20"
          ],
          [
           "10.69 is "
          ],
          [
           "Ahem"
          ],
          [
           "Would be pretty wild if a “car company” made the most powerful supercomputer on Earth …"
          ],
          [
           "We’ll phase in Dojo. Won’t need to buy as many incremental GPUs next year."
          ],
          [
           "Waitlist is too long. Will enable again as we ramp production."
          ],
          [
           "Adding the 13 inner engines"
          ],
          [
           "Yikes"
          ],
          [
           "Yes"
          ],
          [
           "Another orbital plane of polar satellites"
          ],
          [
           "There are no coincidences"
          ],
          [
           "!!"
          ],
          [
           "it’s a sticky situation"
          ],
          [
           "They had a good run! Humanity has a long way to go to equal their time on Earth."
          ],
          [
           "This will be Mars one day"
          ],
          [
           "but have u seen my sex tape"
          ],
          [
           "About to attempt long duration engine firing to test autogenous pressurization"
          ],
          [
           "Starship B7 static fire"
          ],
          [
           "True. I already get audited every year by default."
          ],
          [
           "I think the approved language these days is “height-challenged sellers”"
          ],
          [
           "Fate  Irony"
          ],
          [
           "deep thot"
          ],
          [
           "Thanks, but I already have one"
          ],
          [
           "cgi irl"
          ],
          [
           "Payola"
          ],
          [
           "Yup"
          ],
          [
           "Because Tesla doesn’t advertise and other car companies do"
          ],
          [
           "From Real Scam O’Dowd"
          ],
          [
           "“The Guardian” swallows scam video hook, line &amp; sinker!"
          ],
          [
           "8 years ago"
          ],
          [
           "Coming soon. Part 3 is about scaling sustainable energy at a civilizational level to enable a bright future for Earth."
          ],
          [
           "Tesla 500 mile range Semi Truck starts shipping this year, Cybertruck next year"
          ],
          [
           "Wrote this 6 years ago"
          ],
          [
           "True"
          ],
          [
           "Quite the day"
          ],
          [
           "Yes"
          ],
          [
           "Yes. In the (hopefully unlikely) event that Twitter forces this deal to close *and* some equity partners don’t come through, it is important to avoid an emergency sale of Tesla stock."
          ],
          [
           "Tesla Fremont team is kicking a**!"
          ],
          [
           "SpaceX Falcon team is "
          ],
          [
           "Happens to almost everyone"
          ],
          [
           "Growing at 50%/year requires an insane amount of work, but is achievable with outstanding execution"
          ],
          [
           "Maybe investment in automation?"
          ],
          [
           "Seems high"
          ],
          [
           "This release will be big"
          ],
          [
           "Twitter has spoken …"
          ],
          [
           "FSD Beta 10.69 drops on 8/20"
          ],
          [
           "Yeah, not cool"
          ],
          [
           "Saxon James Musk"
          ],
          [
           "Less than 5% of Twitter daily users are fake/spam"
          ],
          [
           "I hereby challenge  to a public debate about the Twitter bot percentage. Let him prove to the public that Twitter has &lt;5% fake or spam daily users!"
          ],
          [
           "So it seems"
          ],
          [
           "Good question, why aren’t they?"
          ],
          [
           "Somehow I have 54 followers"
          ],
          [
           "Good summary of the problem. If Twitter simply provides their method of sampling 100 accounts and how they’re confirmed to be real, the deal should proceed on original terms.However, if it turns out that their SEC filings are materially false, then it should not."
          ],
          [
           "I love the smell of hydraulic fluid in the morning"
          ],
          [
           "At launch pad"
          ],
          [
           "Moving rocket to launch pad"
          ],
          [
           "Hustling to get Starship Booster 7 back to pad to test outer ring of 20 engines"
          ],
          [
           "Full Send Podcast"
          ],
          [
           "Thank goodness for Senator Manchin"
          ],
          [
           "I had more kids in Q2 than they made cars!"
          ],
          [
           "Stone of Destiny"
          ],
          [
           "Was a fun hang"
          ],
          [
           "Whiskey"
          ],
          [
           "Yeah, pretty good. I like the name."
          ],
          [
           "Not true. Tesla is 5 mins from Austin International airport. Would be silly to build another private airport, however the existing commercial airport needs another runway, as Austin is growing fast!"
          ],
          [
           "Cool"
          ],
          [
           "The ratio of digital to biological compute is growing fast. Worth tracking."
          ],
          [
           "A *successful* orbital flight is probably between 1 and 12 months from now"
          ],
          [
           "X"
          ],
          [
           "Just came across this pretty good CNBC piece on SpaceX &amp; Starship"
          ],
          [
           "That estimate seems high, but the point is valid"
          ],
          [
           "Worth reading. This is a close match for my philosophy."
          ],
          [
           "Still time to vote!"
          ],
          [
           "X  Doges"
          ],
          [
           "So much water under the bridge since then"
          ],
          [
           "Yeah"
          ],
          [
           "Maybe Twitter can become that"
          ],
          [
           "It sure is hard to find a news source that’s accurate, relevant &amp; not totally depressing! Old-school version of The Economist &amp; Jon Stewart Daily Show / Colbert Report were great."
          ],
          [
           "Floki pic tomorrow"
          ],
          [
           "The media has strong negative bias &amp; are driven by clicks (they can’t help it).Unfortunately, I generate lots of clicks.But these things move in cycles.When it starts boring readers to knock me down, they will build me up. This cycle has happened so many times …"
          ],
          [
           "Thanksgiving last year after watching one too many episodes of Vikings"
          ],
          [
           "If our reality is actually an alien soap opera, our ratings would be "
          ],
          [
           "Maybe free some people in jail for weed here too?"
          ],
          [
           "Good thread"
          ],
          [
           "Sigh"
          ],
          [
           "Off to the Races set to Harley Quinn"
          ],
          [
           "We live in interesting times"
          ],
          [
           "Some people are no nonsense, but, personally, I like a little nonsense"
          ],
          [
           "Tesla + Twitter -&gt; Twizzler"
          ],
          [
           "Interaction with almost all twitter accounts seem to be much lower in recent weeks &amp; days. Accurate?"
          ],
          [
           "Saxon"
          ],
          [
           "Based"
          ],
          [
           "Friend made this for me 2 years ago"
          ],
          [
           "Try voice command “open butthole” on your Tesla"
          ],
          [
           "Great style"
          ],
          [
           "Good point. Time to move on from hybrid cars. That was a phase."
          ],
          [
           "Heatwave in Shortville "
          ],
          [
           "10.13 is probably a week or so away, but yes. People outside of California will notice improvements the most."
          ],
          [
           "We’re working super hard on 10.13, but it isn’t ready yet"
          ],
          [
           "Wikipedia is losing its objectivity"
          ],
          [
           "I can’t say for sure that Starship will reach escape velocity, but my hubris certainly has"
          ],
          [
           "We should thank farmers more"
          ],
          [
           "Products that bring joy are rare"
          ],
          [
           "Too early to say for sure"
          ],
          [
           "Would be unwise to risk that it is not"
          ],
          [
           "More Tesla commodity prices are trending down than up fwiw"
          ],
          [
           "Inflation might be trending down"
          ],
          [
           "Thanks for your support over the years"
          ],
          [
           "Much harder to make friends than enemies. My skill at the latter is improving."
          ],
          [
           "Sub lightspeed is all that’s needed to be interstellar. Intergalactic is tough."
          ],
          [
           "The media is a click-seeking machine dressed up as a truth-seeking machine"
          ],
          [
           "This is compatible with existing religions – surely God would want us to see Creation?"
          ],
          [
           "A new philosophy of the future is needed. I believe it should be curiosity about the Universe – expand humanity to become a multiplanet, then interstellar, species to see what’s out there."
          ],
          [
           "A new philosophy of the future is needed"
          ],
          [
           "Moreover, I talked to Sergey yesterday and he says neither he nor anyone he knows has talked to WSJ"
          ],
          [
           "As a “public person”, standard to win a defamation lawsuit against a news org is almost impossible. They could say I’m Satan and the “source” is their psychic!Nicole is not a public person, so could win. I hope she sues them.  has done so many fake hit pieces."
          ],
          [
           "Seriously"
          ],
          [
           "Business Insider (Trading) is not a real publication"
          ],
          [
           "Yeah, but that was 8000 years ago"
          ],
          [
           "That would be nice"
          ],
          [
           " Exactly"
          ],
          [
           "Weirdly, some publications still print millions of paper copies every day!"
          ],
          [
           "99% of journalism is reading someone else’s story on the Internet, changing it up a little &amp; pressing send"
          ],
          [
           "Sickonolfi has zero journalistic integrity"
          ],
          [
           "Thanks Jeff "
          ],
          [
           "Bon voyage"
          ],
          [
           "Sickonolfi’s pack of attack chihuahuas are burning up phone lines today for revenge after his bogus article "
          ],
          [
           "Exactly"
          ],
          [
           "Good point, will do"
          ],
          [
           "The amount of attention on me has gone supernova, which super sucks. Unfortunately, even trivial articles about me generate a lot of clicks :(Will try my best to be heads down focused on doing useful things for civilization."
          ],
          [
           "Mostly just that the media is a click maximizing machine and a story involving me gets a lot of clicks"
          ],
          [
           "All Teslas come with a free karaoke app"
          ],
          [
           "Das Baby would be a hit!"
          ],
          [
           "The media is a click-seeking machine dressed up as a truth-seeking machine"
          ],
          [
           "______, ______ your  are on "
          ],
          [
           "Sure seems that way"
          ],
          [
           "The real problem here is that  has zero journalistic integrity"
          ],
          [
           "A picture is worth 1000 tweets"
          ],
          [
           "Yeah, that was Sergey and me yesterday afternoon!"
          ],
          [
           "Single-piece casting reduces weight, greatly simplifies factory, increases ride quality &amp; reduces road noise"
          ],
          [
           "Good article"
          ],
          [
           "What video games have you enjoyed most over past year or two?"
          ],
          [
           "More evidence for the simulation"
          ],
          [
           "Movie idea: Boss Baby meets Das BootDas Baby – “Hijinks on the High Seas!”"
          ],
          [
           "Lmaooo absolutely "
          ],
          [
           "Nope"
          ],
          [
           "Call them out on it, I guess. WSJ is supposed to have a high standard for journalism and, right now, they are way sub tabloid.WSJ should be running stories that actually matter to their readers and have solid factual basis, not third-party random hearsay."
          ],
          [
           "WSJ has run so many bs hit pieces on me and Tesla I’ve lost count! It’s embarrassing for them, frankly.They once wrote an article saying FBI was about to arrest me, so I called FBI to ask what’s up and they said WSJ article was total bs.Just more shortseller fud."
          ],
          [
           "Haven’t even had sex in ages (sigh)"
          ],
          [
           "Yeah, the character assassination attacks have reached a new level this year, but the articles are all nothing-burgers. I work crazy hours, so there just isn’t much time for shenanigans.None of the key people involved in these alleged wrongdoings were even interviewed!"
          ],
          [
           "This is total bs. Sergey and I are friends and were at a party together last night!I’ve only seen Nicole twice in three years, both times with many other people around. Nothing romantic."
          ],
          [
           "Ironic that Disney would disparage an entire class of rodents when their main character is a rodent – jealous maybe?"
          ],
          [
           "The dark origin of the lemming mass suicide myth …"
          ],
          [
           "Self-driving electric cars will be all that matters. Gas car without autonomy will be like riding a horse &amp; using a flip phone. That still happens, but it’s niche."
          ],
          [
           "Software is the key to the future"
          ],
          [
           "Ferdinand Piëch had 13 kids"
          ],
          [
           "Falcon rising through fog"
          ],
          [
           "Falcon over the moon"
          ],
          [
           "From SJM"
          ],
          [
           "Schadenfreude oder Schatzifreude?"
          ],
          [
           "Schatzenfreude"
          ],
          [
           "Great thread"
          ],
          [
           "Gehalt und Gestalt"
          ],
          [
           "Deep history memes rock"
          ],
          [
           "Yes"
          ],
          [
           "Should be a major improvement with respect to complex left turns"
          ],
          [
           "Maybe end of this week. Team is working hard on it."
          ],
          [
           " indeed"
          ],
          [
           "Odd"
          ],
          [
           "Service turns on next month, which is same time required to deliver a user terminal, so order now at"
          ],
          [
           "Excited to work with Tesla Service to enable same-hour service as often as possible! Applying Formula 1 pit crew techniques to Teslas."
          ],
          [
           "Major volcanic eruptions are underappreciated as civilizational risks"
          ],
          [
           "Tough times"
          ],
          [
           "Starlink now available in 36 countries!"
          ],
          [
           "Congrats to SpaceX team on record number of launches!"
          ],
          [
           "Optimus Primed"
          ],
          [
           "Yup"
          ],
          [
           "I’m rubber, they’re glue"
          ],
          [
           "Interesting. Smart move by China. Expendable rockets have no future."
          ],
          [
           "Congrats on an incredible company with Airbnb, now for Book 2!"
          ],
          [
           "True"
          ],
          [
           "Tbh, it’s good motivation to work out, eat healthier &amp; maybe take my shirt off outside more than once a year haha"
          ],
          [
           "16 years ago"
          ],
          [
           "Upgrades!"
          ],
          [
           "Sounds bad"
          ],
          [
           "Is this the real life?Is this just fantasy?Caught in a landside,No escape from reality"
          ],
          [
           "Haha true"
          ],
          [
           "Yes"
          ],
          [
           "Earth is basically empty of humans"
          ],
          [
           "Exactly"
          ],
          [
           "One of the best features of Model X"
          ],
          [
           "Teslas are the most made-in-USA vehicles"
          ],
          [
           "Total scam"
          ],
          [
           "My calves are bigger tho"
          ],
          [
           "To think that Fremont was just a derelict building &amp; Giga Nevada was just rocks &amp; bushes when started!California used to have a dozen car factories. NUMMI was last to close. Now, Tesla Fremont is the biggest car factory in North America!"
          ],
          [
           "Congrats to Tesla Fremont + Giga Nevada for making their 2 millionth car!"
          ],
          [
           "Please vote your shares with Tesla!"
          ],
          [
           "Yeah"
          ],
          [
           "It’s a start. About 1000 times more mass to orbit per year will be needed to make life multiplanetary."
          ],
          [
           "Already did it"
          ],
          [
           "Haha damn, maybe I should take off my shirt more often … free the nip!! (already back in the factory btw)"
          ],
          [
           "Still needs a few tweaks"
          ],
          [
           "A classic "
          ],
          [
           "I remember the 70’s, which means I’m definitely not spring chicken"
          ],
          [
           "Arguably, we know more than nothing. “Death &amp; taxes are a certainty” – BF."
          ],
          [
           "Also worth getting a particle counter"
          ],
          [
           "It’s on the future product list. Especially important in places like Austin, which has next-level amounts of pollen in the air."
          ],
          [
           "Things will get wild when Andromeda collides with our galaxy!"
          ],
          [
           "They should keep running"
          ],
          [
           "True. I have a CO2 monitor on my desk. It beeps whenever ppm&gt;1000."
          ],
          [
           "About twice as much useful mass to orbit as rest of Earth combined"
          ],
          [
           "Absolutely"
          ],
          [
           "More accurate word is “propellant”, rather than “fuel”. Starship is ~78% liquid oxygen, ~22% fuel.Propellant cost is of primary importance for a fully reusable rocket, so reusable rockets want high thrust, as thrust below T/W of 1 is irrelevant."
          ],
          [
           "I use this example a lot"
          ],
          [
           "Starlink bandwidth varies a lot, depending on user terminal density &amp; time of day. That’s why the long wait in some areas.Throughput is roughly linear with total V1 satellites in operation. V2 satellites are at least 5 times better (conservative estimate) than V1."
          ],
          [
           "Starlink is a gamechanger for remote locations"
          ],
          [
           "Global _______"
          ],
          [
           "Cumulative tonnage to orbit this year is the right metric"
          ],
          [
           "Write to the  That would be great."
          ],
          [
           "Charlie Ergen is trying steal the 12GHz band meant for space Internet. Not cool."
          ],
          [
           "Progress"
          ],
          [
           "We’re making progress with Steam integration. Demo probably next month."
          ],
          [
           "It’s a flat trade"
          ],
          [
           "Autonomous rocket landing on autonomous ship"
          ],
          [
           "Actually true. Then I suggested to the team that it didn’t need to be quite so pointy, since that’s just based on a movie joke, but everyone likes it pointy, so we kept it that way."
          ],
          [
           " bagels"
          ],
          [
           "If inflation calms down, we can lower prices for cars"
          ],
          [
           "Tesla is to protect life on Earth,SpaceX to extend life beyond."
          ],
          [
           "20 to 30 years from first human landing if launch rate growth is exponential.Assumes transferring ~100k each rendezvous and ~1M total people needed."
          ],
          [
           "Mars may be a fixer upper of a planet, but it has great potential!"
          ],
          [
           "Mars is, admittedly, a fixer upper of a planet"
          ],
          [
           "The scale is  &amp; anyone can visit!"
          ],
          [
           "I wonder if there is a species in the Magellanic Clouds wondering who lives in the big galaxy they orbit"
          ],
          [
           "Some small tubes &amp; wiring need to be nested in a bigger tube for thermal protection, kinda like conduit in a house. Engines themselves &amp; booster base are extremely robust. High strength stainless steel is bulletproof to a handgun at ~2.5mm thickness. Booster dome is 4mm."
          ],
          [
           "Electric power for booster &amp; ship is needed even when engines aren’t running &amp; incremental power draw of TVC isn’t too bad. We have local supercaps on each engine to deal with power spikes."
          ],
          [
           "Enabling engines to take the heat without shrouds might save over 10 tons, all things considered.Shrouds are also a risk in that fuel leaks could be contained by the shroud, forming a MOX bomb.Booster is purging all 33 engine shrouds in flight to prevent this."
          ],
          [
           "All mass necessitated by an engine design should count as engine mass, eg shrouds, TVC hydraulic power or excess purge gas.Raptors in production now have electric TVC, saving over a ton of hydraulics mass on booster."
          ],
          [
           "Dragon launching in 2 mins"
          ],
          [
           "Most importantly, we need to delete or thermally protect remaining secondary structure, so we can remove shrouds"
          ],
          [
           "10.13 goes to internal beta tomorrow, external next week. Should handle Chuck’s complex left turn.Beta v11 hopefully end of next month, which just amounts to incorporating highway. Importance of “v11” has been reduced by all the 10.x releases. We’re already mostly at v11."
          ],
          [
           " = bs"
          ],
          [
           "Thanks for everything you have done for Tesla! It has been an honor working with you."
          ],
          [
           "Wow"
          ],
          [
           "Absolutely. And lithium batteries are the new oil."
          ],
          [
           "If testing goes well, as soon as next month"
          ],
          [
           "Cool"
          ],
          [
           "Gives whole new meaning to Go Pros!"
          ],
          [
           "Imagine if MSNBC did that"
          ],
          [
           "A+ for cinematography"
          ],
          [
           "Ancient times"
          ],
          [
           "Was just up in the booster propulsion section. Damage appears to be minor, but we need to inspect all the engines. Best to do this in the high bay."
          ],
          [
           "Starship launch site tonight"
          ],
          [
           "Join our underground movement!"
          ],
          [
           "Excited about  potential!"
          ],
          [
           "Lmaooo"
          ],
          [
           "Oh the irony lol"
          ],
          [
           "No problem to recycle the 4680 pack. Just think of any battery pack as super high grade ore – it is always better to start with high grade ore than low grade!"
          ],
          [
           "But Fifth Element was great"
          ],
          [
           "Base of the vehicle seems ok by flashlight. I was just out there about an hour ago. We shut down the pad for the night for safety. Will know more in the morning."
          ],
          [
           "Cool, congrats! Now the simulators will have to spend more money on rendering."
          ],
          [
           "Rereading The Life of Greece by Durant. In recent months, read American Caesar, Masters of Doom, Not Much of an Engineer, Wages of Destruction and Storm of Steel. Not much book fiction lately. Video games seem to have better stories these days."
          ],
          [
           "I do recommend a lot of books"
          ],
          [
           "And too many little red or green LED indicators"
          ],
          [
           "YouTube keeps playing me the same annoying scam ads every time I use it. The algorithm is convinced that I can “make money through Audible” …"
          ],
          [
           "That is one of the things we will be doing going forward.This particular issue, however, was specific to the engine spin start test (Raptor has a complex start sequence). Going forward, we won’t do a spin start test with all 33 engines at once."
          ],
          [
           "Trump would be 82 at end of term, which is too old to be chief executive of anything, let alone the United States of America.If DeSantis runs against Biden in 2024, then DeSantis will easily win – he doesn’t even need to campaign."
          ],
          [
           "Yeah, but too much drama. Do we really want a bull in a china shop situation every single day!?Also, I think the legal maximum age for start of Presidential term should be 69."
          ],
          [
           "I don’t hate the man, but it’s time for Trump to hang up his hat &amp; sail into the sunset.Dems should also call off the attack – don’t make it so that Trump’s only way to survive is to regain the Presidency."
          ],
          [
           "Tesla’s automatic cabin overheat protection should make a real difference with record heatwaves.Ability to adjust activation temperature coming with next software release."
          ],
          [
           "Not true"
          ],
          [
           "Cryogenic fuel is an added challenge, as it evaporates to create fuel-air explosion risk in a partially oxygen atmosphere like Earth.That said, we have a lot of sensors to detect this. More later."
          ],
          [
           "Yeah, actually not good. Team is assessing damage."
          ],
          [
           " + ⌨ v1.05"
          ],
          [
           "Mimic + Dark Moon + Stars of Ruin"
          ],
          [
           "Absolutely"
          ],
          [
           "Problematic"
          ],
          [
           "Good chance you’re experiencing at least mild acid reflux at night, affecting quality sleep without consciousness awareness"
          ],
          [
           "Children are essential to the future"
          ],
          [
           "For improved quality of sleep, raise head of your bed by about 3” or 5cm and don’t eat 3 hours before bedtime"
          ],
          [
           "These polar launches will enable complete coverage of Earth (where approved by local government)"
          ],
          [
           "Chuckmate"
          ],
          [
           "Hello???"
          ],
          [
           "Future wars are all about the drones. Human crews of planes or tanks have no chance.One exception: a purely analog, human-controlled vehicle is far more resilient to EMF weapons."
          ],
          [
           "Whoever controls the teleprompter is the real President!"
          ],
          [
           "We know so little today. I want to know the meaning of life or whatever the right question is to ask, as Douglas Adams would put it. Wait … are you guys related?"
          ],
          [
           "But sponges &amp; starfish obv can"
          ],
          [
           "Consciousness can understand the nature of the Universe. Clams, not so much."
          ],
          [
           "Interesting. Who is behind the bot attack?"
          ],
          [
           "Kids are worth it if at all possible. I’m planning to increase childcare benefits at my companies significantly.Hopefully, other companies do same.Also, Musk Foundation plans to donate directly to families.Hopefully, details to be announced next month."
          ],
          [
           "Agreed, this needs to be addressed"
          ],
          [
           "The world has gone mad"
          ],
          [
           "Terrible news"
          ],
          [
           "Great!"
          ],
          [
           "That is indeed the real question"
          ],
          [
           "I had same great experience from Tokyo to Osaka"
          ],
          [
           "China &amp; Japan have awesome trains. Took bullet train from Beijing to Xi’an to see Terracotta Army of ."
          ],
          [
           "Super fired up for future product development with our awesome Tesla team! Such an honor to work with them."
          ],
          [
           "Also, being ruggedized for relentless salt spray &amp; extreme winds &amp; storms in deep ocean is not easy"
          ],
          [
           "No, it’s dual, high performance terminals, which are important for maintaining the connection in choppy seas &amp; heavy storms.Still obv premium pricing, but way cheaper &amp; faster than alternatives.SpaceX was paying $150k/month for a much worse connection to our ships!"
          ],
          [
           "A flying, electric boat would be sickkk"
          ],
          [
           "Starlink for boats!"
          ],
          [
           "Not bad! It is high time that the future looked like the future.Same goes for fashion."
          ],
          [
           "Pretty much. A van would have more roof height, so you could stand or sit under it for shade."
          ],
          [
           "Maybe with an optional solar power canopy that extends both sides of the van, tripling roof area"
          ],
          [
           "Exactly"
          ],
          [
           "Maybe Tesla should make a highly configurable Robovan for people &amp; cargo?"
          ],
          [
           "Far too many people are under the illusion that Earth is overpopulated, even though birth rate trends are so obviously headed to population collapse"
          ],
          [
           "I hope you have big families and congrats to those who already do!"
          ],
          [
           "Population of Mars is still zero people!"
          ],
          [
           "Mark my words, they are sadly true"
          ],
          [
           "Doing my best to help the underpopulation crisis. A collapsing birth rate is the biggest danger civilization faces by far."
          ],
          [
           "“Wait A Minute, Doc. Are You Telling Me You Built A Time Machine...Out Of A DeLorean?” – Back to the Future"
          ],
          [
           "Highly recommend Revolutions by Mike Duncan, especially Season 10"
          ],
          [
           "The world is actually vastly better than Orwell imagined, but there is also vastly more surveillance"
          ],
          [
           "Troubling …"
          ],
          [
           "Supporting Doge wherever possible"
          ],
          [
           "Moon brought us together in ‘69,Mars can do that in the future"
          ],
          [
           "Without a common goal, humanity will fight itself"
          ],
          [
           "Exactly"
          ],
          [
           "Can you say more about this: “… pressures that the government may have placed on Twitter …”"
          ],
          [
           "Humanity will reach Mars in your lifetime"
          ],
          [
           "Flatulence Earther"
          ],
          [
           "Maybe later this year"
          ],
          [
           "Zip around Vegas super fast with Teslas in tunnels!"
          ],
          [
           "Structural pack is the right overall architecture from a physics standpoint, but it is still far from optimized"
          ],
          [
           "I find the gold toe sock – inevitably off kilter &amp; washed out – a little troubling esthetically &amp; arguably a bit corpo"
          ],
          [
           "Sock Con, the conference for socks"
          ],
          [
           "Always something new for the magazine cover and the articles practically write themselves"
          ],
          [
           "A veritable “sock aficionado”"
          ],
          [
           "This guy gets it"
          ],
          [
           "Sock tech is so advanced that you can get pretty much anything in sock form these days!"
          ],
          [
           "I must confess to a penchant for creative socks"
          ],
          [
           "It’s time"
          ],
          [
           "His success was in fact due, in part, because he was super fun at parties, spoke and wrote incredibly well!"
          ],
          [
           "While bleak posts maybe generate more clicks, more happier moments in history would be nice"
          ],
          [
           "There is so much actual matrix math in AI! The compute power is still overwhelmingly dot products!"
          ],
          [
           "Yeah, they’re going way too far in squashing dissenting opinions"
          ],
          [
           "I’m pro-nuclear, but chart is overly weighted towards it and significantly overstates the mining required for solar. Take it with a big grain of salt."
          ],
          [
           "The 3am oil is being burned to get this out."
          ],
          [
           "I knew it!"
          ],
          [
           "Good"
          ],
          [
           "Elvis is just Elvish without an h"
          ],
          [
           "Happy July 4th!"
          ],
          [
           "Great work!"
          ],
          [
           "My suit is tragic"
          ],
          [
           "Talulah designed that dress herself and much of my 40th birthday party. She is a party genius. "
          ],
          [
           "Honored to meet  yesterday"
          ],
          [
           "Venice, a site of Great Remembrance"
          ],
          [
           "Feeling … perhaps … a little bored?"
          ],
          [
           "Wise words from SJM"
          ],
          [
           "Their attempt to bait and switch satellite spectrum for cellular spectrum is super shady and unethical. If they are successful, it would hurt the least served and completely unserved of the world. Very messed up."
          ],
          [
           "Hardly anyone knows this"
          ],
          [
           "Probably only a few months"
          ],
          [
           "Twitter me &amp; real-life me are quite different haha!"
          ],
          [
           "The vote of confidence is much appreciated"
          ],
          [
           "Artificial Insemination?"
          ],
          [
           "AI gets better every day"
          ],
          [
           "Some great suggestions in the comments!"
          ],
          [
           "But sometimes they’re out of stock"
          ],
          [
           "That was the largest wheel of cheese in the Beverly Hills Cheese Shop!"
          ],
          [
           "I love many cheeses, so hard to say that a particular one is best, but maybe Stilton"
          ],
          [
           "The sheer variety of cheese is amazing"
          ],
          [
           "What … is your favorite cheese?"
          ],
          [
           "cgi irl"
          ],
          [
           "Trending to emptiness"
          ],
          [
           "Could be a contributor"
          ],
          [
           "Super talented team at SpaceX"
          ],
          [
           "Interesting"
          ],
          [
           "Maybe we’re in a computer"
          ],
          [
           "I am"
          ],
          [
           "I will keep supporting Dogecoin"
          ],
          [
           " shadow crew "
          ],
          [
           "I feel swindled every time I drink one"
          ],
          [
           "Gwynne is the best"
          ],
          [
           "He did teach me a lot of engineering &amp; physics while growing up (in an environment that was austere &amp; often bleak)"
          ],
          [
           "I love all my kids so much"
          ],
          [
           "Eventually, everything runs out of time."
          ],
          [
           "Happy Father’s Day"
          ],
          [
           "If you can’t smell your wifi, how do you know it’s real?"
          ],
          [
           "Congrats to SpaceX Falcon team for executing 3 flawless launches in 2 days!"
          ],
          [
           "Good question"
          ],
          [
           "To answer the question: Why Twitter?"
          ],
          [
           "This will encourage people to change it haha"
          ],
          [
           "I’m pretty sure that unique"
          ],
          [
           "We’re changing Starlink’s default wifi name to Stinky"
          ],
          [
           "This is where the writers are,Of past,Present,And Future."
          ],
          [
           "The only thing keeping the other orbital rocket programs alive is government protection or they’d be deader than a doornail and everyone knows it. But oh well … comme ci, comme ça."
          ],
          [
           "The super weird thing is that Falcon 9 is still the only orbital booster to land or refly after all these years!"
          ],
          [
           "Feels like déjà vu all over again haha"
          ],
          [
           "Yes, about 20% more thrust &amp; 20% less mass, but focus has been heavily on production rate &amp; reliability.Mass, thrust &amp; Isp will all improve, as will production rate, reliability &amp; cost.This is the only way to make life multi-planetary and extend consciousness into the void."
          ],
          [
           "More currency-like"
          ],
          [
           "Tesla and SpaceX merch, maybe more down the road"
          ],
          [
           "Rock on!"
          ],
          [
           "But we should have humans too!"
          ],
          [
           "Congratulations to Giga Berlin team on making over 1000 cars in a week!"
          ],
          [
           "For a couple of months, but, yeah, that looks like the place. Does Mark still live there?"
          ],
          [
           "I’m a dirty rocket"
          ],
          [
           "It may as be a documentary, since it’s coming true"
          ],
          [
           "Watch the opening scene of Idiocracy. When I ask my friends why they’re not yet having kids (very few are), it sounds exactly like the movie."
          ],
          [
           "My son (SJM) wanted to know why we couldn’t have 20,000 cats. Perhaps this will make him reconsider."
          ],
          [
           "Or perhaps social media in general"
          ],
          [
           "Hmm …"
          ],
          [
           "Is TikTok destroying civilization? Some people think so."
          ],
          [
           "Interesting"
          ],
          [
           "Lame"
          ],
          [
           "Yeah"
          ],
          [
           "So much free advertising! "
          ],
          [
           "Hyundai is doing pretty well"
          ],
          [
           "Exactly"
          ],
          [
           "And rocket landings are now triple digits"
          ],
          [
           "Our best landing video to date, thanks to Starlink!"
          ],
          [
           "Yup"
          ],
          [
           "Yeah"
          ],
          [
           "Ok"
          ],
          [
           "Good thread"
          ],
          [
           "That’s why Dragon has shields"
          ],
          [
           "There will probably be several launch countdowns before we pass all the abort triggers, but hopefully first countdown is next month"
          ],
          [
           "Yes, but it is achievable"
          ],
          [
           "Accurate"
          ],
          [
           "Exactly"
          ],
          [
           "Wow"
          ],
          [
           "Haha"
          ],
          [
           "Interesting"
          ],
          [
           "True"
          ],
          [
           "SpaceX team is making great progress at the Cape &amp; Starbase!"
          ],
          [
           "Exactly"
          ],
          [
           "True (sigh)"
          ],
          [
           "Also, In Sink band should let in a tiny sink"
          ],
          [
           "So it goes"
          ],
          [
           "Good thread"
          ],
          [
           "Awe no, I’m busted!"
          ],
          [
           "The Austin airport needs to be upgraded as fast as possible"
          ],
          [
           "Have kids!"
          ],
          [
           "Haha "
          ],
          [
           "It’s a bigger risk than AI, so I’d put it at . If these trends continue, humanity will cease to exist."
          ],
          [
           "Yup"
          ],
          [
           "Better"
          ],
          [
           "Civilization sterilized"
          ],
          [
           "Amazing flying scenes were to be expected, but the writing is good too"
          ],
          [
           "I love Fred Astaire"
          ],
          [
           "Ok then I’m second"
          ],
          [
           "I’m the absolute best at humility!"
          ],
          [
           "At this point, I should just wear a monocle and a top hat haha"
          ],
          [
           "In Sink was "
          ],
          [
           "I’m dressing as a sink on Halloween, as they will have no choice but to let me in"
          ],
          [
           "Correct"
          ],
          [
           "Original Top Gun is a great movie. Just rewatched. Looking forward to seeing the sequel."
          ],
          [
           "So far, the entire history of human civilization is just a flash in the pan, but there is potential to last much longer"
          ],
          [
           "Yeah, it’s crazy. Model 3 has the most US content of any car made today."
          ],
          [
           "Buyers of competing electric cars receive a $7500 tax credit, but Tesla does not"
          ],
          [
           "Yes"
          ],
          [
           "What gave it away? Haha"
          ],
          [
           "I supported Yang last time, but DeSantis has a better chance of winning"
          ],
          [
           "I’m thinking of creating a “Super Moderate Super PAC” that supports candidates with centrist views from all parties"
          ],
          [
           "DeSantis"
          ],
          [
           "tbd"
          ],
          [
           "I voted for Mayra Flores – first time I ever voted Republican. Massive red wave in 2022."
          ],
          [
           "True"
          ],
          [
           "You can see the whole engine moving to steer"
          ],
          [
           "fr no cap!"
          ],
          [
           "Starship SN24 in the High Bay"
          ],
          [
           "I’m driving an alpha version of FSD on highway and it’s not quite ready. Probably ready for wide release this summer."
          ],
          [
           "Cryptonight"
          ],
          [
           "Yup"
          ],
          [
           "Probably later this year"
          ],
          [
           "You obviously haven’t tried Tesla FSD"
          ],
          [
           "If they cut their opex &amp; cogs dramatically, then they have a chance, but that hasn’t happened yet"
          ],
          [
           "Yeah"
          ],
          [
           "Exactly"
          ],
          [
           "This is highly unusual btw. Statistically, the richer someone is, the fewer kids they have."
          ],
          [
           "Reusability matters far more than size"
          ],
          [
           "We will have a second Starship stack ready to fly in August and then monthly thereafter"
          ],
          [
           "Starship will be ready to fly next month. I was in the high bay &amp; mega bay late last night reviewing progress."
          ],
          [
           "The Tesla tech tree is insane"
          ],
          [
           "Don’t build moats, build tech trees"
          ],
          [
           "I’m told that no ocelot has been seen in the Boca Chica area for ~40 years. We have many motion-activated cameras around Starbase – thousands of clips of coyotes, dogs &amp; cats, but no ocelots."
          ],
          [
           "For the first time ever, there is a rocket capable of establishing permanent bases on the moon and Mars"
          ],
          [
           "Exactly"
          ],
          [
           "Yeah "
          ],
          [
           "I mean, I’m doing my part haha"
          ],
          [
           "2 weeks"
          ],
          [
           "Past two years have been a demographic disaster"
          ],
          [
           "In that case, you will really love 10.13"
          ],
          [
           "A platform cannot be considered inclusive or fair if it is biased against half the country"
          ],
          [
           "Why?"
          ],
          [
           "Good progress"
          ],
          [
           "Nice!"
          ],
          [
           "We’re working on accelerating RHD Model Y production. Didn’t expect demand to be so high!"
          ],
          [
           "Yup"
          ],
          [
           "It is"
          ],
          [
           "Words are beautiful"
          ],
          [
           "Exactly"
          ],
          [
           "Yeah"
          ],
          [
           "True experts even read wiki citations"
          ],
          [
           "True"
          ],
          [
           "Merlin is so simple compared to Raptor!"
          ],
          [
           "When Starlink comes along"
          ],
          [
           "Yes"
          ],
          [
           "Weird, I wonder why this is happening"
          ],
          [
           "You’re pretty great"
          ],
          [
           "James"
          ],
          [
           "My son, Saxon, suggested having a party for the whole world, a world party day!"
          ],
          [
           "Wen humor?"
          ],
          [
           "Indeed, the rivalry is strong"
          ],
          [
           "Let’s try haha"
          ],
          [
           "Make Austin weirder!"
          ],
          [
           "Even if you’re being crucified?"
          ],
          [
           "Maybe a bug"
          ],
          [
           "!!"
          ],
          [
           "I think it’s kinda funny "
          ],
          [
           "It is a better world if we are all less judgy"
          ],
          [
           "Humor is one of the great joys of life!"
          ],
          [
           "Congratulations on your new book!"
          ],
          [
           "We are simultaneously being told that gender differences do not exist and that genders are so profoundly different that irreversible surgery is the only option.Perhaps someone wiser than me can explain this dichotomy."
          ],
          [
           "Good"
          ],
          [
           "Cool"
          ],
          [
           "250 tons of force is achievable"
          ],
          [
           "Lister was ridiculed by the establishment, but he was right. We should question accepted wisdom and bow to the weight of evidence."
          ],
          [
           "Mars colonial transporter"
          ],
          [
           "33 Raptor rocket engines, each producing 230 metric tons of force"
          ],
          [
           "web69 is "
          ],
          [
           "True"
          ],
          [
           "The Bay Area is already saturated with user terminals, which is why wait time for a terminal is long. Rush hour speeds will improve as more satellites reach operational orbits, with a giant improvement with V2 sats. Note, speeds outside of rush hour times should be very high."
          ],
          [
           "Best outcome would be to route packets from Starlink user terminal to ground station on roof of server center. Then it doesn’t even touch the regular Internet."
          ],
          [
           "Probability of injury, according to US government"
          ],
          [
           "Exactly"
          ],
          [
           "Starlink inter-satellite laser links should be operational by end of year. This will dramatically reduce global latency. Light travels ~40% faster in vacuum/air than in fiber optic cables &amp; satellite path length is shorter (cables follow coastlines)."
          ],
          [
           "It should be possible to sue law firms for pursuing insane damages claims"
          ],
          [
           "Like Karate Kid, but bigger"
          ],
          [
           "Crazy damages claims like this are a big part of why car insurance costs so much"
          ],
          [
           "Multiplayer gaming works pretty well with Starlink, eg League is no problem"
          ],
          [
           "Civilization will be mostly solar-powered in the future"
          ],
          [
           "Play video games wherever you want"
          ],
          [
           "Gasoline fights are so fun tho"
          ],
          [
           "Two weeks"
          ],
          [
           "Psychedelics and MDMA can make a real difference to mental health, especially for extreme depression and PTSD. We should take this seriously."
          ],
          [
           "So many times!"
          ],
          [
           "Gas station lighting is brutal"
          ],
          [
           "Seems pricey"
          ],
          [
           "Real talk"
          ],
          [
           "True"
          ],
          [
           "Noooo!"
          ],
          [
           "прости товарищ"
          ],
          [
           "We’re going deep on roundabouts! Should get noticeably better with 10.13."
          ],
          [
           "I heard Top Gun 2 is good. Will check it out."
          ],
          [
           "There’s something special about enjoying movies in a theater with total strangers. I hope that never goes away."
          ],
          [
           "Doctor Strange in the Multiverse of Madness"
          ],
          [
           "I don’t even care if it lowers my life expectancy"
          ],
          [
           "Diet Coke is amazing, especially the soda fountain version at movie theaters with salt &amp; butter popcorn"
          ],
          [
           "If the average length of a tweet (minus headers) is ~100 bytes of text, that’s only 50GB. You could fit it on a USB stick."
          ],
          [
           "Only Twitter"
          ],
          [
           "Glad they’re ok"
          ],
          [
           "My diabolical plan is coming together!"
          ],
          [
           "If little red riding hood was on psychedelics, this whole story makes a ton of sense"
          ],
          [
           "We will look into this &amp; adjust. In general, I’d recommend against using recirc, as the range advantage is small."
          ],
          [
           "Seems odd that anyone would mistake a talking wolf for their grandmother. What sort of octave range does that wolf have anyway!?"
          ],
          [
           "I think I saw these in Elden Ring"
          ],
          [
           "True haha"
          ],
          [
           "Yeah, exactly. Also, other companies are using the Tesla name for solar and Powerwall. Will put a stop to that."
          ],
          [
           "YouTube seems to be nonstop scam ads"
          ],
          [
           "It looks like the future"
          ],
          [
           "cgi irl"
          ],
          [
           "It will be our best product ever imo"
          ],
          [
           "What resolution is life in, 8k? – SJM"
          ],
          [
           "Correct"
          ],
          [
           "There are still some great journalists at WaPo, but the trend is super bad"
          ],
          [
           "Most people still think China has a one-child policy. China had its lowest birthdate ever last year, despite having a three-child policy!At current birth rates, China will lose ~40% of people every generation!Population collapse."
          ],
          [
           "Romeo and Juliet"
          ],
          [
           "If chess was released as a video game"
          ],
          [
           "Such a dapper fellow!"
          ],
          [
           "The acid test for any two competing socioeconomic systems is which side needs to build a wall to keep people from escaping? That’s the bad one!"
          ],
          [
           "Realized what I have in common with environmentalists, but also why they’re so annoyingly wrong: They are conservationists of what is, whereas they should be conservationists of our potential over time, our cosmic endowment.(From a friend)"
          ],
          [
           "There are so many crazy rules like this that make it extremely difficult to build anything new in California"
          ],
          [
           "From Shakespeare’s The Tempest, but I much prefer it literally vs ironically"
          ],
          [
           "O wonder!How many goodly creatures are there here!How beauteous mankind is! O brave new world,That has such people in't."
          ],
          [
           "Earth could sustain many times its current human population and the ecosystem would be fine. We definitely don’t have “too many people”."
          ],
          [
           "This sounds promising"
          ],
          [
           "We are a brain in a vat – the vat is our skull. All our senses and memories are electrical signals."
          ],
          [
           "Some hate humanity, but I love humanity so much"
          ],
          [
           "Build 1000+ Starships to transport life to Mars. Basically, (very) modern Noah’s Arks."
          ],
          [
           "Maybe we should make an actual Starship model that dispenses pez for our merch store"
          ],
          [
           "Making life multiplanetary expands the scope &amp; scale of consciousness. It also enables us to backup the biosphere, protecting all life as we know it from a calamity on Earth.Humanity is life’s steward, as no other species can transport life to Mars. We can’t let them down."
          ],
          [
           "Deck from SpaceX all-hands update talk I gave last week"
          ],
          [
           "It should be possible"
          ],
          [
           "That is why we must expand the scope &amp; scale of consciousness – so that we may learn the answers to these questions"
          ],
          [
           "Accurate"
          ],
          [
           "Not perfect, but should be better"
          ],
          [
           "10.13 will solve your left turn most of the time"
          ],
          [
           "Yes, car will navigate to a pin location, even if in a complex surface parking lot or hotel entrance.When in covered or underground parking lots, car will have to navigate using only inertial measurement, wheel movement &amp; vision, as GPS signal is no longer available."
          ],
          [
           "Remarkable, although, as noted, there are big differences between humans and mice. We can cure a mouse of almost any cancer, but most of those cures don’t work with humans."
          ],
          [
           "We are close to the point where offering something for EU regulators to review makes sense"
          ],
          [
           "Also, FSD Beta 10.12.2 now expanding to 100k cars. 10.13 smooths out intersection control, especially long lefts, and starts to handle roads with no map data at all. Last point is a big deal. Within a few months, FSD should be able to drive to a GPS point with zero map data."
          ],
          [
           "Working on Tesla North American service. Goal is 2/3 of cars receive same-day service, no wait."
          ],
          [
           "BTS music videos are "
          ],
          [
           "Total headcount will increase, but salaried should be fairly flat"
          ],
          [
           "Sometimes I think my list of enemies is too short, so …"
          ],
          [
           "Interesting"
          ],
          [
           "Ah yes, Maxwell photobombing me at a  Oscars party – you should them why they invited her. The same people who push this photo say nothing about prominent people who actually went to his island a dozen times. Also very strange …"
          ],
          [
           "Are you saying that this is a far left taunt?"
          ],
          [
           "Only thing more remarkable than DOJ not leaking the list is that no one in the media cares. Doesn’t that seem odd?"
          ],
          [
           "Same"
          ],
          [
           "Four Falcon Heavy flights later this year by an incredible team at SpaceX"
          ],
          [
           "Sigh"
          ],
          [
           "Wow"
          ],
          [
           "Yeah"
          ],
          [
           "Some of these options should be on by default and explicitly asked of users from time to time"
          ],
          [
           "Interesting"
          ],
          [
           "Fallout 3, NV &amp; 4 were great"
          ],
          [
           "They also usually have no sense of humor, apart from mocking the other side"
          ],
          [
           "Often, when we announce something, we hear simultaneous criticism that it’s already been done, but also that it’s impossible "
          ],
          [
           "Both the far left &amp; far right have a lot of hate. One could simply replace the word “far” with “loathing”, as they have that emotion a lot, whereas most people, who are moderates, do not."
          ],
          [
           "True"
          ],
          [
           "My bro &amp; I had dinner at the El Camino Jack in the Box almost every night around late 95. Some people had died from food poisoning a few years earlier, so prices were low."
          ],
          [
           "Quality commenters on /."
          ],
          [
           "Getty watermark is the coup de grâce"
          ],
          [
           "Diabolical!"
          ],
          [
           "The press always plays along with the class-action law firms, who are the real plaintiffs, not the puppets they find to masquerade as such. Why is this?"
          ],
          [
           "Sigh"
          ],
          [
           "Wow"
          ],
          [
           "Johnny Rotten of The Sex Pistols"
          ],
          [
           "That is quite the trend"
          ],
          [
           "Nice work by OpenAI. It is hard to do useful things."
          ],
          [
           "Good interview"
          ],
          [
           "Thanks Mr President!"
          ],
          [
           "That is its primary purpose"
          ],
          [
           "70 is currently the age when you receive maximum social security benefits. In other words, that’s when the govt concludes that you can’t hold a job!!"
          ],
          [
           "!!"
          ],
          [
           "Open primaries sound like a good way to move candidates to be more centrist.Term limits help with the gerontocracy problem, but, frankly, there should be a max age beyond which you can’t run (maybe 70?), just like there are min ages for house, senate &amp; president."
          ],
          [
           "Thanks, and also well done to you for advancing electric vehicles!"
          ],
          [
           "No"
          ],
          [
           "Once again, Bob nails it.Yes, I am endorsing a political candidate because he is competent!"
          ],
          [
           "It is rare for me to endorse political candidates. My political leanings are moderate, so neither fully Republican nor Democrat, which I am confident is the case for most Americans.Executive competence is super underrated in politics – we should care about that a lot more!"
          ],
          [
           "Los Angeles is fortunate to have someone like Rick Caruso running for mayor. He’s awesome."
          ],
          [
           "Tesla AI Day  will be epic"
          ],
          [
           "Tesla AI Day pushed to Sept 30, as we may have an Optimus prototype working by then"
          ],
          [
           "Cryogenic proof test passed"
          ],
          [
           "Everyone eats same food, uses same restrooms, etc – no executive chef or other ivory tower stuff. There shouldn’t be this workers vs management two-class system. Everyone is a worker."
          ],
          [
           "Transformers are replacing C heuristics for post-processing of the vision NN’s “giant bag of points”.[Side note: I hate the bloated mess that is modern C++, but love simple C, as you know what it will compile to in terms of actual CPU operations.]"
          ],
          [
           "The above set of tweets illustrate why recessions serve a vital economic cleansing function"
          ],
          [
           "I never wanted to be CEO – just wanted to work on product/technology. Bill Harris sounded like he would be a great CEO, given his Intuit experience, but he was not.Running companies hurts my heart, but I don’t see any other way to bring technology &amp; design to fruition."
          ],
          [
           "Yeah"
          ],
          [
           "Similar thing happened to X/PayPal in March 2000"
          ],
          [
           "We’re using more GPTs, as they now run natively on Tesla TRIP chip vs needing to round trip to iGPU"
          ],
          [
           "As I said in 2018 …"
          ],
          [
           "We are trying to accelerate sustainable energy, so what matters is how much someone can contribute to that goal. Personal choices are your own and are respected."
          ],
          [
           "Tesla scores 100/100 for 7th year in a row for LGBTQ equality"
          ],
          [
           "I will donate to centrist candidates in both parties"
          ],
          [
           "Is this a reference to open primaries? I think those are a good idea. I am in favor of anything that would result in more centrist candidates being elected!"
          ],
          [
           "The amazing part will be having an orbital rocket that is fully &amp; rapidly reusable with any payload at all!Everyone else gave up when they realized that their fully reusable payload&lt;0.We still have a long way to go."
          ],
          [
           "The specs on Wikipedia aren’t quite right, but close enough.Thrust, liftoff mass, length &amp; payload will grow over time."
          ],
          [
           "Yes, unless we encounter unexpected issues. 10.12.2 seems solid so far, but, as always, please be extremely vigilant."
          ],
          [
           "They should pretend to work somewhere else"
          ],
          [
           "I have yet to see an ESG list that *isn’t* fraudulent"
          ],
          [
           "Just one at a time at first"
          ],
          [
           "Only a few weeks away. All Raptor 2 engines needed for first orbital flight are complete &amp; being installed."
          ],
          [
           "Good interview"
          ],
          [
           "10 years since SpaceX’s first mission to"
          ],
          [
           "Cybertruck body"
          ],
          [
           "You’re humble bro. Billy’s sense of humor &amp; irreverence is a big part of why people love Dogecoin."
          ],
          [
           "Completely useless pos more like it"
          ],
          [
           "And Palmer always forgets to mention that he never wrote a single line of Dogecoin code …"
          ],
          [
           "For AI and most things, Python. JavaScript for web stuff. For high performance or tight code, C/C++, spiced up with some assembly."
          ],
          [
           "Yeah!"
          ],
          [
           "Maybe if they do the opposite, Twitter will be a much better experience – just an idea"
          ],
          [
           "Yes"
          ],
          [
           "Checking"
          ],
          [
           "My kids wrote better code when they were 12 than the nonsense script Jackson sent me. Like I said, if it’s so great, he should share it with the world and make everyone’s experience with Twitter better. If he does, you will see what I mean.Jackson Palmer is a tool."
          ],
          [
           "You falsely claimed ur lame snippet of Python gets rid of bots. Ok buddy, then share it with the world …"
          ],
          [
           "What’s going on"
          ],
          [
           "Very strange indeed!"
          ],
          [
           "Interesting"
          ],
          [
           "Yeah, maybe a smidge higher …"
          ],
          [
           "Yes. It’s safe to say that Mackenzie [ahem] Scott is not exactly a big fan of her ex-husband. Unfortunately, a lot of others are getting caught in the crossfire."
          ],
          [
           "Feels like a Looney Tunes episode"
          ],
          [
           "Yup"
          ],
          [
           "I support you, Bob! Some bots are good."
          ],
          [
           "Yeah, although I hesitate to admit that, because there are a lot of people that foam at the mouth if you even mention his name!"
          ],
          [
           "The Democrat vs Republican tribalism among otherwise intelligent people is most distressing.Demonizing everyone who would vote for an alternate party is not constructive."
          ],
          [
           "True. Tesla was attacked by Romney in 2 of 3 presidential debates. Those lines were fed to him by a particular individual in the oil &amp; gas industry.The Dems turned negative over the past ~12 months. At least part of it is Mackenzie’s donation to PACs posing as charities."
          ],
          [
           "I would be shocked if I’m *not* being spied on haha. My only ask is that anyone spying on me please not affect call quality too much or I can’t hear what’s being said!"
          ],
          [
           "I’m just talking about the mid-term elections in November. Not sure that there is a third party candidate.It’s rather hard to support a party when prominent members of that party keep attacking me and sidelining Tesla &amp; SpaceX!"
          ],
          [
           "Literally …"
          ],
          [
           "Our computer is made of meat!"
          ],
          [
           "It might be"
          ],
          [
           "Tesla doesn’t advertise, the others do. They are … hesitant to bite the hand that feeds them."
          ],
          [
           "Tesla Plaid S cruising around Austin with volume at 11 is sublime"
          ],
          [
           "Veridis Quo"
          ],
          [
           "Tomorrow"
          ],
          [
           "Mildly, so 6/10. It’s a slow meme day."
          ],
          [
           "I would, but the coward blocked me "
          ],
          [
           "I miss them"
          ],
          [
           "The reason you’re not that funny is because you’re woke. Humor relies on an intuitive &amp; often awkward truth being recognized by the audience, but wokism is a lie, which is why nobody laughs."
          ],
          [
           "Less funny than SNL on a bad day. This could make a drunk person sober. Try harder!"
          ],
          [
           "Still early stages on that. Getting Starship reliably to orbit, then achieving full &amp; immediate reusability of both stages is by far top priority."
          ],
          [
           "2029 feels like a pivotal year. I’d be surprised if we don’t have AGI by then. Hopefully, people on Mars too."
          ],
          [
           "Well, if you make something that looks like a meme &amp; someone (not me) crops off your name, so it goes.Also, this is only a 6/10 meme, so maybe step down from that high horse!The selfless art of anonymous meme creators is something to be admired."
          ],
          [
           "Yeah, the public has no idea how much Tesla and SpaceX have been attacked/undermined, because we aren’t unionized (yet offer highest pay in industry!) and this administration would rather a company be dead than not unionized"
          ],
          [
           "I couldn’t agree more! There is such a thing as too much sentience for household appliances.Imagine giving advanced AI to a toilet with an implicit “maximize ” utility function, so it engages in deep societal manipulation just to get maximum  haha."
          ],
          [
           "I support free speech, but not any one candidate. In fact, I gave money to &amp; voted for Hillary &amp; then voted for Biden.However, given unprovoked attacks by leading Democrats against me &amp; a very cold shoulder to Tesla &amp; SpaceX, I intend to vote Republican in November."
          ],
          [
           "In remembrance of those who fell to preserve the light of freedom"
          ],
          [
           "Sure"
          ],
          [
           "You can see almost everything from the public road"
          ],
          [
           "Thanks I switched back to chronological Twitter, so now I see you."
          ],
          [
           "I swear my responsibility to the highest good for consciousness, while always re-examining what the highest good is"
          ],
          [
           "Well, I’m happy I made people happy!"
          ],
          [
           "And remember that happiness is a choice"
          ],
          [
           "Perhaps I will one day"
          ],
          [
           "How about tomorrow afternoon?"
          ],
          [
           "I dunno … that’s kind of a scary idea"
          ],
          [
           "Tomorrow will be the first sunrise of the rest of ur life – make it what u want"
          ],
          [
           "If the Universe is headed for heat death, then it really *is* all about the journey"
          ],
          [
           "Spaceships that can take you to other planets and a sustainable energy Earth"
          ],
          [
           "When thinking about deep time, what is more astounding is to think about how much time is ahead!"
          ],
          [
           "Human civilization, as measured by the first writing, only began ~5000 years ago, so since those trilobites existed, you could have had all human history 100,000 times over again"
          ],
          [
           "è così bello"
          ],
          [
           "Ave Maria"
          ],
          [
           "Con te … partirò"
          ],
          [
           "Few seem to realize that China is leading the world in renewable energy generation and electric vehicles. Whatever you may think of China, this is simply a fact."
          ],
          [
           "The “critics” seek not to critique, but rather to virtue signal. They are out of touch with the people and so lose their credibility with the people."
          ],
          [
           "Yes"
          ],
          [
           "Weird"
          ],
          [
           "Our video clips are usually shorter than 30 seconds, but the overall point made by James is accurate. Tesla is probably labeling more images per week than any other project ever done and our rate of labeling is increasing rapidly."
          ],
          [
           "I suspect that this is because the “algorithm” is not exactly genius vs intentional deboosting by people"
          ],
          [
           "I had a car named Hubris once"
          ],
          [
           "I agree"
          ],
          [
           "Wow, good for her for saving those people!"
          ],
          [
           "Totally, these are very bot-friendly rules!"
          ],
          [
           "Why do we still have so many paper documents in 2022!?"
          ],
          [
           "We are much fluffier than we think"
          ],
          [
           "Strange"
          ],
          [
           "At first, I thought this was a parody "
          ],
          [
           "Problem arose from optimizing application performance. Use of Linux page cache caused increasing memory fragmentation, eventually preventing mounting of dashcam. Patch to filesystem driver fixes this. Update coming soon."
          ],
          [
           "So many photons flying around, and yet so few"
          ],
          [
           "True"
          ],
          [
           "I hope they both move on. At their best, they are each incredible."
          ],
          [
           "Starships"
          ],
          [
           "True"
          ],
          [
           "Haha "
          ],
          [
           "Great idea!"
          ],
          [
           "Incentives matter"
          ],
          [
           "Pretty sure I saw that at Burning Man"
          ],
          [
           "Seems like they would be pretty vulnerable to lions, given their yaw moment of intertia, but I guess they’re really tall and hard to reach?"
          ],
          [
           "We are all individuals!"
          ],
          [
           "True"
          ],
          [
           "Giraffes are surreal"
          ],
          [
           "He’s fine, I guess. Does seem like he’s spending a lot of time in the hot tub these days.If he wants to get to orbit, less partying and more work would be advisable."
          ],
          [
           "Long-term potential of Tesla is high"
          ],
          [
           "It was $500M, but then Tesla went up a lot, so now it’s $1.5B to $2B to close it out"
          ],
          [
           "My companies don’t buy advertising"
          ],
          [
           "Since Gates still has a multi-billion dollar short position against Tesla while claiming to help with global warming, I guess I have some trust issues with him too"
          ],
          [
           "True, they must have a scapegoat"
          ],
          [
           "I do try my hardest to be good and sometimes I fear that untrue negative stories about me may cause others to excuse their bad behavior to their conscience, because they think I’m doing it too, but I’m not!"
          ],
          [
           "I know some of the people you mention and I think they’re good, but for sure not all billionaires are good, since we are dealing with humans after all."
          ],
          [
           "It was 96% in favor of me, until I commented. Ironically, there might be more left-wing bots following me than right-wing haha."
          ],
          [
           "V true"
          ],
          [
           "Yes"
          ],
          [
           "Great potential to lift people out of poverty. Providing Internet is teaching people to fish."
          ],
          [
           "One Starlink can provide Internet for an entire school of hundreds of students"
          ],
          [
           "No, Earth has more water than we could possibly use and desalination only costs $3 for 1000 gallons!"
          ],
          [
           "Good"
          ],
          [
           "Or a remote hospital"
          ],
          [
           "Yup!"
          ],
          [
           "On the nose "
          ],
          [
           "Haha "
          ],
          [
           "The most anti-human book ever written"
          ],
          [
           "Starlink approved by Nigeria  &amp; Mozambique "
          ],
          [
           "Tesla will not put a manufacturing plant in any location where we are not allowed first to sell &amp; service cars"
          ],
          [
           "We are waiting for government approval"
          ],
          [
           "Cool"
          ],
          [
           "Maybe one day"
          ],
          [
           "Starlink approved by The Philippines "
          ],
          [
           "Tesla merch can be bought with Doge, soon SpaceX merch too"
          ],
          [
           "  "
          ],
          [
           "Hmm"
          ],
          [
           "Will discuss this and other improvements with Tesla audio engineering. The new Model S and X sound system is incredible."
          ],
          [
           "Ya know, it’s pretty damn great to be able to talk to people from all walks of life and many countries on Twitter!So much to be learned, even from the harshest critics. Basically … I’m just saying I love all you crazy people "
          ],
          [
           "Many insightful comments in the mentions"
          ],
          [
           "For sure"
          ],
          [
           "Yeah, I think that’s probably right. If it were up to me, I would delete charitable deduction. And class-action lawsuits."
          ],
          [
           "I think this would actually work"
          ],
          [
           "Based on past experience, about 12 to 18 months. Companies that are inherently negative cash flow (ie value destroyers) need to die, so that they stop consuming resources."
          ],
          [
           "Fair"
          ],
          [
           "I’m genuinely curious"
          ],
          [
           "Yes, but this is actually a good thing. It has been raining money on fools for too long. Some bankruptcies need to happen.Also, all the Covid stay-at-home stuff has tricked people into thinking that you don’t actually need to work hard. Rude awakening inbound!"
          ],
          [
           "That would be awesome"
          ],
          [
           "This would be a super bad idea, since stocks can swing wildly from one day to the next, eg Snapchat dropping 43%. Tesla is ~40% below ATH!However, eliminating estate tax dodges like GRATs would be good, since probability of kids being effective stewards of capital is lower."
          ],
          [
           "The degree to which the unions control the Dems is insane. It’s like watching a sock puppet “talk”, but the hand inside the sock is way too obvious!"
          ],
          [
           ". I dare you to run the same poll with your followers"
          ],
          [
           "In general, very true"
          ],
          [
           "Who do you trust less? Real question."
          ],
          [
           "Curses!"
          ],
          [
           "A union is just another corporation. Far better for many companies to compete for your skills, so that you have maximum optionality."
          ],
          [
           "Yup"
          ],
          [
           "If the reason for it is building products that make millions of people happy"
          ],
          [
           "Dogecoin Trillionaire, the Movie "
          ],
          [
           "Use of the word “billionaire” as a pejorative is morally wrong &amp; dumb "
          ],
          [
           "Yeah"
          ],
          [
           "Maybe just require homicide insurance for a gun purchase? Minimum car insurance, which is basically homocide insurance, is required for car ownership."
          ],
          [
           "Almost ten years ago"
          ],
          [
           "There is a sergeant making judgment calls about recruits before giving them a weapon, so that’s a reasonable barrier"
          ],
          [
           "How about a middle ground, where the licensing standard for semi-auto rifles is a driver’s license, age 21 and no rap sheet? Basically, what is a reasonable way to make it harder for people with homicidal impulses to obtain body count maximizing weapons?"
          ],
          [
           "To be more precise, I mean any semi-automatic gun with supersonic ammo and a large magazine"
          ],
          [
           "I have so much respect for the Tesla Shanghai team"
          ],
          [
           "Who controls the memesControls the Universe"
          ],
          [
           "I’m a fan of Jack btw. Wish he would stay on the board, but I understand that he needs to move on."
          ],
          [
           "(Of Twitter)"
          ],
          [
           "Jack off the board!"
          ],
          [
           "Yes"
          ],
          [
           "Politics is a sadness generator"
          ],
          [
           "Absolutely"
          ],
          [
           "True haha"
          ],
          [
           "Assault rifles should at minimum require a special permit, where the recipient is extremely well vetted imo"
          ],
          [
           "A bit sad tbh"
          ],
          [
           "Some good Cox jokes in this thread"
          ],
          [
           "Absolutely. With competition, the consumer is the winner."
          ],
          [
           "If I were to own Twitter, it would be geared towards the middle 80% of the population, so technically the far left and far right would probably be dissatisfied"
          ],
          [
           "Human are absurdly concentrated on a tiny percentage of Earth’s surface. That’s why people in cities think Earth is “full” of people, when in fact it is basically empty."
          ],
          [
           "Great show!"
          ],
          [
           "If Twitter was not truthful here, what else is not true? This is very concerning news."
          ],
          [
           "Exactly"
          ],
          [
           "If birth rates remain unchanged, South Korea will be ~6% of its current population in three generations, with a majority of people over age 60"
          ],
          [
           "Landed back at Cape Canaveral(Humans for scale)"
          ],
          [
           "Falcon 9 going supersonic"
          ],
          [
           "Good"
          ],
          [
           "Congratulations  and"
          ],
          [
           "We can’t be one of those lame one-planet civilizations!"
          ],
          [
           "All   deployed successfully. Thanks for flying SpaceX!"
          ],
          [
           "With int/dex talismans &amp; physick. Throw moon to lower magic negation, followed by comet takes out almost anything fast."
          ],
          [
           "That’s a good point. One could simply have a few reference human genomes and simply code each individual with a lossless compression delta!Could probably fit the DNA sequences of all humans alive today in a fairly small data storage system."
          ],
          [
           "Exactly"
          ],
          [
           "Indeed I did. However, I also think that Tesla has the potential to be the most valuable company ever. When Tesla’s market cap, making sustainable energy products, exceeds that of Aramco, producing fossil fuels, you know the future will be good for Earth."
          ],
          [
           "The Iron Man statue was given to SpaceX because part of Iron Man 2 was filmed in the rocket factory"
          ],
          [
           "Yikes. Def not me."
          ],
          [
           "Is there a comparison of the post-compression DNA size?"
          ],
          [
           "Haha agreed, this will get smoothed out"
          ],
          [
           "What a dick move!"
          ],
          [
           "Yeah"
          ],
          [
           "Italy will have no people if these trends continue"
          ],
          [
           "South Korea and Hong Kong are experiencing the fastest population collapse. Note, 2.1 kids per woman is replacement rate."
          ],
          [
           "Lowest birth rate countries, according to World Bank"
          ],
          [
           "Population collapse is the biggest threat to civilization"
          ],
          [
           "Exactly!"
          ],
          [
           "Wow"
          ],
          [
           "Definitely"
          ],
          [
           "Then why is it that the richer someone is, the fewer kids they have?"
          ],
          [
           "Contrary to what many think, the richer someone is, the fewer kids they have.I am a rare exception. Most people I know have zero or one kid."
          ],
          [
           "We just need to celebrate having kids"
          ],
          [
           "USA birth rate has been below min sustainable levels for ~50 years"
          ],
          [
           "Sigh"
          ],
          [
           "Starlink does work on vehicles in motion, including planes, but not yet reliably"
          ],
          [
           "This will be a big deal over time"
          ],
          [
           "Yes"
          ],
          [
           "Instagram amplifies this"
          ],
          [
           "Interesting"
          ],
          [
           "Equipped load will be lower if fast roll is needed"
          ],
          [
           "Starman Roadster has traveled enough to have driven every road on Earth 52.8 times"
          ],
          [
           "Planes are very safe"
          ],
          [
           " "
          ],
          [
           "Interesting"
          ],
          [
           "Absolutely. Normal connectivity is often lost when there are wild fires, storms or flooding, but Starlink still works."
          ],
          [
           "Haha ok but warranty is not valid in that case"
          ],
          [
           "Yes, first countries in Africa to be announced coming soon. Starlink will serve everywhere on Earth that we’re legally allowed to serve."
          ],
          [
           "Starlink now available for RVs, campers &amp; other large vehicle users (note, antenna too big for cars)"
          ],
          [
           "Yes"
          ],
          [
           "I work. Yes, I am testing Starlink on the plane. Some polishing needed, but it’s working quite well."
          ],
          [
           "Astute observers of my plane (and there many) will note that I don’t use a flight attendant.Moreover, only fruit &amp; nuts are stocked on the plane. I use flights as an opportunity to fast."
          ],
          [
           "Netflix documentary about returning astronauts to orbit after Space Shuttle program ended"
          ],
          [
           "Power mage, but decent with a sword/katana. Will post pic of my build tomorrow."
          ],
          [
           "Elden Ring, experienced in its entirety, is the most beautiful art I have ever seen"
          ],
          [
           "Haha I don’t even have a burner twitter account! I do have a cheesy secret Instagram account, so I can click on links that friends send me."
          ],
          [
           "Yeah"
          ],
          [
           "Should be proportionate to electricity prices. Is this not the case?"
          ],
          [
           "It’s accurate to say that incentives were an accelerant to EV adoption, but we started Tesla when there were no incentives &amp; gasoline was $2/gallon even in California.Tesla currently has a tax credit *disadvantage*, because the $7500 tax credit stopped applying to us years ago."
          ],
          [
           "It is accurate to say that incentives were an accelerant to EV adoption, but we started Tesla when there were no incentives &amp; gasoline was $2/gallon in California.Tesla currently has a tax credit *disadvantage*, because the $7500 tax credit stopped applying to us years ago."
          ],
          [
           "Glad to hear that!"
          ],
          [
           "Oddly calming"
          ],
          [
           "Congratulations!"
          ],
          [
           "Absolutely"
          ],
          [
           "No, they still refuse to explain how they calculate that 5% of daily users are fake/spam! Very suspicious."
          ],
          [
           "I’m worried that Twitter has a disincentive to reduce spam, as it reduces perceived daily users"
          ],
          [
           "Why is  ignoring this story?"
          ],
          [
           "Confusing-gate, more like it!Bottom line: A prominent lawyer working for the Clinton campaign fabricated Russia-Trump collusion using a retired MI6 spy &amp; some actual Russians. This is not ok!There may have been actual Russian interference, but still the above is not cool."
          ],
          [
           "He can be a little negative at times tbh"
          ],
          [
           "Words to live by"
          ],
          [
           "True, owning Twitter probably won’t increase my life expectancy haha"
          ],
          [
           "Correct"
          ],
          [
           "Exactly"
          ],
          [
           "I’ve just switched from moderate D to moderate R, as I think many independent voters have done. We will know the magnitude of this trend in November. I think it’s big."
          ],
          [
           "Their full name is “Business Insider Trading”. They always forget that last word for some reason. "
          ],
          [
           "They will"
          ],
          [
           "Accurate"
          ],
          [
           "Interesting, go on …"
          ],
          [
           "An homage to Catherine the Greatest"
          ],
          [
           "Yes"
          ],
          [
           "Looking for hardcore streetfighters, not white-shoe lawyers like Perkins or Cooley who thrive on corruption. There will be blood."
          ],
          [
           "Good thread"
          ],
          [
           "I ‘member"
          ],
          [
           "Tesla FSD is the best real world AI"
          ],
          [
           "Please include links to cases you have tried"
          ],
          [
           "Hi Chad, long time no see!Fine, if you touch my wiener, you can have a horse."
          ],
          [
           "My commitment:- We will never seek victory in a just case against us, even if we will probably win. - We will never surrender/settle an unjust case against us, even if we will probably lose."
          ],
          [
           "Tesla is building a hardcore litigation department where we directly initiate &amp; execute lawsuits. The team will report directly to me. Please send 3 to 5 bullet points describing evidence of exceptional ability.justice"
          ],
          [
           "!!"
          ],
          [
           "Whether other senior campaign managers were aware or not is a separate question.What is *not* in question is that Sussmann charged the Clinton Campaign for his Russia hoax meeting with the FBI.Source document:"
          ],
          [
           "I only heard about it last month and was blown away"
          ],
          [
           "Sus man"
          ],
          [
           "I am indeed out for blood"
          ],
          [
           "??Sussmann himself admitted billing Clinton Campaign to pay for him to present Russia hoax to FBI! This is not even questioned by the defense.Btw, I donated to &amp; voted for Hillary, so am doubly pissed off about those funds being used for lying."
          ],
          [
           "Doesn’t exactly scream “trustworthy”"
          ],
          [
           ". and  what say you?"
          ],
          [
           "You are absolutely correct. That tweet is a Clinton campaign hoax for which their campaign lawyer is undergoing a criminal trial."
          ],
          [
           "All true. Bet most people still don’t know that a Clinton campaign lawyer, using campaign funds, created an elaborate hoax about Trump and Russia. Makes you wonder what else is fake."
          ],
          [
           "Their implied full name is Business Insider Trading! They just deleted the last word for being too obvious, but it’s true."
          ],
          [
           "Worth watching this interview with  The May 16 date is important."
          ],
          [
           "Thanks for having me!"
          ],
          [
           "Super excited to be in Brazil for launch of Starlink for 19,000 unconnected schools in rural areas &amp; environmental monitoring of Amazon!    "
          ],
          [
           "“hit piece”. Edit buttonnnnn!"
          ],
          [
           "!!"
          ],
          [
           "Hi Jon! You’re a good dude, but obv die-hard Dem, so have to support the party, but this Adminstration has done everything it can to sideline &amp; ignore Tesla, even though we have made twice as many EVs as rest of US industry combined."
          ],
          [
           "They began brewing attacks of all kinds as soon as the Twitter acquisition was announced.In my 30 year career, including the entire MeToo era, there’s nothing to report, but, as soon as I say I intend to restore free speech to Twitter &amp; vote Republican, suddenly there is …"
          ],
          [
           "True (sigh)"
          ],
          [
           "Finally, we get to use Elongate as scandal name. It’s kinda perfect. "
          ],
          [
           "No, it was clear that their only goal was a hit price to interfere with the Twitter acquisition. The story was written before they even talked to me."
          ],
          [
           "Exactly. Moreover, the “friend” in question who gave the interview to BI, is a far left activist/actress in LA with a major political axe to grind."
          ],
          [
           "But I have a challenge to this liar who claims their friend saw me “exposed” – describe just one thing, anything at all (scars, tattoos, …) that isn’t known by the public. She won’t be able to do so, because it never happened."
          ],
          [
           "And, for the record, those wild accusations are utterly untrue"
          ],
          [
           "The attacks against me should be viewed through a political lens – this is their standard (despicable) playbook – but nothing will deter me from fighting for a good future and your right to free speech"
          ],
          [
           "Exactly"
          ],
          [
           "I’m trying! Nice meme."
          ],
          [
           "To be clear, I’m spending &lt;5% (but actually) of my time on the Twitter acquisition. It ain’t rocket science!Yesterday was Giga Texas, today is Starbase. Tesla is on my mind 24/7.So may seem like below, but not true."
          ],
          [
           "Big update"
          ],
          [
           "Yup"
          ],
          [
           "I think I saw that boss in Elden Ring"
          ],
          [
           "Unless it is stopped, the woke mind virus will destroy civilization and humanity will never reached Mars"
          ],
          [
           "Wise words"
          ],
          [
           "Good night, sweet maestro, and flights of angels sing thee to thy rest"
          ],
          [
           "A true genius"
          ],
          [
           "It’s true haha"
          ],
          [
           "Indeed"
          ],
          [
           "I suggest no parties and just direct voting by the people of concise laws that everyone can understand"
          ],
          [
           "This is what most people in America want, but unfortunately it’s not realistic. Generally, the party with less power (currently Republicans at national level) moves more toward center to win moderate votes, so control of House/Senate/President goes back &amp; forth over time."
          ],
          [
           "For sure"
          ],
          [
           "This is a big one! Expect some two steps forward, one step back situations. These will be great ironed in point releases, hence ~10.12.2 or 10.13 for wider beta release."
          ],
          [
           "A party more moderate on all issues than either Reps or Dems would be ideal"
          ],
          [
           "I was (obv) joking at the time, but fate loves irony!"
          ],
          [
           "Judging by the relentless hatestream from the far left, this tweet was spot on"
          ],
          [
           "Yale getsin wacktivist olympics"
          ],
          [
           "Yup"
          ],
          [
           "What I love most about wacktivists is their incredible sense of humor "
          ],
          [
           "A clear case of wacktivism"
          ],
          [
           "Yup"
          ],
          [
           "Another batch of Starlinks reach orbit"
          ],
          [
           " "
          ],
          [
           "In the past I voted Democrat, because they were (mostly) the kindness party.But they have become the party of division &amp; hate, so I can no longer support them and will vote Republican.Now, watch their dirty tricks campaign against me unfold … "
          ],
          [
           "Pretty much. The dirty tricks attacks will be next-level."
          ],
          [
           "I’m not surprised at all. That was to inoculate the public. As a prominent vaccine advocate, you should understand that.Yale is the epicenter of the woke mind virus attempting to destroy civilization."
          ],
          [
           "Despite Tesla doing more for the environment than any company ever!"
          ],
          [
           "Political attacks on me will escalate dramatically in coming months"
          ],
          [
           "Yes"
          ],
          [
           ". has lost their integrity"
          ],
          [
           "Exactly"
          ],
          [
           "Insane"
          ],
          [
           "Exxon is rated top ten best in world for environment, social &amp; governance (ESG) by S&amp;P 500, while Tesla didn’t make the list!ESG is a scam. It has been weaponized by phony social justice warriors."
          ],
          [
           "ESG is an outrageous scam! Shame on"
          ],
          [
           "Even applied 2 urslf"
          ],
          [
           "Or 14 times higher than Twitter’s 5% in my case "
          ],
          [
           "So … [checks calculator] … that would be like 10 times more than 5%"
          ],
          [
           "Interesting"
          ],
          [
           "bullsh*t baffles brains"
          ],
          [
           "Yes"
          ],
          [
           "Tesla doesn’t need debt, so the rating doesn’t impact us, but it is silly"
          ],
          [
           "Twitter exec trashing free speech &amp; mocking people with Asperger’s …"
          ],
          [
           "Yes, the purpose of AI Day is to convince great AI/software/chip talent to join Tesla"
          ],
          [
           "Tesla AI Day  on Aug 19. So many cool updates!"
          ],
          [
           "Is this legit?"
          ],
          [
           "Hello  anyone home?"
          ],
          [
           "Twitter claims that &gt;95% of daily active users are real, unique humans. Does anyone have that experience?"
          ],
          [
           "The audience laughter says it all"
          ],
          [
           "Absolutely"
          ],
          [
           "Exactly"
          ],
          [
           "Interesting"
          ],
          [
           "Seems like Twitter should welcome external validation if their claims are true"
          ],
          [
           "20% fake/spam accounts, while 4 times what Twitter claims, could be *much* higher.My offer was based on Twitter’s SEC filings being accurate.Yesterday, Twitter’s CEO publicly refused to show proof of &lt;5%.This deal cannot move forward until he does."
          ],
          [
           "This transcription isn’t precise, but gets the gist of it"
          ],
          [
           "Just a scratch really"
          ],
          [
           "!"
          ],
          [
           "So how do advertisers know what they’re getting for their money? This is fundamental to the financial health of Twitter."
          ],
          [
           "Have you tried just calling them?"
          ],
          [
           "Billy is the best"
          ],
          [
           "I wonder who funds them"
          ],
          [
           "I don’t have much choice. Provided they don’t explicitly say that I endorse something, there is no legal recourse."
          ],
          [
           "It was an honor to meet at Starbase and discuss exciting future projects!"
          ],
          [
           "I hope it’s a good product!"
          ],
          [
           "Tragically, it wasn’t even oil from a snake!"
          ],
          [
           "Good move by"
          ],
          [
           "No, I interact with interesting comments that I see too, even if made by people I don’t follow"
          ],
          [
           "I’m a bot &amp; so’s my wife"
          ],
          [
           "Wow, you must be Sherlock f* Holmes.I’m joking."
          ],
          [
           "Tried TikTok, but it’s not winding my ⏰"
          ],
          [
           "Not to mention potential bugs in the code. Open source is the way to go to solve both trust and efficacy."
          ],
          [
           "I’m not suggesting malice in the algorithm, but rather that it’s trying to guess what you might want to read and, in doing so, inadvertently manipulate/amplify your viewpoints without you realizing this is happening"
          ],
          [
           "That’s a deep cut (sigh)"
          ],
          [
           "Yes, that would have a big impact!"
          ],
          [
           "With usernames like that, the bots aren’t even trying hard!"
          ],
          [
           "There is some chance it might be over 90% of daily active users, which is the metric that matters to advertisers.Very odd that the most popular tweets of all time were only liked by ~2% of daily active users."
          ],
          [
           "Exactly. I have yet to see *any* analysis that has fake/spam/duplicates at &lt;5%."
          ],
          [
           "Shame on  for shoddy reporting!"
          ],
          [
           "Iconiclaconic!platonic"
          ],
          [
           "Incredible art"
          ],
          [
           "Great shoes"
          ],
          [
           "Borderline too sexy"
          ],
          [
           "Sooo tasty at first, but then no more golden eggs …"
          ],
          [
           "The Golden State is cooking its golden geese"
          ],
          [
           "Yes"
          ],
          [
           "The Lawyers Who Ate California"
          ],
          [
           "Just another day in Elden Ring!"
          ],
          [
           "Twitter legal just called to complain that I violated their NDA by revealing the bot check sample size is 100!This actually happened."
          ],
          [
           "(This message brought to you by the Illuminaughty)"
          ],
          [
           "Very important to fix your Twitter feed:1. Tap home button.2. Tap stars on upper right of screen.3. Select “Latest tweets”.You are being manipulated by the algorithm in ways you don’t realize.Easy to switch back &amp; forth to see the difference."
          ],
          [
           "Team is working the weekend to get 10.12 in limited release tomorrow. Then we evaluate, do a point update, and broaden the release. 10.12.2 is probably where we can expand to a safety score of 95+."
          ],
          [
           "At least, that’s what the lib hivemind thinks haha"
          ],
          [
           "Whoever thought owning the libs would be cheap never tried to acquire a social media company!"
          ],
          [
           "The bots are angry at being counted "
          ],
          [
           "Any sensible random sampling process is fine. If many people independently get similar results for % of fake/spam/duplicate accounts, that will be telling.I picked 100 as the sample size number, because that is what Twitter uses to calculate &lt;5% fake/spam/duplicate."
          ],
          [
           "I relied upon the accuracy of Twitter’s public filings"
          ],
          [
           "Interesting"
          ],
          [
           "If we collectively try to figure out the bot/duplicate user percentage, we can probably crowdsource a good answer"
          ],
          [
           "Ignore first 1000 followers, then pick every 10th. I’m open to better ideas."
          ],
          [
           "Pick any account with a lot of followers"
          ],
          [
           "To find out, my team will do a random sample of 100 followers of  I invite others to repeat the same process and see what they discover …"
          ],
          [
           "The axiomatic error was that housing prices only go up. I don’t support predatory lending, but many of those lenders were severely wounded or didn’t survive. They dug their own graves – a lesson we should all take to heart, including me."
          ],
          [
           "Still committed to acquisition"
          ],
          [
           "Twitter deal temporarily on hold pending details supporting calculation that spam/fake accounts do indeed represent less than 5% of users"
          ],
          [
           "The straw war is emblematic of larger social issues"
          ],
          [
           "It still needs more work imo, but we can probably widen the beta a little next month"
          ],
          [
           "This is messed up"
          ],
          [
           "Seriously?"
          ],
          [
           "How did it even start?"
          ],
          [
           "And tastes like cardboard!"
          ],
          [
           "The last straw was the last straw!"
          ],
          [
           "Stop the war on straws!"
          ],
          [
           "But I do think that twitter should authenticate all real users and prioritize those replies above unauthenticated users"
          ],
          [
           "The drinking bleach hoax was a hoax"
          ],
          [
           "Updated Starlink availability by region"
          ],
          [
           "If Twitter can tell the difference between real and fake users, why does it allow these in our comments?"
          ],
          [
           "Exactly"
          ],
          [
           "Didn’t occur to founders of USA that people would live so long, so they put in age minimums (for wisdom), but not age maximums (for … )"
          ],
          [
           "And also younger than 8000 years old!"
          ],
          [
           " "
          ],
          [
           "Biden’s mistake is that he thinks he was elected to transform the country, but actually everyone just wanted less drama"
          ],
          [
           "Even though I think a less divisive candidate would be better in 2024, I still think Trump should be restored to Twitter"
          ],
          [
           "Don’t Diss Information"
          ],
          [
           "Disconcerting …"
          ],
          [
           "It has potential as a currency"
          ],
          [
           "Overzealous DMCA is a plague on humanity"
          ],
          [
           "Current copyright law in general goes absurdly far beyond protecting the original creator"
          ],
          [
           "The whole notion of being “left wing” or “right wing” is silly. Almost no one initially agrees with the semi-random collection of policies associated with each wing.They only support those policies *after* they join the left or right mind tribe."
          ],
          [
           "Great thread"
          ],
          [
           "Yeah"
          ],
          [
           "Tap on the stars in upper right of screen to revert to chronological"
          ],
          [
           "Chronological tweets seem much better than what “the algorithm” suggests"
          ],
          [
           "Literally true. Even 100x is possible."
          ],
          [
           "Without billions of miles of training data, solving self-driving is impossible"
          ],
          [
           "Release notes on this version will be long"
          ],
          [
           "Probably this weekend. Lot of code updates means much is discovered during testing."
          ],
          [
           "Exactly"
          ],
          [
           "Starlink has resisted Russian cyberwar jamming &amp; hacking attempts so far, but they’re ramping up their efforts"
          ],
          [
           "Important to listen to my full explanation"
          ],
          [
           "Haha "
          ],
          [
           "The Tesla China team is amazing"
          ],
          [
           "Great meeting! We are very much on the same page."
          ],
          [
           "You might be right"
          ],
          [
           "Int/Dex build, so mostly mage with some weapon skills. Shield in left hand, staff in right with rapier &amp; claws fast switch. Change armor from heavy to medium for fast roll or tank. Move talismans around a lot.Many small hits in a row to damage stack is important.Summon!"
          ],
          [
           "And we’re all descended from a skinny shrew! Meet your grandparents^n:"
          ],
          [
           "Dead Space 2, FEAR 2 and Bioshock are great"
          ],
          [
           "It is amazing. I visited in 2007 and also saw the Taj Mahal, which truly is a wonder of the world."
          ],
          [
           "Video games are scarier than any horror movie by far"
          ],
          [
           "Interesting. Don’t forget to look on the bright side of life sometimes!"
          ],
          [
           "Elden Ring vibes"
          ],
          [
           "Chocolate milk is insanely good. Just had some."
          ],
          [
           "I’d like to meet this guy (if he is real). Hard to tell with deepfakes these days."
          ],
          [
           "Like I said, my preference is to hew close to the laws of countries in which Twitter operates. If the citizens want something banned, then pass a law to do so, otherwise it should be allowed."
          ],
          [
           "Twitter obv has a strong left wing bias"
          ],
          [
           "Ok"
          ],
          [
           "There are no angels in war"
          ],
          [
           "Not be a buzzkill on this issue, but Venice itself is slowly dying due to very low birth rates"
          ],
          [
           "Thank you for the blessing, but I’m ok with going to hell, if that is indeed my destination, since the vast majority of all humans ever born will be there."
          ],
          [
           "R2-D2 vibes"
          ],
          [
           "That won’t be needed"
          ],
          [
           "Seriously, how tough are you really if can’t even handle 280 chars of criticism!?"
          ],
          [
           "Sorry! I will do my best to stay alive."
          ],
          [
           "If I die under mysterious circumstances, it’s been nice knowin ya"
          ],
          [
           "The word “Nazi” doesn’t mean what he seems to think it does"
          ],
          [
           ". sent this to Russian media"
          ],
          [
           "Happy Mother’s Day!"
          ],
          [
           "Correct"
          ],
          [
           "Yes! Stop the outrageous false ESG assessments, where Tesla gets a bad grade, but an oil company can get a good grade. Total gaming of the system!"
          ],
          [
           "At risk of stating the obvious, unless something changes to cause the birth rate to exceed the death rate, Japan will eventually cease to exist. This would be a great loss for the world."
          ],
          [
           "How to find secret doors in Elden Ring"
          ],
          [
           "Also, work ethic expectations would be extreme, but much less than I demand of myself"
          ],
          [
           "Sage advice in this thread …"
          ],
          [
           "!!"
          ],
          [
           "It just keeps happening"
          ],
          [
           "Like thrust on a !"
          ],
          [
           "Next release (10.12) is another step towards all NN’s using surround video &amp; reconciling output to a unified vector space for control code.Improves complex intersections in heavy traffic.Many upgrades to core code, so taking longer to debug issues. Probably Wed/Thurs release."
          ],
          [
           "Copycats!"
          ],
          [
           "This will trend to well over 10 times safer"
          ],
          [
           "I strongly believe that all managers in a technical area must be technically excellent. Managers in software must write great software or it’s like being a cavalry captain who can’t ride a horse!"
          ],
          [
           "We must be doing something right!"
          ],
          [
           "Haha"
          ],
          [
           "Another Starlink mission completed"
          ],
          [
           "This rumor originated from a parody account, but got picked up by real media &amp; twitter trends (sigh)"
          ],
          [
           "So much to be done on layout. Every single pixel matters. Hard problem."
          ],
          [
           "If Twitter acquisition completes, company will be super focused on hardcore software engineering, design, infosec &amp; server hardware"
          ],
          [
           "I’m a big believer in citizen journalism and following individual journalists over publications!"
          ],
          [
           "This is false. I’ve had no communication, directly or indirectly, with Trump, who has publicly stated that he will be exclusively on Truth Social."
          ],
          [
           "I didn’t ask anyone out or request particular seating"
          ],
          [
           "If that’s true, it would make me very happy!"
          ],
          [
           "Passive/index investment is simply an amplifier of active investment. If active investment signal degrades in quality, passive is proportionately impacted.Also, if there are very few actual active investors, their decisions can greatly increase company valuation volatility."
          ],
          [
           "Interesting. I wonder if those funding these organizations are fully aware of what the organizations are doing."
          ],
          [
           "I dunno … seems kinda fungible"
          ],
          [
           "Slashdot has some of the best comments"
          ],
          [
           "And that’s why I’m not in show biz"
          ],
          [
           "Awareness awakening"
          ],
          [
           "Some revenue is better than none!"
          ],
          [
           "You guys are awesome "
          ],
          [
           "Twitter will always be free for casual users, but maybe a slight cost for commercial/government users"
          ],
          [
           "Accurate"
          ],
          [
           "Here’s hoping"
          ],
          [
           "George, please slide into my DMs!"
          ],
          [
           "I will call him and ask"
          ],
          [
           "Ultimately, the downfall of the Freemasons was giving away their stonecutting services for nothing"
          ],
          [
           "Sunlight is the best disinfectant"
          ],
          [
           "Who funds these organizations that want to control your access to information? Let’s investigate …"
          ],
          [
           "Yeah, we paid for rent by turning the house into a nightclub &amp; charging $5"
          ],
          [
           "Literally 10 times higher than it should be"
          ],
          [
           "Also, as mentioned before, we will try to keep as many shareholders as legally possible in privately held Twitter!"
          ],
          [
           "Apple’s store is like having a 30% tax on the Internet. Definitely not ok."
          ],
          [
           "I was going full Looney Tunes haha"
          ],
          [
           "Tesla is now over 110k direct jobs and roughly 500k indirect, factoring in suppliers"
          ],
          [
           "Talked to an NPC with aggro==255"
          ],
          [
           "No"
          ],
          [
           "Starlink is awesome for RV’s, camping or any activity away from cities"
          ],
          [
           "That is why we must clear out bots, spam &amp; scams. Is something actually public opinion or just someone operating 100k fake accounts? Right now, you can’t tell.And algorithms must be open source, with any human intervention clearly identified.Then, trust will be deserved."
          ],
          [
           "There is so much potential with Twitter to be the most trusted &amp; broadly inclusive forum in the world!"
          ],
          [
           "Yeah, kids starting with lots of money usually have much less motivation than those who have nothing. When we started our first company (Zip2) in 95, I had over $100k of student debt, a computer I built myself and a few thousand dollars."
          ],
          [
           "They will say anything to shift support away from me. Think of it as information war, not normal dialogue."
          ],
          [
           "Time to make life multiplanetary"
          ],
          [
           "Or twitter"
          ],
          [
           "Can only read one side. Looks like “ax the itch”?"
          ],
          [
           "Making funny faces at the Met"
          ],
          [
           "I saw you trending as twitter ceo "
          ],
          [
           "Hey, why are they already writing my suicide story!?"
          ],
          [
           "As I was saying …"
          ],
          [
           "Haha "
          ],
          [
           "All’s well that’s Orwell"
          ],
          [
           "the elusive beauty of imperfection"
          ],
          [
           "That is exactly the question"
          ],
          [
           "That’s a Vanity Fair party and she photobombed me in the background, but you know that already, don’t know?"
          ],
          [
           "Where is their “client” list? Shouldn’t at least one of them go down!?"
          ],
          [
           "NBC basically saying Republicans are Nazis …"
          ],
          [
           "Will do our best"
          ],
          [
           "Sphincter valve?"
          ],
          [
           "I wonder what the world be like if Ludendorff hadn’t sent Lenin a train"
          ],
          [
           "Not true. Overwhelmingly, the world will choose batteries."
          ],
          [
           "Sell Shadow Crew merch to buy Twitter?"
          ],
          [
           "My Shadrow Crew is sickkk!Also, who are they again?"
          ],
          [
           "By mass, Earth is composed of ~32% Iron. Next most common element by mass is oxygen at ~30%, but only a small portion of that is in the atmosphere."
          ],
          [
           "An amazing example of what implanted electrodes can do, even when there are only a few large wires"
          ],
          [
           "Haha he says “Bitcoin” so many times"
          ],
          [
           "Since I’ve been asked a lot:Buy stock in several companies that make products &amp; services that *you* believe in.Only sell if you think their products &amp; services are trending worse. Don’t panic when the market does.This will serve you well in the long-term."
          ],
          [
           "Munger is correct"
          ],
          [
           "Major problem. Passive/index managers should vote in the best interests of shareholders, not shift responsibility to proxy advisory firms."
          ],
          [
           "Exactly. Right before he died, Jack Bogle (of Vanguard fame) said index/passive funds were too great a percentage of the market and he really knew what he was talking about! There should be a shift back towards active investment. Passive has gone too far."
          ],
          [
           "Exactly, decisions are being made on behalf of actual shareholders that are contrary to their interests! Major problem with index/passive funds."
          ],
          [
           "Not a bad idea"
          ],
          [
           "True"
          ],
          [
           "Authentication is important, but so is anonymity for many. A balance must be struck."
          ],
          [
           "Humans"
          ],
          [
           "No kidding …"
          ],
          [
           "Phew"
          ],
          [
           "I’ve talked to many more people who were helped by psychedelics &amp; ketamine than SSRIs &amp; amphetamines"
          ],
          [
           "Drugs, alcohol especially, have played a major role throughout history"
          ],
          [
           "A friend just emailed me about her bad Ritalin experience. Best to be cautious with all neurotransmitter drugs."
          ],
          [
           "I have not heard bad things about Ritalin, which is not good to say it’s good, just haven’t heard bad things about it"
          ],
          [
           "Wellbutrin is way worse than Adderall imo. It should be taken off the market. Every time that drug has come up in conversation, someone at the table has a suicide or near suicide story."
          ],
          [
           "You will always be my Captain"
          ],
          [
           "Adderall is an anger amplifier. Avoid at all costs."
          ],
          [
           "Antarctica, which is a massive continent, only had a human settlement ~127 years ago"
          ],
          [
           "True"
          ],
          [
           "Stop hitting on me, I’m really shy "
          ],
          [
           "No, I meant wide release to high safety score beta participants. Going to all beta participants is expected later this year."
          ],
          [
           "Update probably goes to wide release next week. This is a big one."
          ],
          [
           "True haha"
          ],
          [
           "The people of Twitter strongly agree that Twitter needs to be fixed"
          ],
          [
           "But I’m no fan of the far right either. Let’s have less hate and more love."
          ],
          [
           "The far left hates everyone, themselves included!"
          ],
          [
           "This is messed up"
          ],
          [
           "I try not to pick fights, but I do finish them"
          ],
          [
           "The car knows that something is there, just doesn’t know that they’re horses yet, but it will. Dogs, cats and many other animals will also be recognized."
          ],
          [
           "I strongly supported Obama for President, but today’s Democratic Party has been hijacked by extremists"
          ],
          [
           "No further TSLA sales planned after today"
          ],
          [
           "“Real magic is only a sip away.”(Actual slogan of Coca-Cola!!) "
          ],
          [
           ". Oh hi lol"
          ],
          [
           "Same"
          ],
          [
           "Freedom of speech means freedom of speech"
          ],
          [
           "Discomforting"
          ],
          [
           "Accurate interview"
          ],
          [
           "FCC FTW!"
          ],
          [
           "Sounds like satire"
          ],
          [
           "Great show!"
          ],
          [
           "Trumpet is legit a way better name"
          ],
          [
           "Listen, I can’t do miracles ok"
          ],
          [
           "Let’s make Twitter maximum fun!"
          ],
          [
           "Kicks Red Bull’s ass!"
          ],
          [
           "Some sci-fi that actually features sci-fi would be great"
          ],
          [
           "Next I’m buying Coca-Cola to put the cocaine back in"
          ],
          [
           "Twitter DMs should have end to end encryption like Signal, so no one can spy on or hack your messages"
          ],
          [
           "Attacks are coming thick and fast, primarily from the left, which is no surprise, however I should be clear that the right will probably be a little unhappy too.My goal is to maximize area under the curve of total human happiness, which means the ~80% of people in the middle."
          ],
          [
           "Vegas Boring Co tunnel"
          ],
          [
           "What are talking about? I’m just saying Twitter needs to be politically neutral."
          ],
          [
           "For Twitter to deserve public trust, it must be politically neutral, which effectively means upsetting the far right and the far left equally"
          ],
          [
           "The Washington Post targets me relentlessly! Their insults could be higher quality, but some are not bad. I gave them 3 stars on Yelp."
          ],
          [
           "Almost every media outlet on Earth wrote about me acquiring Twitter, causing a massive influx of new users"
          ],
          [
           "Yeah, I noticed that too. Pretty weird."
          ],
          [
           "Should be called Trumpet instead!"
          ],
          [
           "Truth Social (terrible name) exists because Twitter censored free speech"
          ],
          [
           "Truth Social is currently beating Twitter &amp; TikTok on the Apple Store"
          ],
          [
           "Sounds pretty bad …"
          ],
          [
           "Suspending the Twitter account of a major news organization for publishing a truthful story was obviously incredibly inappropriate"
          ],
          [
           "Per aspera ad astra!"
          ],
          [
           "Raptor 2 rocket engines at Starbase, each producing over half a million pounds (230 tons) of force"
          ],
          [
           "By “free speech”, I simply mean that which matches the law. I am against censorship that goes far beyond the law. If people want less free speech, they will ask government to pass laws to that effect.Therefore, going beyond the law is contrary to the will of the people."
          ],
          [
           "The extreme antibody reaction from those who fear free speech says it all"
          ],
          [
           "Can someone please give the NPCs a bigger dialogue tree!?"
          ],
          [
           " Yesss!!! "
          ],
          [
           "I hope that even my worst critics remain on Twitter, because that is what free speech means"
          ],
          [
           "And be my love in the rain"
          ],
          [
           "The Instagram curse: Water everywhere, yet always thirsty."
          ],
          [
           "I do love humanity"
          ],
          [
           "The San Francisco office of the SEC were shameless puppets of Wall St shortseller sharks, while doing nothing to protect actual shareholders. That is why I lost all respect for them."
          ],
          [
           "The head of Saudi PIF committed unequivocally to take Tesla private with me, as witnessed by the Tesla CFO and several others. That is why I said funding was secured."
          ],
          [
           "Yup"
          ],
          [
           "Underground tunnels are immune to surface weather conditions (subways are a good example), so it wouldn’t matter to Hyperloop if a hurricane was raging on the surface. You wouldn’t even notice."
          ],
          [
           "In the coming years, Boring Co will attempt to build a working Hyperloop. From a known physics standpoint, this is the fastest possible way of getting from one city center to another for distances less than ~2000 miles. Starship is faster for longer journeys."
          ],
          [
           "Next beta release has many improvements, especially for complex left turns &amp; heavy traffic"
          ],
          [
           "Strange how these things are bucketed. I think of the whole company as being R&amp;D."
          ],
          [
           "First one definitely, second is nice to have and third isn’t needed imo"
          ],
          [
           "Tunnels anyone?"
          ],
          [
           "Drug naming conventions are so ridiculous! Does someone just literally have a random syllable generator!?"
          ],
          [
           "(from making fun of Gates for shorting Tesla while claiming to support climate change action)"
          ],
          [
           "Getting there"
          ],
          [
           "Definitely. Might be less than 5 years away, as current version Neuralinks are semi-generalized neural read/write devices with ~1000 electrodes and tinnitus  probably needs &lt;&lt;1000.Future gen Neuralinks will increase electrode count by many orders of magnitude."
          ],
          [
           "In the meantime, semaglutide (aka Ozempic/Rybelsus) appears to be effective in appetite control with minor side effects"
          ],
          [
           "Yes"
          ],
          [
           "Current generation Neuralinks can help to some degree, but an advanced case of Alzheimers often involves macro degeneration of the brain. However, Neuralinks should theoretically be able restore almost any functionality lost due *localized* brain damage from stroke or injury."
          ],
          [
           "!"
          ],
          [
           "If you’ve engineered or manufactured smart watches or phones, please join Neuralink! Your skills are directly applicable."
          ],
          [
           "It is an electronics/mechanical/software engineering problem for the Neuralink device that is similar in complexity level to smart watches (which are not easy!), plus the surgical robot, which is comparable to state-of-the art CNC machines.No need for AI/ NN/ML quite yet."
          ],
          [
           "Certainly physically possible. We’re working on bridging broken links between brain &amp; body.Neuralinks in motor &amp; sensory cortex bridging past weak/broken links in neck/spine to Neuralinks in spinal cord should theoretically be able to restore full body functionality."
          ],
          [
           "Moving on …"
          ],
          [
           "Also, epic printer scene in Office Space"
          ],
          [
           "Your new title at Block is "
          ],
          [
           "Yeah"
          ],
          [
           "ESG ratings make no sense"
          ],
          [
           "Elden Ring is incredible, but why are extremely gory death/murder scenes ok, but panties get you banned!?"
          ],
          [
           " also why are there still printers?"
          ],
          [
           "Tesla China is doing incredible work"
          ],
          [
           "shadow ban council reviewing tweet …"
          ],
          [
           "in case u need to lose a boner fast"
          ],
          [
           "Yeah, but I didn’t leak it to NYT. They must have got it through friends of friends. I heard from multiple people at TED that Gates still had half billion short against Tesla, which is why I asked him, so it’s not exactly top secret."
          ],
          [
           "FSD is best in Bay Area, given engineering mostly lives there, but rest of country will soon be at that level"
          ],
          [
           "Something like that"
          ],
          [
           "Good list"
          ],
          [
           "Yes"
          ],
          [
           "So many “verified” scam crypto bots!"
          ],
          [
           "I will verify you. The current process for verification is like if Kafka had a Magic 8-Ball!"
          ],
          [
           "I wish we did. Would be better for making life multiplanetary."
          ],
          [
           "What is best in life?"
          ],
          [
           "The Barbarians are at the Gate"
          ],
          [
           "The real tragedy is that tie I’m wearing!"
          ],
          [
           "That number should probably be on my gravestone at this point"
          ],
          [
           "Yes"
          ],
          [
           "Believe in the future"
          ],
          [
           "Tesla is really a dozen or more startups if you look at all the things created from scratch that aren’t present in other car companies"
          ],
          [
           "Starlink satellites deployed into initial parking orbit"
          ],
          [
           "And authenticate all real humans"
          ],
          [
           "Indeed (heavy sigh)"
          ],
          [
           "If our twitter bid succeeds, we will defeat the spam bots or die trying!"
          ],
          [
           "Such a joy to work with amazingly talented people at SpaceX, Tesla, Neuralink &amp; Boring Co!"
          ],
          [
           "Diess deserves a lot of credit for moving VW rapidly towards electrification. They’re lucky to have him."
          ],
          [
           "My true moral error was creating Tesla &amp; SpaceX at same time, while avoiding general mgmt chores at Tesla (focusing only on product &amp; engineering). Tried to have my cake &amp; eat it too, which failed."
          ],
          [
           "Agreed. I wish JB &amp; I had just moved forward to commercialize the Tzero without adding other partners. In the end, that’s what happened anyway."
          ],
          [
           "Resistance is futile"
          ],
          [
           "The esthetics of the new rendering will improve"
          ],
          [
           "SNL is so rarely funny these day (sigh)"
          ],
          [
           "Making rocket reuse normal is the goal"
          ],
          [
           "Always look on the bright side of life"
          ],
          [
           "Maybe JB would be up for that too. He deserves a lot of credit (as do many longtime Tesla people)."
          ],
          [
           "Ok sure"
          ],
          [
           "Yes"
          ],
          [
           "The failures are mine, the successes belong to others"
          ],
          [
           "I should, but that would take a lot of time away from Tesla, SpaceX &amp; other work. Walter Isaacson is writing a book."
          ],
          [
           "Exactly"
          ],
          [
           "I put in all I had, whereas Eberhard, who was worth over $10M at the time, refused to invest a penny to help Tesla. If it was really his baby, he would never have stood by while it starved to death."
          ],
          [
           "But if he was actually capable of creating a company like Tesla, he would have done so after he was fired for lying outrageously about cost &amp; progress of Roadster in mid 2007.We would’ve lost at least a few talented people if he was the real deal, but we lost no one."
          ],
          [
           "Eberhard has been relentlessly pushing a false narrative about Tesla for 15 years. He’s a compelling liar. Fooled me for almost 3 years."
          ],
          [
           "They say history is written by the victors, but not on Wikipedia if the losing party is still alive &amp; has lots of time on their hands!"
          ],
          [
           "When Eberhard was fired unanimously by the board in July 2007 (for damn good reasons), no one left with him. That says it all."
          ],
          [
           "If filing a shell corp constitutes “founding a company”, then I’d be the only founder of PayPal, since I filed the original incorporation docs for  (later renamed PayPal), but that’s not what founding means."
          ],
          [
           "Not even close to that. It was a shell corp with no employees, no IP, no designs, no prototype, literally nothing but a biz plan to commercialize AC Propulsion’s Tzero car, which was introduced to me by JB Straubel, *not* Eberhard. Even name “Tesla Motors” was owned by others!"
          ],
          [
           "Please consider working at The Boring Company! Our goal is to solve traffic, which plagues every major city on Earth."
          ],
          [
           "Hopefully, I didn’t say too many dumb things"
          ],
          [
           "Tesla opex is embarrassingly high imo!"
          ],
          [
           "$1T valuation with $0 advertising spend"
          ],
          [
           "Does it accurately portray software engineers?"
          ],
          [
           "Yeah"
          ],
          [
           "Yes"
          ],
          [
           "Had to been done"
          ],
          [
           "_______ is the Night"
          ],
          [
           "Can they please just make sci-fi/fantasy at least *mostly* about sci-fi/fantasy?"
          ],
          [
           "True"
          ],
          [
           "I love Pinball Wizard!"
          ],
          [
           "Absolutely"
          ],
          [
           "Yes"
          ],
          [
           "The woke mind virus is making Netflix unwatchable"
          ],
          [
           "A social media platform’s policies are good if the most extreme 10% on left and right are equally unhappy"
          ],
          [
           "Extremely concerning. Who is pushing this censorship/deplatforming? Very shadowy."
          ],
          [
           "SpaceX Falcon team making great progress! Aiming for 5 day launch cadence with many performance &amp; refurb improvements."
          ],
          [
           "Why, thank you, sir!"
          ],
          [
           "Board salary will be $0 if my bid succeeds, so that’s ~$3M/year saved right there"
          ],
          [
           "Since he is consistently wrong, it should be possible to do quite well simply by doing the opposite of what he recommends"
          ],
          [
           "I feel it’s important that one’s hat also have a hat. Long-standing belief."
          ],
          [
           "I used to be such a snappy dresser!"
          ],
          [
           "I think my clothes are too big for me"
          ],
          [
           "I love it, sign me up"
          ],
          [
           "Sounds high"
          ],
          [
           "I should probably stop cutting my own hair haha"
          ],
          [
           "Good interview"
          ],
          [
           "Happy Easter!"
          ],
          [
           "Smooth landing video"
          ],
          [
           "Based on feedback received, we will drop mobile connector price to $200 &amp; make it easy to order with car. Note, mobile connector is not needed if you have a Tesla wall connector or to use Superchargers.Recommend installing Tesla wall connector well before car arrives."
          ],
          [
           "In fairness to the Twitter board, this might be more of a concern about other potential bidders vs just me"
          ],
          [
           "Usage statistics were super low, so seemed wasteful. On the (minor) plus side, we will be including more plug adapters with the mobile connector kit."
          ],
          [
           " Love Me Tender "
          ],
          [
           "Wow, with Jack departing, the Twitter board collectively owns almost no shares! Objectively, their economic interests are simply not aligned with shareholders."
          ],
          [
           "Civilization, as defined by the invention of writing, is only ~5500 years old"
          ],
          [
           "!"
          ],
          [
           "Indeed"
          ],
          [
           "Thanks for teaching me so much about rocket engines!"
          ],
          [
           "My most immediate takeaway from this novella of a thread is that Twitter is *way* overdue for long form tweets!"
          ],
          [
           "Thanks for the support!"
          ],
          [
           "Exactly, block size &amp; time should keep pace with the rest of the Internet"
          ],
          [
           "As I was saying …"
          ],
          [
           "6 seconds, better said as 6000 milliseconds, which is a long time to computers, is about right"
          ],
          [
           "iu"
          ],
          [
           "If the current Twitter board takes actions contrary to shareholder interests, they would be breaching their fiduciary duty. The liability they would thereby assume would be titanic in scale."
          ],
          [
           "Good question"
          ],
          [
           "Taking Twitter private at $54.20 should be up to shareholders, not the board"
          ],
          [
           "Absolutely. It would be utterly indefensible not to put this offer to a shareholder vote. They own the company, not the board of directors."
          ],
          [
           "Interesting. Just two questions, if I may. How much of Twitter does the Kingdom own, directly &amp; indirectly?What are the Kingdom’s views on journalistic freedom of speech?"
          ],
          [
           "Will endeavor to keep as many shareholders in privatized Twitter as allowed by law"
          ],
          [
           "I made an offer"
          ],
          [
           "Great idea"
          ],
          [
           "Coming soon"
          ],
          [
           "Exciting times ahead"
          ],
          [
           "Disconnected from what it takes to make stuff"
          ],
          [
           "I’m serious about this one btw"
          ],
          [
           "Exactly"
          ],
          [
           "Price should probably be ~$2/month, but paid 12 months up front &amp; account doesn’t get checkmark for 60 days (watch for CC chargebacks) &amp; suspended with no refund if used for scam/spam"
          ],
          [
           "It should go away or scammers will game the system by signing up only for a few months"
          ],
          [
           "Maybe even an option to pay in Doge?"
          ],
          [
           "Yes, should be proportionate to affordability &amp; in local currency"
          ],
          [
           "Exactly. It would massively expand the verified pool &amp; make bot armies too expensive to maintain."
          ],
          [
           "You will get it back, even though you shorted Tesla, you bastard "
          ],
          [
           "Weather is fake. I seen Truman Show!"
          ],
          [
           "The resemblance is uncanny"
          ],
          [
           "As the saying goes, when the government first prints money, everyone feels like a winner, but in the end no one does"
          ],
          [
           "Fake news purveyors would have hysterics, but a ratings system would improve quality of news greatly"
          ],
          [
           "All of Earth is a tiny dust mote compared to the Sun"
          ],
          [
           "Yes"
          ],
          [
           ". is "
          ],
          [
           "69.420% of statistics are false"
          ],
          [
           "Truth is the first casualty."
          ],
          [
           "Yeah"
          ],
          [
           "Absolutely"
          ],
          [
           "Now subtract crypto scam accounts that twitter constantly shows as “real” people in everyone’s feed"
          ],
          [
           "And  only posted once this entire year"
          ],
          [
           "For example,  hasn’t posted anything in 3 months"
          ],
          [
           "Most of these “top” accounts tweet rarely and post very little content. Is Twitter dying?"
          ],
          [
           "Interesting"
          ],
          [
           "Lmaooo"
          ],
          [
           "It’s a real problem"
          ],
          [
           "We have some cool ideas for sustainable lithium extraction &amp; refinement"
          ],
          [
           "True"
          ],
          [
           "Price of lithium has gone to insane levels! Tesla might actually have to get into the mining &amp; refining directly at scale, unless costs improve.There is no shortage of the element itself, as lithium is almost everywhere on Earth, but pace of extraction/refinement is slow."
          ],
          [
           "Team did amazing work!"
          ],
          [
           "I mean … that’s a lot of hamsters "
          ],
          [
           "Smooth video courtesy of bolting Starlinks to the deck. They are able to handle high vibration &amp; acoustics."
          ],
          [
           "Master Chief would love it haha"
          ],
          [
           "Flight-proven!"
          ],
          [
           "Great work by Tesla Texas Team!!Built &amp; delivered first Giga Texas production cars &amp; threw a killer opening party  "
          ],
          [
           "Show starts in ~20 mins"
          ],
          [
           "Cool!"
          ],
          [
           "The door won’t be super strict"
          ],
          [
           "Preparing …"
          ],
          [
           "I will give a talk around 9"
          ],
          [
           " Gigafactory Texas Grand opening party tomorrow!Doors open at 4, festivities at 8"
          ],
          [
           "Great games"
          ],
          [
           "No sale took place. Initial share number filed was incorrect."
          ],
          [
           "…"
          ],
          [
           "Increasingly likely that the Tesla vehicle computer will be able to process 288 FPS (36 Hz * 8 cameras)"
          ],
          [
           "10.12 will significantly improve unprotected left turns"
          ],
          [
           "The power used by humans is so tiny compared to how much power from the Sun reaches Earth!Solar power is ~1GW per sq km. At current solar efficiency, net electrical power is ~200 MW per square km.The entire United States can be powered by a small corner of Texas."
          ],
          [
           "Yikes"
          ],
          [
           "WaPo always good for a laugh "
          ],
          [
           "Thanks Jack!"
          ],
          [
           "Looking forward to working with Parag &amp; Twitter board to make significant improvements to Twitter in coming months!"
          ],
          [
           "Yeah, single most annoying problem on twitter imo"
          ],
          [
           "That sounds reasonable"
          ],
          [
           "Facebook gives me the willies"
          ],
          [
           "That is harder than a boss battle in DS3!"
          ],
          [
           "I mean, if the people vote overwhelmingly for something, it is at least *a* data point!"
          ],
          [
           "Do you want an edit button?"
          ],
          [
           "Staggeringly unfunny"
          ],
          [
           "First I’ve learned of this. Will be patched shortly."
          ],
          [
           "Yes!"
          ],
          [
           "Spain should build a massive solar array. Could power all of Europe."
          ],
          [
           "Oh hi lol"
          ],
          [
           "Berlin rocks"
          ],
          [
           "Raptor pump power is over 100MW per engine &amp; 33 engines, means over 3GW. Not even remotely possible for electric motors &amp; batteries to compete."
          ],
          [
           "We aim for 30% GM or ~10% profitability, all costs included"
          ],
          [
           "Good summary"
          ],
          [
           "George Lucas once told me that the only reason Star Wars got made is because the old studio heads died"
          ],
          [
           "Old people don’t change their minds, with rare exception, they just die. Without death, there would not be change."
          ],
          [
           "I am inspired by curiosity. That is what drives me. So let us expand the scope &amp; scale of consciousness so that we may aspire to understand the Universe."
          ],
          [
           "There will come a time in the future where people will be surprised that we let practically anyone drive a 2 ton death machine anywhere they want"
          ],
          [
           "Peace. Peace?  I hate the word. Those who do care about peace (myself aspirationally included) don’t need to hear it. And those who don’t care about peace? Well …"
          ],
          [
           "I look kinda dumb in that pic haha"
          ],
          [
           "And Shakespeare had no surviving descendants"
          ],
          [
           "I am increasingly convinced that corporate ESG is the Devil Incarnate"
          ],
          [
           "He never had even one kid "
          ],
          [
           "Seriously. One of them might been Einstein!"
          ],
          [
           "Константи́н Циолко́вский"
          ],
          [
           "I’m talking about not having kids in the first place. That’s the problem."
          ],
          [
           "But we should"
          ],
          [
           "Humanity did not evolve to mourn the unborn"
          ],
          [
           "Exactly"
          ],
          [
           "They wrote PEACE on the wall at Berghain! I refused enter."
          ],
          [
           "This might be gearing up to be literally the biggest party on Earth"
          ],
          [
           "This was an *exceptionally* difficult quarter due to supply chain interruptions &amp; China zero Covid policy.Outstanding work by Tesla team &amp; key suppliers saved the day."
          ],
          [
           "Just show her this video explains everything"
          ],
          [
           "True"
          ],
          [
           "To think I grew up 2b bizniz magnet "
          ],
          [
           "Yes, but we take a very cautious approach to safety. As we confirm functionality on Canadian roads, the beta will expand."
          ],
          [
           "Will take of it"
          ],
          [
           "You may be in an area that is at maximum capacity. Did SpaceX not provide an unsubscribe warning?"
          ],
          [
           "Ok"
          ],
          [
           "Canada requires charging by the minute vs kWh. We’re working to get that changed."
          ],
          [
           "Will find out. Our aspiration is just to make a modest return vs the fully-considered price of Supercharging."
          ],
          [
           "Good point. SpaceX &amp; Tesla would probably have died, since both narrowly escaped bankruptcy in 2008."
          ],
          [
           "Sustainable energy generation from sun &amp; wind is making great progress!"
          ],
          [
           "SpaceX will do the right thing for OneWeb, even though they are a competitor"
          ],
          [
           "FSD Beta should be available in Europe for LHD this summer, RHD a few months later. These dates depend on regulatory approval."
          ],
          [
           "I mean we’re basically identical – a few differences maybe …"
          ],
          [
           "The UAW stole millions from workers, whereas Tesla has made many workers millionaires (via stock grants). Subtle, but important difference."
          ],
          [
           "UAW slogan – “Fighting for the right to embezzle money from auto workers!”"
          ],
          [
           "“Don’t try this at home”"
          ],
          [
           "Original Halo &amp; Smash Bros, but thumb joysticks give me the willies"
          ],
          [
           "Some people use meditation or yoga to calm their mind at the end of the day, but video games on hardcore mode work best for me"
          ],
          [
           "I suppose it would be Elden Ring. Finished Halo Infinite on legendary, which was not easy for my ancient neurons!Terminator: Resistance is underrated, although the machines will be *much* better than this &amp; have 360 deg long-range FoV (sigh).Cyberpunk is brilliant."
          ],
          [
           "Played some &amp; will continue. I use  &amp; ⌨, which is suboptimal, but ok with remapping.Art is incredible, story is good, altho I’m still confused about what’s going on haha. Nonlinear play style &amp; no spoon-feeding are cool."
          ],
          [
           "Going out tonight for 99 scores"
          ],
          [
           "Haha fine, I probably don’t disagree with you, but even if I did then still!!"
          ],
          [
           "I disagree with you, but I disagree with deleting your stuff even more. That’s what free speech is about."
          ],
          [
           "Starlink  team too! Expecting over 4200 Starlink satellites in operation within 18 months, which is ~2/3 of all active satellites of Earth."
          ],
          [
           "Amazing what a zillion tiny cannonballs can do!"
          ],
          [
           "Maybe this year isn’t out of the question …"
          ],
          [
           "Haha that’s next year"
          ],
          [
           "SpaceX Falcon  team is making excellent progress – aiming for 60 launches this year!"
          ],
          [
           "We’ve all been there"
          ],
          [
           "Covid-19 is the virus of Theseus.How many gene changes before it’s not Covid-19 anymore?I supposedly have it again (sigh), but almost no symptoms."
          ],
          [
           "The Washington Post’s current slogan is “Democracy Dies in Darkness”. Catchy – for sure – but then what’s up with the paywall for news!?"
          ],
          [
           "Ah yes, I see they decided to editorialize. Here’s what I actually said:"
          ],
          [
           "tick tock"
          ],
          [
           "I usually drive an alpha build, but switch to beta right before release so I know what Tesla owners are getting"
          ],
          [
           "TikTok feels like such an obvious AI attack that it’s annoying. I prefer to be attacked by AI with subtlety – maybe a rose, some candles, wine, Barry White, witty banter, that sort of thing …"
          ],
          [
           "Seize the memes of production!"
          ],
          [
           "Toronto streetcars are not yet handled well by FSD. Btw,  is on a ~4 month sabbatical."
          ],
          [
           "Funny to think that sapphire is just corroded aluminum!"
          ],
          [
           "I just did. Now what?"
          ],
          [
           "This is pretty good. 10.12 will have major improvements for tricky unprotected lefts &amp; heavy traffic in general. We’re also making good progress with single stack."
          ],
          [
           "Looking into it"
          ],
          [
           "Am giving serious thought to this"
          ],
          [
           "True"
          ],
          [
           "Haha that would sickkk"
          ],
          [
           "Doesn’t sound very balanced"
          ],
          [
           "Is a new platform needed?"
          ],
          [
           "Given that Twitter serves as the de facto public town square, failing to adhere to free speech principles fundamentally undermines democracy. What should be done?"
          ],
          [
           "Especially seek negative feedback"
          ],
          [
           "As predicted"
          ],
          [
           "Starlink, at least so far, has resisted all hacking &amp; jamming attempts"
          ],
          [
           "Sigh"
          ],
          [
           " especially crypto spam!!"
          ],
          [
           "True"
          ],
          [
           "The consequences of this poll will be important. Please vote carefully."
          ],
          [
           "I would gladly follow the directions of the chemtrails masterminds, but I can’t figure out what they’re saying!"
          ],
          [
           "Free speech is essential to a functioning democracy.Do you believe Twitter rigorously adheres to this principle?"
          ],
          [
           "Easily"
          ],
          [
           "Old, but good"
          ],
          [
           "Most people think the fruit was named after the color (fools!)"
          ],
          [
           "The movie Gaslight has gaslit so many people it’s insane"
          ],
          [
           " NASA "
          ],
          [
           "You mean email?"
          ],
          [
           "Twitter algorithm should be open source"
          ],
          [
           "The algorithm needs to be open source"
          ],
          [
           "I’m worried about de facto bias in “the Twitter algorithm” having a major effect on public discourse. How do we know what’s really happening?"
          ],
          [
           "True. And even a 10% reduction in g would make reaching orbit relatively easy."
          ],
          [
           " Danke Deutschland!! "
          ],
          [
           "New"
          ],
          [
           "  "
          ],
          [
           "First Starship orbital flight will be with Raptor 2 engines, as they are much more capable &amp; reliable. 230 ton or ~500k lb thrust at sea level.We’ll have 39 flightworthy engines built by next month, then another month to integrate, so hopefully May for orbital flight test."
          ],
          [
           "SpaceX default plan was ~65% of global launch mass to orbit this year. Incremental demand might take that to ~70%, so not a major change. Those numbers don’t count Starship.Rough math is ~16 tons * 50 launches = 800 tons. Rest of world is &lt;400 tons (mostly China)."
          ],
          [
           "Makes a huge difference to capital efficiency to localize production within a continent"
          ],
          [
           "Excited to hand over the first production cars made by Giga Berlin-Brandenburg tomorrow!"
          ],
          [
           "Ok, maybe I should play League then"
          ],
          [
           "Main Tesla subjects will be scaling to extreme size, which is needed to shift humanity away from fossil fuels, and AI.But I will also Include sections about SpaceX, Tesla and The Boring Company."
          ],
          [
           "Managed to throw him, but it cost me smashing my c5-c6 disc &amp; 8 years of mega back pain! Finally fixed with c5-c6 disc fusion."
          ],
          [
           "Working on it"
          ],
          [
           "Giga Berlin-Brandenburg will be covered with beautiful art, inside and out"
          ],
          [
           "The six seat Model X is best imo. There are times when I only want to offer that variant."
          ],
          [
           "Also the heaviest Falcon 9 payload at 16.25 metric tons"
          ],
          [
           "As it ends the cycle of retribution"
          ],
          [
           "The limbic instinct for vengeance is incredibly strong, which is why turn the other cheek is such a powerful idea"
          ],
          [
           "Absolutely"
          ],
          [
           "True. That was mega pain."
          ],
          [
           "But reaching volume production with sustained positive cash flow was last achieved by an American car company, Chrysler, ~100 years ago!Ford &amp; Tesla are the only American car companies to avoid bankruptcy. Even GM &amp; Chrysler went bankrupt in 2009."
          ],
          [
           "Prototypes are easy, production is hard. Making an electric car was not the hard part of Tesla – dozens of companies have done that."
          ],
          [
           "Good point. Politicians &amp; political parties should be supported on their merits, not like they are one’s favorite sports team."
          ],
          [
           "With so many mainstream media companies saying  is crazy/dangerous, I watched some of his videos. Ironically, he seemed more balanced &amp; insightful than those condemning him!The groupthink among major media companies is more troubling. There should be more dissent."
          ],
          [
           "FSD releasing to Canada next week"
          ],
          [
           "Yeah :)"
          ],
          [
           "I have so much respect for the associates doing an honest day’s work at Tesla or SpaceX building &amp; servicing cars, rockets, Starlinks, batteries, solar &amp; many other things"
          ],
          [
           "Working hard to make useful products &amp; services for your fellow humans is deeply morally good"
          ],
          [
           "Working on Master Plan Part 3"
          ],
          [
           "Took us way too long"
          ],
          [
           "2029"
          ],
          [
           "True, I do support the current thing haha!"
          ],
          [
           "Yeah"
          ],
          [
           "Hardcore"
          ],
          [
           "They have no idea how hard FSD is. Only path to success imo is hardcore real-world AI software with dedicated NN inference acceleration ASICs in car, multibillion dollar NN training supercluster and 10+ billion miles of vehicle data. Good luck."
          ],
          [
           "Thank you for the offer, but such excellent training would give me too much of an advantage. If he is afraid to fight, I will agree to use only my left hand and I am not even left-handed.Elona"
          ],
          [
           "Telegram post by Ramzan Kadyrov, head of Chechen Republic!"
          ],
          [
           "Congrats!"
          ],
          [
           " Starlink "
          ],
          [
           "And … um … [flicks wrist] we should form a book club.“Дура с сердцем и без ума такая же несчастная дура, как и дура с умом без сердца.”Федор Достоевский, Идиот"
          ],
          [
           "Ok :)"
          ],
          [
           "He can even bring his bear"
          ],
          [
           "I see you are a tough negotiator!Ok, you can have 10% more pay per view money."
          ],
          [
           "Congratulations SpaceX team for all that you have accomplished!"
          ],
          [
           "One day …"
          ],
          [
           "Yeah, I did manage to throw the world champion sumo wrestler, but at the cost of smashing a disc in my neck that caused me insane back pain for 7 years!"
          ],
          [
           "Pretty much"
          ],
          [
           "Вы согласны на этот бой?"
          ],
          [
           "I am absolutely serious"
          ],
          [
           "это было бы честью"
          ],
          [
           "I hereby challengeВладимир Путин to single combatStakes are Україна"
          ],
          [
           "By the pricking of my thumbs …"
          ],
          [
           "There is a beauty to the biological substrate"
          ],
          [
           "As a general principle, for those looking for advice from this thread, it is generally better to own physical things like a home or stock in companies you think make good products, than dollars when inflation is high.I still own &amp; won’t sell my Bitcoin, Ethereum or Doge fwiw."
          ],
          [
           "It is not entirely unpredictable that you would reach that conclusion"
          ],
          [
           "Model S &amp; X are sublime"
          ],
          [
           "And we are not alone"
          ],
          [
           "Tesla &amp; SpaceX are seeing significant recent inflation pressure in raw materials &amp; logistics"
          ],
          [
           "If this version performs well, we can probably lower min safety score to 95"
          ],
          [
           "Vector lanes is a particularly significant architectural improvement to Tesla AI"
          ],
          [
           "What are your thoughts about probable inflation rate over next few years?"
          ],
          [
           "Always worth reading about the many civilizations that have risen and fallen … lessons we should take to heart. There is danger to a “United Earth” in that it may result in a collective fall or ossification of civilization."
          ],
          [
           "The Story of Civilization, especially books 2 &amp; 11"
          ],
          [
           "Insightful analysis, ensconced in eloquent prose"
          ],
          [
           "Fifteen Decisive Battles of the World"
          ],
          [
           "Cereal, but maybe I’ve been doing it wrong all this time. I know it’s bad for you, but sugared cereal is amazing."
          ],
          [
           "Me encanta el mariachi!"
          ],
          [
           "The Forbidden Cereal "
          ],
          [
           "Little do they know, birds aren’t real!"
          ],
          [
           "What if one atom at a time in your body was switched out for another atom? There would be you with all new atoms and another you with the original atoms – Human of Theseus."
          ],
          [
           "This weekend"
          ],
          [
           "You’re welcome. We have also sent power adapters for car cigarette lighters, solar/battery packs and generators for places where electricity is not available."
          ],
          [
           "Optimized, fully-reusable Starship is ~150t to same reference orbit as Saturn V. In expendable mode, Starship payload would be 250t to 300t."
          ],
          [
           "In our experience, COPV gain/pain flattens out above 6000 psi and is &lt;1 above 10,000 psi, unless volume constrained like Dragon. Heating from pressurization &amp; cooling from depressurization also become major problems at very high pressure."
          ],
          [
           "There is no direct evidence of that ad being run, but that does sum up the sales pitch. It is mind-blowing that he &amp; his crew *rowed* to a whaling station from the Antarctic!"
          ],
          [
           "Very important that there be an organization tasked with regulation removal or the number of rules will grow every year until progress is completely buried by bureaucracy!"
          ],
          [
           "Wow"
          ],
          [
           "Another 48 Starlinks just reached orbit"
          ],
          [
           "Cool"
          ],
          [
           "ESG should be deleted if not fixed"
          ],
          [
           "ESG rules have been twisted to insanity"
          ],
          [
           "Another Starlink launch tomorrow"
          ],
          [
           "You are my favorite hello,And my hardest goodbye."
          ],
          [
           "It was an honor"
          ],
          [
           "Also nuclear is vastly better for global warming than burning hydrocarbons for energy"
          ],
          [
           "For those who (mistakenly) think this is a radiation risk, pick what you think is the worst location. I will travel there &amp; eat locally grown food on TV.I did this in Japan many years ago, shortly after Fukushima. Radiation risk is much, much lower than most people believe."
          ],
          [
           "Hopefully, it is now extremely obvious that Europe should restart dormant nuclear power stations and increase power output of existing ones. This is *critical* to national and international security."
          ],
          [
           "Aquarion and Polaris"
          ],
          [
           "Self-driving car will amplify traffic to insane levels, as you won’t feel the pain of driving yourself"
          ],
          [
           "Yeah"
          ],
          [
           "Yup"
          ],
          [
           "Defeating traffic is the ultimate boss battle. Even the most powerful humans in the world cannot defeat traffic."
          ],
          [
           "Cool!"
          ],
          [
           "Polytopia is *way* better imo, if you like strategy games"
          ],
          [
           "Chess is a simple game. Understandable when all we had to play with were squirrels  and  rocks, but now we have computers ."
          ],
          [
           "."
          ],
          [
           "Basic appliances should not connect to the Internet or have significant compute power or they will/are/have obviously be turned into an army of ddos puppets"
          ],
          [
           "Maybe Tesla should make an AI vision device that plugs into these legacy traffic lights. It could just look at traffic &amp; automatically maximize throughput."
          ],
          [
           "Beta 10.12 probably releases Tuesday in US and Friday in Canada"
          ],
          [
           "Terminator Resistance is a good game"
          ],
          [
           "Even some of the best AI software engineers in the world don’t realize how advanced Tesla AI has become"
          ],
          [
           "We are almost at the point where interventions are so rare on city streets that we can turn our attention to applying the code to highways. No point in doing so until passing that threshold."
          ],
          [
           "Increased oil &amp; gas production in the short term is critical or people around the world will be placed under great duress. This is not a question of money, it is a question of having enough energy to power civilization."
          ],
          [
           "To be clear, SpaceX wasn’t given $1.5B – we were given a contract for cargo delivery to &amp; from Space Station that would amount to $1.5B if successful"
          ],
          [
           "My old delta-v mug!"
          ],
          [
           "Pshaw, how pedestrian! I was thinking more … space dragons with “lasers”"
          ],
          [
           "Alternate name for our company was Faraday, who invented the electric motor, whereas Nikola Tesla invented the AC induction motor"
          ],
          [
           "In a way, this is free QA haha"
          ],
          [
           "A beautiful home for life"
          ],
          [
           "Some Starlink terminals near conflict areas were being jammed for several hours at a time. Our latest software update bypasses the jamming.Am curious to see what’s next!"
          ],
          [
           "Exactly"
          ],
          [
           "All news sources are partially propaganda, some more than others"
          ],
          [
           "Starlink has been told by some governments (not Ukraine) to block Russian news sources. We will not do so unless at gunpoint.Sorry to be a free speech absolutist."
          ],
          [
           "SpaceX reprioritized to cyber defense &amp; overcoming signal jamming. Will cause slight delays in Starship &amp; Starlink V2."
          ],
          [
           "Who, me? "
          ],
          [
           "Exactly"
          ],
          [
           "And also my sympathies to the great people of Russia, who do not want this"
          ],
          [
           " Hold Strong Ukraine "
          ],
          [
           "Obviously, this would negatively affect Tesla, but sustainable energy solutions simply cannot react instantaneously to make up for Russian oil &amp; gas exports."
          ],
          [
           "Hate to say it, but we need to increase oil &amp; gas output immediately. Extraordinary times demand extraordinary measures."
          ],
          [
           "Haha sure :)"
          ],
          [
           "Ich möchte mich recht herzlich bedanken. Die Zukunft ist sehr spannend!  "
          ],
          [
           "You will be in the future"
          ],
          [
           "!"
          ],
          [
           "Game on"
          ],
          [
           "Almost all Viasat Ukraine user terminals were rendered permanently unusable by a Russian cyberattack on day of invasion, so … yes"
          ],
          [
           "Yes, provided no metal particles in paint"
          ],
          [
           "Place light camouflage over antenna to avoid visual detection"
          ],
          [
           "Turn on Starlink only when needed and place antenna away as far away from people as possible"
          ],
          [
           "Important warning: Starlink is the only non-Russian communications system still working in some parts of Ukraine, so probability of being targeted is high. Please use with caution."
          ],
          [
           "In class action lawsuits, the actual plaintiff is always the class action law firm. They just find someone willing to serve as a puppet to “represent the class”."
          ],
          [
           "Updating software to reduce peak power consumption, so Starlink can be powered from car cigarette lighter.Mobile roaming enabled, so phased array antenna can maintain signal while on moving vehicle."
          ],
          [
           "  American Broomstick  "
          ],
          [
           "Yeah, maybe 98"
          ],
          [
           "This old YouTube clip helps explain why former UAW members who work at Tesla are not huge fans of UAW"
          ],
          [
           "Yes"
          ],
          [
           "By the way, Tesla factory worker compensation is the highest in the auto industry"
          ],
          [
           "Our real challenge is Bay Area has negative unemployment, so if we don’t treat and compensate our (awesome) people well, they have many other offers and will just leave!I’d like hereby to invite UAW to hold a union vote at their convenience. Tesla will do nothing to stop them."
          ],
          [
           "Actually, we still operate our California factory, which is the largest auto plant in North America, at full capacity and are considering expanding it significantly.It has built 2/3 of all electric vehicles in North America, twice as much as all other carmakers combined."
          ],
          [
           "Ukraine civilian Internet was experiencing strange outages – bad weather perhaps? – so SpaceX is helping fix it"
          ],
          [
           "Solar area will need to be higher with obscuration, but works better than one might think"
          ],
          [
           "Solar panels + battery pack better than generator, as no heat signature or smoke &amp; doesn’t run out of fuel"
          ],
          [
           "We could’ve made a 600 mile Model S 12 months ago, but that would’ve made the product worse imo, as 99.9% of time you’d be carrying unneeded battery mass, which makes acceleration, handling &amp; efficiency worse. Even our 400+ mile range car is more than almost anyone will use."
          ],
          [
           " That was me tweeting from  when someone else had snatched my name. I was actually one of the earliest Twitter users, but dropped my account because people were tweeting such trivialities at first.  convinced me to get back in."
          ],
          [
           "The probability of Tesla dying in 2008/2009 was very high. We closed our financing round at 6pm on Dec 24th – the last working hour of the last day before Tesla would otherwise bounce payroll."
          ],
          [
           "Self-driving cars &amp; useful humanoid robots require a sophisticated understanding of reality. I am increasingly convinced that they are on the path to solving AGI. Should AGI be solved? I don’t know, but humanity is moving rapidly in this direction whether I like it or not."
          ],
          [
           "Pretty good summary, although national pride is underweighted relative to economics. Latter serves former, not other way around. The foundational issue imo, which this video doesn’t ignore, is low birth rate. After all, what good is land with no people?"
          ],
          [
           "."
          ],
          [
           "Saints Row IV was sickkk"
          ],
          [
           "Saints Row"
          ],
          [
           "Well, I do have multiple personality disorder, but they’re all technically in the same head"
          ],
          [
           "Investigating"
          ],
          [
           "Tesla has created over 50,000 US jobs building electric vehicles &amp; is investing more than double GM + Ford combined[fyi to person controlling this twitter]"
          ],
          [
           "Our primary challenge is affordability. Creating an expensive truck is relatively easy. If it is extremely hard to do so for Tesla, despite our much greater economies of scale &amp; better technology, then it is damn near impossible for others."
          ],
          [
           "He plays golf a lot"
          ],
          [
           "Saudi Arabia owns 2/3 of Lucid, so inevitable"
          ],
          [
           "Their negative gross margin will be staggering"
          ],
          [
           "Coming soon, if you want your car to make a loud farting sound from the external speaker, just say “Fart in their general direction!”"
          ],
          [
           "All cars made since November also have push center for horn – just waiting on firmware update. If you mash right side of yoke with your palm, horn will trigger."
          ],
          [
           "If your war technology level is far higher than your opponent, tactics don’t matter: source_not_found"
          ],
          [
           "Swipe down on navigate button to navigate home or to work if at home"
          ],
          [
           "Depends on what issues we see that are unique to Canada. If things are looking good, then we can lower the safety score threshold."
          ],
          [
           "You are most welcome"
          ],
          [
           "Starlink service is now active in Ukraine. More terminals en route."
          ],
          [
           "Good thread"
          ],
          [
           "Yes"
          ],
          [
           "Would be a good move. Needs to include put options &amp; synthetic shorts."
          ],
          [
           "Successful Starlink deploy"
          ],
          [
           "We’ve had about 60 or so cars testing internally in Canada. Hoping to go wider this weekend."
          ],
          [
           "Starlink is a little patchy to Tonga right now, but will improve dramatically as laser inter-satellite links activate"
          ],
          [
           "Yes"
          ],
          [
           "LIDAR is a seductive local maximum. SpaceX designed &amp; built them to dock with ISS.However, the road system was designed to work with biological neural nets &amp; eyes, so a general solution to self-driving necessarily will require silicon neural nets &amp; cameras.Real-world AI."
          ],
          [
           "Protagonists created over half a century ago don’t count"
          ],
          [
           "Signal is the least insecure messaging service"
          ],
          [
           "Hollywood refuses to write even one story about an actual company startup where the CEO isn’t a dweeb and/or evil"
          ],
          [
           "Just iMessage &amp; Signal"
          ],
          [
           "Me too"
          ],
          [
           "Actual question, not rhetorical"
          ],
          [
           "Are you sure Signal is secure?"
          ],
          [
           "I didn’t start the fight, but I will finish it."
          ],
          [
           "Building a case is exactly what I’ve been doing"
          ],
          [
           "Exactly"
          ],
          [
           "Would be cool if we are backed up somehow"
          ],
          [
           "Yeah"
          ],
          [
           "Yeah, definitely don’t use C unless optimizing for hardware performance!"
          ],
          [
           "I’m a fan of Rust. Clearly scales well, given that Discord uses it.For max performance, however, nothing beats tight C with a customized compiler on specialized hardware. Important for max frame rate on vehicle inference computer.Otherwise, we mostly use C++ &amp; Python."
          ],
          [
           "While it is tempting to focus on one of those arenas as the “hard one”, in fact they are all difficult &amp; important. Tight C &amp; custom compiler too.An inference computer optimized for energy efficiency, reliability &amp; long life is also critical. Can’t just jam GPUs in the trunk."
          ],
          [
           "Definitely"
          ],
          [
           "A general solution to self-driving (essentially, real-world AI) requires writing extremely difficult software in the arenas of training, inference, control, analytical tools, data management, hardware optimization &amp; simulation.One of the hardest technology problems that exists."
          ],
          [
           "Compilers can be way better too. Not enough effort spent there."
          ],
          [
           "Sorry!"
          ],
          [
           "We’re working through the general case of making Steam games work on a Tesla vs specific titles. Former is obviously where we should be long-term."
          ],
          [
           "Yes. This is an advantage of iron cathode lithium batteries."
          ],
          [
           "Night City has beautiful art"
          ],
          [
           "Great game"
          ],
          [
           "But 69% of statistics are false"
          ],
          [
           "Norway is awesome! "
          ],
          [
           "Small changes usually affect production for less than an hour, as they’re applied to a few stations during breaks.Big changes may impact output for a day or two. Reversing out big changes or unexpected parts shortages are what impact several days."
          ],
          [
           "Sometimes 20 small changes in a single week"
          ],
          [
           "Switching to renewables with batteries would avoid blackouts. Batteries are essential, due to the intermittent nature of renewables."
          ],
          [
           "We must fight for it to be better"
          ],
          [
           "This is just peeling back the first layer of the corruption onion. Stay tuned …"
          ],
          [
           "Why many come to America"
          ],
          [
           "Beautiful"
          ],
          [
           "Yes"
          ],
          [
           "V11 is "
          ],
          [
           "Tuesday"
          ],
          [
           "Yeah"
          ],
          [
           "tau &gt; pi"
          ],
          [
           "ℏ"
          ],
          [
           "!!"
          ],
          [
           "!"
          ],
          [
           "In Earth years"
          ],
          [
           "It is taking longer than expected to make the upper stage not expendable (sigh)"
          ],
          [
           "Instead of “research suggests”, I suggest “warlocks say”"
          ],
          [
           "… a river"
          ],
          [
           "M Night should do a horror movie about this – it would resonate"
          ],
          [
           "Entertainment is becoming a username/password/2FA nightmare"
          ],
          [
           "Sounds good, we will send one over"
          ],
          [
           "That would be great"
          ],
          [
           "Maybe near BRO airport, since that serves both communities?"
          ],
          [
           "If South Padre and/or Brownsville would like a Starship prototype, we can send one over"
          ],
          [
           "I’m pretty sure I’ve paid the most taxes of any individual ever to California, but it isn’t obvious what is done with the money"
          ],
          [
           "Rather than correcting itself, the lower birth rate trend appears to be accelerating"
          ],
          [
           "Tesla owners in the greater Giga Texas area will get priority, so yes"
          ],
          [
           "Single biggest threat to future of civilization imo"
          ],
          [
           "Ok"
          ],
          [
           "They will be fine"
          ],
          [
           "The only reason I didn’t pay federal tax in 2018 is because I *overpaid* in 2017! Since they stole my tax records, they actually know that."
          ],
          [
           "Hypocritical megadouche!"
          ],
          [
           "Will visit IRS next time I’m in DC just to say hi, since I paid the most taxes ever in history for an individual last year. Maybe I can have a cookie or something …"
          ],
          [
           "True"
          ],
          [
           "Seriously. How long must this go on?"
          ],
          [
           "Depends mostly on FAA certification, but hopefully within 6 months. We’re testing on Gulfstreams to debug issues, but deployment priority is commercial airliners."
          ],
          [
           "Cybertruck"
          ],
          [
           "Yes, in the air"
          ],
          [
           "Probably"
          ],
          [
           "I think it will reach"
          ],
          [
           "I’m dropping a new album"
          ],
          [
           "We have a very talented team"
          ],
          [
           "I wish I could help. At this point, it seems that voting at the next election is the remedy."
          ],
          [
           "Actually, April 7th"
          ],
          [
           "SpaceX’s goal is to make life multiplanetary, whereas their goal is to put a handful of satellites in orbit"
          ],
          [
           "Are they even trying?"
          ],
          [
           "Yes"
          ],
          [
           "Yes"
          ],
          [
           "April 1st"
          ],
          [
           "And, of course, you can pay in Ðoge"
          ],
          [
           "And futuristic diner / drive-in theater planned for Hollywood area!"
          ],
          [
           "Indeed"
          ],
          [
           "Lucky bastards, we are!"
          ],
          [
           "We are a mobile cell colony"
          ],
          [
           "So amazing that we decompress from a single cell to over 30 trillion cells"
          ],
          [
           "…"
          ],
          [
           "Absolutely"
          ],
          [
           "Pretty much "
          ],
          [
           "Plaid Model S &amp; X are sublime"
          ],
          [
           "Product &gt; Marketing"
          ],
          [
           "An evolutionary asymmetry helpful to survival, but counterproductive when survival is not at stake"
          ],
          [
           "Reasons to hate are remembered better than reasons to love"
          ],
          [
           "For an in-depth explanation, read"
          ],
          [
           "High pain threshold"
          ],
          [
           "Model 3 is literally the most made in America car in – well of course – America"
          ],
          [
           "I was at a lunch with Munger in 2009 where he told the whole table all the ways Tesla would fail. Made me quite sad, but I told him I agreed with all those reasons &amp; that we would probably die, but it was worth trying anyway."
          ],
          [
           "Some carmakers are trying hard"
          ],
          [
           "[ahem]"
          ],
          [
           "Ok"
          ],
          [
           "No way "
          ],
          [
           "Agreed. This has been broken for a long time."
          ],
          [
           "This will be real in our lifetime"
          ],
          [
           "Starship to Mars simulation"
          ],
          [
           "Election time will be interesting"
          ],
          [
           "Announcements coming soon"
          ],
          [
           "Yes, but more ground stations &amp; improved packet routing will make a bigger difference"
          ],
          [
           "System is working well in Australia &amp; New Zealand"
          ],
          [
           "Over 250k Starlink user terminals"
          ],
          [
           "Destacking Starship"
          ],
          [
           "Wow, that’s a lot of podcasts! Ok, I will do one. Maybe we could combine with Dave Lee and a few others."
          ],
          [
           "Tim is great"
          ],
          [
           "Great"
          ],
          [
           "So many layers with Tesla FSD AI!"
          ],
          [
           "The pledge is good no matter what"
          ],
          [
           "Moving to 33 engines on next booster"
          ],
          [
           "Ancient times"
          ],
          [
           "The fun police made us do it (sigh)"
          ],
          [
           "Now Tesla is worth a trilly willy!"
          ],
          [
           "Yup, we need to do that"
          ],
          [
           "High standard!"
          ],
          [
           "That was a tough one. New Model Y structural pack is next-level though."
          ],
          [
           "Happy birthday, Jared!"
          ],
          [
           "The duty of a leader is to serve their people, not for the people to serve them"
          ],
          [
           "Car should also reverse slightly if it peeks into an intersection &amp; sees fast-moving cross-traffic (just like a person would)"
          ],
          [
           "Exactly"
          ],
          [
           "True"
          ],
          [
           "Probably 250 t-F by end of year"
          ],
          [
           "Later this year, remaining fussy bits will be gone, allowing deletion of shroud"
          ],
          [
           "True national debt, including unfunded entitlements, is at least $60 trillion – roughly three times the size of the entire US economy. Something has got to give."
          ],
          [
           "Looming disaster for sure"
          ],
          [
           "Good question!"
          ],
          [
           "Human for scale"
          ],
          [
           "Tower arms are lifting Starship onto Super Heavy Booster"
          ],
          [
           "This would generate a lot of goodwill"
          ],
          [
           "  "
          ],
          [
           "Much appreciated!"
          ],
          [
           "Model X is an extremely difficult car to build. Most complex passenger car ever. Limiting factor is interior trim."
          ],
          [
           "We dropped the ball badly regarding new Model X production ramp &amp; still haven’t fully recovered. Was idiotic to stop production of old X in Dec 2020 when there was still plenty of demand!"
          ],
          [
           "Pretty much"
          ],
          [
           "Thanks, this made a difference!"
          ],
          [
           "Tesla"
          ],
          [
           "Yup!"
          ],
          [
           "Most news outlets attempt to answer the question: “What are the worst things happening on Earth today?”It’s a big planet! Obviously, some bad things are happening somewhere at any given time, but focusing relentlessly on those does not give an accurate picture of reality."
          ],
          [
           "So hard to find out what’s going on in the world without being bombarded with news that makes one sad &amp; angry!"
          ],
          [
           "True, careless negativity (destruction) is much harder than thoughtful positivity (creation)"
          ],
          [
           "Sadly true"
          ],
          [
           "That’s true to some degree, but citizen podcasts that aren’t negative like Rogan, Fridman, Dodd, TED interviews, etc are very popular. Maybe part of why traditional media outlets are so negative is because old habits die hard? They so rarely even try to be positive."
          ],
          [
           "Not needed"
          ],
          [
           "Why is the “traditional” media such a relentless hatestream? Real question."
          ],
          [
           "Fate  Irony"
          ],
          [
           "It was so crazy! The insane tweet FUD campaign &amp; press hatestream of 2017-2019 is still easily found."
          ],
          [
           "Always look on the bright side of life"
          ],
          [
           "Nice!"
          ],
          [
           "True"
          ],
          [
           "What a hypocrite"
          ],
          [
           "High time we had tunnels!"
          ],
          [
           "The Boring Company just connected Resorts World hotel to Vegas Convention Center!"
          ],
          [
           "As backdrops go, this is a good one"
          ],
          [
           "I’m pro vaccination, but anti vaccination mandate"
          ],
          [
           "Agreed"
          ],
          [
           "Munro understands"
          ],
          [
           "[Satire]"
          ],
          [
           " Thank You for Smoking "
          ],
          [
           "Tesla Model S &amp; X Plaid are so fun!"
          ],
          [
           "Extended tracking shot of Falcon 9"
          ],
          [
           "!"
          ],
          [
           "All these different standards for electricity are a tax on humanity"
          ],
          [
           "Gavin is kinda badass in this vid"
          ],
          [
           "Only very high resolution radar is relevant"
          ],
          [
           "We have to solve a huge part of AI just to make cars drive themselves. In retrospect, it was inevitable. The road system is designed for cameras (eyes) &amp; neural nets (brains)."
          ],
          [
           "Double-standard?"
          ],
          [
           "It’s not my money"
          ],
          [
           "A bigger win than it may seem"
          ],
          [
           "Yes"
          ],
          [
           "Thursday next week at 8pm Texas time"
          ],
          [
           "Starship aspires to be the first fully reusable orbital launch vehicle, the holy grail of rocketry. This is the critical breakthrough needed to make life multiplanetary."
          ],
          [
           "And all the forms of life on Earth"
          ],
          [
           "Becoming multiplanetary is essential to extending dramatically the probable lifespan of civilization"
          ],
          [
           "Starship is in a different league. Orders of magnitude more mass to orbit than Falcon. Necessary for creating a self-sustaining city on Mars."
          ],
          [
           "If things go well, Falcon will launch about once a week on average in 2022, delivering ~2/3 of all Earth payload to orbit"
          ],
          [
           "Tesla is working hard to provide more Megapacks for grid stabilization"
          ],
          [
           "Congrats SpaceX Falcon team!"
          ],
          [
           "Exactly. The terminology is anachronistic."
          ],
          [
           "Who controls the memes,Controls the universe."
          ],
          [
           "Sigh"
          ],
          [
           "High latitudes are operational probably this summer"
          ],
          [
           "Haha seriously"
          ],
          [
           "SpaceX standard antenna production rises rapidly this year, so those with orders shouldn’t have to wait long.Note, Starlink can only support a limited number of users in an area, so best to order early."
          ],
          [
           "Tunnels …"
          ],
          [
           "Exciting progress at Starbase, Texas!"
          ],
          [
           "320 bar is achievable, maybe even 330"
          ],
          [
           "This is twice the area of our standard phased array with broader scan angle"
          ],
          [
           "Thanks for letting me know. Will be fixed soon."
          ],
          [
           "Thanks for the deep belly laugh "
          ],
          [
           "Starlink high performance antenna"
          ],
          [
           "Will begin limited rollout to Canada this month. Safety is paramount, so we have to confirm no significant issues, given slightly different road rules."
          ],
          [
           "He’s actually a lobbyist, not a journalist. There are many who pose as the latter while behaving like the former. No integrity.Indeed, there were no safety issues. The car simply slowed to ~2 mph &amp; continued forward if clear view with no cars or pedestrians."
          ],
          [
           "Yes"
          ],
          [
           "Same"
          ],
          [
           "Dragon hover test"
          ],
          [
           "Will upload some videos tomorrow"
          ],
          [
           "Harbinger battle on L is tough"
          ],
          [
           "Tesla is as much a software company as it is a hardware company, both in car and in factory. This is not widely understood."
          ],
          [
           "Tesla has great respect for software engineering, they do not"
          ],
          [
           "…"
          ],
          [
           "16 story tall rocket, traveling several times faster than a bullet, backflips &amp; fires engines to return to launch site"
          ],
          [
           "Denmark just ended Covid restrictions"
          ],
          [
           "They’ve been writing bogus articles about Tesla (and me) for years. In the end, it is their own credibility that suffers."
          ],
          [
           "Dave, I know you’re a fan, but this is a silly question. I don’t drive programs because I want to, but because I have to."
          ],
          [
           "Halo Infinite campaign is good"
          ],
          [
           "I’m driving this program personally, as is the case for almost all new programs"
          ],
          [
           "For reasons unknown,  is unable to say the word “Tesla”"
          ],
          [
           "If the government had the mandate of the people, there would be a significant counter-protest. There is not, therefore they do not."
          ],
          [
           "How many gene sequence changes to Covid-19 before it isn’t “Covid-19” anymore? OG Covid-19 ended a long time ago."
          ],
          [
           "Protesting in a Canadian winter shows real commitment!"
          ],
          [
           "It would appear that the so-called “fringe minority” is actually the government"
          ],
          [
           "So many Hitlers!"
          ],
          [
           "A step in the right direction"
          ],
          [
           "Great interviewer!"
          ],
          [
           "If Canadian government is suppressing peaceful protests, that‘s where fascism lies &amp; cartoonist is just a shill"
          ],
          [
           "Yup"
          ],
          [
           "Now that the big automotive advertisers are making EVs, you will see far fewer articles about EVs catching on fire. It is not surprising that internal combustion engine cars have a tendency to combust externally too."
          ],
          [
           "Just rewatched True Romance "
          ],
          [
           "The ratio of machine to human compute skyrockets"
          ],
          [
           "True"
          ],
          [
           "Voters should call their elected politicians now to make it clear how they feel"
          ],
          [
           "Lie back and think of Mars"
          ],
          [
           "We need serious tonnage to Mars"
          ],
          [
           "The Universe is a Hydrogen Sonata"
          ],
          [
           "There are many faux "
          ],
          [
           "It has been a very long road"
          ],
          [
           "Interesting ideas"
          ],
          [
           "There will only be EVs in the future"
          ],
          [
           "Excited for future of solar at Tesla!"
          ],
          [
           "Tesla will support FSD licensing by other manufacturers"
          ],
          [
           "Disney in the streets,Euphoria in the sheets"
          ],
          [
           "I have one"
          ],
          [
           "Given how hard insanely FSD is, I think it may take 5 years or more before any company besides Tesla solves it"
          ],
          [
           "I have a feeling that the gerrymandering will not work as well as they think"
          ],
          [
           "And in the darkness bind them"
          ],
          [
           "Honestly, I would let the border regions vote. Let the people there actually decide."
          ],
          [
           "Vote them out"
          ],
          [
           "If you scare people enough, they will demand removal of freedom. This is the path to tyranny."
          ],
          [
           "Seems odd that the UN still hasn’t released 2020 world death rates"
          ],
          [
           "Freedom is being stripped away one piece at a time until it is gone"
          ],
          [
           "Manganese also requires less lithium, as it operates at higher voltage"
          ],
          [
           "Just that manganese is an alternative to iron &amp; phosphorus for scaling cathode production to several TWh/year"
          ],
          [
           "Exactly"
          ],
          [
           "Your policies are directly responsible for the outrageously high insurance premiums paid by Californians"
          ],
          [
           "You should be voted out of office"
          ],
          [
           "CB radios are free from govt/media control"
          ]
         ],
         "hovertemplate": "Polarity=%{x}<br>Subjectivity=%{y}<br>Cleaned_Tweets=%{customdata[0]}<extra></extra>",
         "legendgroup": "",
         "marker": {
          "color": "#636efa",
          "symbol": "circle"
         },
         "mode": "markers",
         "name": "",
         "showlegend": false,
         "type": "scattergl",
         "x": [
          0.2,
          0.2,
          0,
          0.4375,
          0,
          0.16666666666666666,
          0,
          0.675,
          0,
          0,
          0.19318181818181818,
          0,
          0,
          0,
          0,
          0,
          0.25,
          0,
          0,
          0.35,
          0.2,
          0,
          0,
          -0.0001893939393939568,
          0,
          0,
          0.4,
          0,
          0.3125,
          0,
          0.7,
          -0.3,
          0.16818181818181818,
          0.3333333333333333,
          0.0625,
          0.6,
          0.08333333333333326,
          0,
          0.08333333333333333,
          0.65,
          0,
          0.25,
          0.5,
          0.2,
          0.03333333333333333,
          0,
          0.1,
          0.125,
          0,
          0,
          -0.05,
          0,
          0.7,
          1,
          0,
          0,
          -0.1,
          0.27499999999999997,
          0.7,
          0.1125,
          0.35,
          0.35,
          0.24000000000000005,
          0.25,
          0,
          0,
          0.2857142857142857,
          0.2547619047619048,
          0.35833333333333334,
          0.15999999999999998,
          0,
          0.005714285714285718,
          0,
          -0.65,
          0,
          0.025000000000000022,
          -0.5875,
          0,
          0,
          0.21428571428571427,
          0,
          0.475,
          0,
          0.5,
          0.5,
          0.3,
          0,
          -0.08,
          0.25,
          0.2142857142857143,
          0,
          0.25,
          0.12222222222222223,
          0.225,
          0.4,
          0.3333333333333333,
          -0.15555555555555556,
          1,
          0.55,
          0,
          0.190625,
          0.7,
          0,
          0,
          0,
          0.26071428571428573,
          0,
          -0.009999999999999998,
          -0.053571428571428575,
          0.35,
          0.25,
          -0.45,
          0.43333333333333335,
          0,
          0.21428571428571427,
          0,
          0,
          0.35,
          0.13333333333333333,
          0,
          -0.075,
          0,
          1,
          0.09,
          -0.19999999999999998,
          0.2875000000000001,
          0,
          0.06666666666666667,
          0.25,
          0.125,
          0.6666666666666666,
          0,
          0.23900000000000002,
          0.5,
          0.125,
          0,
          0.5,
          0.5,
          0.1,
          0.2,
          0,
          -0.065,
          -0.4,
          0,
          0,
          0.35,
          0,
          0,
          0.7,
          -0.4,
          0,
          -0.09999999999999998,
          -0.5,
          0,
          0.6,
          0.2,
          0,
          0.4000000000000001,
          -0.1,
          0,
          0,
          0.4,
          0,
          0,
          0.1,
          0.375,
          0,
          0,
          0.7,
          0.1375,
          0.05,
          0.13616161616161615,
          0.20714285714285713,
          0.5,
          0.11638257575757577,
          0.20000000000000004,
          0,
          0.4000000000000001,
          -0.1527777777777778,
          0,
          -0.0625,
          0,
          0.30000000000000004,
          -0.06666666666666668,
          0,
          0,
          0.11666666666666665,
          0.2,
          0,
          -0.5,
          0.2857142857142857,
          0,
          -0.25,
          0,
          0,
          -0.5,
          0,
          -0.08,
          0.05416666666666667,
          0.11666666666666667,
          0.05,
          0,
          0,
          0,
          -0.25,
          0.35,
          -0.13333333333333333,
          0.375,
          0.10952380952380954,
          0,
          0,
          0,
          0.35,
          0,
          0.2,
          0.3,
          0,
          0,
          -0.44642857142857145,
          0,
          0.2857142857142857,
          0.6,
          0.625,
          0,
          0,
          0,
          0,
          0,
          -0.03125,
          0,
          0,
          0,
          0,
          -0.08333333333333333,
          0.16666666666666666,
          0.1,
          0,
          -0.08333333333333333,
          -0.08333333333333333,
          0,
          0.8,
          0,
          -0.05,
          0.5,
          0.6194444444444445,
          0.4,
          0,
          0,
          -0.03571428571428571,
          0,
          0,
          0.1,
          0,
          0,
          0,
          0.5,
          0.25,
          0,
          0,
          -0.5,
          0,
          0.35,
          0,
          0.39444444444444443,
          0,
          0,
          0.85,
          0.4,
          -0.07333333333333333,
          0,
          0.125,
          0.25,
          0.061904761904761886,
          0,
          -0.33749999999999997,
          0,
          0.26666666666666666,
          0,
          0,
          -0.15555555555555556,
          0,
          0.26,
          0.19999999999999998,
          0.625,
          0,
          0.2,
          0.31666666666666665,
          0.46875,
          -0.03518518518518519,
          0,
          0,
          0.6,
          0,
          0,
          0,
          1,
          0,
          0.43333333333333335,
          0,
          0.4000000000000001,
          0,
          -0.7874999999999999,
          0,
          0,
          -0.10714285714285714,
          0,
          0,
          0.2090909090909091,
          0.25,
          0,
          -0.2916666666666667,
          0.375,
          0.21333333333333332,
          0.13125,
          -0.5,
          0,
          0.2202020202020202,
          -0.125,
          0.265,
          -0.16666666666666666,
          -0.27999999999999997,
          -0.1125,
          -0.3125,
          0.8,
          0,
          0.5,
          -0.0625,
          0.033333333333333326,
          0.13636363636363635,
          0.6000000000000001,
          0,
          0.5416666666666667,
          0,
          -0.06666666666666667,
          0.25,
          0,
          0,
          0,
          0,
          0.3,
          0,
          -0.06851851851851853,
          0,
          0,
          0,
          0.0022222222222222227,
          0.13636363636363635,
          -0.5,
          0,
          -0.14583333333333334,
          0.1,
          0.13636363636363635,
          0.6,
          -0.04920634920634922,
          0,
          -0.6,
          -0.20833333333333331,
          0,
          0,
          0.5,
          0.85,
          0.25,
          0,
          0,
          -0.1875,
          0,
          0,
          0,
          0,
          0,
          0,
          0.1,
          0,
          0,
          1,
          0,
          0,
          0.4,
          0.5,
          0,
          0,
          0,
          0.3,
          0.2,
          0.5,
          0,
          0.35,
          0.5,
          0,
          -0.05,
          0,
          0,
          0.4,
          0,
          0.225,
          0.175,
          0.7,
          0,
          -0.020000000000000004,
          0,
          0,
          0.2,
          -0.125,
          0.25,
          0,
          -0.30000000000000004,
          0.05333333333333334,
          0.3,
          0,
          0,
          0,
          0,
          -0.1875,
          0,
          0.7,
          0.25,
          0,
          0,
          0.7,
          0,
          0,
          0,
          0,
          0.25,
          0,
          0,
          0,
          0,
          0,
          0.19999999999999996,
          0.11666666666666668,
          0,
          0,
          -0.04900568181818182,
          0,
          1,
          -0.1875,
          0,
          0.25,
          0.36250000000000004,
          0,
          0.611111111111111,
          0.215,
          0.5,
          -0.5299999999999999,
          0.35,
          0,
          -0.14583333333333331,
          0,
          0,
          0.25625,
          0.024999999999999998,
          0.2833333333333333,
          0.25,
          0,
          0,
          -0.3333333333333333,
          0.2,
          0.2,
          0,
          -1,
          -0.8,
          0,
          0,
          0,
          0.65,
          0,
          0.21428571428571427,
          0,
          0,
          0.5,
          0,
          0,
          0,
          0,
          0.7,
          0.4,
          0,
          1,
          0.042,
          0.5,
          0.7,
          0.5,
          0.2,
          0,
          0.25,
          0,
          -0.13333333333333333,
          0,
          0.35,
          0.31833333333333336,
          0.75,
          -0.16666666666666666,
          0,
          0,
          -0.041666666666666664,
          0.125,
          0.35,
          0.14166666666666666,
          0,
          -0.1,
          0,
          0.6000000000000001,
          0,
          -0.16111111111111112,
          0.25,
          -0.3333333333333333,
          0.30000000000000004,
          0,
          0,
          0.35,
          -0.4,
          0.7,
          0.7,
          -0.22499999999999992,
          0,
          0,
          0,
          -0.1,
          0.2,
          0.35,
          0,
          0,
          -0.19583333333333336,
          0.5,
          0,
          0.2,
          0,
          -0.025,
          -0.59375,
          0,
          -0.5,
          0,
          0,
          0.875,
          0.2857142857142857,
          0,
          0,
          0,
          0.25,
          0,
          0.05,
          0,
          0,
          0.1,
          0.32500000000000007,
          0.2,
          0,
          0,
          0,
          0,
          0.0625,
          0,
          0.125,
          0,
          0,
          0.04999999999999999,
          0.1,
          0,
          0,
          0.1625,
          0.5625,
          0.45,
          0.625,
          -0.025,
          0.39999999999999997,
          0,
          0.44952380952380955,
          0.3333333333333333,
          0.05952380952380952,
          0.2,
          0,
          0,
          0,
          0.09342857142857143,
          0.033333333333333326,
          -0.15714285714285717,
          0.5,
          0,
          0.65,
          0,
          0.25625,
          0.175,
          0,
          0,
          0.22499999999999998,
          0,
          0.35,
          0,
          0,
          0.28571428571428575,
          0.5,
          0,
          0.0625,
          0.5,
          0,
          0.01666666666666667,
          0.15,
          0.52,
          0.25857142857142856,
          -0.5,
          0.625,
          0,
          0,
          1,
          0.40625,
          0,
          0,
          0,
          0,
          0,
          0.3,
          0.5,
          0,
          0.35,
          0,
          -0.3,
          -0.020312500000000004,
          0.7,
          0.14375,
          0,
          0,
          0,
          0,
          0.13583333333333333,
          0.7,
          0.6000000000000001,
          0,
          -0.1875,
          -0.2777777777777778,
          0,
          0.7,
          0.7,
          0,
          0,
          0,
          0,
          0.18333333333333335,
          0.125,
          0.13636363636363635,
          -0.05,
          0.5,
          -0.5,
          -0.6185185185185184,
          0,
          0.5,
          0.12985714285714287,
          0.35,
          -0.20000000000000004,
          0,
          0.03125,
          0,
          0,
          -0.03125,
          0.7,
          0,
          0,
          0.36000000000000004,
          -0.03333333333333333,
          0,
          -0.05,
          1,
          -0.6,
          0.625,
          0.14107142857142857,
          0.05,
          0.35714285714285715,
          0,
          0.35,
          0,
          0.01428571428571429,
          0,
          0,
          0.4,
          0.4166666666666667,
          0,
          0,
          0,
          0.13409090909090907,
          0,
          0.275,
          -0.035416666666666666,
          -0.20833333333333331,
          0.09290123456790123,
          0.7000000000000001,
          0,
          -0.03333333333333333,
          0.09999999999999999,
          0.6,
          0.3,
          -0.03472222222222222,
          0.13636363636363635,
          0.6,
          0.2111111111111111,
          0.1,
          0,
          0.140625,
          0,
          0,
          0.2,
          0,
          0,
          0,
          0.25,
          0.5,
          0,
          0,
          0.4,
          0.16,
          0,
          0,
          0.04226190476190477,
          0,
          0,
          0,
          -0.041666666666666664,
          0,
          0,
          -0.13333333333333333,
          -0.3125,
          0.8,
          0,
          0.0021428571428571464,
          0.4000000000000001,
          0.5,
          0.525,
          -0.146875,
          -0.16666666666666666,
          0,
          0,
          0,
          0,
          0,
          0,
          0,
          0.2875,
          0.25,
          -0.05,
          0,
          0,
          0,
          -0.08333333333333333,
          0,
          0,
          0,
          0.27499999999999997,
          0,
          0,
          -0.05,
          0.5,
          0.35,
          0,
          0,
          0,
          0.2,
          0,
          0,
          0,
          -0.125,
          0.2,
          0,
          0,
          0.35000000000000003,
          0,
          0,
          0.35,
          0,
          0,
          -0.04999999999999999,
          0,
          0,
          0,
          -0.25,
          0,
          0.16,
          0,
          0,
          0,
          -0.175,
          0,
          -0.08333333333333333,
          -0.125,
          0,
          0.7,
          0,
          0.16785714285714284,
          0.25,
          0,
          0,
          0,
          0.35,
          0,
          0.625,
          0,
          0.3,
          0,
          0.475,
          -0.07083333333333335,
          0.35,
          0.16666666666666666,
          0.75,
          0,
          0.475,
          0.16,
          0.3,
          0,
          0,
          0.2,
          0,
          0,
          0.31190476190476196,
          0,
          -0.10444444444444442,
          0.25,
          -0.25,
          0.15000000000000002,
          0.7,
          0,
          0,
          0.3181818181818182,
          -0.09375,
          0,
          0.20000000000000004,
          0,
          0,
          0,
          0,
          0.8,
          0.7,
          0,
          0.25,
          0.08055555555555555,
          0,
          0.35714285714285715,
          0.5,
          0.55,
          0.3,
          0,
          0.17222222222222222,
          -0.15555555555555556,
          0.2,
          -0.05,
          -0.3888888888888889,
          0,
          0.5,
          0.06818181818181818,
          0.06818181818181818,
          0,
          0.1166666666666667,
          -0.3333333333333333,
          -0.1,
          0,
          0.6,
          0.25,
          -0.625,
          -0.1875,
          0,
          0.2,
          0,
          0,
          0.25,
          0.7,
          -0.010317460317460336,
          0.5,
          0.4,
          0,
          0,
          0,
          0.5,
          0.2,
          0.3,
          0,
          0.8,
          0.7,
          0.25,
          0.5,
          0.2,
          0.2,
          0,
          -0.009047619047619046,
          0.26875,
          0,
          -0.07772727272727273,
          0.0625,
          0.12222222222222223,
          -0.15,
          0,
          0,
          0,
          0,
          0,
          0,
          0,
          0,
          0.8,
          0,
          0,
          0,
          -0.07916666666666666,
          -0.2916666666666667,
          0,
          -0.16666666666666666,
          0,
          0.1875,
          0.0625,
          -0.3888888888888889,
          0.5,
          0,
          0,
          0,
          0,
          0.2380952380952381,
          1,
          0.35,
          0.35,
          0,
          0,
          -0.6999999999999998,
          0.2,
          0.275,
          0,
          -0.1,
          0.25,
          1,
          0.5,
          0,
          0,
          0,
          0,
          0,
          0,
          0.5,
          0,
          0.33125,
          -0.2,
          0.16666666666666666,
          -0.3,
          0.5,
          0.3,
          0.4,
          0.125,
          0,
          0.35,
          0.3,
          0.2,
          0.19200000000000003,
          0,
          0.009999999999999998,
          0.09999999999999999,
          0,
          0.2857142857142857,
          0.8,
          -0.175,
          0,
          0,
          -0.025,
          0.4,
          0.35,
          0,
          -0.15555555555555556,
          0,
          0.08333333333333333,
          0.26666666666666666,
          0,
          0,
          0,
          -0.13583333333333336,
          -0.3499999999999999,
          0,
          0,
          0,
          0.20000000000000004,
          0.028571428571428574,
          0,
          0.25,
          0.1,
          0.16818181818181818,
          0,
          0.35,
          0.18522727272727274,
          0,
          0,
          0,
          0.36999999999999994,
          0,
          0,
          0.1875,
          0,
          0.8,
          0.23066666666666666,
          0.8,
          0.0111111111111111,
          0.46875,
          0,
          0,
          0.028124999999999997,
          -0.4,
          -0.044444444444444446,
          0.45,
          0.13214285714285717,
          -0.4,
          0.1,
          -0.175,
          0.13333333333333333,
          -0.35,
          0,
          -0.15,
          0.2,
          0,
          0.24444444444444444,
          0,
          0,
          0.005555555555555559,
          0,
          0,
          0.16285714285714287,
          0.25,
          0.03273809523809523,
          0,
          0.2,
          0.04999999999999999,
          0.05500000000000001,
          0,
          -0.625,
          -1,
          1,
          0.2,
          0.4,
          1,
          0.3333333333333333,
          -0.11388888888888889,
          -0.06799999999999999,
          0,
          0,
          0.19916666666666663,
          0.31666666666666665,
          0,
          0.25,
          0.16,
          0.19999999999999998,
          0,
          0,
          0.35,
          0.55,
          0,
          0.08,
          0.5,
          0,
          0.125,
          0,
          -0.3,
          0.25,
          0.5,
          0,
          0,
          0,
          0.29166666666666663,
          0.12857142857142856,
          -0.09375,
          0,
          0.13636363636363635,
          0,
          0,
          0.3,
          0.5,
          0,
          0.3616666666666667,
          0.15,
          0.3125,
          0.1,
          0.1875,
          0,
          0,
          0.7,
          0,
          1,
          1,
          -0.75,
          0.2,
          0,
          0.8,
          -0.34375,
          0.7,
          0.13888888888888887,
          -0.2916666666666667,
          -0.1,
          0.125,
          0.2,
          -0.6,
          0.5,
          1,
          0,
          0,
          0.375,
          0.30000000000000004,
          0.5,
          0,
          0,
          0,
          0.5166666666666666,
          0.5,
          0,
          0,
          0.25,
          0,
          0,
          1,
          -1,
          0.35,
          0,
          0.8,
          0.2,
          1,
          0.7,
          0,
          0.2,
          0.375,
          0,
          0,
          -0.008333333333333331,
          -0.05555555555555556,
          0.2,
          0.03333333333333334,
          0.5,
          0.17222222222222222,
          0,
          0,
          0,
          0.13636363636363635,
          -0.6,
          0.175,
          -0.0050000000000000044,
          0,
          0.04166666666666667,
          0,
          -0.2,
          0.5,
          -0.5,
          0,
          0.5,
          0.25,
          0.25,
          0,
          0.625,
          0,
          0,
          0.5,
          0.7,
          0,
          0.08333333333333333,
          0,
          0.4000000000000001,
          0.25,
          0.1,
          0.2,
          0.5,
          0.35,
          1,
          0.25,
          0.35,
          0,
          0,
          0.7,
          0,
          0.1,
          0,
          0.2,
          0,
          0,
          0.5,
          0,
          0.4000000000000001,
          0.5,
          0.25,
          0.6,
          0.35,
          0,
          0,
          0,
          0.5583333333333333,
          0.05000000000000001,
          -0.04999999999999999,
          0,
          0,
          0.2,
          0.3333333333333333,
          0.2222222222222222,
          0,
          0,
          0.08333333333333333,
          0.35,
          0.2,
          0,
          0.16,
          0.10000000000000002,
          0,
          0,
          0,
          0,
          0,
          0,
          0.25,
          0.2,
          0.3,
          0.3333333333333333,
          0.1433333333333333,
          -1,
          0,
          0.5,
          0.225,
          0.25,
          0,
          -0.056249999999999994,
          0,
          -0.25,
          0.5,
          0.26666666666666666,
          0,
          0.7,
          0.75,
          0.2,
          0,
          0,
          0.85,
          0.25,
          0,
          0.35,
          0.35,
          0,
          0,
          0,
          -0.5,
          0.525,
          0,
          0.25,
          0,
          0.43333333333333335,
          0.2,
          0,
          0,
          0,
          0,
          0.25,
          0.16666666666666669,
          1,
          0.17045454545454544,
          0,
          0.7,
          0.35,
          0,
          0.2857142857142857,
          0,
          0,
          0,
          0.35,
          0.1316,
          0.3,
          0,
          0.25,
          0.2,
          -0.5,
          0,
          -0.13333333333333333,
          0.25,
          0.25,
          0,
          0.3,
          0,
          -0.07166666666666666,
          0.625,
          -0.875,
          0,
          0.2,
          0.35,
          0,
          0,
          0.25,
          0.6,
          0.28571428571428575,
          -0.05,
          0,
          0.30000000000000004,
          0.037500000000000006,
          0,
          0.5,
          0,
          0.00416666666666667,
          -0.09999999999999999,
          -0.20833333333333331,
          0,
          0.275,
          0.0625,
          0,
          0,
          0,
          1,
          0,
          0,
          0.1444444444444445,
          0.16666666666666666,
          0,
          -0.4,
          0,
          -0.8749999999999998,
          -0.26666666666666666,
          -0.1159090909090909,
          0.2,
          0.4622727272727272,
          0.23611111111111113,
          0.2,
          0,
          -0.03333333333333335,
          0.26,
          0,
          -0.04652777777777778,
          0,
          0,
          0,
          0.4000000000000001,
          0,
          0.25,
          0.03333333333333335,
          0.4166666666666667,
          0,
          0.039999999999999994,
          0,
          0,
          -0.0125,
          0,
          0.5,
          0.10875,
          0.05,
          0.2708333333333333,
          0,
          0.2333333333333333,
          0,
          0.1,
          0,
          0,
          0.5,
          0.8,
          -0.1875,
          -0.6666666666666666,
          0.03571428571428571,
          0.35,
          -0.125,
          0,
          0,
          0,
          0.1,
          0,
          0.1,
          0,
          0,
          0.20277777777777775,
          0.7,
          0.25,
          0.4,
          -0.05399305555555556,
          0,
          0.4,
          0.25,
          0,
          0.3125,
          0.28229166666666666,
          0.7,
          0.1,
          0,
          0,
          -0.041666666666666664,
          -0.039285714285714306,
          0.10000000000000002,
          0.3375,
          0,
          0,
          0.15,
          0,
          0.26666666666666666,
          0,
          0,
          0.44166666666666665,
          0.275,
          0.2857142857142857,
          0.018750000000000003,
          0,
          0,
          0.25,
          0.0375,
          0.7,
          0.25,
          0,
          0.09999999999999999,
          0,
          -0.07142857142857142,
          0.16047619047619047,
          0,
          0.25,
          0,
          0,
          0.6,
          -0.1333333333333334,
          0,
          -0.08125,
          0.5,
          0.25,
          0,
          0,
          0,
          0.7,
          0,
          0.43333333333333335,
          -0.05555555555555556,
          -0.062499999999999986,
          0.020833333333333315,
          0,
          0,
          0,
          0,
          0,
          0,
          0,
          0.016666666666666635,
          0,
          0,
          -0.175,
          -0.19027777777777774,
          0.26249999999999996,
          0.3,
          0.0014814814814814818,
          0.016666666666666663,
          0.1988095238095238,
          -0.19,
          0.4,
          0.5,
          0,
          0.06666666666666667,
          0.7,
          0.9,
          0.7,
          0,
          0,
          0.04999999999999999,
          0.25,
          0.2,
          -0.125,
          0.3375,
          0.0625,
          0,
          0,
          0,
          -0.1,
          0,
          0,
          -0.5,
          0.10500000000000002,
          -0.125,
          0,
          0,
          0.4875,
          0.125,
          0.625,
          0.2,
          -0.05,
          0.25,
          0,
          0.15,
          0.35,
          0.95,
          0,
          0.35,
          0.2,
          1,
          0,
          0.375,
          -0.08541666666666667,
          0,
          0.35,
          0.25,
          0.24000000000000005,
          0.08,
          0,
          0,
          0,
          0.35,
          -0.13124999999999995,
          0.6333333333333333,
          0.2333333333333333,
          0.35,
          0,
          0.4,
          0,
          0.16666666666666666,
          0.7,
          -0.1,
          0,
          0,
          0.2,
          0.5,
          0,
          0.25,
          0,
          0.35,
          0,
          0,
          0,
          0,
          0,
          0.3278409090909091,
          0.3071428571428571,
          0.5,
          0.5,
          0.44285714285714284,
          0,
          -0.275,
          0.7,
          -0.1,
          -0.003333333333333355,
          1,
          0.17222222222222225,
          -0.5,
          0,
          0.2525,
          0.016666666666666677,
          0,
          0.3666666666666667,
          0,
          0.8,
          0,
          -0.4375,
          0,
          0,
          0,
          0.2,
          0.025,
          0.20044642857142858,
          0.2,
          0,
          0,
          0,
          0,
          0,
          0,
          0.2,
          0.275,
          0.11607142857142858,
          -0.5,
          0.7,
          0.2,
          0.15510204081632653,
          -0.05,
          1,
          -0.075,
          0.25,
          0,
          0,
          0,
          0.7,
          0,
          -0.625,
          0.25,
          0.35,
          0.08333333333333331,
          0.25,
          0.3,
          0,
          0,
          0,
          0.2,
          0,
          0,
          0,
          0,
          0,
          0,
          0.3125,
          0.1,
          0,
          0,
          0.43333333333333335,
          0,
          0,
          0,
          0,
          0,
          0,
          0,
          0.5,
          0.2,
          0,
          0.65,
          0,
          0.5,
          0.125,
          0.35,
          0.225,
          0.12232142857142858,
          0,
          0,
          0.3125,
          0,
          0.16666666666666666,
          0.7166666666666667,
          -0.21666666666666667,
          0,
          0,
          0.20000000000000004,
          0.20000000000000004,
          0.625,
          -0.16666666666666666,
          0,
          0.2,
          0.1,
          0,
          0,
          0.103125,
          -0.24375,
          0.13636363636363635,
          0.275,
          0,
          0.25,
          0.1,
          0.175,
          0,
          0.4000000000000001,
          0.5,
          1,
          0,
          0,
          0.7,
          0,
          0.6,
          0,
          -0.05,
          0.8,
          0.2888888888888889,
          0,
          0.0625,
          0,
          0,
          0,
          0,
          0.25,
          0,
          -0.1,
          0.21250000000000002,
          0.196875,
          0.35,
          0.25,
          0.23611111111111108,
          0,
          0,
          0.6,
          0.13333333333333333,
          0.35,
          0.5,
          0.049999999999999996,
          0.08249999999999999,
          0.25,
          0.05,
          0.23095238095238094,
          0.25,
          0.6,
          -0.024999999999999998,
          0,
          0,
          0,
          -0.2,
          0.7,
          0.5249999999999999,
          0.35,
          0.275,
          0,
          0.1,
          0.15,
          0.5,
          0.26666666666666666,
          0.4666666666666666,
          0,
          0.05,
          0,
          0,
          0.6333333333333333,
          0.09999999999999999,
          0,
          0,
          0,
          -0.2875,
          -0.04999999999999999,
          0.0625,
          0.625,
          0,
          0,
          0,
          0.25,
          -1,
          0.31333333333333335,
          -1,
          0,
          0.25,
          0.5,
          0.5,
          0,
          0,
          -0.5,
          0.4,
          0.8,
          0.46875,
          0,
          0,
          0.14305555555555557,
          0,
          0.2,
          0.25,
          0.5,
          0.3833333333333333,
          0.03333333333333333,
          0.4,
          0.2,
          0,
          0,
          0,
          1,
          0,
          0.05,
          0.15,
          0.875,
          0,
          0.7,
          0.5,
          0,
          0.1,
          0,
          0,
          0,
          0,
          0,
          -0.36458333333333337,
          0.14074074074074072,
          0.25,
          -0.375,
          0,
          0.9,
          0.8,
          0.5,
          0.09999999999999999,
          0.3,
          0,
          0,
          0,
          0.1,
          0,
          0.2611428571428571,
          -0.07142857142857142,
          -0.04999999999999999,
          0.22083333333333335,
          -0.5,
          0.08333333333333334,
          0,
          0.5,
          0.7,
          0.25,
          0,
          -0.25,
          0.275,
          0,
          0.04166666666666667,
          0.016666666666666666,
          0.10416666666666667,
          0,
          -0.3333333333333333,
          0,
          0,
          0,
          0,
          0.1,
          0,
          0,
          -0.15,
          0.25,
          0.043181818181818175,
          0.0625,
          0,
          -0.08333333333333333,
          0.16666666666666669,
          0,
          0,
          0,
          0,
          0.13125,
          0.033928571428571426,
          0.8,
          0,
          0.09523809523809523,
          0.25,
          0.175,
          -0.6666666666666666,
          -0.05,
          0.2,
          0.25,
          0.05,
          0.375,
          0.2,
          0.6000000000000001,
          0.42,
          0.2857142857142857,
          0.0961734693877551,
          0,
          0.30000000000000004,
          0.6000000000000001,
          0.1,
          0.6875,
          0,
          0.7,
          -0.4375,
          0,
          0.21666666666666667,
          0.5,
          0,
          -0.1416666666666667,
          0.25,
          0,
          0,
          -0.1574074074074074,
          0.15833333333333333,
          0.3,
          -0.3125,
          0,
          1,
          0,
          -0.28,
          0.4,
          -0.4,
          -0.14583333333333331,
          0,
          0,
          0,
          0,
          -0.16666666666666666,
          0,
          0,
          0.6083333333333334,
          0.3571428571428571,
          0.2,
          0,
          0.2,
          -0.054365079365079366,
          0.3333333333333333,
          0,
          -0.06666666666666668,
          0.16666666666666666,
          0.675,
          0.020000000000000018,
          0.375,
          0,
          1,
          0,
          0,
          0.625,
          1,
          -0.08888888888888886,
          0.4000000000000001,
          0,
          0,
          0,
          0,
          1,
          0,
          0,
          0.25,
          0.16666666666666666,
          -0.25,
          0.275,
          0,
          0,
          0,
          1,
          -0.002040816326530619,
          0.19270833333333334,
          -0.07333333333333333,
          -0.075,
          0,
          0,
          0,
          0.25,
          0,
          0,
          0,
          0.2,
          0,
          0,
          0.25,
          0.7,
          -0.24722222222222223,
          0,
          1,
          0,
          0,
          0.1625,
          0,
          0,
          -0.009999999999999998,
          0.15357142857142858,
          0.35,
          -0.2,
          0,
          0.53125,
          0.2170634920634921,
          0.10416666666666667,
          0.3499999999999999,
          0.35,
          0.45,
          0,
          0,
          0,
          0.5,
          0.03125,
          0.15000000000000008,
          -0.26249999999999996,
          -0.15000000000000002,
          0,
          -0.7,
          0,
          0.35,
          -0.5,
          -0.010000000000000002,
          -0.03333333333333333,
          0.275,
          0.26666666666666666,
          0.06984126984126983,
          0.05,
          0,
          0,
          0.1875,
          0.43333333333333335,
          0,
          0.25,
          0.8,
          0,
          0,
          0,
          0.4000000000000001,
          0,
          0,
          1,
          0.5,
          0.5,
          0.375,
          0,
          0.4,
          0,
          0,
          0.04985119047619047,
          -1,
          0,
          0.1357142857142857,
          0.29999999999999993,
          0.06818181818181818,
          -0.125,
          0,
          -0.18888888888888888,
          0.016666666666666666,
          -0.22499999999999992,
          0.4875,
          0,
          -0.16666666666666666,
          0.08416666666666668,
          0.1375,
          0,
          0,
          -0.3,
          0.5,
          0,
          0.5,
          -0.05,
          0,
          0,
          0.7,
          -0.3166666666666667,
          0,
          0.07500000000000001,
          0.2125,
          0,
          -0.5208333333333333,
          0.2,
          0,
          0.08333333333333334,
          0.27499999999999997,
          0,
          0.19375,
          0,
          0.18392857142857144,
          -0.018849206349206366,
          0.039999999999999994,
          0,
          0.1,
          0.13636363636363635,
          0,
          0,
          0.3416666666666666,
          0,
          0.9,
          0,
          0.2,
          -0.16333333333333333,
          0.75,
          0,
          0.7,
          0,
          0.625,
          0.3125,
          0.5,
          1,
          0,
          0.25,
          0,
          0,
          0,
          0.14375,
          0,
          0.2,
          -0.2,
          0.875,
          0.125,
          0.3333333333333333,
          -0.016666666666666663,
          -0.125,
          0,
          0.13636363636363635,
          0.25,
          0.15,
          0.7000000000000001,
          0.5,
          0.5,
          0,
          0,
          -0.125,
          0.25,
          0.25,
          -0.057142857142857155,
          -0.050000000000000044,
          0.125,
          0.35,
          0.125,
          0,
          -0.46875,
          0.0625,
          0.2,
          0,
          0.4000000000000001,
          0,
          0,
          0,
          0,
          0.1,
          0.35,
          0.625,
          0.2,
          0,
          0,
          0.11343537414965986,
          0.037500000000000006,
          0.75,
          0,
          0.4928571428571428,
          -0.125,
          0.4,
          0,
          0,
          0.5,
          0.16,
          0.06666666666666667,
          0.7,
          1,
          0.4,
          0.43333333333333335,
          0.125,
          0.19583333333333333,
          0.5,
          0.08125,
          0.05,
          0,
          0,
          0.225,
          0.21875,
          0.25,
          0.25,
          0,
          0.24523809523809526,
          0,
          0,
          0.7,
          0,
          0.26666666666666666,
          0.35,
          0.5,
          0,
          0.8,
          0,
          0.3,
          0,
          -0.3333333333333333,
          0.25,
          0,
          -0.20000000000000004,
          0,
          0,
          -0.08333333333333333,
          0,
          -0.625,
          0,
          0.25,
          0.15000000000000002,
          0,
          0,
          0,
          -0.4000000000000001,
          0.25,
          0,
          0.2,
          0.1,
          0,
          0,
          0.2640625,
          0.5,
          0,
          0.2,
          0.35,
          0.35,
          -0.30000000000000004,
          0.7500000000000001,
          -0.3125,
          0.35333333333333333,
          0.35,
          0,
          0.525,
          0,
          0.4375,
          0.3333333333333333,
          0,
          0,
          0.25,
          0.8,
          0,
          0,
          0.25,
          0.1875,
          -0.008333333333333331,
          0,
          0.5,
          0.25,
          0.46875,
          -0.12380952380952381,
          0.2,
          0,
          -0.125,
          -0.0625,
          0,
          0,
          0.125,
          0,
          0,
          0.8,
          0,
          0,
          0,
          0.7,
          0.05,
          0.2,
          0,
          0.05,
          -0.8,
          -0.0875,
          0,
          0,
          0,
          -0.41666666666666663,
          0,
          0.25,
          0,
          0,
          0.25,
          0,
          0,
          -0.20833333333333334,
          0,
          0.35,
          0,
          0.2,
          0,
          0,
          0.5,
          0,
          0.1,
          0.24999999999999997,
          1,
          0.2857142857142857,
          0.06666666666666667,
          -0.25625,
          0.18888888888888888,
          0.3571428571428571,
          0,
          0.375,
          0.65,
          0.5458333333333333,
          0.37499999999999994,
          0,
          0.42552083333333335,
          0.45,
          -0.13333333333333333,
          0.30000000000000004,
          0,
          0.1,
          1,
          0,
          0.5,
          0.3125,
          0,
          0,
          0.01785714285714285,
          0.04999999999999999,
          0,
          0,
          0.3125,
          0,
          0.21301020408163265,
          0,
          -0.3333333333333333,
          0.35,
          0.2,
          0.30000000000000004,
          0.13636363636363635,
          0.2,
          -0.15,
          0,
          -0.09999999999999999,
          0,
          0,
          0.35,
          0.15000000000000002,
          0.625,
          0.2,
          0.43333333333333335,
          0.39999999999999997,
          0.625,
          -0.25,
          0,
          -0.3125,
          0,
          0,
          0.08750000000000001,
          0.39166666666666666,
          0,
          0.13636363636363635,
          0,
          0.2375,
          0.15625,
          0.39999999999999997,
          0.34375,
          0.5,
          -0.3194444444444445,
          0.05,
          0,
          0.85,
          0.5,
          0,
          0,
          0.15208333333333335,
          0.2,
          0.35,
          0.045454545454545456,
          -0.05000000000000001,
          0.39999999999999997,
          0.4125,
          0,
          0.5,
          0.29375,
          0.23611111111111108,
          0,
          -0.05,
          0,
          0.19999999999999998,
          0,
          0,
          0.17708333333333331,
          0.09999999999999999,
          0,
          0,
          0,
          0,
          0.5,
          0,
          0.05555555555555555,
          0.25,
          0,
          -0.5,
          0.225,
          0,
          -0.3333333333333333,
          0,
          -0.07142857142857142,
          0,
          0,
          0.40833333333333327,
          0.08333333333333333,
          0,
          0,
          0.04807692307692307,
          0,
          0.375,
          -0.1,
          0.4,
          0,
          0,
          0,
          -0.19999999999999987,
          0,
          0,
          0.03125,
          0.17045454545454544,
          0,
          0.30000000000000004,
          0,
          0.067625,
          -0.0625,
          0.3225,
          0.1,
          0,
          0.35,
          -0.05,
          -0.5,
          0,
          0.5,
          0,
          0.25,
          0.03333333333333333,
          0,
          0,
          -1,
          0,
          0,
          0.26666666666666666,
          0.4375,
          0.5,
          -0.2,
          0,
          0.125,
          0,
          0,
          0.14999999999999997,
          0.7,
          0.3,
          0.2,
          0.425,
          0.125,
          0.5,
          0,
          0.30000000000000004,
          0.85,
          0.06666666666666667,
          0.25,
          0.2,
          0.2,
          -0.16666666666666666,
          0,
          0.25,
          0.8,
          0.43333333333333335,
          -0.075,
          -0.044444444444444474,
          0.39999999999999997,
          0,
          0,
          0,
          -0.4,
          0,
          0,
          0.2,
          0.03333333333333333,
          0.18666666666666668,
          0.05,
          0,
          0,
          0,
          -0.033333333333333326,
          0,
          0,
          0.22916666666666666,
          0.10625000000000001,
          -0.37499999999999994,
          0.375,
          0.5,
          -0.10000000000000002,
          0.0625,
          -0.0184,
          0.4,
          0.2140625,
          0,
          0,
          0,
          0,
          0,
          0.25,
          0.059375000000000025,
          0,
          0,
          -0.15,
          0.140625,
          0.09285714285714285,
          0.175,
          -0.15555555555555556,
          0.5375,
          0.65,
          0.18333333333333335,
          0.7,
          0,
          0.7,
          0.75,
          0,
          0.04910714285714285,
          0,
          0.016666666666666673,
          -0.16666666666666666,
          -0.4,
          -0.5,
          0,
          0,
          0,
          0.45,
          0,
          0.25,
          0.25,
          0.35,
          0,
          0,
          0.20535714285714285,
          -0.1033730158730159,
          0,
          -0.15,
          0.13333333333333333,
          -0.625,
          0.012500000000000004,
          0,
          0.85,
          0.2,
          -0.4000000000000001,
          1,
          -0.10952380952380954,
          -0.1607142857142857,
          -0.0625,
          0.5,
          0.125,
          0.5,
          0.85,
          0,
          0,
          0,
          0,
          0,
          0,
          0,
          0,
          0,
          -0.05,
          0,
          0,
          0,
          0.45,
          0.7,
          0.8,
          0.1,
          0,
          0.25,
          0,
          0.5,
          -0.03571428571428571,
          0.5,
          0.4166666666666667,
          0,
          0,
          0.125,
          0.35,
          -0.19166666666666665,
          0.25,
          0,
          0,
          0,
          0,
          0.13636363636363635,
          0.9099999999999999,
          0,
          0,
          0,
          0,
          0,
          0,
          0,
          0,
          0,
          0,
          0.41666666666666663,
          0,
          0.26428571428571435,
          0,
          0.2,
          0.225,
          0,
          0,
          0,
          0.06666666666666665,
          0,
          0.16,
          0.5,
          -0.125,
          -0.2916666666666667,
          0,
          0.5,
          0,
          -0.225,
          0.2,
          0,
          0.5,
          0,
          0.25,
          0.13636363636363635,
          0,
          0,
          0.14166666666666666,
          0.8,
          0.8,
          0.625,
          0.7,
          0,
          0,
          0.3,
          0.375,
          0,
          0.08,
          -0.12626262626262627,
          1,
          0,
          -0.16666666666666666,
          0.25,
          0.35,
          0,
          0,
          -0.012500000000000004,
          0.5,
          0.875,
          0,
          0.06666666666666665,
          0,
          0,
          0.25,
          -0.09999999999999999,
          -0.2763257575757575,
          0.225,
          0.25,
          0,
          0,
          -0.13333333333333328,
          -0.47222222222222227,
          0.037500000000000006,
          0.35,
          0.09617845117845118,
          0,
          0.06666666666666667,
          0,
          -0.4388888888888889,
          0.7000000000000001,
          0.75,
          0.35,
          0,
          0.2,
          -0.5625,
          0.7,
          0,
          0,
          0,
          0,
          0,
          0.375,
          0,
          0,
          0,
          0,
          0.2026666666666667,
          0.19999999999999998,
          0,
          0,
          0.4,
          0,
          0,
          0.125,
          0,
          0.225,
          0.16666666666666666,
          -0.15,
          0.10416666666666666,
          0,
          0.25,
          0,
          0,
          0.16,
          -0.06666666666666665,
          0.20571428571428574,
          0,
          0.375,
          0,
          0,
          0.15000000000000002,
          0.16666666666666666,
          0.16,
          -0.0863095238095238,
          0.09999999999999999,
          0,
          0,
          0,
          0,
          -0.3888888888888889,
          0.125,
          0.8,
          0,
          0,
          0,
          0,
          -0.5,
          0.7,
          0.06818181818181818,
          -0.3,
          0.375,
          0.225,
          0.25,
          0,
          0.625,
          0.2857142857142857,
          1,
          0.25,
          0,
          0.05833333333333333,
          0.35,
          0,
          0.35,
          0.09999999999999999,
          0,
          -0.3333333333333333,
          0,
          0.5,
          -0.065,
          0.5,
          0,
          0.1875,
          -0.125,
          0,
          0,
          -0.2638888888888889,
          0,
          0,
          0.3,
          0,
          0,
          -0.16666666666666666,
          0,
          0.04166666666666667,
          0,
          0.25,
          0.18,
          0,
          0.4
         ],
         "xaxis": "x",
         "y": [
          0.2,
          0.9,
          0,
          0.65,
          0,
          0.3333333333333333,
          0,
          0.8125,
          0.1,
          0,
          0.3522727272727273,
          0,
          0,
          0,
          0,
          0,
          0.3333333333333333,
          0,
          0,
          0.65,
          0.2,
          0,
          0,
          0.6854166666666667,
          1,
          0,
          1,
          0,
          0.25,
          0,
          0.6000000000000001,
          0.95,
          0.32727272727272727,
          0.3666666666666667,
          0.3790178571428572,
          1,
          0.6833333333333332,
          0,
          0.3875,
          0.7,
          0,
          0.9,
          0.5,
          0.575,
          0.06666666666666667,
          0.4,
          0.35000000000000003,
          0.375,
          0,
          0,
          0.4,
          0,
          0.6000000000000001,
          1,
          0,
          0,
          0.1,
          0.4166666666666667,
          0.6000000000000001,
          0.21333333333333332,
          0.65,
          0.35,
          0.7,
          0.55,
          0,
          0,
          0.5357142857142857,
          0.7142857142857142,
          0.4916666666666667,
          0.52,
          0.625,
          0.5657142857142857,
          0,
          0.65,
          0,
          0.7222222222222222,
          0.75,
          0,
          0,
          0.5714285714285714,
          0,
          0.8,
          0,
          0.5,
          0.15,
          0.675,
          0,
          0.725,
          0.25,
          0.35714285714285715,
          0.125,
          0.25,
          0.3666666666666667,
          0.6375,
          0.5,
          1,
          0.2888888888888889,
          1,
          1,
          0,
          0.325,
          0.9,
          0.5,
          0,
          0.125,
          0.6285714285714286,
          0,
          0.30999999999999994,
          0.5476190476190476,
          0.65,
          0.25,
          1,
          0.8333333333333334,
          0,
          0.6428571428571429,
          0,
          0,
          0.6,
          0.6,
          0,
          0.775,
          0,
          1,
          0.4975,
          0.7666666666666666,
          0.6,
          1,
          0.5666666666666668,
          0.25,
          0.375,
          1,
          0,
          0.491,
          0.5,
          0.4,
          0,
          0.5,
          0.5,
          0.6,
          0.25,
          0,
          0.5,
          0.4,
          0,
          0,
          0.65,
          0,
          0,
          0.6000000000000001,
          0.4,
          0,
          0.7,
          0.7,
          0.7,
          0.9,
          0.54,
          0,
          0.6333333333333333,
          0.4,
          0,
          0,
          0.7,
          0.5,
          0,
          0.6,
          0.95,
          0,
          0,
          0.6000000000000001,
          0.5875,
          0.7,
          0.602020202020202,
          0.3357142857142857,
          0.5,
          0.4636363636363636,
          0.2833333333333333,
          0,
          0.6333333333333333,
          0.5944444444444444,
          1,
          0.1875,
          0,
          0.3,
          0.62,
          0,
          0,
          0.5111111111111111,
          0.30000000000000004,
          0,
          0.5,
          0.5357142857142857,
          0.1,
          0.25,
          0,
          0,
          1,
          0,
          0.565,
          0.4458333333333333,
          0.35,
          0.2625,
          0,
          0,
          0,
          0.4,
          0.65,
          0.6,
          0.475,
          0.38095238095238093,
          0,
          0,
          0,
          0.65,
          0,
          0.30000000000000004,
          0.1,
          0,
          0.6,
          0.47857142857142854,
          0,
          0.5357142857142857,
          0.7999999999999999,
          0.5,
          0,
          0,
          0,
          0,
          0,
          0.7,
          0,
          0,
          0,
          1,
          0.25,
          0.5,
          0.35,
          0.038461538461538464,
          0.3,
          0.6666666666666666,
          0.25,
          0.75,
          0,
          0.15,
          0.5,
          0.5444444444444444,
          1,
          0,
          0.5833333333333333,
          0.10714285714285714,
          0,
          0,
          0.3,
          0.5,
          0.525,
          0,
          0.6,
          0.3,
          0,
          0,
          0.6666666666666666,
          0,
          0.65,
          1,
          0.7888888888888889,
          0,
          0,
          1,
          0.45,
          0.2533333333333333,
          0,
          0.1,
          0.25,
          0.33968253968253964,
          0.07692307692307693,
          0.6666666666666666,
          1,
          0.5333333333333333,
          0,
          0,
          0.2888888888888889,
          0,
          1,
          0.43333333333333335,
          0.6125,
          0,
          0.3,
          0.43333333333333335,
          0.75,
          0.2962962962962963,
          0,
          0,
          1,
          0,
          0,
          0,
          0.3,
          0.1,
          0.6333333333333333,
          0,
          0.6333333333333333,
          0,
          0.6666666666666666,
          0.06666666666666667,
          1,
          0.5714285714285714,
          0.5,
          0.1,
          0.275,
          0.3333333333333333,
          0,
          0.5416666666666666,
          0.75,
          0.5780952380952382,
          0.4,
          0.9,
          0,
          0.7373737373737373,
          0.7,
          0.7525,
          0.3333333333333333,
          0.76,
          0.2875,
          0.6875,
          0.75,
          0.4,
          0.5,
          0.525,
          0.7333333333333333,
          0.5,
          0.9,
          0,
          0.7333333333333334,
          0,
          0.5333333333333333,
          0.75,
          0,
          0,
          0,
          1,
          0.73,
          0,
          0.44629629629629636,
          0.125,
          0,
          0,
          0.4144444444444445,
          0.45454545454545453,
          1,
          0,
          0.3208333333333333,
          0.35,
          0.45454545454545453,
          0.7,
          0.5785714285714286,
          1,
          0.9,
          1,
          0,
          0,
          0.475,
          1,
          0.25,
          0,
          0,
          0.5,
          0,
          0,
          0,
          0,
          0.5,
          0,
          0.4,
          1,
          0,
          1,
          0,
          0,
          0.8,
          0.75,
          0,
          0,
          0,
          0.5,
          0.3,
          0.7,
          0,
          0.65,
          0.625,
          0,
          0.2583333333333333,
          0,
          0,
          0.6,
          0.1,
          0.6,
          0.375,
          0.6000000000000001,
          0,
          0.52,
          0.09583333333333333,
          0.65,
          0.2,
          1,
          0.9,
          0,
          0.39999999999999997,
          0.21333333333333335,
          0.1,
          0,
          0,
          0.125,
          0,
          0.5,
          0,
          0.6000000000000001,
          0.45,
          0,
          0,
          1,
          0,
          0.5,
          0,
          0,
          0.25,
          0,
          0,
          0,
          0,
          0,
          0.4777777777777778,
          0.3333333333333333,
          0,
          0,
          0.5,
          0,
          1,
          0.5,
          0,
          0.37916666666666665,
          0.42083333333333334,
          0,
          0.9333333333333332,
          0.37875000000000003,
          0.8888888888888888,
          0.6666666666666666,
          0.65,
          0,
          0.2625,
          0.1875,
          0,
          0.55,
          0.5083333333333334,
          0.6833333333333332,
          0.25,
          0,
          0,
          0.75,
          0.30000000000000004,
          0.9,
          0,
          1,
          0.8,
          0,
          0.125,
          0,
          0.8,
          0.1,
          0.6428571428571429,
          0,
          0,
          0.5,
          0,
          0,
          0,
          0,
          0.6000000000000001,
          1,
          0,
          0.75,
          0.33799999999999997,
          0.9,
          0.6000000000000001,
          0.9,
          0.2,
          0,
          0.3333333333333333,
          0,
          0.6,
          0,
          0.65,
          0.4483333333333334,
          0.75,
          0.11666666666666667,
          0.1,
          0,
          0.125,
          0.75,
          0.65,
          0.6404761904761904,
          0.1,
          0.2,
          0.3,
          0.9,
          0,
          0.48333333333333334,
          0.5,
          0.5,
          0.30000000000000004,
          0,
          0,
          0.65,
          0.6,
          0.9,
          0.6000000000000001,
          0.8333333333333333,
          0,
          0,
          0,
          0.5,
          0.9,
          0.65,
          0,
          0,
          0.2708333333333333,
          0.5,
          0,
          0.2,
          0,
          0.2625,
          0.75,
          0,
          0.9,
          0,
          0.3125,
          0.6000000000000001,
          0.5357142857142857,
          0,
          0,
          0,
          0.75,
          0,
          0.75,
          0,
          0,
          0.2,
          0.8166666666666667,
          0.3,
          0,
          0,
          0,
          0,
          0.5,
          0,
          0.7,
          0.125,
          0,
          0.75,
          0.45,
          0,
          0,
          0.54375,
          0.7,
          0.6944444444444444,
          0.6,
          0.65625,
          0.8,
          0,
          0.571111111111111,
          0.46666666666666673,
          0.3011904761904762,
          0.4,
          0,
          0,
          0.5,
          0.4244285714285715,
          0.7333333333333334,
          0.5653061224489796,
          0.5,
          0,
          0.625,
          0,
          0.26666666666666666,
          0.775,
          0.1,
          0,
          0.425,
          0.65,
          0.65,
          0,
          0,
          0.7904761904761904,
          0.5,
          0,
          0.6375,
          0.5,
          0,
          0.47333333333333333,
          0.3,
          1,
          0.4104761904761905,
          1,
          0.5,
          0,
          0,
          1,
          0.6944444444444444,
          1,
          0,
          0,
          0,
          0,
          0.5750000000000001,
          0.5,
          0,
          0.65,
          0,
          0.4,
          0.33333333333333337,
          0.6000000000000001,
          0.53125,
          0,
          0,
          0,
          0,
          0.4666666666666667,
          0.9,
          0.9,
          0,
          0.5,
          0.49444444444444446,
          0,
          0.6000000000000001,
          0.6000000000000001,
          0,
          0,
          0,
          0,
          0.5499999999999999,
          0.06666666666666667,
          0.45454545454545453,
          0,
          0.5,
          1,
          0.6518518518518518,
          0,
          0.5,
          0.5687142857142857,
          0.65,
          0.3625,
          0,
          0.25,
          0,
          0,
          0.29375,
          0.6000000000000001,
          0,
          0,
          0.645,
          0.26666666666666666,
          0.1,
          0.2,
          1,
          0.9,
          1,
          0.4105654761904762,
          0.48124999999999996,
          0.5714285714285714,
          0,
          0.65,
          0,
          0.22142857142857142,
          0,
          0.06666666666666667,
          1,
          0.5,
          0,
          0,
          0,
          0.615909090909091,
          0.16666666666666666,
          0.42500000000000004,
          0.55,
          1,
          0.3925925925925926,
          0.7000000000000001,
          0,
          0.26666666666666666,
          0.2733333333333333,
          0.475,
          0.1,
          0.2222222222222222,
          0.45454545454545453,
          1,
          0.5222222222222223,
          0.8,
          0,
          0.275,
          0,
          1,
          0.2,
          0,
          0,
          0.125,
          0.2,
          1,
          0,
          0,
          1,
          0.54,
          0,
          0,
          0.5238095238095238,
          0,
          0,
          0,
          0.5,
          0,
          0,
          0.6666666666666666,
          0.6875,
          0.9,
          0,
          0.25047619047619046,
          0.6333333333333333,
          0.5,
          0.5,
          0.4,
          0.06666666666666667,
          0.75,
          0.5,
          0,
          0,
          0,
          0,
          0,
          0.725,
          0.25,
          0.4,
          0.16666666666666666,
          0,
          0,
          0.25,
          0,
          0,
          0,
          0.4166666666666667,
          0,
          0,
          0.4,
          0.9,
          0.65,
          0,
          0,
          0.4,
          0.2,
          0,
          0,
          0,
          0.375,
          0.30000000000000004,
          0,
          0,
          0.46249999999999997,
          0,
          0,
          0.65,
          0,
          0,
          0.75,
          0,
          0,
          0,
          0.9375,
          0,
          0.54,
          0.1,
          0,
          0,
          0.65,
          0,
          0.03333333333333333,
          0.2833333333333333,
          0,
          0.6000000000000001,
          0,
          0.6010204081632653,
          0.35,
          0,
          0,
          0,
          0.55,
          0,
          0.5,
          0,
          0.2,
          0,
          0.8,
          0.4166666666666667,
          0.65,
          0.2333333333333333,
          0.95,
          0,
          0.8,
          0.54,
          0.1,
          0,
          0,
          0.2,
          0,
          0,
          0.6591269841269841,
          0,
          0.5844444444444444,
          0.2833333333333333,
          0.75,
          0.4,
          0.6000000000000001,
          0,
          0,
          0.5,
          0.4,
          0,
          0.3611111111111111,
          0,
          0,
          0,
          0.5,
          0.75,
          0.6000000000000001,
          0,
          0.275,
          0.5694444444444444,
          0,
          0.7301587301587301,
          0.5,
          0.55,
          0.5944444444444444,
          0,
          0.3944444444444445,
          0.2888888888888889,
          0.2,
          0,
          0.8333333333333334,
          0,
          0.8888888888888888,
          0.2897727272727273,
          0.2897727272727273,
          0,
          0.4291666666666667,
          0.6666666666666666,
          0.30000000000000004,
          0,
          1,
          0.25,
          1,
          0.5,
          0,
          0.2,
          0,
          0,
          0.25,
          0.6000000000000001,
          0.5079365079365079,
          0.5,
          0.8,
          0,
          0,
          0,
          0.8888888888888888,
          0.30000000000000004,
          0.1,
          0,
          0.75,
          0.6000000000000001,
          0.48333333333333334,
          0.5,
          0.54,
          0.9,
          0,
          0.29595238095238097,
          0.4375,
          0,
          0.530909090909091,
          0.5319444444444444,
          0.6194444444444444,
          0.4,
          0,
          0.5625,
          0,
          0,
          0,
          0,
          0,
          0,
          0.75,
          0,
          0.4,
          0,
          0.3,
          0.5416666666666666,
          0,
          0.25,
          0.0625,
          0.875,
          0.5,
          0.8333333333333334,
          0.4,
          0,
          0,
          0,
          0,
          0.4226190476190476,
          0.9,
          0.65,
          0.36250000000000004,
          0,
          0,
          0.6666666666666666,
          0.30000000000000004,
          0.475,
          0,
          0.5,
          0.25,
          0.3,
          0.5,
          0.75,
          0.5,
          0.06666666666666667,
          0,
          0,
          0,
          0.5,
          0,
          0.4,
          0.1,
          0.16666666666666666,
          0.725,
          0.5,
          0.1,
          0.5625,
          0.4,
          0,
          0.65,
          0,
          0.9,
          0.6346666666666667,
          0,
          0.49000000000000005,
          0.1,
          0,
          0.5357142857142857,
          0.75,
          0.65,
          0,
          0,
          0.125,
          0.7,
          0.65,
          0,
          0.2888888888888889,
          0,
          0.39444444444444443,
          0.5833333333333334,
          0,
          0,
          0.1,
          0.6066666666666667,
          0.3333333333333333,
          0,
          0,
          0,
          0.6,
          0.14285714285714285,
          0,
          0.2,
          1,
          0.6772727272727272,
          0,
          0.65,
          0.42727272727272725,
          0,
          0,
          0,
          0.3466666666666667,
          0,
          0,
          0.875,
          0,
          0.7,
          0.5093333333333333,
          0.75,
          0.5722222222222222,
          0.575,
          0.2916666666666667,
          0,
          0.325,
          0.5125,
          0.28611111111111115,
          0.30000000000000004,
          0.20357142857142857,
          0.95,
          0.15000000000000002,
          0.65,
          0.26666666666666666,
          0.6000000000000001,
          0,
          0.4,
          0.9,
          0,
          0.5,
          0.2125,
          0,
          0.21666666666666667,
          0,
          0,
          0.445,
          0.30000000000000004,
          0.4785714285714285,
          0,
          0.2,
          0.6,
          0.375,
          0,
          1,
          1,
          0.75,
          0.30000000000000004,
          0.4375,
          1,
          0.5729166666666666,
          0.7444444444444445,
          0.5680000000000001,
          0,
          0,
          0.44388888888888883,
          0.5666666666666667,
          0,
          0.25,
          0.54,
          0.6666666666666666,
          0.1,
          0,
          0.65,
          0.65,
          0.0625,
          0.77,
          0.5,
          0,
          0.625,
          0.125,
          0.5,
          0.25,
          0.5,
          0,
          0,
          0,
          0.6333333333333333,
          0.5119047619047619,
          0.75,
          0,
          0.45454545454545453,
          0,
          0,
          0.6,
          1,
          0,
          0.42833333333333334,
          0.75,
          0.55,
          1,
          0.4875,
          0,
          0,
          0.6000000000000001,
          0,
          1,
          0.75,
          0.75,
          0.2,
          0,
          0.75,
          0.75,
          0.9,
          0.5569444444444444,
          0.5416666666666666,
          0.55,
          0.44999999999999996,
          0.1,
          1,
          0.5,
          0.75,
          0,
          0,
          0.45499999999999996,
          0.825,
          1,
          0,
          0,
          0,
          0.7833333333333333,
          0.5,
          0,
          0,
          0.25,
          0,
          0,
          0.3,
          1,
          0.4,
          0,
          1,
          0.30000000000000004,
          1,
          0.6000000000000001,
          0,
          0.3,
          0.9629629629629629,
          0,
          0.125,
          0.5916666666666667,
          0.8888888888888888,
          0.3,
          0.5166666666666666,
          0.5,
          0.3944444444444445,
          0,
          0,
          0,
          0.5,
          0.8,
          0.325,
          0.19,
          0,
          0.2833333333333333,
          0,
          0,
          0.5,
          0.75,
          0,
          0.8,
          1,
          0.25,
          0,
          0.25,
          0,
          0,
          0.5,
          0.6000000000000001,
          0,
          0.1111111111111111,
          0,
          0.6333333333333333,
          0.25,
          1,
          0.3,
          0.5,
          0.65,
          0.75,
          0.25,
          0.65,
          0.5,
          0,
          0.6000000000000001,
          0,
          0.8,
          0,
          0.3,
          0.5,
          0,
          0.5,
          0,
          0.6333333333333334,
          0.6,
          0.25,
          0.6,
          0.4,
          0,
          0,
          0,
          0.6666666666666666,
          0.49861111111111117,
          0.7,
          0,
          0,
          0.3,
          0.4388888888888889,
          0.6777777777777777,
          0,
          0,
          0.4444444444444444,
          0.65,
          0.4,
          0,
          0.54,
          0.4666666666666666,
          0,
          0,
          0,
          0.5,
          0,
          0,
          0.25,
          1,
          0.75,
          0.4666666666666666,
          0.43444444444444447,
          1,
          0,
          0.5,
          0.3666666666666667,
          0.25,
          0,
          0.49375,
          0,
          0.25,
          0.6,
          0.5333333333333333,
          0,
          0.6000000000000001,
          1,
          0.54,
          0,
          0,
          1,
          0.25,
          0,
          0.65,
          0.65,
          0.35714285714285715,
          0,
          0,
          1,
          0.875,
          0,
          0.4,
          0,
          0.7333333333333334,
          0.3,
          0,
          0,
          0,
          0,
          1,
          0.2833333333333333,
          0.75,
          0.45454545454545453,
          0.8,
          0.6000000000000001,
          0.65,
          0,
          0.5357142857142857,
          0,
          0,
          0,
          0.65,
          0.5304,
          0.158974358974359,
          0,
          0.25,
          0.35,
          1,
          0.5,
          0.39999999999999997,
          1,
          0.3125,
          0,
          0.2,
          0,
          0.6333333333333333,
          0.5,
          1,
          0,
          0.30000000000000004,
          0.65,
          0,
          0,
          0.45,
          0.55,
          0.6404761904761904,
          0.15,
          0,
          0.95,
          0.475,
          1,
          0.75,
          0,
          0.3,
          0.45,
          0.25,
          0,
          0.475,
          0.3125,
          0,
          0.125,
          0,
          0.3,
          0,
          0,
          0.6944444444444443,
          0.32222222222222224,
          0,
          0.4,
          0.5,
          0.6666666666666666,
          0.7999999999999999,
          0.7136363636363636,
          0.2,
          0.610909090909091,
          0.4166666666666667,
          0.5,
          0,
          0.5666666666666667,
          0.39,
          0.1,
          0.3319444444444445,
          0.06666666666666667,
          1,
          0,
          0.6333333333333333,
          0.75,
          0.25,
          0.6,
          0.45,
          0,
          0.3383333333333333,
          0,
          0,
          0.4375,
          0.3,
          0.5,
          0.35500000000000004,
          0.5,
          0.625,
          0.125,
          0.4666666666666666,
          0,
          1,
          0,
          0,
          0.5,
          0.75,
          0.3125,
          1,
          0.6616071428571428,
          0.65,
          0.375,
          0,
          0,
          0,
          0.4,
          0,
          1,
          0,
          0,
          0.5138888888888888,
          0.6000000000000001,
          0.2,
          0.5,
          0.28055555555555556,
          0,
          0.5,
          0.2,
          0,
          0.3833333333333333,
          0.5375,
          0.85,
          0.4,
          0,
          0,
          0.20833333333333334,
          0.4903061224489796,
          0.2333333333333333,
          0.5625,
          0,
          0.4,
          0.45,
          0,
          0.5,
          0,
          0,
          0.5333333333333333,
          0.65,
          0.5357142857142857,
          0.775,
          0,
          0,
          0.3333333333333333,
          0.45833333333333337,
          0.6000000000000001,
          0.3333333333333333,
          0,
          0.3666666666666667,
          0.35,
          0.21428571428571427,
          0.44190476190476186,
          0,
          0.25,
          0,
          0,
          0.5833333333333334,
          0.6166666666666667,
          0,
          0.195,
          0.5,
          0.5,
          0.5333333333333333,
          0,
          0,
          0.6000000000000001,
          0,
          0.4666666666666666,
          0.4055555555555555,
          0.5750000000000001,
          0.6076388888888888,
          0,
          0,
          0,
          0,
          0,
          0,
          0,
          0.44999999999999996,
          0,
          0,
          1,
          0.48888888888888893,
          0.5875,
          0.8500000000000001,
          0.6096296296296296,
          0.22222222222222224,
          0.3571428571428571,
          0.9,
          0.7,
          0.8888888888888888,
          0.06666666666666667,
          0.06666666666666667,
          0.6000000000000001,
          1,
          0.2,
          0,
          0,
          0.95,
          0.3333333333333333,
          0.2,
          0.375,
          0.525,
          0.38333333333333336,
          0,
          0,
          0,
          0.2285714285714286,
          0,
          0,
          1,
          0.3516666666666667,
          0.25,
          0,
          0,
          0.8,
          0.525,
          0.5,
          0.2,
          0.15,
          0.3333333333333333,
          0,
          0.3,
          0.65,
          0.6,
          0,
          0.65,
          0.3,
          0.75,
          0,
          0.9444444444444444,
          0.5604166666666667,
          0,
          0.65,
          1,
          0.4033333333333333,
          0.77,
          0,
          0,
          0.15,
          0.65,
          0.4291666666666667,
          0.6962962962962963,
          0.3,
          0.65,
          0,
          0.875,
          0.625,
          0.8333333333333334,
          0.6000000000000001,
          0.2,
          0,
          0,
          0.3,
          0.5,
          0,
          0.3333333333333333,
          0,
          0.65,
          0,
          0,
          0,
          0,
          0,
          0.5323863636363636,
          0.6535714285714286,
          0.5,
          0.8888888888888888,
          0.6678571428571429,
          0.1,
          0.325,
          0.9,
          1,
          0.44833333333333336,
          1,
          0.5222222222222223,
          0.75,
          0.125,
          0.6725000000000001,
          0.18333333333333335,
          0,
          0.6666666666666666,
          0,
          1,
          0,
          0.7,
          0,
          0,
          0,
          0.6,
          0.15,
          0.6040178571428572,
          0.2,
          0,
          0,
          0,
          0,
          0,
          0,
          0.9,
          0.475,
          0.7857142857142857,
          1,
          0.6000000000000001,
          0.9,
          0.5193877551020408,
          0.53,
          0.75,
          0.48333333333333334,
          0.25,
          0.4,
          0,
          0,
          0.6000000000000001,
          0,
          0.75,
          0.2,
          0.8,
          0.346031746031746,
          0.25,
          0.55625,
          0,
          0,
          0,
          0.3,
          0,
          0,
          0,
          0,
          0,
          0,
          0.25,
          1,
          0.5,
          0,
          0.6333333333333333,
          0,
          0,
          0,
          0,
          0.1,
          0,
          0,
          0.5,
          0.6,
          0.5,
          0.65,
          0,
          0.5,
          0.5249999999999999,
          0.4,
          0.26666666666666666,
          0.32589285714285715,
          0,
          0,
          0.75,
          0,
          0.6666666666666666,
          0.7999999999999999,
          0.6666666666666666,
          0,
          0,
          0.5166666666666666,
          0.5166666666666666,
          1,
          0.25,
          0,
          0.9,
          0.15,
          0,
          0,
          0.4,
          0.45,
          0.5,
          0.475,
          0,
          0.25,
          0.425,
          0.30833333333333335,
          0,
          0.6333333333333333,
          0.5,
          1,
          0,
          0,
          0.6000000000000001,
          0,
          0.30000000000000004,
          0,
          0.4,
          0.4,
          0.6,
          0,
          0.3125,
          0.5333333333333333,
          0,
          0,
          0,
          0.25,
          0,
          0.7250000000000001,
          0.7875,
          0.44166666666666665,
          0.55,
          0.2,
          0.47222222222222215,
          0,
          0,
          0.55,
          0.6416666666666667,
          0.65,
          1,
          0.6916666666666667,
          0.37,
          0.3458333333333333,
          0.7,
          0.3601190476190476,
          0.25,
          1,
          0.37777777777777777,
          0.1,
          0,
          0,
          0,
          0.9,
          0.625,
          0.65,
          0.475,
          0,
          0.5,
          0.35,
          0.8888888888888888,
          0.2833333333333333,
          0.7333333333333334,
          0,
          0.5,
          0,
          0,
          0.6666666666666666,
          0.3833333333333333,
          0,
          0,
          0,
          0.6125,
          0.6666666666666666,
          0.4916666666666667,
          0.5,
          0.1,
          0,
          0,
          0.25,
          1,
          0.18666666666666668,
          1,
          0,
          0.5,
          0.5,
          0.5,
          0,
          0,
          0.875,
          0.8,
          0.75,
          0.575,
          0,
          0,
          0.5333333333333333,
          0,
          0.9,
          0.25,
          0.5,
          0.5499999999999999,
          0.2888888888888889,
          0.8,
          0.2,
          0,
          0,
          0,
          0.3,
          0,
          0.2,
          0.4625,
          0.6000000000000001,
          0,
          0.6000000000000001,
          0.5,
          0,
          1,
          0,
          0.75,
          0,
          0.4,
          0.1,
          0.5416666666666666,
          0.5166666666666666,
          0.25,
          0.5,
          0,
          0.9,
          0.75,
          1,
          0.4444444444444444,
          0.5,
          0,
          0,
          0,
          0.15000000000000002,
          0,
          0.4871428571428571,
          0.14285714285714285,
          0.35,
          0.3833333333333333,
          1,
          0.40499999999999997,
          0.06666666666666667,
          0.5,
          0.6000000000000001,
          0.4444444444444444,
          0,
          0.3125,
          0.7,
          0,
          0.15833333333333333,
          0.2833333333333333,
          0.3333333333333333,
          0,
          0.6666666666666666,
          0,
          0,
          0.06666666666666667,
          0,
          0.2,
          0,
          0,
          0.65,
          0.25,
          0.45,
          0.1,
          0,
          0.08333333333333334,
          0.2833333333333333,
          0,
          0,
          1,
          0,
          0.6625,
          0.41830357142857144,
          0.75,
          0,
          0.17857142857142858,
          0.25,
          0.825,
          1,
          0.4,
          0.2,
          0.25,
          0.5,
          0.775,
          0.3,
          0.9,
          0.37833333333333335,
          0.5357142857142857,
          0.4479591836734694,
          0,
          0.575,
          0.9,
          1,
          0.6499999999999999,
          0,
          0.6000000000000001,
          0.8125,
          0,
          0.3666666666666667,
          0.5,
          0,
          0.38833333333333336,
          0.75,
          0,
          0,
          0.5666666666666667,
          0.5666666666666668,
          1,
          0.6875,
          0,
          1,
          0,
          0.7233333333333334,
          0.625,
          0.7,
          0.5333333333333333,
          0,
          0,
          0,
          0,
          0.3,
          0,
          0,
          0.6458333333333334,
          0.5357142857142857,
          0.3,
          0,
          0.30000000000000004,
          0.31865079365079363,
          0.6666666666666666,
          0.20000000000000004,
          0.2833333333333333,
          0.3333333333333333,
          0.825,
          0.44816326530612244,
          0.375,
          0,
          0.3,
          0,
          0,
          0.5,
          1,
          0.6111111111111112,
          0.6333333333333333,
          0,
          0,
          0,
          1,
          0.3,
          0,
          0,
          0.5,
          0.625,
          0.5,
          0.42500000000000004,
          0.4,
          0,
          0,
          1,
          0.4241496598639456,
          0.6041666666666666,
          0.16999999999999998,
          0.6499999999999999,
          0,
          0,
          1,
          1,
          0,
          0,
          0,
          0.3,
          0,
          0,
          0.25,
          0.9,
          0.34444444444444444,
          0,
          0.3,
          0,
          0,
          0.825,
          0,
          0,
          0.48,
          0.6071428571428571,
          0.4,
          0.3,
          0,
          0.4,
          0.5142857142857142,
          0.2833333333333333,
          0.6666666666666666,
          0.65,
          0.75,
          0,
          0,
          0,
          0.5,
          0.75,
          0.4833333333333333,
          0.6333333333333333,
          0.5,
          0,
          0.2,
          0.7000000000000001,
          0.65,
          0.5,
          0.335,
          0.16666666666666666,
          0.475,
          0.4666666666666667,
          0.6003968253968254,
          0.5,
          0,
          0,
          0.4375,
          0.7333333333333334,
          0.5,
          0.7000000000000001,
          0.7,
          0.125,
          0,
          0,
          0.6333333333333333,
          0,
          0,
          0.75,
          0.5,
          0.5,
          0.2,
          0,
          0.425,
          0,
          0,
          0.41200396825396823,
          1,
          0.1,
          0.46904761904761905,
          0.5833333333333333,
          0.7272727272727273,
          1,
          0,
          0.6222222222222222,
          0.23333333333333334,
          0.8333333333333333,
          0.6333333333333333,
          0,
          0.16666666666666666,
          0.6708333333333334,
          0.9,
          0.5,
          0,
          0.9,
          0.6,
          0,
          0.6,
          0.35,
          0.1875,
          0,
          0.6000000000000001,
          0.5416666666666667,
          0.39999999999999997,
          0.275,
          0.3333333333333333,
          0,
          0.75,
          0.15000000000000002,
          0,
          0.3666666666666667,
          0.5,
          0,
          0.5,
          0,
          0.5214285714285715,
          0.6253968253968254,
          0.5650000000000001,
          0,
          0.4,
          0.45454545454545453,
          0,
          0,
          0.7999999999999999,
          0,
          0.9,
          0,
          0.6,
          0.3333333333333333,
          0.4,
          0,
          0.6000000000000001,
          0,
          0.5,
          0.7,
          0.5,
          0.3,
          0,
          0.30000000000000004,
          0,
          0,
          0.125,
          0.26875,
          0,
          0.30000000000000004,
          0.5,
          0.1,
          0.65,
          0.8333333333333334,
          0.47083333333333327,
          0.375,
          0,
          0.45454545454545453,
          1,
          0.6499999999999999,
          0.7999999999999999,
          0.5,
          0.6944444444444444,
          0,
          0,
          0.375,
          0.25,
          0.15000000000000002,
          0.4428571428571428,
          0.6,
          0.4,
          0.30000000000000004,
          0.5833333333333334,
          0,
          0.75,
          0.5,
          0.54,
          0,
          0.6333333333333333,
          0,
          0,
          0,
          0,
          0.45,
          0.65,
          0.6,
          0.9,
          0,
          0,
          0.5146258503401361,
          0.65,
          0.625,
          0,
          0.31785714285714284,
          0.5642857142857143,
          1,
          0.5,
          0.1,
          0.6,
          0.54,
          0.7333333333333333,
          0.6000000000000001,
          1,
          0.5,
          0.8333333333333334,
          0.625,
          0.41666666666666663,
          0.6,
          0.4142857142857143,
          0.6,
          0,
          0,
          0.2,
          0.45,
          0.2,
          0.25,
          0,
          0.4785714285714286,
          0,
          0.4,
          0.6000000000000001,
          0.375,
          0.9666666666666667,
          0.525,
          0.5,
          0,
          0.75,
          0,
          0.8,
          0,
          0.6666666666666666,
          0.25,
          0,
          0.5,
          0,
          0,
          0.65,
          0,
          1,
          0,
          0.3333333333333333,
          0.875,
          0.5,
          0,
          0,
          0.6,
          0.3333333333333333,
          0,
          0.9,
          0.31666666666666665,
          0.8125,
          0,
          0.6375,
          0.5,
          0,
          0.30000000000000004,
          0.65,
          0.65,
          0.475,
          0.9,
          0.6875,
          0.555,
          0.44999999999999996,
          0,
          0.5416666666666666,
          0,
          0.65,
          0.6666666666666666,
          0,
          0,
          0.75,
          0.75,
          0,
          0,
          0.8125,
          0.4375,
          0.3541666666666667,
          0,
          0.35000000000000003,
          0.2,
          0.875,
          0.5380952380952381,
          0.6,
          0,
          0,
          0.6958333333333333,
          0,
          0,
          0.31666666666666665,
          0,
          1,
          0.7,
          0,
          1,
          0,
          0.6000000000000001,
          0.6,
          0.55,
          0,
          0.5125,
          0.9,
          0.4,
          0,
          0,
          0,
          0.6666666666666666,
          0,
          0.3333333333333333,
          0,
          0,
          0.25,
          0,
          0,
          0.7916666666666666,
          0,
          0.65,
          0,
          0.3,
          0,
          0,
          0.5,
          0,
          0.9,
          0.5,
          0.75,
          0.5357142857142857,
          0.16666666666666666,
          0.39375,
          0.6666666666666666,
          0.5357142857142857,
          0,
          0.75,
          0.525,
          0.8333333333333334,
          0.6083333333333333,
          0,
          0.4,
          0.65,
          0.6,
          0.7,
          0,
          0.15,
          1,
          0,
          0.5,
          0.6444444444444444,
          0.1,
          0,
          0.39285714285714285,
          0.6416666666666666,
          0,
          0,
          1,
          0,
          0.5591836734693878,
          0,
          0.6666666666666666,
          0.65,
          0.3,
          0.35,
          0.45454545454545453,
          0.43333333333333335,
          0.7,
          0,
          0.7,
          0,
          1,
          0.65,
          1,
          1,
          0.55,
          0.8333333333333334,
          0.4,
          0.5,
          0.75,
          0,
          0.6875,
          0.5,
          0.5,
          0.25555555555555554,
          0.7416666666666667,
          0,
          0.45454545454545453,
          0,
          0.30833333333333335,
          0.3333333333333333,
          0.9,
          0.5416666666666666,
          0.5,
          0.7777777777777777,
          0.1,
          0,
          1,
          0.65,
          0,
          0,
          0.6520833333333333,
          0.9,
          0.65,
          0.3224242424242424,
          0.6388888888888888,
          0.5666666666666668,
          0.5,
          0,
          1,
          0.49375,
          0.38055555555555554,
          0,
          0.4,
          0,
          0.45,
          0,
          0,
          0.5354166666666667,
          0.6,
          0,
          0,
          0,
          0,
          0.75,
          0,
          0.6666666666666667,
          0.5,
          0,
          0.5,
          0.6,
          0,
          0.6666666666666666,
          0,
          0.21428571428571427,
          0,
          0,
          0.6238095238095238,
          1,
          0,
          0,
          0.5288461538461539,
          0,
          0.875,
          0.05,
          0.3,
          1,
          0,
          0,
          0.8222222222222223,
          0,
          0,
          0.4,
          0.4348484848484849,
          0,
          0.65,
          0.125,
          0.35050000000000003,
          0.4,
          0.7,
          1,
          0,
          0.65,
          0.2,
          1,
          0,
          1,
          0,
          0.25,
          0.4166666666666667,
          0.43333333333333335,
          0,
          1,
          0,
          0,
          0.8333333333333334,
          0.65,
          0.5,
          0.37857142857142856,
          0,
          0.5,
          0,
          0,
          0.5,
          0.44999999999999996,
          0.9,
          0.5875,
          0.6666666666666666,
          0.2,
          0.5,
          0,
          0.55,
          1,
          0.48333333333333334,
          0.25,
          0.3,
          0.4,
          0.16666666666666666,
          0,
          0.25,
          0.75,
          0.7333333333333334,
          0.3142857142857143,
          0.9666666666666667,
          0.7296296296296297,
          0,
          0.125,
          0,
          0.4,
          0,
          0,
          0.35,
          1,
          0.8466666666666667,
          0.29000000000000004,
          0,
          0,
          0,
          0.3666666666666667,
          0,
          0,
          0.4291666666666667,
          0.30625,
          0.4083333333333333,
          0.5,
          0.5,
          0.5666666666666667,
          0.23333333333333334,
          0.2670666666666667,
          0.5,
          0.359375,
          0,
          0,
          0,
          0.075,
          0,
          0.25,
          0.621875,
          0,
          1,
          0.2,
          0.45000000000000007,
          0.31785714285714284,
          0.75,
          0.2888888888888889,
          0.8,
          0.7,
          0.55,
          0.6000000000000001,
          0,
          0.6000000000000001,
          0.95,
          0,
          0.5178571428571428,
          0,
          0.5,
          0.16666666666666666,
          0.6375,
          0.55,
          0,
          0,
          0.1,
          0.7444444444444445,
          0,
          0.25,
          0.25,
          0.65,
          0,
          0.5,
          0.5422619047619047,
          0.6712301587301587,
          0.5,
          0.6,
          0.3666666666666667,
          1,
          0.28125,
          0,
          1,
          0.575,
          0.6,
          1,
          0.2738095238095238,
          0.30714285714285716,
          0.3375,
          0.5,
          0.16666666666666666,
          0.5,
          1,
          0,
          0,
          0,
          0,
          0,
          0,
          0,
          0,
          0,
          0.2,
          0,
          0,
          0,
          0.8500000000000001,
          0.6000000000000001,
          0.75,
          0.4,
          0,
          0.6577777777777778,
          0,
          0.5,
          0.16964285714285715,
          0.5,
          0.5,
          0.55,
          0,
          0.24166666666666667,
          0.65,
          0.5333333333333333,
          0.25,
          0,
          0,
          0,
          0,
          0.45454545454545453,
          1,
          0,
          0.1,
          0,
          0,
          0,
          0,
          0,
          0,
          0,
          0,
          0.8333333333333334,
          0,
          0.5571428571428572,
          0,
          0.9,
          0.6,
          0,
          0,
          0,
          0.6666666666666666,
          0,
          0.54,
          0.5,
          0.45,
          0.5416666666666666,
          0,
          0.5,
          0,
          0.4,
          0.30000000000000004,
          0,
          0.5,
          0,
          0.5,
          0.45454545454545453,
          0,
          0,
          0.5333333333333333,
          0.75,
          0.75,
          0.5,
          0.6000000000000001,
          0,
          0,
          0.2,
          0.1,
          0,
          0.27,
          0.6439393939393939,
          1,
          0,
          0.16666666666666666,
          0.25,
          0.65,
          0,
          0,
          0.51875,
          0.8888888888888888,
          0.6000000000000001,
          0.1,
          0.5833333333333333,
          0,
          0,
          0.1,
          0.6333333333333333,
          0.5386363636363637,
          0.6,
          0.2,
          0,
          0,
          0.5666666666666667,
          0.8472222222222222,
          0.5125,
          0.65,
          0.5985690235690235,
          0,
          0.5166666666666667,
          0,
          0.9111111111111111,
          0.7999999999999999,
          1,
          0.65,
          0,
          0.54,
          0.55,
          0.6000000000000001,
          0,
          0,
          0,
          0,
          0,
          0.2,
          0,
          0,
          0.6,
          0,
          0.8673333333333333,
          0.95,
          0,
          0,
          0.45,
          0,
          0,
          0.5666666666666667,
          0,
          0.5750000000000001,
          0.7000000000000001,
          0.39999999999999997,
          0.5208333333333333,
          0,
          0.25,
          0,
          0,
          0.54,
          0.4833333333333333,
          0.3485714285714286,
          0,
          0.8,
          0,
          0,
          0.2,
          0.23333333333333336,
          0.54,
          0.5392857142857143,
          0.2234126984126984,
          0,
          0.125,
          0,
          0,
          0.8333333333333334,
          0.30000000000000004,
          0.75,
          0,
          0,
          0,
          0.85,
          0.875,
          0.6000000000000001,
          0.37727272727272726,
          0.55,
          0.875,
          0.45,
          0.30000000000000004,
          0.1,
          0.5,
          0.5357142857142857,
          0.75,
          0.5,
          0,
          0.43333333333333335,
          0.65,
          0.1,
          0.65,
          0.3833333333333333,
          0,
          0.6666666666666666,
          0,
          0.5,
          0.52,
          0.5,
          0.5625,
          0.4375,
          0.375,
          0,
          0,
          0.6805555555555555,
          0,
          0,
          0.5,
          0,
          0.5,
          0.25,
          0,
          0.2833333333333333,
          0,
          0.25,
          0.545,
          0,
          0.8
         ],
         "yaxis": "y"
        }
       ],
       "layout": {
        "legend": {
         "tracegroupgap": 0
        },
        "template": {
         "data": {
          "bar": [
           {
            "error_x": {
             "color": "#2a3f5f"
            },
            "error_y": {
             "color": "#2a3f5f"
            },
            "marker": {
             "line": {
              "color": "#E5ECF6",
              "width": 0.5
             },
             "pattern": {
              "fillmode": "overlay",
              "size": 10,
              "solidity": 0.2
             }
            },
            "type": "bar"
           }
          ],
          "barpolar": [
           {
            "marker": {
             "line": {
              "color": "#E5ECF6",
              "width": 0.5
             },
             "pattern": {
              "fillmode": "overlay",
              "size": 10,
              "solidity": 0.2
             }
            },
            "type": "barpolar"
           }
          ],
          "carpet": [
           {
            "aaxis": {
             "endlinecolor": "#2a3f5f",
             "gridcolor": "white",
             "linecolor": "white",
             "minorgridcolor": "white",
             "startlinecolor": "#2a3f5f"
            },
            "baxis": {
             "endlinecolor": "#2a3f5f",
             "gridcolor": "white",
             "linecolor": "white",
             "minorgridcolor": "white",
             "startlinecolor": "#2a3f5f"
            },
            "type": "carpet"
           }
          ],
          "choropleth": [
           {
            "colorbar": {
             "outlinewidth": 0,
             "ticks": ""
            },
            "type": "choropleth"
           }
          ],
          "contour": [
           {
            "colorbar": {
             "outlinewidth": 0,
             "ticks": ""
            },
            "colorscale": [
             [
              0,
              "#0d0887"
             ],
             [
              0.1111111111111111,
              "#46039f"
             ],
             [
              0.2222222222222222,
              "#7201a8"
             ],
             [
              0.3333333333333333,
              "#9c179e"
             ],
             [
              0.4444444444444444,
              "#bd3786"
             ],
             [
              0.5555555555555556,
              "#d8576b"
             ],
             [
              0.6666666666666666,
              "#ed7953"
             ],
             [
              0.7777777777777778,
              "#fb9f3a"
             ],
             [
              0.8888888888888888,
              "#fdca26"
             ],
             [
              1,
              "#f0f921"
             ]
            ],
            "type": "contour"
           }
          ],
          "contourcarpet": [
           {
            "colorbar": {
             "outlinewidth": 0,
             "ticks": ""
            },
            "type": "contourcarpet"
           }
          ],
          "heatmap": [
           {
            "colorbar": {
             "outlinewidth": 0,
             "ticks": ""
            },
            "colorscale": [
             [
              0,
              "#0d0887"
             ],
             [
              0.1111111111111111,
              "#46039f"
             ],
             [
              0.2222222222222222,
              "#7201a8"
             ],
             [
              0.3333333333333333,
              "#9c179e"
             ],
             [
              0.4444444444444444,
              "#bd3786"
             ],
             [
              0.5555555555555556,
              "#d8576b"
             ],
             [
              0.6666666666666666,
              "#ed7953"
             ],
             [
              0.7777777777777778,
              "#fb9f3a"
             ],
             [
              0.8888888888888888,
              "#fdca26"
             ],
             [
              1,
              "#f0f921"
             ]
            ],
            "type": "heatmap"
           }
          ],
          "heatmapgl": [
           {
            "colorbar": {
             "outlinewidth": 0,
             "ticks": ""
            },
            "colorscale": [
             [
              0,
              "#0d0887"
             ],
             [
              0.1111111111111111,
              "#46039f"
             ],
             [
              0.2222222222222222,
              "#7201a8"
             ],
             [
              0.3333333333333333,
              "#9c179e"
             ],
             [
              0.4444444444444444,
              "#bd3786"
             ],
             [
              0.5555555555555556,
              "#d8576b"
             ],
             [
              0.6666666666666666,
              "#ed7953"
             ],
             [
              0.7777777777777778,
              "#fb9f3a"
             ],
             [
              0.8888888888888888,
              "#fdca26"
             ],
             [
              1,
              "#f0f921"
             ]
            ],
            "type": "heatmapgl"
           }
          ],
          "histogram": [
           {
            "marker": {
             "pattern": {
              "fillmode": "overlay",
              "size": 10,
              "solidity": 0.2
             }
            },
            "type": "histogram"
           }
          ],
          "histogram2d": [
           {
            "colorbar": {
             "outlinewidth": 0,
             "ticks": ""
            },
            "colorscale": [
             [
              0,
              "#0d0887"
             ],
             [
              0.1111111111111111,
              "#46039f"
             ],
             [
              0.2222222222222222,
              "#7201a8"
             ],
             [
              0.3333333333333333,
              "#9c179e"
             ],
             [
              0.4444444444444444,
              "#bd3786"
             ],
             [
              0.5555555555555556,
              "#d8576b"
             ],
             [
              0.6666666666666666,
              "#ed7953"
             ],
             [
              0.7777777777777778,
              "#fb9f3a"
             ],
             [
              0.8888888888888888,
              "#fdca26"
             ],
             [
              1,
              "#f0f921"
             ]
            ],
            "type": "histogram2d"
           }
          ],
          "histogram2dcontour": [
           {
            "colorbar": {
             "outlinewidth": 0,
             "ticks": ""
            },
            "colorscale": [
             [
              0,
              "#0d0887"
             ],
             [
              0.1111111111111111,
              "#46039f"
             ],
             [
              0.2222222222222222,
              "#7201a8"
             ],
             [
              0.3333333333333333,
              "#9c179e"
             ],
             [
              0.4444444444444444,
              "#bd3786"
             ],
             [
              0.5555555555555556,
              "#d8576b"
             ],
             [
              0.6666666666666666,
              "#ed7953"
             ],
             [
              0.7777777777777778,
              "#fb9f3a"
             ],
             [
              0.8888888888888888,
              "#fdca26"
             ],
             [
              1,
              "#f0f921"
             ]
            ],
            "type": "histogram2dcontour"
           }
          ],
          "mesh3d": [
           {
            "colorbar": {
             "outlinewidth": 0,
             "ticks": ""
            },
            "type": "mesh3d"
           }
          ],
          "parcoords": [
           {
            "line": {
             "colorbar": {
              "outlinewidth": 0,
              "ticks": ""
             }
            },
            "type": "parcoords"
           }
          ],
          "pie": [
           {
            "automargin": true,
            "type": "pie"
           }
          ],
          "scatter": [
           {
            "fillpattern": {
             "fillmode": "overlay",
             "size": 10,
             "solidity": 0.2
            },
            "type": "scatter"
           }
          ],
          "scatter3d": [
           {
            "line": {
             "colorbar": {
              "outlinewidth": 0,
              "ticks": ""
             }
            },
            "marker": {
             "colorbar": {
              "outlinewidth": 0,
              "ticks": ""
             }
            },
            "type": "scatter3d"
           }
          ],
          "scattercarpet": [
           {
            "marker": {
             "colorbar": {
              "outlinewidth": 0,
              "ticks": ""
             }
            },
            "type": "scattercarpet"
           }
          ],
          "scattergeo": [
           {
            "marker": {
             "colorbar": {
              "outlinewidth": 0,
              "ticks": ""
             }
            },
            "type": "scattergeo"
           }
          ],
          "scattergl": [
           {
            "marker": {
             "colorbar": {
              "outlinewidth": 0,
              "ticks": ""
             }
            },
            "type": "scattergl"
           }
          ],
          "scattermapbox": [
           {
            "marker": {
             "colorbar": {
              "outlinewidth": 0,
              "ticks": ""
             }
            },
            "type": "scattermapbox"
           }
          ],
          "scatterpolar": [
           {
            "marker": {
             "colorbar": {
              "outlinewidth": 0,
              "ticks": ""
             }
            },
            "type": "scatterpolar"
           }
          ],
          "scatterpolargl": [
           {
            "marker": {
             "colorbar": {
              "outlinewidth": 0,
              "ticks": ""
             }
            },
            "type": "scatterpolargl"
           }
          ],
          "scatterternary": [
           {
            "marker": {
             "colorbar": {
              "outlinewidth": 0,
              "ticks": ""
             }
            },
            "type": "scatterternary"
           }
          ],
          "surface": [
           {
            "colorbar": {
             "outlinewidth": 0,
             "ticks": ""
            },
            "colorscale": [
             [
              0,
              "#0d0887"
             ],
             [
              0.1111111111111111,
              "#46039f"
             ],
             [
              0.2222222222222222,
              "#7201a8"
             ],
             [
              0.3333333333333333,
              "#9c179e"
             ],
             [
              0.4444444444444444,
              "#bd3786"
             ],
             [
              0.5555555555555556,
              "#d8576b"
             ],
             [
              0.6666666666666666,
              "#ed7953"
             ],
             [
              0.7777777777777778,
              "#fb9f3a"
             ],
             [
              0.8888888888888888,
              "#fdca26"
             ],
             [
              1,
              "#f0f921"
             ]
            ],
            "type": "surface"
           }
          ],
          "table": [
           {
            "cells": {
             "fill": {
              "color": "#EBF0F8"
             },
             "line": {
              "color": "white"
             }
            },
            "header": {
             "fill": {
              "color": "#C8D4E3"
             },
             "line": {
              "color": "white"
             }
            },
            "type": "table"
           }
          ]
         },
         "layout": {
          "annotationdefaults": {
           "arrowcolor": "#2a3f5f",
           "arrowhead": 0,
           "arrowwidth": 1
          },
          "autotypenumbers": "strict",
          "coloraxis": {
           "colorbar": {
            "outlinewidth": 0,
            "ticks": ""
           }
          },
          "colorscale": {
           "diverging": [
            [
             0,
             "#8e0152"
            ],
            [
             0.1,
             "#c51b7d"
            ],
            [
             0.2,
             "#de77ae"
            ],
            [
             0.3,
             "#f1b6da"
            ],
            [
             0.4,
             "#fde0ef"
            ],
            [
             0.5,
             "#f7f7f7"
            ],
            [
             0.6,
             "#e6f5d0"
            ],
            [
             0.7,
             "#b8e186"
            ],
            [
             0.8,
             "#7fbc41"
            ],
            [
             0.9,
             "#4d9221"
            ],
            [
             1,
             "#276419"
            ]
           ],
           "sequential": [
            [
             0,
             "#0d0887"
            ],
            [
             0.1111111111111111,
             "#46039f"
            ],
            [
             0.2222222222222222,
             "#7201a8"
            ],
            [
             0.3333333333333333,
             "#9c179e"
            ],
            [
             0.4444444444444444,
             "#bd3786"
            ],
            [
             0.5555555555555556,
             "#d8576b"
            ],
            [
             0.6666666666666666,
             "#ed7953"
            ],
            [
             0.7777777777777778,
             "#fb9f3a"
            ],
            [
             0.8888888888888888,
             "#fdca26"
            ],
            [
             1,
             "#f0f921"
            ]
           ],
           "sequentialminus": [
            [
             0,
             "#0d0887"
            ],
            [
             0.1111111111111111,
             "#46039f"
            ],
            [
             0.2222222222222222,
             "#7201a8"
            ],
            [
             0.3333333333333333,
             "#9c179e"
            ],
            [
             0.4444444444444444,
             "#bd3786"
            ],
            [
             0.5555555555555556,
             "#d8576b"
            ],
            [
             0.6666666666666666,
             "#ed7953"
            ],
            [
             0.7777777777777778,
             "#fb9f3a"
            ],
            [
             0.8888888888888888,
             "#fdca26"
            ],
            [
             1,
             "#f0f921"
            ]
           ]
          },
          "colorway": [
           "#636efa",
           "#EF553B",
           "#00cc96",
           "#ab63fa",
           "#FFA15A",
           "#19d3f3",
           "#FF6692",
           "#B6E880",
           "#FF97FF",
           "#FECB52"
          ],
          "font": {
           "color": "#2a3f5f"
          },
          "geo": {
           "bgcolor": "white",
           "lakecolor": "white",
           "landcolor": "#E5ECF6",
           "showlakes": true,
           "showland": true,
           "subunitcolor": "white"
          },
          "hoverlabel": {
           "align": "left"
          },
          "hovermode": "closest",
          "mapbox": {
           "style": "light"
          },
          "paper_bgcolor": "white",
          "plot_bgcolor": "#E5ECF6",
          "polar": {
           "angularaxis": {
            "gridcolor": "white",
            "linecolor": "white",
            "ticks": ""
           },
           "bgcolor": "#E5ECF6",
           "radialaxis": {
            "gridcolor": "white",
            "linecolor": "white",
            "ticks": ""
           }
          },
          "scene": {
           "xaxis": {
            "backgroundcolor": "#E5ECF6",
            "gridcolor": "white",
            "gridwidth": 2,
            "linecolor": "white",
            "showbackground": true,
            "ticks": "",
            "zerolinecolor": "white"
           },
           "yaxis": {
            "backgroundcolor": "#E5ECF6",
            "gridcolor": "white",
            "gridwidth": 2,
            "linecolor": "white",
            "showbackground": true,
            "ticks": "",
            "zerolinecolor": "white"
           },
           "zaxis": {
            "backgroundcolor": "#E5ECF6",
            "gridcolor": "white",
            "gridwidth": 2,
            "linecolor": "white",
            "showbackground": true,
            "ticks": "",
            "zerolinecolor": "white"
           }
          },
          "shapedefaults": {
           "line": {
            "color": "#2a3f5f"
           }
          },
          "ternary": {
           "aaxis": {
            "gridcolor": "white",
            "linecolor": "white",
            "ticks": ""
           },
           "baxis": {
            "gridcolor": "white",
            "linecolor": "white",
            "ticks": ""
           },
           "bgcolor": "#E5ECF6",
           "caxis": {
            "gridcolor": "white",
            "linecolor": "white",
            "ticks": ""
           }
          },
          "title": {
           "x": 0.05
          },
          "xaxis": {
           "automargin": true,
           "gridcolor": "white",
           "linecolor": "white",
           "ticks": "",
           "title": {
            "standoff": 15
           },
           "zerolinecolor": "white",
           "zerolinewidth": 2
          },
          "yaxis": {
           "automargin": true,
           "gridcolor": "white",
           "linecolor": "white",
           "ticks": "",
           "title": {
            "standoff": 15
           },
           "zerolinecolor": "white",
           "zerolinewidth": 2
          }
         }
        },
        "title": {
         "text": "Scatterplot of Subjectivity vs Polarity - all tweets"
        },
        "xaxis": {
         "anchor": "y",
         "domain": [
          0,
          1
         ],
         "title": {
          "text": "Polarity"
         }
        },
        "yaxis": {
         "anchor": "x",
         "domain": [
          0,
          1
         ],
         "title": {
          "text": "Subjectivity"
         }
        }
       }
      }
     },
     "metadata": {},
     "output_type": "display_data"
    }
   ],
   "source": [
    "# Create an interactive scatterplot\n",
    "fig = px.scatter(\n",
    "    df,\n",
    "    x='Polarity',\n",
    "    y='Subjectivity',\n",
    "    #Show cleaned tweets on hover\n",
    "    hover_data={'Cleaned_Tweets': True},  \n",
    "    title='Scatterplot of Subjectivity vs Polarity - all tweets',\n",
    "    labels={'Polarity': 'Polarity', 'Subjectivity': 'Subjectivity'}\n",
    ")\n",
    "\n",
    "# Show the plot\n",
    "fig.show()"
   ]
  },
  {
   "cell_type": "code",
   "execution_count": 10,
   "metadata": {},
   "outputs": [
    {
     "data": {
      "application/vnd.plotly.v1+json": {
       "config": {
        "plotlyServerURL": "https://plot.ly"
       },
       "data": [
        {
         "customdata": [
          [
           "Dear Twitter Advertisers"
          ],
          [
           "Meeting a lot of cool people at Twitter today!"
          ],
          [
           "Entering Twitter HQ – let that sink in!"
          ],
          [
           "Definitely closer to citizen journalism – local news orgs are under-appreciated &amp; should get way more prominence on Twitter"
          ],
          [
           "A beautiful thing about Twitter is how it empowers citizen journalism – people are able to disseminate news without an establishment bias"
          ],
          [
           "Twitter should be as broadly inclusive as possible, serving as a fair forum for lively, even if occasionally rancorous, debate between widely divergent beliefs."
          ],
          [
           "Please buy my perfume, so I can buy Twitter"
          ],
          [
           "Welcome back to Twitter, my friend!"
          ],
          [
           "So they’re saying that not buying Twitter is bad, but also buying Twitter is bad!?"
          ],
          [
           "Twitter is an accelerant to fulfilling the original  vision"
          ],
          [
           "Twitter probably accelerates X by 3 to 5 years, but I could be wrong"
          ],
          [
           "Buying Twitter is an accelerant to creating X, the everything app"
          ],
          [
           "Anyone know who the secret clients are? Let’s out them on Twitter rn haha."
          ],
          [
           "If Twitter put as much effort into bot/spam removal as they do into subpoenas, we wouldn’t have this problem in the first place!"
          ],
          [
           "Those are the questions that Twitter is doing everything possible to avoid answering …"
          ],
          [
           "No, this is a long-running joke on Twitter. I’m not buying any sports teams."
          ],
          [
           "Yes. In the (hopefully unlikely) event that Twitter forces this deal to close *and* some equity partners don’t come through, it is important to avoid an emergency sale of Tesla stock."
          ],
          [
           "Twitter has spoken …"
          ],
          [
           "Less than 5% of Twitter daily users are fake/spam"
          ],
          [
           "I hereby challenge  to a public debate about the Twitter bot percentage. Let him prove to the public that Twitter has &lt;5% fake or spam daily users!"
          ],
          [
           "Good summary of the problem. If Twitter simply provides their method of sampling 100 accounts and how they’re confirmed to be real, the deal should proceed on original terms.However, if it turns out that their SEC filings are materially false, then it should not."
          ],
          [
           "Maybe Twitter can become that"
          ],
          [
           "Tesla + Twitter -&gt; Twizzler"
          ],
          [
           "Interaction with almost all twitter accounts seem to be much lower in recent weeks &amp; days. Accurate?"
          ],
          [
           "Can you say more about this: “… pressures that the government may have placed on Twitter …”"
          ],
          [
           "Twitter me &amp; real-life me are quite different haha!"
          ],
          [
           "To answer the question: Why Twitter?"
          ],
          [
           "Only Twitter"
          ],
          [
           "Maybe if they do the opposite, Twitter will be a much better experience – just an idea"
          ],
          [
           "My kids wrote better code when they were 12 than the nonsense script Jackson sent me. Like I said, if it’s so great, he should share it with the world and make everyone’s experience with Twitter better. If he does, you will see what I mean.Jackson Palmer is a tool."
          ],
          [
           "Thanks I switched back to chronological Twitter, so now I see you."
          ],
          [
           "Ya know, it’s pretty damn great to be able to talk to people from all walks of life and many countries on Twitter!So much to be learned, even from the harshest critics. Basically … I’m just saying I love all you crazy people "
          ],
          [
           "(Of Twitter)"
          ],
          [
           "If I were to own Twitter, it would be geared towards the middle 80% of the population, so technically the far left and far right would probably be dissatisfied"
          ],
          [
           "If Twitter was not truthful here, what else is not true? This is very concerning news."
          ],
          [
           "Haha I don’t even have a burner twitter account! I do have a cheesy secret Instagram account, so I can click on links that friends send me."
          ],
          [
           "I’m worried that Twitter has a disincentive to reduce spam, as it reduces perceived daily users"
          ],
          [
           "True, owning Twitter probably won’t increase my life expectancy haha"
          ],
          [
           "They began brewing attacks of all kinds as soon as the Twitter acquisition was announced.In my 30 year career, including the entire MeToo era, there’s nothing to report, but, as soon as I say I intend to restore free speech to Twitter &amp; vote Republican, suddenly there is …"
          ],
          [
           "No, it was clear that their only goal was a hit price to interfere with the Twitter acquisition. The story was written before they even talked to me."
          ],
          [
           "To be clear, I’m spending &lt;5% (but actually) of my time on the Twitter acquisition. It ain’t rocket science!Yesterday was Giga Texas, today is Starbase. Tesla is on my mind 24/7.So may seem like below, but not true."
          ],
          [
           "Or 14 times higher than Twitter’s 5% in my case "
          ],
          [
           "Twitter exec trashing free speech &amp; mocking people with Asperger’s …"
          ],
          [
           "Twitter claims that &gt;95% of daily active users are real, unique humans. Does anyone have that experience?"
          ],
          [
           "Seems like Twitter should welcome external validation if their claims are true"
          ],
          [
           "20% fake/spam accounts, while 4 times what Twitter claims, could be *much* higher.My offer was based on Twitter’s SEC filings being accurate.Yesterday, Twitter’s CEO publicly refused to show proof of &lt;5%.This deal cannot move forward until he does."
          ],
          [
           "So how do advertisers know what they’re getting for their money? This is fundamental to the financial health of Twitter."
          ],
          [
           "Twitter legal just called to complain that I violated their NDA by revealing the bot check sample size is 100!This actually happened."
          ],
          [
           "Very important to fix your Twitter feed:1. Tap home button.2. Tap stars on upper right of screen.3. Select “Latest tweets”.You are being manipulated by the algorithm in ways you don’t realize.Easy to switch back &amp; forth to see the difference."
          ],
          [
           "Any sensible random sampling process is fine. If many people independently get similar results for % of fake/spam/duplicate accounts, that will be telling.I picked 100 as the sample size number, because that is what Twitter uses to calculate &lt;5% fake/spam/duplicate."
          ],
          [
           "I relied upon the accuracy of Twitter’s public filings"
          ],
          [
           "Twitter deal temporarily on hold pending details supporting calculation that spam/fake accounts do indeed represent less than 5% of users"
          ],
          [
           "But I do think that twitter should authenticate all real users and prioritize those replies above unauthenticated users"
          ],
          [
           "If Twitter can tell the difference between real and fake users, why does it allow these in our comments?"
          ],
          [
           "Even though I think a less divisive candidate would be better in 2024, I still think Trump should be restored to Twitter"
          ],
          [
           "Like I said, my preference is to hew close to the laws of countries in which Twitter operates. If the citizens want something banned, then pass a law to do so, otherwise it should be allowed."
          ],
          [
           "Twitter obv has a strong left wing bias"
          ],
          [
           "This rumor originated from a parody account, but got picked up by real media &amp; twitter trends (sigh)"
          ],
          [
           "If Twitter acquisition completes, company will be super focused on hardcore software engineering, design, infosec &amp; server hardware"
          ],
          [
           "Twitter will always be free for casual users, but maybe a slight cost for commercial/government users"
          ],
          [
           "Also, as mentioned before, we will try to keep as many shareholders as legally possible in privately held Twitter!"
          ],
          [
           "There is so much potential with Twitter to be the most trusted &amp; broadly inclusive forum in the world!"
          ],
          [
           "Or twitter"
          ],
          [
           "I saw you trending as twitter ceo "
          ],
          [
           "Sell Shadow Crew merch to buy Twitter?"
          ],
          [
           "The people of Twitter strongly agree that Twitter needs to be fixed"
          ],
          [
           "Let’s make Twitter maximum fun!"
          ],
          [
           "Twitter DMs should have end to end encryption like Signal, so no one can spy on or hack your messages"
          ],
          [
           "What are talking about? I’m just saying Twitter needs to be politically neutral."
          ],
          [
           "For Twitter to deserve public trust, it must be politically neutral, which effectively means upsetting the far right and the far left equally"
          ],
          [
           "Almost every media outlet on Earth wrote about me acquiring Twitter, causing a massive influx of new users"
          ],
          [
           "Truth Social (terrible name) exists because Twitter censored free speech"
          ],
          [
           "Truth Social is currently beating Twitter &amp; TikTok on the Apple Store"
          ],
          [
           "Suspending the Twitter account of a major news organization for publishing a truthful story was obviously incredibly inappropriate"
          ],
          [
           "I hope that even my worst critics remain on Twitter, because that is what free speech means"
          ],
          [
           "If our twitter bid succeeds, we will defeat the spam bots or die trying!"
          ],
          [
           "In fairness to the Twitter board, this might be more of a concern about other potential bidders vs just me"
          ],
          [
           "Wow, with Jack departing, the Twitter board collectively owns almost no shares! Objectively, their economic interests are simply not aligned with shareholders."
          ],
          [
           "My most immediate takeaway from this novella of a thread is that Twitter is *way* overdue for long form tweets!"
          ],
          [
           "If the current Twitter board takes actions contrary to shareholder interests, they would be breaching their fiduciary duty. The liability they would thereby assume would be titanic in scale."
          ],
          [
           "Taking Twitter private at $54.20 should be up to shareholders, not the board"
          ],
          [
           "Interesting. Just two questions, if I may. How much of Twitter does the Kingdom own, directly &amp; indirectly?What are the Kingdom’s views on journalistic freedom of speech?"
          ],
          [
           "Will endeavor to keep as many shareholders in privatized Twitter as allowed by law"
          ],
          [
           "Now subtract crypto scam accounts that twitter constantly shows as “real” people in everyone’s feed"
          ],
          [
           "Most of these “top” accounts tweet rarely and post very little content. Is Twitter dying?"
          ],
          [
           "Looking forward to working with Parag &amp; Twitter board to make significant improvements to Twitter in coming months!"
          ],
          [
           "Yeah, single most annoying problem on twitter imo"
          ],
          [
           "Given that Twitter serves as the de facto public town square, failing to adhere to free speech principles fundamentally undermines democracy. What should be done?"
          ],
          [
           "Free speech is essential to a functioning democracy.Do you believe Twitter rigorously adheres to this principle?"
          ],
          [
           "Twitter algorithm should be open source"
          ],
          [
           "I’m worried about de facto bias in “the Twitter algorithm” having a major effect on public discourse. How do we know what’s really happening?"
          ],
          [
           " That was me tweeting from  when someone else had snatched my name. I was actually one of the earliest Twitter users, but dropped my account because people were tweeting such trivialities at first.  convinced me to get back in."
          ],
          [
           "Tesla has created over 50,000 US jobs building electric vehicles &amp; is investing more than double GM + Ford combined[fyi to person controlling this twitter]"
          ]
         ],
         "hovertemplate": "Polarity=%{x}<br>Subjectivity=%{y}<br>Cleaned_Tweets=%{customdata[0]}<extra></extra>",
         "legendgroup": "",
         "marker": {
          "color": "#636efa",
          "symbol": "circle"
         },
         "mode": "markers",
         "name": "",
         "orientation": "v",
         "showlegend": false,
         "type": "scatter",
         "x": [
          0,
          0.4375,
          0,
          0.16666666666666666,
          0.675,
          -0.0001893939393939568,
          0,
          0.4,
          -0.7874999999999999,
          0.375,
          -0.5,
          0,
          -0.1,
          0.25625,
          0,
          0,
          -0.04999999999999999,
          0,
          -0.08333333333333333,
          -0.125,
          0.16785714285714284,
          0,
          0,
          0.20000000000000004,
          0.5,
          0.125,
          0,
          0,
          0.25,
          0.6,
          0.06666666666666667,
          0.3071428571428571,
          0,
          0.15510204081632653,
          -0.075,
          -0.21666666666666667,
          0,
          0.275,
          0.13333333333333333,
          0.049999999999999996,
          -0.024999999999999998,
          0.25,
          0.4,
          0.14305555555555557,
          0.3833333333333333,
          0.03333333333333333,
          0,
          0.1,
          0.2611428571428571,
          0.08333333333333334,
          0,
          0.04166666666666667,
          0.1,
          -0.15,
          0.16666666666666669,
          0,
          0.21666666666666667,
          0.2,
          0.3333333333333333,
          -0.08888888888888886,
          0.16666666666666666,
          0.19270833333333334,
          0,
          0,
          0,
          0.26666666666666666,
          0.375,
          0,
          0,
          0.1357142857142857,
          0.06818181818181818,
          -0.18888888888888888,
          0.016666666666666666,
          0.4875,
          -0.3,
          0.875,
          0.125,
          0.08125,
          0.21875,
          0,
          0,
          0.35,
          0.5,
          0.1,
          0.2640625,
          0.46875,
          -0.12380952380952381,
          0.2,
          0.2,
          0,
          0.08750000000000001,
          0.0625,
          0.25
         ],
         "xaxis": "x",
         "y": [
          0,
          0.65,
          0,
          0.3333333333333333,
          0.8125,
          0.6854166666666667,
          0,
          0.45,
          0.6666666666666666,
          0.75,
          0.9,
          0,
          0.5,
          0.26666666666666666,
          1,
          0,
          0.75,
          0,
          0.03333333333333333,
          0.2833333333333333,
          0.6010204081632653,
          0,
          0,
          0.3611111111111111,
          0.5,
          0.44999999999999996,
          0,
          1,
          0.25,
          0.5833333333333334,
          0.06666666666666667,
          0.6535714285714286,
          0,
          0.5193877551020408,
          0.48333333333333334,
          0.6666666666666666,
          0,
          0.475,
          0.6416666666666667,
          0.6916666666666667,
          0.37777777777777777,
          0.5,
          0.8,
          0.5333333333333333,
          0.5499999999999999,
          0.2888888888888889,
          0,
          0.15000000000000002,
          0.4871428571428571,
          0.40499999999999997,
          0.06666666666666667,
          0.15833333333333333,
          0.2,
          0.65,
          0.2833333333333333,
          0,
          0.3666666666666667,
          0.30000000000000004,
          0.6666666666666666,
          0.6111111111111112,
          0.625,
          0.6041666666666666,
          0,
          0,
          0,
          0.4666666666666667,
          0.2,
          0,
          0.1,
          0.46904761904761905,
          0.7272727272727273,
          0.6222222222222222,
          0.23333333333333334,
          0.6333333333333333,
          0.9,
          0.1,
          0.625,
          0.4142857142857143,
          0.45,
          0.4,
          0.375,
          0.525,
          0.5,
          0.31666666666666665,
          0.6375,
          0.875,
          0.5380952380952381,
          0.43333333333333335,
          0.55,
          0.5,
          0.25555555555555554,
          0.23333333333333334,
          0.25
         ],
         "yaxis": "y"
        }
       ],
       "layout": {
        "legend": {
         "tracegroupgap": 0
        },
        "template": {
         "data": {
          "bar": [
           {
            "error_x": {
             "color": "#2a3f5f"
            },
            "error_y": {
             "color": "#2a3f5f"
            },
            "marker": {
             "line": {
              "color": "#E5ECF6",
              "width": 0.5
             },
             "pattern": {
              "fillmode": "overlay",
              "size": 10,
              "solidity": 0.2
             }
            },
            "type": "bar"
           }
          ],
          "barpolar": [
           {
            "marker": {
             "line": {
              "color": "#E5ECF6",
              "width": 0.5
             },
             "pattern": {
              "fillmode": "overlay",
              "size": 10,
              "solidity": 0.2
             }
            },
            "type": "barpolar"
           }
          ],
          "carpet": [
           {
            "aaxis": {
             "endlinecolor": "#2a3f5f",
             "gridcolor": "white",
             "linecolor": "white",
             "minorgridcolor": "white",
             "startlinecolor": "#2a3f5f"
            },
            "baxis": {
             "endlinecolor": "#2a3f5f",
             "gridcolor": "white",
             "linecolor": "white",
             "minorgridcolor": "white",
             "startlinecolor": "#2a3f5f"
            },
            "type": "carpet"
           }
          ],
          "choropleth": [
           {
            "colorbar": {
             "outlinewidth": 0,
             "ticks": ""
            },
            "type": "choropleth"
           }
          ],
          "contour": [
           {
            "colorbar": {
             "outlinewidth": 0,
             "ticks": ""
            },
            "colorscale": [
             [
              0,
              "#0d0887"
             ],
             [
              0.1111111111111111,
              "#46039f"
             ],
             [
              0.2222222222222222,
              "#7201a8"
             ],
             [
              0.3333333333333333,
              "#9c179e"
             ],
             [
              0.4444444444444444,
              "#bd3786"
             ],
             [
              0.5555555555555556,
              "#d8576b"
             ],
             [
              0.6666666666666666,
              "#ed7953"
             ],
             [
              0.7777777777777778,
              "#fb9f3a"
             ],
             [
              0.8888888888888888,
              "#fdca26"
             ],
             [
              1,
              "#f0f921"
             ]
            ],
            "type": "contour"
           }
          ],
          "contourcarpet": [
           {
            "colorbar": {
             "outlinewidth": 0,
             "ticks": ""
            },
            "type": "contourcarpet"
           }
          ],
          "heatmap": [
           {
            "colorbar": {
             "outlinewidth": 0,
             "ticks": ""
            },
            "colorscale": [
             [
              0,
              "#0d0887"
             ],
             [
              0.1111111111111111,
              "#46039f"
             ],
             [
              0.2222222222222222,
              "#7201a8"
             ],
             [
              0.3333333333333333,
              "#9c179e"
             ],
             [
              0.4444444444444444,
              "#bd3786"
             ],
             [
              0.5555555555555556,
              "#d8576b"
             ],
             [
              0.6666666666666666,
              "#ed7953"
             ],
             [
              0.7777777777777778,
              "#fb9f3a"
             ],
             [
              0.8888888888888888,
              "#fdca26"
             ],
             [
              1,
              "#f0f921"
             ]
            ],
            "type": "heatmap"
           }
          ],
          "heatmapgl": [
           {
            "colorbar": {
             "outlinewidth": 0,
             "ticks": ""
            },
            "colorscale": [
             [
              0,
              "#0d0887"
             ],
             [
              0.1111111111111111,
              "#46039f"
             ],
             [
              0.2222222222222222,
              "#7201a8"
             ],
             [
              0.3333333333333333,
              "#9c179e"
             ],
             [
              0.4444444444444444,
              "#bd3786"
             ],
             [
              0.5555555555555556,
              "#d8576b"
             ],
             [
              0.6666666666666666,
              "#ed7953"
             ],
             [
              0.7777777777777778,
              "#fb9f3a"
             ],
             [
              0.8888888888888888,
              "#fdca26"
             ],
             [
              1,
              "#f0f921"
             ]
            ],
            "type": "heatmapgl"
           }
          ],
          "histogram": [
           {
            "marker": {
             "pattern": {
              "fillmode": "overlay",
              "size": 10,
              "solidity": 0.2
             }
            },
            "type": "histogram"
           }
          ],
          "histogram2d": [
           {
            "colorbar": {
             "outlinewidth": 0,
             "ticks": ""
            },
            "colorscale": [
             [
              0,
              "#0d0887"
             ],
             [
              0.1111111111111111,
              "#46039f"
             ],
             [
              0.2222222222222222,
              "#7201a8"
             ],
             [
              0.3333333333333333,
              "#9c179e"
             ],
             [
              0.4444444444444444,
              "#bd3786"
             ],
             [
              0.5555555555555556,
              "#d8576b"
             ],
             [
              0.6666666666666666,
              "#ed7953"
             ],
             [
              0.7777777777777778,
              "#fb9f3a"
             ],
             [
              0.8888888888888888,
              "#fdca26"
             ],
             [
              1,
              "#f0f921"
             ]
            ],
            "type": "histogram2d"
           }
          ],
          "histogram2dcontour": [
           {
            "colorbar": {
             "outlinewidth": 0,
             "ticks": ""
            },
            "colorscale": [
             [
              0,
              "#0d0887"
             ],
             [
              0.1111111111111111,
              "#46039f"
             ],
             [
              0.2222222222222222,
              "#7201a8"
             ],
             [
              0.3333333333333333,
              "#9c179e"
             ],
             [
              0.4444444444444444,
              "#bd3786"
             ],
             [
              0.5555555555555556,
              "#d8576b"
             ],
             [
              0.6666666666666666,
              "#ed7953"
             ],
             [
              0.7777777777777778,
              "#fb9f3a"
             ],
             [
              0.8888888888888888,
              "#fdca26"
             ],
             [
              1,
              "#f0f921"
             ]
            ],
            "type": "histogram2dcontour"
           }
          ],
          "mesh3d": [
           {
            "colorbar": {
             "outlinewidth": 0,
             "ticks": ""
            },
            "type": "mesh3d"
           }
          ],
          "parcoords": [
           {
            "line": {
             "colorbar": {
              "outlinewidth": 0,
              "ticks": ""
             }
            },
            "type": "parcoords"
           }
          ],
          "pie": [
           {
            "automargin": true,
            "type": "pie"
           }
          ],
          "scatter": [
           {
            "fillpattern": {
             "fillmode": "overlay",
             "size": 10,
             "solidity": 0.2
            },
            "type": "scatter"
           }
          ],
          "scatter3d": [
           {
            "line": {
             "colorbar": {
              "outlinewidth": 0,
              "ticks": ""
             }
            },
            "marker": {
             "colorbar": {
              "outlinewidth": 0,
              "ticks": ""
             }
            },
            "type": "scatter3d"
           }
          ],
          "scattercarpet": [
           {
            "marker": {
             "colorbar": {
              "outlinewidth": 0,
              "ticks": ""
             }
            },
            "type": "scattercarpet"
           }
          ],
          "scattergeo": [
           {
            "marker": {
             "colorbar": {
              "outlinewidth": 0,
              "ticks": ""
             }
            },
            "type": "scattergeo"
           }
          ],
          "scattergl": [
           {
            "marker": {
             "colorbar": {
              "outlinewidth": 0,
              "ticks": ""
             }
            },
            "type": "scattergl"
           }
          ],
          "scattermapbox": [
           {
            "marker": {
             "colorbar": {
              "outlinewidth": 0,
              "ticks": ""
             }
            },
            "type": "scattermapbox"
           }
          ],
          "scatterpolar": [
           {
            "marker": {
             "colorbar": {
              "outlinewidth": 0,
              "ticks": ""
             }
            },
            "type": "scatterpolar"
           }
          ],
          "scatterpolargl": [
           {
            "marker": {
             "colorbar": {
              "outlinewidth": 0,
              "ticks": ""
             }
            },
            "type": "scatterpolargl"
           }
          ],
          "scatterternary": [
           {
            "marker": {
             "colorbar": {
              "outlinewidth": 0,
              "ticks": ""
             }
            },
            "type": "scatterternary"
           }
          ],
          "surface": [
           {
            "colorbar": {
             "outlinewidth": 0,
             "ticks": ""
            },
            "colorscale": [
             [
              0,
              "#0d0887"
             ],
             [
              0.1111111111111111,
              "#46039f"
             ],
             [
              0.2222222222222222,
              "#7201a8"
             ],
             [
              0.3333333333333333,
              "#9c179e"
             ],
             [
              0.4444444444444444,
              "#bd3786"
             ],
             [
              0.5555555555555556,
              "#d8576b"
             ],
             [
              0.6666666666666666,
              "#ed7953"
             ],
             [
              0.7777777777777778,
              "#fb9f3a"
             ],
             [
              0.8888888888888888,
              "#fdca26"
             ],
             [
              1,
              "#f0f921"
             ]
            ],
            "type": "surface"
           }
          ],
          "table": [
           {
            "cells": {
             "fill": {
              "color": "#EBF0F8"
             },
             "line": {
              "color": "white"
             }
            },
            "header": {
             "fill": {
              "color": "#C8D4E3"
             },
             "line": {
              "color": "white"
             }
            },
            "type": "table"
           }
          ]
         },
         "layout": {
          "annotationdefaults": {
           "arrowcolor": "#2a3f5f",
           "arrowhead": 0,
           "arrowwidth": 1
          },
          "autotypenumbers": "strict",
          "coloraxis": {
           "colorbar": {
            "outlinewidth": 0,
            "ticks": ""
           }
          },
          "colorscale": {
           "diverging": [
            [
             0,
             "#8e0152"
            ],
            [
             0.1,
             "#c51b7d"
            ],
            [
             0.2,
             "#de77ae"
            ],
            [
             0.3,
             "#f1b6da"
            ],
            [
             0.4,
             "#fde0ef"
            ],
            [
             0.5,
             "#f7f7f7"
            ],
            [
             0.6,
             "#e6f5d0"
            ],
            [
             0.7,
             "#b8e186"
            ],
            [
             0.8,
             "#7fbc41"
            ],
            [
             0.9,
             "#4d9221"
            ],
            [
             1,
             "#276419"
            ]
           ],
           "sequential": [
            [
             0,
             "#0d0887"
            ],
            [
             0.1111111111111111,
             "#46039f"
            ],
            [
             0.2222222222222222,
             "#7201a8"
            ],
            [
             0.3333333333333333,
             "#9c179e"
            ],
            [
             0.4444444444444444,
             "#bd3786"
            ],
            [
             0.5555555555555556,
             "#d8576b"
            ],
            [
             0.6666666666666666,
             "#ed7953"
            ],
            [
             0.7777777777777778,
             "#fb9f3a"
            ],
            [
             0.8888888888888888,
             "#fdca26"
            ],
            [
             1,
             "#f0f921"
            ]
           ],
           "sequentialminus": [
            [
             0,
             "#0d0887"
            ],
            [
             0.1111111111111111,
             "#46039f"
            ],
            [
             0.2222222222222222,
             "#7201a8"
            ],
            [
             0.3333333333333333,
             "#9c179e"
            ],
            [
             0.4444444444444444,
             "#bd3786"
            ],
            [
             0.5555555555555556,
             "#d8576b"
            ],
            [
             0.6666666666666666,
             "#ed7953"
            ],
            [
             0.7777777777777778,
             "#fb9f3a"
            ],
            [
             0.8888888888888888,
             "#fdca26"
            ],
            [
             1,
             "#f0f921"
            ]
           ]
          },
          "colorway": [
           "#636efa",
           "#EF553B",
           "#00cc96",
           "#ab63fa",
           "#FFA15A",
           "#19d3f3",
           "#FF6692",
           "#B6E880",
           "#FF97FF",
           "#FECB52"
          ],
          "font": {
           "color": "#2a3f5f"
          },
          "geo": {
           "bgcolor": "white",
           "lakecolor": "white",
           "landcolor": "#E5ECF6",
           "showlakes": true,
           "showland": true,
           "subunitcolor": "white"
          },
          "hoverlabel": {
           "align": "left"
          },
          "hovermode": "closest",
          "mapbox": {
           "style": "light"
          },
          "paper_bgcolor": "white",
          "plot_bgcolor": "#E5ECF6",
          "polar": {
           "angularaxis": {
            "gridcolor": "white",
            "linecolor": "white",
            "ticks": ""
           },
           "bgcolor": "#E5ECF6",
           "radialaxis": {
            "gridcolor": "white",
            "linecolor": "white",
            "ticks": ""
           }
          },
          "scene": {
           "xaxis": {
            "backgroundcolor": "#E5ECF6",
            "gridcolor": "white",
            "gridwidth": 2,
            "linecolor": "white",
            "showbackground": true,
            "ticks": "",
            "zerolinecolor": "white"
           },
           "yaxis": {
            "backgroundcolor": "#E5ECF6",
            "gridcolor": "white",
            "gridwidth": 2,
            "linecolor": "white",
            "showbackground": true,
            "ticks": "",
            "zerolinecolor": "white"
           },
           "zaxis": {
            "backgroundcolor": "#E5ECF6",
            "gridcolor": "white",
            "gridwidth": 2,
            "linecolor": "white",
            "showbackground": true,
            "ticks": "",
            "zerolinecolor": "white"
           }
          },
          "shapedefaults": {
           "line": {
            "color": "#2a3f5f"
           }
          },
          "ternary": {
           "aaxis": {
            "gridcolor": "white",
            "linecolor": "white",
            "ticks": ""
           },
           "baxis": {
            "gridcolor": "white",
            "linecolor": "white",
            "ticks": ""
           },
           "bgcolor": "#E5ECF6",
           "caxis": {
            "gridcolor": "white",
            "linecolor": "white",
            "ticks": ""
           }
          },
          "title": {
           "x": 0.05
          },
          "xaxis": {
           "automargin": true,
           "gridcolor": "white",
           "linecolor": "white",
           "ticks": "",
           "title": {
            "standoff": 15
           },
           "zerolinecolor": "white",
           "zerolinewidth": 2
          },
          "yaxis": {
           "automargin": true,
           "gridcolor": "white",
           "linecolor": "white",
           "ticks": "",
           "title": {
            "standoff": 15
           },
           "zerolinecolor": "white",
           "zerolinewidth": 2
          }
         }
        },
        "title": {
         "text": "Scatterplot of Subjectivity vs Polarity - tweets discussing Twitter only"
        },
        "xaxis": {
         "anchor": "y",
         "domain": [
          0,
          1
         ],
         "title": {
          "text": "Polarity"
         }
        },
        "yaxis": {
         "anchor": "x",
         "domain": [
          0,
          1
         ],
         "title": {
          "text": "Subjectivity"
         }
        }
       }
      }
     },
     "metadata": {},
     "output_type": "display_data"
    }
   ],
   "source": [
    "# Create an interactive scatterplot\n",
    "fig = px.scatter(\n",
    "    twitter_df,\n",
    "    x='Polarity',\n",
    "    y='Subjectivity',\n",
    "    hover_data={'Cleaned_Tweets': True},  # Show cleaned tweets on hover\n",
    "    title='Scatterplot of Subjectivity vs Polarity - tweets discussing Twitter only',\n",
    "    labels={'Polarity': 'Polarity', 'Subjectivity': 'Subjectivity'}\n",
    ")\n",
    "\n",
    "# Show the plot\n",
    "fig.show()"
   ]
  },
  {
   "cell_type": "code",
   "execution_count": 11,
   "metadata": {},
   "outputs": [
    {
     "data": {
      "application/vnd.plotly.v1+json": {
       "config": {
        "plotlyServerURL": "https://plot.ly"
       },
       "data": [
        {
         "customdata": [
          [
           "Before DoD even came back with an answer, I told  that SpaceX would not turn off Starlink even if DoD refused to provide funding"
          ],
          [
           "Varies a lot. Tesla &amp; SpaceX are in good positions, but many other companies are not. Recessions do have a silver lining in that companies that shouldn’t exist stop existing."
          ],
          [
           "SpaceX has more active satellites in orbit than rest of Earth combined, tracking to double rest of Earth soon"
          ],
          [
           "No money from DoD, but several other countries, orgs &amp; individuals are paying for ~11k/25k terminals (thanks!).SpaceX is losing ~$20M/month due to unpaid service &amp; costs related to enhanced security measures for cyberwar defense, but we’ll keep doing it (sigh)."
          ],
          [
           "SpaceX has already withdrawn its request for funding"
          ],
          [
           "The amount SpaceX is requesting for a major battlefield advantage is less than the cost of one new GPS satellite. Ironically, GPS doesn’t work on battlefields, as the signal is easy to jam, but Starlink does."
          ],
          [
           "Big difference between peace comms vs warfront comms. Starlink is only comms system still working at warfront – others all dead. Russia is actively trying to kill Starlink. To safeguard, SpaceX has diverted massive resources towards defense.Even so, Starlink may still die."
          ],
          [
           "SpaceX is not asking to recoup past expenses, but also cannot fund the existing system indefinitely *and* send several thousand more terminals that have data usage up to 100X greater than typical households. This is unreasonable."
          ],
          [
           "Starlink has faced relentless jamming attacks &amp; SpaceX relentless cyberwar. So far, their success has been limited."
          ],
          [
           "Bad reporting by FT. This article falsely claims that Starlink terminals &amp; service were paid for, when only a small percentage have been. This operation has cost SpaceX $80M &amp; will exceed $100M by end of year.As for what’s happening on the battlefield, that’s classified."
          ],
          [
           "SpaceX Dragon docking with  (extended video)"
          ],
          [
           "We gave Starlinks to Ukraine &amp; lost $80M+ in doing so, while putting SpaceX &amp; myself at serious risk of Russian cyberattack.What have you done besides tweet?"
          ],
          [
           "SpaceX’s out of pocket cost to enable &amp; support Starlink in Ukraine is ~$80M so far. Our support for Russia is $0. Obviously, we are pro Ukraine.Trying to retake Crimea will cause massive death, probably fail &amp; risk nuclear war. This would be terrible for Ukraine &amp; Earth."
          ],
          [
           "SpaceX now delivering about twice as much payload to orbit as rest of world combined"
          ],
          [
           "I somewhat agonized over the Tesla &amp; SpaceX font design (love fonts tbh). There are some similarities, particularly use of negative space. We’ve made many little tweaks over the years."
          ],
          [
           "SpaceX Falcon team is "
          ],
          [
           "Just came across this pretty good CNBC piece on SpaceX &amp; Starship"
          ],
          [
           "Congrats to SpaceX team on record number of launches!"
          ],
          [
           "Tesla is to protect life on Earth,SpaceX to extend life beyond."
          ],
          [
           "No, it’s dual, high performance terminals, which are important for maintaining the connection in choppy seas &amp; heavy storms.Still obv premium pricing, but way cheaper &amp; faster than alternatives.SpaceX was paying $150k/month for a much worse connection to our ships!"
          ],
          [
           "Super talented team at SpaceX"
          ],
          [
           "Congrats to SpaceX Falcon team for executing 3 flawless launches in 2 days!"
          ],
          [
           "Tesla and SpaceX merch, maybe more down the road"
          ],
          [
           "SpaceX team is making great progress at the Cape &amp; Starbase!"
          ],
          [
           "Deck from SpaceX all-hands update talk I gave last week"
          ],
          [
           "Four Falcon Heavy flights later this year by an incredible team at SpaceX"
          ],
          [
           "10 years since SpaceX’s first mission to"
          ],
          [
           "I’m just talking about the mid-term elections in November. Not sure that there is a third party candidate.It’s rather hard to support a party when prominent members of that party keep attacking me and sidelining Tesla &amp; SpaceX!"
          ],
          [
           "Yeah, the public has no idea how much Tesla and SpaceX have been attacked/undermined, because we aren’t unionized (yet offer highest pay in industry!) and this administration would rather a company be dead than not unionized"
          ],
          [
           "I support free speech, but not any one candidate. In fact, I gave money to &amp; voted for Hillary &amp; then voted for Biden.However, given unprovoked attacks by leading Democrats against me &amp; a very cold shoulder to Tesla &amp; SpaceX, I intend to vote Republican in November."
          ],
          [
           "Tesla merch can be bought with Doge, soon SpaceX merch too"
          ],
          [
           "All   deployed successfully. Thanks for flying SpaceX!"
          ],
          [
           "The Iron Man statue was given to SpaceX because part of Iron Man 2 was filmed in the rocket factory"
          ],
          [
           "Such a joy to work with amazingly talented people at SpaceX, Tesla, Neuralink &amp; Boring Co!"
          ],
          [
           "My true moral error was creating Tesla &amp; SpaceX at same time, while avoiding general mgmt chores at Tesla (focusing only on product &amp; engineering). Tried to have my cake &amp; eat it too, which failed."
          ],
          [
           "I should, but that would take a lot of time away from Tesla, SpaceX &amp; other work. Walter Isaacson is writing a book."
          ],
          [
           "SpaceX Falcon team making great progress! Aiming for 5 day launch cadence with many performance &amp; refurb improvements."
          ],
          [
           "You may be in an area that is at maximum capacity. Did SpaceX not provide an unsubscribe warning?"
          ],
          [
           "Good point. SpaceX &amp; Tesla would probably have died, since both narrowly escaped bankruptcy in 2008."
          ],
          [
           "SpaceX will do the right thing for OneWeb, even though they are a competitor"
          ],
          [
           "SpaceX Falcon  team is making excellent progress – aiming for 60 launches this year!"
          ],
          [
           "SpaceX default plan was ~65% of global launch mass to orbit this year. Incremental demand might take that to ~70%, so not a major change. Those numbers don’t count Starship.Rough math is ~16 tons * 50 launches = 800 tons. Rest of world is &lt;400 tons (mostly China)."
          ],
          [
           "Main Tesla subjects will be scaling to extreme size, which is needed to shift humanity away from fossil fuels, and AI.But I will also Include sections about SpaceX, Tesla and The Boring Company."
          ],
          [
           "I have so much respect for the associates doing an honest day’s work at Tesla or SpaceX building &amp; servicing cars, rockets, Starlinks, batteries, solar &amp; many other things"
          ],
          [
           "Congratulations SpaceX team for all that you have accomplished!"
          ],
          [
           "Tesla &amp; SpaceX are seeing significant recent inflation pressure in raw materials &amp; logistics"
          ],
          [
           "To be clear, SpaceX wasn’t given $1.5B – we were given a contract for cargo delivery to &amp; from Space Station that would amount to $1.5B if successful"
          ],
          [
           "SpaceX reprioritized to cyber defense &amp; overcoming signal jamming. Will cause slight delays in Starship &amp; Starlink V2."
          ],
          [
           "Ukraine civilian Internet was experiencing strange outages – bad weather perhaps? – so SpaceX is helping fix it"
          ],
          [
           "LIDAR is a seductive local maximum. SpaceX designed &amp; built them to dock with ISS.However, the road system was designed to work with biological neural nets &amp; eyes, so a general solution to self-driving necessarily will require silicon neural nets &amp; cameras.Real-world AI."
          ],
          [
           "SpaceX’s goal is to make life multiplanetary, whereas their goal is to put a handful of satellites in orbit"
          ],
          [
           "Congrats SpaceX Falcon team!"
          ],
          [
           "SpaceX standard antenna production rises rapidly this year, so those with orders shouldn’t have to wait long.Note, Starlink can only support a limited number of users in an area, so best to order early."
          ]
         ],
         "hovertemplate": "Polarity=%{x}<br>Subjectivity=%{y}<br>Cleaned_Tweets=%{customdata[0]}<extra></extra>",
         "legendgroup": "",
         "marker": {
          "color": "#636efa",
          "symbol": "circle"
         },
         "mode": "markers",
         "name": "",
         "orientation": "v",
         "showlegend": false,
         "type": "scatter",
         "x": [
          0,
          0.35833333333333334,
          0.12222222222222223,
          -0.009999999999999998,
          0,
          0.11638257575757577,
          -0.06666666666666668,
          0.11666666666666667,
          0.10952380952380954,
          -0.33749999999999997,
          0,
          -0.16666666666666666,
          -0.27999999999999997,
          0.2,
          0.13583333333333333,
          0,
          0.475,
          0,
          0,
          -0.06799999999999999,
          0.5166666666666666,
          1,
          0.17222222222222222,
          1,
          0,
          0.2333333333333333,
          0.25,
          0.020833333333333315,
          0.016666666666666663,
          -0.19,
          0,
          0.25,
          0,
          0.125,
          -0.016666666666666663,
          -0.125,
          0.75,
          0,
          0.24999999999999997,
          0.2857142857142857,
          1,
          0.15625,
          -0.3194444444444445,
          0.29375,
          0.25,
          0.04807692307692307,
          0.425,
          -0.16666666666666666,
          -0.37499999999999994,
          0.016666666666666673,
          0,
          0,
          0.20571428571428574
         ],
         "xaxis": "x",
         "y": [
          0,
          0.4916666666666667,
          0.3666666666666667,
          0.30999999999999994,
          0,
          0.4636363636363636,
          0.62,
          0.35,
          0.38095238095238093,
          0.6666666666666666,
          0,
          0.3333333333333333,
          0.76,
          0.2,
          0.4666666666666667,
          0,
          0.8,
          0,
          0,
          0.5680000000000001,
          0.7833333333333333,
          1,
          0.3944444444444445,
          0.75,
          0.06666666666666667,
          0.4666666666666666,
          0.3333333333333333,
          0.6076388888888888,
          0.22222222222222224,
          0.9,
          0,
          0.2,
          0,
          0.65,
          0.47083333333333327,
          0.375,
          0.625,
          0,
          0.5,
          0.5357142857142857,
          1,
          0.3333333333333333,
          0.7777777777777777,
          0.49375,
          0.5,
          0.5288461538461539,
          0.6666666666666666,
          0.16666666666666666,
          0.4083333333333333,
          0.5,
          0,
          0,
          0.3485714285714286
         ],
         "yaxis": "y"
        }
       ],
       "layout": {
        "legend": {
         "tracegroupgap": 0
        },
        "template": {
         "data": {
          "bar": [
           {
            "error_x": {
             "color": "#2a3f5f"
            },
            "error_y": {
             "color": "#2a3f5f"
            },
            "marker": {
             "line": {
              "color": "#E5ECF6",
              "width": 0.5
             },
             "pattern": {
              "fillmode": "overlay",
              "size": 10,
              "solidity": 0.2
             }
            },
            "type": "bar"
           }
          ],
          "barpolar": [
           {
            "marker": {
             "line": {
              "color": "#E5ECF6",
              "width": 0.5
             },
             "pattern": {
              "fillmode": "overlay",
              "size": 10,
              "solidity": 0.2
             }
            },
            "type": "barpolar"
           }
          ],
          "carpet": [
           {
            "aaxis": {
             "endlinecolor": "#2a3f5f",
             "gridcolor": "white",
             "linecolor": "white",
             "minorgridcolor": "white",
             "startlinecolor": "#2a3f5f"
            },
            "baxis": {
             "endlinecolor": "#2a3f5f",
             "gridcolor": "white",
             "linecolor": "white",
             "minorgridcolor": "white",
             "startlinecolor": "#2a3f5f"
            },
            "type": "carpet"
           }
          ],
          "choropleth": [
           {
            "colorbar": {
             "outlinewidth": 0,
             "ticks": ""
            },
            "type": "choropleth"
           }
          ],
          "contour": [
           {
            "colorbar": {
             "outlinewidth": 0,
             "ticks": ""
            },
            "colorscale": [
             [
              0,
              "#0d0887"
             ],
             [
              0.1111111111111111,
              "#46039f"
             ],
             [
              0.2222222222222222,
              "#7201a8"
             ],
             [
              0.3333333333333333,
              "#9c179e"
             ],
             [
              0.4444444444444444,
              "#bd3786"
             ],
             [
              0.5555555555555556,
              "#d8576b"
             ],
             [
              0.6666666666666666,
              "#ed7953"
             ],
             [
              0.7777777777777778,
              "#fb9f3a"
             ],
             [
              0.8888888888888888,
              "#fdca26"
             ],
             [
              1,
              "#f0f921"
             ]
            ],
            "type": "contour"
           }
          ],
          "contourcarpet": [
           {
            "colorbar": {
             "outlinewidth": 0,
             "ticks": ""
            },
            "type": "contourcarpet"
           }
          ],
          "heatmap": [
           {
            "colorbar": {
             "outlinewidth": 0,
             "ticks": ""
            },
            "colorscale": [
             [
              0,
              "#0d0887"
             ],
             [
              0.1111111111111111,
              "#46039f"
             ],
             [
              0.2222222222222222,
              "#7201a8"
             ],
             [
              0.3333333333333333,
              "#9c179e"
             ],
             [
              0.4444444444444444,
              "#bd3786"
             ],
             [
              0.5555555555555556,
              "#d8576b"
             ],
             [
              0.6666666666666666,
              "#ed7953"
             ],
             [
              0.7777777777777778,
              "#fb9f3a"
             ],
             [
              0.8888888888888888,
              "#fdca26"
             ],
             [
              1,
              "#f0f921"
             ]
            ],
            "type": "heatmap"
           }
          ],
          "heatmapgl": [
           {
            "colorbar": {
             "outlinewidth": 0,
             "ticks": ""
            },
            "colorscale": [
             [
              0,
              "#0d0887"
             ],
             [
              0.1111111111111111,
              "#46039f"
             ],
             [
              0.2222222222222222,
              "#7201a8"
             ],
             [
              0.3333333333333333,
              "#9c179e"
             ],
             [
              0.4444444444444444,
              "#bd3786"
             ],
             [
              0.5555555555555556,
              "#d8576b"
             ],
             [
              0.6666666666666666,
              "#ed7953"
             ],
             [
              0.7777777777777778,
              "#fb9f3a"
             ],
             [
              0.8888888888888888,
              "#fdca26"
             ],
             [
              1,
              "#f0f921"
             ]
            ],
            "type": "heatmapgl"
           }
          ],
          "histogram": [
           {
            "marker": {
             "pattern": {
              "fillmode": "overlay",
              "size": 10,
              "solidity": 0.2
             }
            },
            "type": "histogram"
           }
          ],
          "histogram2d": [
           {
            "colorbar": {
             "outlinewidth": 0,
             "ticks": ""
            },
            "colorscale": [
             [
              0,
              "#0d0887"
             ],
             [
              0.1111111111111111,
              "#46039f"
             ],
             [
              0.2222222222222222,
              "#7201a8"
             ],
             [
              0.3333333333333333,
              "#9c179e"
             ],
             [
              0.4444444444444444,
              "#bd3786"
             ],
             [
              0.5555555555555556,
              "#d8576b"
             ],
             [
              0.6666666666666666,
              "#ed7953"
             ],
             [
              0.7777777777777778,
              "#fb9f3a"
             ],
             [
              0.8888888888888888,
              "#fdca26"
             ],
             [
              1,
              "#f0f921"
             ]
            ],
            "type": "histogram2d"
           }
          ],
          "histogram2dcontour": [
           {
            "colorbar": {
             "outlinewidth": 0,
             "ticks": ""
            },
            "colorscale": [
             [
              0,
              "#0d0887"
             ],
             [
              0.1111111111111111,
              "#46039f"
             ],
             [
              0.2222222222222222,
              "#7201a8"
             ],
             [
              0.3333333333333333,
              "#9c179e"
             ],
             [
              0.4444444444444444,
              "#bd3786"
             ],
             [
              0.5555555555555556,
              "#d8576b"
             ],
             [
              0.6666666666666666,
              "#ed7953"
             ],
             [
              0.7777777777777778,
              "#fb9f3a"
             ],
             [
              0.8888888888888888,
              "#fdca26"
             ],
             [
              1,
              "#f0f921"
             ]
            ],
            "type": "histogram2dcontour"
           }
          ],
          "mesh3d": [
           {
            "colorbar": {
             "outlinewidth": 0,
             "ticks": ""
            },
            "type": "mesh3d"
           }
          ],
          "parcoords": [
           {
            "line": {
             "colorbar": {
              "outlinewidth": 0,
              "ticks": ""
             }
            },
            "type": "parcoords"
           }
          ],
          "pie": [
           {
            "automargin": true,
            "type": "pie"
           }
          ],
          "scatter": [
           {
            "fillpattern": {
             "fillmode": "overlay",
             "size": 10,
             "solidity": 0.2
            },
            "type": "scatter"
           }
          ],
          "scatter3d": [
           {
            "line": {
             "colorbar": {
              "outlinewidth": 0,
              "ticks": ""
             }
            },
            "marker": {
             "colorbar": {
              "outlinewidth": 0,
              "ticks": ""
             }
            },
            "type": "scatter3d"
           }
          ],
          "scattercarpet": [
           {
            "marker": {
             "colorbar": {
              "outlinewidth": 0,
              "ticks": ""
             }
            },
            "type": "scattercarpet"
           }
          ],
          "scattergeo": [
           {
            "marker": {
             "colorbar": {
              "outlinewidth": 0,
              "ticks": ""
             }
            },
            "type": "scattergeo"
           }
          ],
          "scattergl": [
           {
            "marker": {
             "colorbar": {
              "outlinewidth": 0,
              "ticks": ""
             }
            },
            "type": "scattergl"
           }
          ],
          "scattermapbox": [
           {
            "marker": {
             "colorbar": {
              "outlinewidth": 0,
              "ticks": ""
             }
            },
            "type": "scattermapbox"
           }
          ],
          "scatterpolar": [
           {
            "marker": {
             "colorbar": {
              "outlinewidth": 0,
              "ticks": ""
             }
            },
            "type": "scatterpolar"
           }
          ],
          "scatterpolargl": [
           {
            "marker": {
             "colorbar": {
              "outlinewidth": 0,
              "ticks": ""
             }
            },
            "type": "scatterpolargl"
           }
          ],
          "scatterternary": [
           {
            "marker": {
             "colorbar": {
              "outlinewidth": 0,
              "ticks": ""
             }
            },
            "type": "scatterternary"
           }
          ],
          "surface": [
           {
            "colorbar": {
             "outlinewidth": 0,
             "ticks": ""
            },
            "colorscale": [
             [
              0,
              "#0d0887"
             ],
             [
              0.1111111111111111,
              "#46039f"
             ],
             [
              0.2222222222222222,
              "#7201a8"
             ],
             [
              0.3333333333333333,
              "#9c179e"
             ],
             [
              0.4444444444444444,
              "#bd3786"
             ],
             [
              0.5555555555555556,
              "#d8576b"
             ],
             [
              0.6666666666666666,
              "#ed7953"
             ],
             [
              0.7777777777777778,
              "#fb9f3a"
             ],
             [
              0.8888888888888888,
              "#fdca26"
             ],
             [
              1,
              "#f0f921"
             ]
            ],
            "type": "surface"
           }
          ],
          "table": [
           {
            "cells": {
             "fill": {
              "color": "#EBF0F8"
             },
             "line": {
              "color": "white"
             }
            },
            "header": {
             "fill": {
              "color": "#C8D4E3"
             },
             "line": {
              "color": "white"
             }
            },
            "type": "table"
           }
          ]
         },
         "layout": {
          "annotationdefaults": {
           "arrowcolor": "#2a3f5f",
           "arrowhead": 0,
           "arrowwidth": 1
          },
          "autotypenumbers": "strict",
          "coloraxis": {
           "colorbar": {
            "outlinewidth": 0,
            "ticks": ""
           }
          },
          "colorscale": {
           "diverging": [
            [
             0,
             "#8e0152"
            ],
            [
             0.1,
             "#c51b7d"
            ],
            [
             0.2,
             "#de77ae"
            ],
            [
             0.3,
             "#f1b6da"
            ],
            [
             0.4,
             "#fde0ef"
            ],
            [
             0.5,
             "#f7f7f7"
            ],
            [
             0.6,
             "#e6f5d0"
            ],
            [
             0.7,
             "#b8e186"
            ],
            [
             0.8,
             "#7fbc41"
            ],
            [
             0.9,
             "#4d9221"
            ],
            [
             1,
             "#276419"
            ]
           ],
           "sequential": [
            [
             0,
             "#0d0887"
            ],
            [
             0.1111111111111111,
             "#46039f"
            ],
            [
             0.2222222222222222,
             "#7201a8"
            ],
            [
             0.3333333333333333,
             "#9c179e"
            ],
            [
             0.4444444444444444,
             "#bd3786"
            ],
            [
             0.5555555555555556,
             "#d8576b"
            ],
            [
             0.6666666666666666,
             "#ed7953"
            ],
            [
             0.7777777777777778,
             "#fb9f3a"
            ],
            [
             0.8888888888888888,
             "#fdca26"
            ],
            [
             1,
             "#f0f921"
            ]
           ],
           "sequentialminus": [
            [
             0,
             "#0d0887"
            ],
            [
             0.1111111111111111,
             "#46039f"
            ],
            [
             0.2222222222222222,
             "#7201a8"
            ],
            [
             0.3333333333333333,
             "#9c179e"
            ],
            [
             0.4444444444444444,
             "#bd3786"
            ],
            [
             0.5555555555555556,
             "#d8576b"
            ],
            [
             0.6666666666666666,
             "#ed7953"
            ],
            [
             0.7777777777777778,
             "#fb9f3a"
            ],
            [
             0.8888888888888888,
             "#fdca26"
            ],
            [
             1,
             "#f0f921"
            ]
           ]
          },
          "colorway": [
           "#636efa",
           "#EF553B",
           "#00cc96",
           "#ab63fa",
           "#FFA15A",
           "#19d3f3",
           "#FF6692",
           "#B6E880",
           "#FF97FF",
           "#FECB52"
          ],
          "font": {
           "color": "#2a3f5f"
          },
          "geo": {
           "bgcolor": "white",
           "lakecolor": "white",
           "landcolor": "#E5ECF6",
           "showlakes": true,
           "showland": true,
           "subunitcolor": "white"
          },
          "hoverlabel": {
           "align": "left"
          },
          "hovermode": "closest",
          "mapbox": {
           "style": "light"
          },
          "paper_bgcolor": "white",
          "plot_bgcolor": "#E5ECF6",
          "polar": {
           "angularaxis": {
            "gridcolor": "white",
            "linecolor": "white",
            "ticks": ""
           },
           "bgcolor": "#E5ECF6",
           "radialaxis": {
            "gridcolor": "white",
            "linecolor": "white",
            "ticks": ""
           }
          },
          "scene": {
           "xaxis": {
            "backgroundcolor": "#E5ECF6",
            "gridcolor": "white",
            "gridwidth": 2,
            "linecolor": "white",
            "showbackground": true,
            "ticks": "",
            "zerolinecolor": "white"
           },
           "yaxis": {
            "backgroundcolor": "#E5ECF6",
            "gridcolor": "white",
            "gridwidth": 2,
            "linecolor": "white",
            "showbackground": true,
            "ticks": "",
            "zerolinecolor": "white"
           },
           "zaxis": {
            "backgroundcolor": "#E5ECF6",
            "gridcolor": "white",
            "gridwidth": 2,
            "linecolor": "white",
            "showbackground": true,
            "ticks": "",
            "zerolinecolor": "white"
           }
          },
          "shapedefaults": {
           "line": {
            "color": "#2a3f5f"
           }
          },
          "ternary": {
           "aaxis": {
            "gridcolor": "white",
            "linecolor": "white",
            "ticks": ""
           },
           "baxis": {
            "gridcolor": "white",
            "linecolor": "white",
            "ticks": ""
           },
           "bgcolor": "#E5ECF6",
           "caxis": {
            "gridcolor": "white",
            "linecolor": "white",
            "ticks": ""
           }
          },
          "title": {
           "x": 0.05
          },
          "xaxis": {
           "automargin": true,
           "gridcolor": "white",
           "linecolor": "white",
           "ticks": "",
           "title": {
            "standoff": 15
           },
           "zerolinecolor": "white",
           "zerolinewidth": 2
          },
          "yaxis": {
           "automargin": true,
           "gridcolor": "white",
           "linecolor": "white",
           "ticks": "",
           "title": {
            "standoff": 15
           },
           "zerolinecolor": "white",
           "zerolinewidth": 2
          }
         }
        },
        "title": {
         "text": "Scatterplot of Subjectivity vs Polarity - tweets discussing spaceX only"
        },
        "xaxis": {
         "anchor": "y",
         "domain": [
          0,
          1
         ],
         "title": {
          "text": "Polarity"
         }
        },
        "yaxis": {
         "anchor": "x",
         "domain": [
          0,
          1
         ],
         "title": {
          "text": "Subjectivity"
         }
        }
       }
      }
     },
     "metadata": {},
     "output_type": "display_data"
    }
   ],
   "source": [
    "# Create an interactive scatterplot\n",
    "fig = px.scatter(\n",
    "    spaceX_df,\n",
    "    x='Polarity',\n",
    "    y='Subjectivity',\n",
    "    # Show cleaned tweets on hover\n",
    "    hover_data={'Cleaned_Tweets': True},  \n",
    "    title='Scatterplot of Subjectivity vs Polarity - tweets discussing spaceX only',\n",
    "    labels={'Polarity': 'Polarity', 'Subjectivity': 'Subjectivity'}\n",
    ")\n",
    "\n",
    "# Show the plot\n",
    "fig.show()"
   ]
  },
  {
   "cell_type": "code",
   "execution_count": 12,
   "metadata": {},
   "outputs": [
    {
     "data": {
      "application/vnd.plotly.v1+json": {
       "config": {
        "plotlyServerURL": "https://plot.ly"
       },
       "data": [
        {
         "customdata": [
          [
           "Varies a lot. Tesla &amp; SpaceX are in good positions, but many other companies are not. Recessions do have a silver lining in that companies that shouldn’t exist stop existing."
          ],
          [
           "In case you missed Tesla AI Day 2022"
          ],
          [
           "Excited to announce start of production of Tesla Semi Truck with deliveries to  on Dec 1st!"
          ],
          [
           "First of all, Tesla hasn’t had that consumer tax credit for years &amp; we didn’t ask for this one – GM &amp; Ford did"
          ],
          [
           "Would be cool to make a game using Tesla Sim that’s literally your city &amp; neighborhood, down to skid marks on road &amp; then inject fantasy/sci-fi elements"
          ],
          [
           "Smoothing out crazy end of quarter delivery wave to reduce expedite costs &amp; relieve stress on Tesla team. Aiming for steadier deliveries intra-quarter."
          ],
          [
           "Recording of Tesla AI Day 2022"
          ],
          [
           "The point of AI Day is to show the immense depth &amp; breadth of Tesla in AI, compute hardware &amp; robotics"
          ],
          [
           "Tesla AI Day 2022 starts at precisely 6:15pm California time"
          ],
          [
           "Tesla team is awesome, such an honor to work with them!"
          ],
          [
           "Last coal shipment arrived in Hawaii at same time as Tesla Megapack batteries that will enable 24/7 sustainable energy"
          ],
          [
           "How ironic, that’s what Henrik Fisker did to Tesla in 2007! Karma is a …"
          ],
          [
           "Maybe little electric Tesla boats with a retro-futuristic Victorian design"
          ],
          [
           "Looks good to roll out to all Tesla owners with 10.12.2 (~100k cars)!"
          ],
          [
           "Absolutely, the Tesla fleet in Australia is growing rapidly, so we do need to ramp up service in general"
          ],
          [
           "Tesla North America aiming for &gt;50% same hour service"
          ],
          [
           "Note, I am putting a lot of time personally into advancing Tesla service to make it awesome. Hopefully, this is starting to be felt by Tesla owners."
          ],
          [
           "You’re right, we should credit Tesla owners $100 if we change appointments with less than 24 hours notice. Should be reciprocal."
          ],
          [
           "Lot of people still don’t realize Tesla makes uninterruptible power supplies for your whole home (Powerwall)"
          ],
          [
           "Order a Tesla Powerwall battery for blackout protection!"
          ],
          [
           "I somewhat agonized over the Tesla &amp; SpaceX font design (love fonts tbh). There are some similarities, particularly use of negative space. We’ve made many little tweaks over the years."
          ],
          [
           "Just wanted to emphasize again that our awesome Tesla software/AI team is who really deserves the credit. The talent level at Tesla is incredible."
          ],
          [
           "Note, you can upgrade your existing car to FSD in 2 mins via the Tesla app"
          ],
          [
           "FSD Beta 10.69 started rolling out to Tesla owners last night. This build is a big step forward!10.69.1 probably end of week with wider release.1069.2 in a few weeks should be good enough to provide to all FSD Beta participants."
          ],
          [
           "Tesla Autopilot/AI team did great work with 10.69! Some point releases needed for polish, so 10.69.2 should really shine."
          ],
          [
           "Worth hearing about Tesla Autopilot software/AI progress"
          ],
          [
           "There are many major code changes, so this will be an extra cautious rollout.Releasing on 8/20 to ~1000 Tesla owners, then 10.69.1 next week to accommodate feedback &amp; release to ~10k customers, then 10.69.2 week after &amp; release to rest of FSD Beta."
          ],
          [
           "Yes. Tesla Autopilot/AI team is doing amazing work! 10.69 will be worth its name."
          ],
          [
           "Because Tesla doesn’t advertise and other car companies do"
          ],
          [
           "Tesla 500 mile range Semi Truck starts shipping this year, Cybertruck next year"
          ],
          [
           "Yes. In the (hopefully unlikely) event that Twitter forces this deal to close *and* some equity partners don’t come through, it is important to avoid an emergency sale of Tesla stock."
          ],
          [
           "Tesla Fremont team is kicking a**!"
          ],
          [
           "Not true. Tesla is 5 mins from Austin International airport. Would be silly to build another private airport, however the existing commercial airport needs another runway, as Austin is growing fast!"
          ],
          [
           "Tesla + Twitter -&gt; Twizzler"
          ],
          [
           "Try voice command “open butthole” on your Tesla"
          ],
          [
           "More Tesla commodity prices are trending down than up fwiw"
          ],
          [
           "WSJ has run so many bs hit pieces on me and Tesla I’ve lost count! It’s embarrassing for them, frankly.They once wrote an article saying FBI was about to arrest me, so I called FBI to ask what’s up and they said WSJ article was total bs.Just more shortseller fud."
          ],
          [
           "Excited to work with Tesla Service to enable same-hour service as often as possible! Applying Formula 1 pit crew techniques to Teslas."
          ],
          [
           "To think that Fremont was just a derelict building &amp; Giga Nevada was just rocks &amp; bushes when started!California used to have a dozen car factories. NUMMI was last to close. Now, Tesla Fremont is the biggest car factory in North America!"
          ],
          [
           "Congrats to Tesla Fremont + Giga Nevada for making their 2 millionth car!"
          ],
          [
           "Please vote your shares with Tesla!"
          ],
          [
           "Tesla is to protect life on Earth,SpaceX to extend life beyond."
          ],
          [
           "Thanks for everything you have done for Tesla! It has been an honor working with you."
          ],
          [
           "Tesla’s automatic cabin overheat protection should make a real difference with record heatwaves.Ability to adjust activation temperature coming with next software release."
          ],
          [
           "Super fired up for future product development with our awesome Tesla team! Such an honor to work with them."
          ],
          [
           "Maybe Tesla should make a highly configurable Robovan for people &amp; cargo?"
          ],
          [
           "Tesla and SpaceX merch, maybe more down the road"
          ],
          [
           "Buyers of competing electric cars receive a $7500 tax credit, but Tesla does not"
          ],
          [
           "You obviously haven’t tried Tesla FSD"
          ],
          [
           "The Tesla tech tree is insane"
          ],
          [
           "Yeah, exactly. Also, other companies are using the Tesla name for solar and Powerwall. Will put a stop to that."
          ],
          [
           "Working on Tesla North American service. Goal is 2/3 of cars receive same-day service, no wait."
          ],
          [
           "Tesla AI Day  will be epic"
          ],
          [
           "Tesla AI Day pushed to Sept 30, as we may have an Optimus prototype working by then"
          ],
          [
           "We’re using more GPTs, as they now run natively on Tesla TRIP chip vs needing to round trip to iGPU"
          ],
          [
           "Tesla scores 100/100 for 7th year in a row for LGBTQ equality"
          ],
          [
           "True. Tesla was attacked by Romney in 2 of 3 presidential debates. Those lines were fed to him by a particular individual in the oil &amp; gas industry.The Dems turned negative over the past ~12 months. At least part of it is Mackenzie’s donation to PACs posing as charities."
          ],
          [
           "I’m just talking about the mid-term elections in November. Not sure that there is a third party candidate.It’s rather hard to support a party when prominent members of that party keep attacking me and sidelining Tesla &amp; SpaceX!"
          ],
          [
           "Tesla doesn’t advertise, the others do. They are … hesitant to bite the hand that feeds them."
          ],
          [
           "Tesla Plaid S cruising around Austin with volume at 11 is sublime"
          ],
          [
           "Yeah, the public has no idea how much Tesla and SpaceX have been attacked/undermined, because we aren’t unionized (yet offer highest pay in industry!) and this administration would rather a company be dead than not unionized"
          ],
          [
           "I support free speech, but not any one candidate. In fact, I gave money to &amp; voted for Hillary &amp; then voted for Biden.However, given unprovoked attacks by leading Democrats against me &amp; a very cold shoulder to Tesla &amp; SpaceX, I intend to vote Republican in November."
          ],
          [
           "Our video clips are usually shorter than 30 seconds, but the overall point made by James is accurate. Tesla is probably labeling more images per week than any other project ever done and our rate of labeling is increasing rapidly."
          ],
          [
           "Long-term potential of Tesla is high"
          ],
          [
           "It was $500M, but then Tesla went up a lot, so now it’s $1.5B to $2B to close it out"
          ],
          [
           "Since Gates still has a multi-billion dollar short position against Tesla while claiming to help with global warming, I guess I have some trust issues with him too"
          ],
          [
           "Tesla will not put a manufacturing plant in any location where we are not allowed first to sell &amp; service cars"
          ],
          [
           "Tesla merch can be bought with Doge, soon SpaceX merch too"
          ],
          [
           "Will discuss this and other improvements with Tesla audio engineering. The new Model S and X sound system is incredible."
          ],
          [
           "This would be a super bad idea, since stocks can swing wildly from one day to the next, eg Snapchat dropping 43%. Tesla is ~40% below ATH!However, eliminating estate tax dodges like GRATs would be good, since probability of kids being effective stewards of capital is lower."
          ],
          [
           "I have so much respect for the Tesla Shanghai team"
          ],
          [
           "Indeed I did. However, I also think that Tesla has the potential to be the most valuable company ever. When Tesla’s market cap, making sustainable energy products, exceeds that of Aramco, producing fossil fuels, you know the future will be good for Earth."
          ],
          [
           "It’s accurate to say that incentives were an accelerant to EV adoption, but we started Tesla when there were no incentives &amp; gasoline was $2/gallon even in California.Tesla currently has a tax credit *disadvantage*, because the $7500 tax credit stopped applying to us years ago."
          ],
          [
           "It is accurate to say that incentives were an accelerant to EV adoption, but we started Tesla when there were no incentives &amp; gasoline was $2/gallon in California.Tesla currently has a tax credit *disadvantage*, because the $7500 tax credit stopped applying to us years ago."
          ],
          [
           "Tesla FSD is the best real world AI"
          ],
          [
           "Tesla is building a hardcore litigation department where we directly initiate &amp; execute lawsuits. The team will report directly to me. Please send 3 to 5 bullet points describing evidence of exceptional ability.justice"
          ],
          [
           "Hi Jon! You’re a good dude, but obv die-hard Dem, so have to support the party, but this Adminstration has done everything it can to sideline &amp; ignore Tesla, even though we have made twice as many EVs as rest of US industry combined."
          ],
          [
           "To be clear, I’m spending &lt;5% (but actually) of my time on the Twitter acquisition. It ain’t rocket science!Yesterday was Giga Texas, today is Starbase. Tesla is on my mind 24/7.So may seem like below, but not true."
          ],
          [
           "Despite Tesla doing more for the environment than any company ever!"
          ],
          [
           "Exxon is rated top ten best in world for environment, social &amp; governance (ESG) by S&amp;P 500, while Tesla didn’t make the list!ESG is a scam. It has been weaponized by phony social justice warriors."
          ],
          [
           "Tesla doesn’t need debt, so the rating doesn’t impact us, but it is silly"
          ],
          [
           "Yes, the purpose of AI Day is to convince great AI/software/chip talent to join Tesla"
          ],
          [
           "Tesla AI Day  on Aug 19. So many cool updates!"
          ],
          [
           "The Tesla China team is amazing"
          ],
          [
           "Yes! Stop the outrageous false ESG assessments, where Tesla gets a bad grade, but an oil company can get a good grade. Total gaming of the system!"
          ],
          [
           "Tesla is now over 110k direct jobs and roughly 500k indirect, factoring in suppliers"
          ],
          [
           "The head of Saudi PIF committed unequivocally to take Tesla private with me, as witnessed by the Tesla CFO and several others. That is why I said funding was secured."
          ],
          [
           "(from making fun of Gates for shorting Tesla while claiming to support climate change action)"
          ],
          [
           "Tesla China is doing incredible work"
          ],
          [
           "Yeah, but I didn’t leak it to NYT. They must have got it through friends of friends. I heard from multiple people at TED that Gates still had half billion short against Tesla, which is why I asked him, so it’s not exactly top secret."
          ],
          [
           "Tesla is really a dozen or more startups if you look at all the things created from scratch that aren’t present in other car companies"
          ],
          [
           "Such a joy to work with amazingly talented people at SpaceX, Tesla, Neuralink &amp; Boring Co!"
          ],
          [
           "My true moral error was creating Tesla &amp; SpaceX at same time, while avoiding general mgmt chores at Tesla (focusing only on product &amp; engineering). Tried to have my cake &amp; eat it too, which failed."
          ],
          [
           "Maybe JB would be up for that too. He deserves a lot of credit (as do many longtime Tesla people)."
          ],
          [
           "I should, but that would take a lot of time away from Tesla, SpaceX &amp; other work. Walter Isaacson is writing a book."
          ],
          [
           "I put in all I had, whereas Eberhard, who was worth over $10M at the time, refused to invest a penny to help Tesla. If it was really his baby, he would never have stood by while it starved to death."
          ],
          [
           "But if he was actually capable of creating a company like Tesla, he would have done so after he was fired for lying outrageously about cost &amp; progress of Roadster in mid 2007.We would’ve lost at least a few talented people if he was the real deal, but we lost no one."
          ],
          [
           "Eberhard has been relentlessly pushing a false narrative about Tesla for 15 years. He’s a compelling liar. Fooled me for almost 3 years."
          ],
          [
           "Not even close to that. It was a shell corp with no employees, no IP, no designs, no prototype, literally nothing but a biz plan to commercialize AC Propulsion’s Tzero car, which was introduced to me by JB Straubel, *not* Eberhard. Even name “Tesla Motors” was owned by others!"
          ],
          [
           "Tesla opex is embarrassingly high imo!"
          ],
          [
           "Based on feedback received, we will drop mobile connector price to $200 &amp; make it easy to order with car. Note, mobile connector is not needed if you have a Tesla wall connector or to use Superchargers.Recommend installing Tesla wall connector well before car arrives."
          ],
          [
           "You will get it back, even though you shorted Tesla, you bastard "
          ],
          [
           "Price of lithium has gone to insane levels! Tesla might actually have to get into the mining &amp; refining directly at scale, unless costs improve.There is no shortage of the element itself, as lithium is almost everywhere on Earth, but pace of extraction/refinement is slow."
          ],
          [
           "Great work by Tesla Texas Team!!Built &amp; delivered first Giga Texas production cars &amp; threw a killer opening party  "
          ],
          [
           "Increasingly likely that the Tesla vehicle computer will be able to process 288 FPS (36 Hz * 8 cameras)"
          ],
          [
           "This was an *exceptionally* difficult quarter due to supply chain interruptions &amp; China zero Covid policy.Outstanding work by Tesla team &amp; key suppliers saved the day."
          ],
          [
           "Good point. SpaceX &amp; Tesla would probably have died, since both narrowly escaped bankruptcy in 2008."
          ],
          [
           "The UAW stole millions from workers, whereas Tesla has made many workers millionaires (via stock grants). Subtle, but important difference."
          ],
          [
           "I usually drive an alpha build, but switch to beta right before release so I know what Tesla owners are getting"
          ],
          [
           "Main Tesla subjects will be scaling to extreme size, which is needed to shift humanity away from fossil fuels, and AI.But I will also Include sections about SpaceX, Tesla and The Boring Company."
          ],
          [
           "But reaching volume production with sustained positive cash flow was last achieved by an American car company, Chrysler, ~100 years ago!Ford &amp; Tesla are the only American car companies to avoid bankruptcy. Even GM &amp; Chrysler went bankrupt in 2009."
          ],
          [
           "Prototypes are easy, production is hard. Making an electric car was not the hard part of Tesla – dozens of companies have done that."
          ],
          [
           "I have so much respect for the associates doing an honest day’s work at Tesla or SpaceX building &amp; servicing cars, rockets, Starlinks, batteries, solar &amp; many other things"
          ],
          [
           "Tesla &amp; SpaceX are seeing significant recent inflation pressure in raw materials &amp; logistics"
          ],
          [
           "Vector lanes is a particularly significant architectural improvement to Tesla AI"
          ],
          [
           "Maybe Tesla should make an AI vision device that plugs into these legacy traffic lights. It could just look at traffic &amp; automatically maximize throughput."
          ],
          [
           "Even some of the best AI software engineers in the world don’t realize how advanced Tesla AI has become"
          ],
          [
           "Alternate name for our company was Faraday, who invented the electric motor, whereas Nikola Tesla invented the AC induction motor"
          ],
          [
           "Obviously, this would negatively affect Tesla, but sustainable energy solutions simply cannot react instantaneously to make up for Russian oil &amp; gas exports."
          ],
          [
           "This old YouTube clip helps explain why former UAW members who work at Tesla are not huge fans of UAW"
          ],
          [
           "By the way, Tesla factory worker compensation is the highest in the auto industry"
          ],
          [
           "Our real challenge is Bay Area has negative unemployment, so if we don’t treat and compensate our (awesome) people well, they have many other offers and will just leave!I’d like hereby to invite UAW to hold a union vote at their convenience. Tesla will do nothing to stop them."
          ],
          [
           "The probability of Tesla dying in 2008/2009 was very high. We closed our financing round at 6pm on Dec 24th – the last working hour of the last day before Tesla would otherwise bounce payroll."
          ],
          [
           "Tesla has created over 50,000 US jobs building electric vehicles &amp; is investing more than double GM + Ford combined[fyi to person controlling this twitter]"
          ],
          [
           "Our primary challenge is affordability. Creating an expensive truck is relatively easy. If it is extremely hard to do so for Tesla, despite our much greater economies of scale &amp; better technology, then it is damn near impossible for others."
          ],
          [
           "We’re working through the general case of making Steam games work on a Tesla vs specific titles. Former is obviously where we should be long-term."
          ],
          [
           "Tesla owners in the greater Giga Texas area will get priority, so yes"
          ],
          [
           "I was at a lunch with Munger in 2009 where he told the whole table all the ways Tesla would fail. Made me quite sad, but I told him I agreed with all those reasons &amp; that we would probably die, but it was worth trying anyway."
          ],
          [
           "So many layers with Tesla FSD AI!"
          ],
          [
           "Now Tesla is worth a trilly willy!"
          ],
          [
           "Tesla"
          ],
          [
           "Tesla Model S &amp; X Plaid are so fun!"
          ],
          [
           "Tesla is working hard to provide more Megapacks for grid stabilization"
          ],
          [
           "Tesla is as much a software company as it is a hardware company, both in car and in factory. This is not widely understood."
          ],
          [
           "Tesla has great respect for software engineering, they do not"
          ],
          [
           "They’ve been writing bogus articles about Tesla (and me) for years. In the end, it is their own credibility that suffers."
          ],
          [
           "For reasons unknown,  is unable to say the word “Tesla”"
          ],
          [
           "Excited for future of solar at Tesla!"
          ],
          [
           "Tesla will support FSD licensing by other manufacturers"
          ],
          [
           "Given how hard insanely FSD is, I think it may take 5 years or more before any company besides Tesla solves it"
          ]
         ],
         "hovertemplate": "Polarity=%{x}<br>Subjectivity=%{y}<br>Cleaned_Tweets=%{customdata[0]}<extra></extra>",
         "legendgroup": "",
         "marker": {
          "color": "#636efa",
          "symbol": "circle"
         },
         "mode": "markers",
         "name": "",
         "orientation": "v",
         "showlegend": false,
         "type": "scatter",
         "x": [
          0.35833333333333334,
          0,
          0.46875,
          0.25,
          -0.06851851851851853,
          -0.6,
          0,
          0,
          0.4,
          0.5,
          0,
          0.25,
          -0.1875,
          0.875,
          0.125,
          0,
          0.3333333333333333,
          0.05952380952380952,
          0.2,
          0,
          0.13583333333333333,
          0.7000000000000001,
          0,
          0.09999999999999999,
          0.6,
          0.3,
          0.140625,
          0.525,
          -0.125,
          0,
          -0.04999999999999999,
          0,
          -0.07083333333333335,
          0,
          0,
          0.17222222222222222,
          0.26875,
          0.1875,
          0,
          0,
          0,
          0,
          0.25,
          0.1,
          0.3333333333333333,
          0.16,
          0.17222222222222222,
          0,
          0,
          -1,
          0.0625,
          0,
          0.1,
          0,
          0.15,
          0,
          -0.05555555555555556,
          0.020833333333333315,
          0,
          0,
          0.016666666666666663,
          -0.19,
          0.10500000000000002,
          0.08,
          0,
          0,
          0.25,
          0,
          0.3278409090909091,
          0.17222222222222225,
          0.2,
          0.3,
          0.20000000000000004,
          0.20000000000000004,
          0.6,
          0.2888888888888889,
          0.6,
          -0.024999999999999998,
          0.625,
          0.31333333333333335,
          -0.5,
          0.8,
          0.46875,
          0.6000000000000001,
          -0.28,
          0,
          0,
          0.2,
          0.9,
          -0.16333333333333333,
          0.14375,
          0.125,
          -0.016666666666666663,
          0.5,
          -0.125,
          0.25,
          -0.057142857142857155,
          -0.050000000000000044,
          0,
          0.2,
          0.43333333333333335,
          0,
          -0.30000000000000004,
          0.525,
          0.25,
          -0.20833333333333334,
          0.24999999999999997,
          0.18888888888888888,
          0.01785714285714285,
          -0.3194444444444445,
          0.045454545454545456,
          -0.05000000000000001,
          0.29375,
          0.04807692307692307,
          0.375,
          0,
          0.7,
          0,
          -0.075,
          -0.033333333333333326,
          0,
          0.22916666666666666,
          -0.0184,
          0.25,
          0.059375000000000025,
          0.012500000000000004,
          0.5,
          -0.125,
          0.625,
          0.375,
          0,
          0.375,
          0.10416666666666666,
          0.125,
          0.8,
          0,
          -0.3,
          0.1875,
          -0.125,
          -0.2638888888888889
         ],
         "xaxis": "x",
         "y": [
          0.4916666666666667,
          0,
          0.75,
          0.3333333333333333,
          0.44629629629629636,
          0.9,
          0,
          1,
          0.8,
          0.75,
          0.09583333333333333,
          0.9,
          0.5,
          0.6000000000000001,
          0.7,
          0.125,
          0.46666666666666673,
          0.3011904761904762,
          0.4,
          0,
          0.4666666666666667,
          0.7000000000000001,
          0,
          0.2733333333333333,
          0.475,
          0.1,
          0.275,
          0.5,
          0.375,
          0,
          0.75,
          0,
          0.4166666666666667,
          0,
          0.5,
          0.3944444444444445,
          0.4375,
          0.875,
          0.06666666666666667,
          0,
          0,
          0,
          0.2,
          0.15000000000000002,
          0.5729166666666666,
          0.54,
          0.3944444444444445,
          0,
          0.5,
          1,
          0.3125,
          0,
          0.4,
          0,
          0.45,
          0,
          0.4055555555555555,
          0.6076388888888888,
          0,
          0,
          0.22222222222222224,
          0.9,
          0.3516666666666667,
          0.77,
          0,
          0.15,
          0.3333333333333333,
          0,
          0.5323863636363636,
          0.5222222222222223,
          0.2,
          0.55625,
          0.5166666666666666,
          0.5166666666666666,
          0.30000000000000004,
          0.6,
          0.55,
          0.37777777777777777,
          0.5,
          0.18666666666666668,
          0.875,
          0.75,
          0.575,
          0.9,
          0.7233333333333334,
          0.4,
          0.1875,
          0.15000000000000002,
          0.9,
          0.3333333333333333,
          0.26875,
          0.65,
          0.47083333333333327,
          0.5,
          0.375,
          0.15000000000000002,
          0.4428571428571428,
          0.6,
          0,
          0.54,
          0.8333333333333334,
          0,
          0.475,
          0.5416666666666666,
          0.8125,
          0.7916666666666666,
          0.5,
          0.6666666666666666,
          0.39285714285714285,
          0.7777777777777777,
          0.3224242424242424,
          0.6388888888888888,
          0.49375,
          0.5288461538461539,
          0.875,
          0,
          0.44999999999999996,
          0,
          0.3142857142857143,
          0.3666666666666667,
          0,
          0.4291666666666667,
          0.2670666666666667,
          0.25,
          0.621875,
          0.28125,
          0.5,
          0.45,
          0.5,
          0.1,
          0,
          0.2,
          0.5208333333333333,
          0.30000000000000004,
          0.75,
          0.85,
          0.55,
          0.4375,
          0.375,
          0.6805555555555555
         ],
         "yaxis": "y"
        }
       ],
       "layout": {
        "legend": {
         "tracegroupgap": 0
        },
        "template": {
         "data": {
          "bar": [
           {
            "error_x": {
             "color": "#2a3f5f"
            },
            "error_y": {
             "color": "#2a3f5f"
            },
            "marker": {
             "line": {
              "color": "#E5ECF6",
              "width": 0.5
             },
             "pattern": {
              "fillmode": "overlay",
              "size": 10,
              "solidity": 0.2
             }
            },
            "type": "bar"
           }
          ],
          "barpolar": [
           {
            "marker": {
             "line": {
              "color": "#E5ECF6",
              "width": 0.5
             },
             "pattern": {
              "fillmode": "overlay",
              "size": 10,
              "solidity": 0.2
             }
            },
            "type": "barpolar"
           }
          ],
          "carpet": [
           {
            "aaxis": {
             "endlinecolor": "#2a3f5f",
             "gridcolor": "white",
             "linecolor": "white",
             "minorgridcolor": "white",
             "startlinecolor": "#2a3f5f"
            },
            "baxis": {
             "endlinecolor": "#2a3f5f",
             "gridcolor": "white",
             "linecolor": "white",
             "minorgridcolor": "white",
             "startlinecolor": "#2a3f5f"
            },
            "type": "carpet"
           }
          ],
          "choropleth": [
           {
            "colorbar": {
             "outlinewidth": 0,
             "ticks": ""
            },
            "type": "choropleth"
           }
          ],
          "contour": [
           {
            "colorbar": {
             "outlinewidth": 0,
             "ticks": ""
            },
            "colorscale": [
             [
              0,
              "#0d0887"
             ],
             [
              0.1111111111111111,
              "#46039f"
             ],
             [
              0.2222222222222222,
              "#7201a8"
             ],
             [
              0.3333333333333333,
              "#9c179e"
             ],
             [
              0.4444444444444444,
              "#bd3786"
             ],
             [
              0.5555555555555556,
              "#d8576b"
             ],
             [
              0.6666666666666666,
              "#ed7953"
             ],
             [
              0.7777777777777778,
              "#fb9f3a"
             ],
             [
              0.8888888888888888,
              "#fdca26"
             ],
             [
              1,
              "#f0f921"
             ]
            ],
            "type": "contour"
           }
          ],
          "contourcarpet": [
           {
            "colorbar": {
             "outlinewidth": 0,
             "ticks": ""
            },
            "type": "contourcarpet"
           }
          ],
          "heatmap": [
           {
            "colorbar": {
             "outlinewidth": 0,
             "ticks": ""
            },
            "colorscale": [
             [
              0,
              "#0d0887"
             ],
             [
              0.1111111111111111,
              "#46039f"
             ],
             [
              0.2222222222222222,
              "#7201a8"
             ],
             [
              0.3333333333333333,
              "#9c179e"
             ],
             [
              0.4444444444444444,
              "#bd3786"
             ],
             [
              0.5555555555555556,
              "#d8576b"
             ],
             [
              0.6666666666666666,
              "#ed7953"
             ],
             [
              0.7777777777777778,
              "#fb9f3a"
             ],
             [
              0.8888888888888888,
              "#fdca26"
             ],
             [
              1,
              "#f0f921"
             ]
            ],
            "type": "heatmap"
           }
          ],
          "heatmapgl": [
           {
            "colorbar": {
             "outlinewidth": 0,
             "ticks": ""
            },
            "colorscale": [
             [
              0,
              "#0d0887"
             ],
             [
              0.1111111111111111,
              "#46039f"
             ],
             [
              0.2222222222222222,
              "#7201a8"
             ],
             [
              0.3333333333333333,
              "#9c179e"
             ],
             [
              0.4444444444444444,
              "#bd3786"
             ],
             [
              0.5555555555555556,
              "#d8576b"
             ],
             [
              0.6666666666666666,
              "#ed7953"
             ],
             [
              0.7777777777777778,
              "#fb9f3a"
             ],
             [
              0.8888888888888888,
              "#fdca26"
             ],
             [
              1,
              "#f0f921"
             ]
            ],
            "type": "heatmapgl"
           }
          ],
          "histogram": [
           {
            "marker": {
             "pattern": {
              "fillmode": "overlay",
              "size": 10,
              "solidity": 0.2
             }
            },
            "type": "histogram"
           }
          ],
          "histogram2d": [
           {
            "colorbar": {
             "outlinewidth": 0,
             "ticks": ""
            },
            "colorscale": [
             [
              0,
              "#0d0887"
             ],
             [
              0.1111111111111111,
              "#46039f"
             ],
             [
              0.2222222222222222,
              "#7201a8"
             ],
             [
              0.3333333333333333,
              "#9c179e"
             ],
             [
              0.4444444444444444,
              "#bd3786"
             ],
             [
              0.5555555555555556,
              "#d8576b"
             ],
             [
              0.6666666666666666,
              "#ed7953"
             ],
             [
              0.7777777777777778,
              "#fb9f3a"
             ],
             [
              0.8888888888888888,
              "#fdca26"
             ],
             [
              1,
              "#f0f921"
             ]
            ],
            "type": "histogram2d"
           }
          ],
          "histogram2dcontour": [
           {
            "colorbar": {
             "outlinewidth": 0,
             "ticks": ""
            },
            "colorscale": [
             [
              0,
              "#0d0887"
             ],
             [
              0.1111111111111111,
              "#46039f"
             ],
             [
              0.2222222222222222,
              "#7201a8"
             ],
             [
              0.3333333333333333,
              "#9c179e"
             ],
             [
              0.4444444444444444,
              "#bd3786"
             ],
             [
              0.5555555555555556,
              "#d8576b"
             ],
             [
              0.6666666666666666,
              "#ed7953"
             ],
             [
              0.7777777777777778,
              "#fb9f3a"
             ],
             [
              0.8888888888888888,
              "#fdca26"
             ],
             [
              1,
              "#f0f921"
             ]
            ],
            "type": "histogram2dcontour"
           }
          ],
          "mesh3d": [
           {
            "colorbar": {
             "outlinewidth": 0,
             "ticks": ""
            },
            "type": "mesh3d"
           }
          ],
          "parcoords": [
           {
            "line": {
             "colorbar": {
              "outlinewidth": 0,
              "ticks": ""
             }
            },
            "type": "parcoords"
           }
          ],
          "pie": [
           {
            "automargin": true,
            "type": "pie"
           }
          ],
          "scatter": [
           {
            "fillpattern": {
             "fillmode": "overlay",
             "size": 10,
             "solidity": 0.2
            },
            "type": "scatter"
           }
          ],
          "scatter3d": [
           {
            "line": {
             "colorbar": {
              "outlinewidth": 0,
              "ticks": ""
             }
            },
            "marker": {
             "colorbar": {
              "outlinewidth": 0,
              "ticks": ""
             }
            },
            "type": "scatter3d"
           }
          ],
          "scattercarpet": [
           {
            "marker": {
             "colorbar": {
              "outlinewidth": 0,
              "ticks": ""
             }
            },
            "type": "scattercarpet"
           }
          ],
          "scattergeo": [
           {
            "marker": {
             "colorbar": {
              "outlinewidth": 0,
              "ticks": ""
             }
            },
            "type": "scattergeo"
           }
          ],
          "scattergl": [
           {
            "marker": {
             "colorbar": {
              "outlinewidth": 0,
              "ticks": ""
             }
            },
            "type": "scattergl"
           }
          ],
          "scattermapbox": [
           {
            "marker": {
             "colorbar": {
              "outlinewidth": 0,
              "ticks": ""
             }
            },
            "type": "scattermapbox"
           }
          ],
          "scatterpolar": [
           {
            "marker": {
             "colorbar": {
              "outlinewidth": 0,
              "ticks": ""
             }
            },
            "type": "scatterpolar"
           }
          ],
          "scatterpolargl": [
           {
            "marker": {
             "colorbar": {
              "outlinewidth": 0,
              "ticks": ""
             }
            },
            "type": "scatterpolargl"
           }
          ],
          "scatterternary": [
           {
            "marker": {
             "colorbar": {
              "outlinewidth": 0,
              "ticks": ""
             }
            },
            "type": "scatterternary"
           }
          ],
          "surface": [
           {
            "colorbar": {
             "outlinewidth": 0,
             "ticks": ""
            },
            "colorscale": [
             [
              0,
              "#0d0887"
             ],
             [
              0.1111111111111111,
              "#46039f"
             ],
             [
              0.2222222222222222,
              "#7201a8"
             ],
             [
              0.3333333333333333,
              "#9c179e"
             ],
             [
              0.4444444444444444,
              "#bd3786"
             ],
             [
              0.5555555555555556,
              "#d8576b"
             ],
             [
              0.6666666666666666,
              "#ed7953"
             ],
             [
              0.7777777777777778,
              "#fb9f3a"
             ],
             [
              0.8888888888888888,
              "#fdca26"
             ],
             [
              1,
              "#f0f921"
             ]
            ],
            "type": "surface"
           }
          ],
          "table": [
           {
            "cells": {
             "fill": {
              "color": "#EBF0F8"
             },
             "line": {
              "color": "white"
             }
            },
            "header": {
             "fill": {
              "color": "#C8D4E3"
             },
             "line": {
              "color": "white"
             }
            },
            "type": "table"
           }
          ]
         },
         "layout": {
          "annotationdefaults": {
           "arrowcolor": "#2a3f5f",
           "arrowhead": 0,
           "arrowwidth": 1
          },
          "autotypenumbers": "strict",
          "coloraxis": {
           "colorbar": {
            "outlinewidth": 0,
            "ticks": ""
           }
          },
          "colorscale": {
           "diverging": [
            [
             0,
             "#8e0152"
            ],
            [
             0.1,
             "#c51b7d"
            ],
            [
             0.2,
             "#de77ae"
            ],
            [
             0.3,
             "#f1b6da"
            ],
            [
             0.4,
             "#fde0ef"
            ],
            [
             0.5,
             "#f7f7f7"
            ],
            [
             0.6,
             "#e6f5d0"
            ],
            [
             0.7,
             "#b8e186"
            ],
            [
             0.8,
             "#7fbc41"
            ],
            [
             0.9,
             "#4d9221"
            ],
            [
             1,
             "#276419"
            ]
           ],
           "sequential": [
            [
             0,
             "#0d0887"
            ],
            [
             0.1111111111111111,
             "#46039f"
            ],
            [
             0.2222222222222222,
             "#7201a8"
            ],
            [
             0.3333333333333333,
             "#9c179e"
            ],
            [
             0.4444444444444444,
             "#bd3786"
            ],
            [
             0.5555555555555556,
             "#d8576b"
            ],
            [
             0.6666666666666666,
             "#ed7953"
            ],
            [
             0.7777777777777778,
             "#fb9f3a"
            ],
            [
             0.8888888888888888,
             "#fdca26"
            ],
            [
             1,
             "#f0f921"
            ]
           ],
           "sequentialminus": [
            [
             0,
             "#0d0887"
            ],
            [
             0.1111111111111111,
             "#46039f"
            ],
            [
             0.2222222222222222,
             "#7201a8"
            ],
            [
             0.3333333333333333,
             "#9c179e"
            ],
            [
             0.4444444444444444,
             "#bd3786"
            ],
            [
             0.5555555555555556,
             "#d8576b"
            ],
            [
             0.6666666666666666,
             "#ed7953"
            ],
            [
             0.7777777777777778,
             "#fb9f3a"
            ],
            [
             0.8888888888888888,
             "#fdca26"
            ],
            [
             1,
             "#f0f921"
            ]
           ]
          },
          "colorway": [
           "#636efa",
           "#EF553B",
           "#00cc96",
           "#ab63fa",
           "#FFA15A",
           "#19d3f3",
           "#FF6692",
           "#B6E880",
           "#FF97FF",
           "#FECB52"
          ],
          "font": {
           "color": "#2a3f5f"
          },
          "geo": {
           "bgcolor": "white",
           "lakecolor": "white",
           "landcolor": "#E5ECF6",
           "showlakes": true,
           "showland": true,
           "subunitcolor": "white"
          },
          "hoverlabel": {
           "align": "left"
          },
          "hovermode": "closest",
          "mapbox": {
           "style": "light"
          },
          "paper_bgcolor": "white",
          "plot_bgcolor": "#E5ECF6",
          "polar": {
           "angularaxis": {
            "gridcolor": "white",
            "linecolor": "white",
            "ticks": ""
           },
           "bgcolor": "#E5ECF6",
           "radialaxis": {
            "gridcolor": "white",
            "linecolor": "white",
            "ticks": ""
           }
          },
          "scene": {
           "xaxis": {
            "backgroundcolor": "#E5ECF6",
            "gridcolor": "white",
            "gridwidth": 2,
            "linecolor": "white",
            "showbackground": true,
            "ticks": "",
            "zerolinecolor": "white"
           },
           "yaxis": {
            "backgroundcolor": "#E5ECF6",
            "gridcolor": "white",
            "gridwidth": 2,
            "linecolor": "white",
            "showbackground": true,
            "ticks": "",
            "zerolinecolor": "white"
           },
           "zaxis": {
            "backgroundcolor": "#E5ECF6",
            "gridcolor": "white",
            "gridwidth": 2,
            "linecolor": "white",
            "showbackground": true,
            "ticks": "",
            "zerolinecolor": "white"
           }
          },
          "shapedefaults": {
           "line": {
            "color": "#2a3f5f"
           }
          },
          "ternary": {
           "aaxis": {
            "gridcolor": "white",
            "linecolor": "white",
            "ticks": ""
           },
           "baxis": {
            "gridcolor": "white",
            "linecolor": "white",
            "ticks": ""
           },
           "bgcolor": "#E5ECF6",
           "caxis": {
            "gridcolor": "white",
            "linecolor": "white",
            "ticks": ""
           }
          },
          "title": {
           "x": 0.05
          },
          "xaxis": {
           "automargin": true,
           "gridcolor": "white",
           "linecolor": "white",
           "ticks": "",
           "title": {
            "standoff": 15
           },
           "zerolinecolor": "white",
           "zerolinewidth": 2
          },
          "yaxis": {
           "automargin": true,
           "gridcolor": "white",
           "linecolor": "white",
           "ticks": "",
           "title": {
            "standoff": 15
           },
           "zerolinecolor": "white",
           "zerolinewidth": 2
          }
         }
        },
        "title": {
         "text": "Scatterplot of Subjectivity vs Polarity - tweets discussing Tesla only"
        },
        "xaxis": {
         "anchor": "y",
         "domain": [
          0,
          1
         ],
         "title": {
          "text": "Polarity"
         }
        },
        "yaxis": {
         "anchor": "x",
         "domain": [
          0,
          1
         ],
         "title": {
          "text": "Subjectivity"
         }
        }
       }
      }
     },
     "metadata": {},
     "output_type": "display_data"
    }
   ],
   "source": [
    "# Create an interactive scatterplot\n",
    "fig = px.scatter(\n",
    "    tesla_df,\n",
    "    x='Polarity',\n",
    "    y='Subjectivity',\n",
    "    # Show cleaned tweets on hover\n",
    "    hover_data={'Cleaned_Tweets': True},  \n",
    "    title='Scatterplot of Subjectivity vs Polarity - tweets discussing Tesla only',\n",
    "    labels={'Polarity': 'Polarity', 'Subjectivity': 'Subjectivity'}\n",
    ")\n",
    "\n",
    "# Show the plot\n",
    "fig.show()"
   ]
  },
  {
   "cell_type": "code",
   "execution_count": 13,
   "metadata": {},
   "outputs": [],
   "source": [
    "stock_data_df = pd.read_csv('/Users/benadams/Downloads/Twitter Stock Market Dataset.csv')"
   ]
  },
  {
   "cell_type": "code",
   "execution_count": 14,
   "metadata": {},
   "outputs": [],
   "source": [
    "\n",
    "def calculate_stock_change(tesla_df, stock_data_df):\n",
    "    \"\"\"\n",
    "    This function processes a dataframe of tweets and creates a new dataframe \n",
    "    with the stock change caused by the given tweet\n",
    "    Args:\n",
    "    - (pd.DataFrame): DataFrame containing tweet data with columns 'Date', 'Cleaned_Tweets', 'Polarity'.\n",
    "    - (pd.DataFrame): DataFrame containing stock data with columns 'Date', 'Open', 'Close'.\n",
    "    Returns:\n",
    "    - pd.DataFrame: A DataFrame with 'Datetime', 'Cleaned_Tweets', 'Polarity', and 'Stock_Change'.\n",
    "    \"\"\"\n",
    "    \n",
    "    # Change date columns to datetime\n",
    "    stock_data_df['Date'] = pd.to_datetime(stock_data_df['Date'])\n",
    "    tesla_df['Date'] = pd.to_datetime(tesla_df['Date'])\n",
    "\n",
    "    # Define trading hours\n",
    "    trading_start = datetime.strptime(\"14:30:00\", \"%H:%M:%S\").time()\n",
    "    trading_end = datetime.strptime(\"21:00:00\", \"%H:%M:%S\").time()\n",
    "\n",
    "    # List to store the result dataframe\n",
    "    new_data = []\n",
    "\n",
    "    # Iterate through each tweet from the input df\n",
    "    for _, tweet_row in tesla_df.iterrows():\n",
    "        tweet_time = tweet_row['Date'].time()\n",
    "        tweet_date = tweet_row['Date'].date()\n",
    "\n",
    "        # Determine stock change based on tweet time\n",
    "        if trading_start <= tweet_time <= trading_end:\n",
    "            # During trading hours: use Close - Open for the same day\n",
    "            stock_row = stock_data_df[stock_data_df['Date'] == pd.Timestamp(tweet_date)]\n",
    "            if not stock_row.empty:\n",
    "                stock_change = stock_row.iloc[0]['Close'] - stock_row.iloc[0]['Open']\n",
    "            else:\n",
    "                # If there is no stock data for that day change is none\n",
    "                stock_change = None  \n",
    "        else:\n",
    "            # Outside trading hours: use Open (next day) - Close (current day)\n",
    "            current_date = pd.Timestamp(tweet_date)\n",
    "            next_date = current_date + timedelta(days=1)\n",
    "            \n",
    "            # Handle weekends\n",
    "            # Saturday\n",
    "            if current_date.weekday() == 5: \n",
    "                prev_friday = current_date - timedelta(days=1)\n",
    "                next_monday = current_date + timedelta(days=2)\n",
    "                stock_row = stock_data_df[stock_data_df['Date'] == prev_friday]\n",
    "                next_stock_row = stock_data_df[stock_data_df['Date'] == next_monday]\n",
    "            # Sunday\n",
    "            elif current_date.weekday() == 6:  \n",
    "                prev_friday = current_date - timedelta(days=2)\n",
    "                next_monday = current_date + timedelta(days=1)\n",
    "                stock_row = stock_data_df[stock_data_df['Date'] == prev_friday]\n",
    "                next_stock_row = stock_data_df[stock_data_df['Date'] == next_monday]\n",
    "            else:\n",
    "                stock_row = stock_data_df[stock_data_df['Date'] == current_date]\n",
    "                next_stock_row = stock_data_df[stock_data_df['Date'] == next_date]\n",
    "\n",
    "            if not stock_row.empty and not next_stock_row.empty:\n",
    "                stock_change = next_stock_row.iloc[0]['Open'] - stock_row.iloc[0]['Close']\n",
    "            else:\n",
    "                # Missing data for the next day\n",
    "                stock_change = None  \n",
    "\n",
    "        # Append the result for the current tweet\n",
    "        new_data.append({\n",
    "            'Datetime': tweet_row['Date'],\n",
    "            'Cleaned_Tweets': tweet_row['Cleaned_Tweets'],\n",
    "            'Polarity': tweet_row['Polarity'],\n",
    "            'Stock_Change': stock_change\n",
    "        })\n",
    "\n",
    "    # Convert to a new DataFrame\n",
    "    result_df = pd.DataFrame(new_data)\n",
    "\n",
    "    return result_df"
   ]
  },
  {
   "cell_type": "code",
   "execution_count": 15,
   "metadata": {},
   "outputs": [],
   "source": [
    "#Crete the Dataframe with the polarity and stock change by company\n",
    "#Then clean the output dataframe to account for days in which the market was not open\n",
    "\n",
    "twitter_result_df = calculate_stock_change(twitter_df, stock_data_df)\n",
    "twitter_result_df_clean_nan = twitter_result_df.dropna(subset=['Stock_Change'])\n",
    "\n",
    "spaceX_result_df = calculate_stock_change(spaceX_df, stock_data_df)\n",
    "spaceX_result_df_clean_nan = spaceX_result_df.dropna(subset=['Stock_Change'])\n",
    "\n",
    "tesla_result_df = calculate_stock_change(tesla_df, stock_data_df)\n",
    "tesla_result_df_clean_nan = tesla_result_df.dropna(subset=['Stock_Change'])\n"
   ]
  },
  {
   "cell_type": "code",
   "execution_count": 16,
   "metadata": {},
   "outputs": [],
   "source": [
    "#imports for linear regression model\n",
    "\n",
    "import pandas as pd\n",
    "from sklearn.model_selection import train_test_split\n",
    "from sklearn.linear_model import LinearRegression\n",
    "from sklearn.metrics import mean_absolute_error, mean_squared_error\n"
   ]
  },
  {
   "cell_type": "code",
   "execution_count": 17,
   "metadata": {},
   "outputs": [
    {
     "data": {
      "image/png": "[encoded data removed]",
      "text/plain": [
       "<Figure size 800x600 with 1 Axes>"
      ]
     },
     "metadata": {},
     "output_type": "display_data"
    },
    {
     "name": "stdout",
     "output_type": "stream",
     "text": [
      "Slope (Coefficient): 0.23415185091586052\n",
      "Intercept: -0.35722497030244726\n"
     ]
    }
   ],
   "source": [
    "\n",
    "X = twitter_result_df_clean_nan[['Polarity']] \n",
    "y = twitter_result_df_clean_nan['Stock_Change'] \n",
    "\n",
    "# Fit the Linear Regression model\n",
    "model = LinearRegression()\n",
    "model.fit(X, y)\n",
    "\n",
    "# Predict values using the model\n",
    "y_pred = model.predict(X)\n",
    "\n",
    "# Plot the data points and the line of best fit\n",
    "plt.figure(figsize=(8, 6))\n",
    "plt.scatter(X, y, color='blue', label='Tweets')\n",
    "plt.plot(X, y_pred, color='red', label='Line of Best Fit')\n",
    "\n",
    "# Customize the plot\n",
    "plt.title('Sentiment vs Twitter Stock Price')\n",
    "plt.xlabel('Polarity')\n",
    "plt.ylabel('Stock Price Change')\n",
    "plt.legend()\n",
    "plt.grid(True)\n",
    "\n",
    "# Show the plot\n",
    "plt.show()\n",
    "slope = model.coef_[0]\n",
    "intercept = model.intercept_\n",
    "print(f\"Slope (Coefficient): {slope}\")\n",
    "print(f\"Intercept: {intercept}\")"
   ]
  },
  {
   "cell_type": "code",
   "execution_count": 18,
   "metadata": {},
   "outputs": [
    {
     "data": {
      "image/png": "[encoded data removed]",
      "text/plain": [
       "<Figure size 800x600 with 1 Axes>"
      ]
     },
     "metadata": {},
     "output_type": "display_data"
    },
    {
     "name": "stdout",
     "output_type": "stream",
     "text": [
      "Slope (Coefficient): -0.6229537316421005\n",
      "Intercept: 0.15985924126665318\n"
     ]
    }
   ],
   "source": [
    "X = spaceX_result_df_clean_nan[['Polarity']]  \n",
    "y = spaceX_result_df_clean_nan['Stock_Change']  \n",
    "\n",
    "# Fit a Linear Regression model\n",
    "model = LinearRegression()\n",
    "model.fit(X, y)\n",
    "\n",
    "# Predict values using the model\n",
    "y_pred = model.predict(X)\n",
    "\n",
    "# Plot the data points and the line of best fit\n",
    "plt.figure(figsize=(8, 6))\n",
    "plt.scatter(X, y, color='blue', label='Tweets')\n",
    "plt.plot(X, y_pred, color='red', label='Line of Best Fit')\n",
    "\n",
    "# Customize the plot\n",
    "plt.title('Sentiment vs spaceX Stock Price')\n",
    "plt.xlabel('Polarity')\n",
    "plt.ylabel('Stock Price Change')\n",
    "plt.legend()\n",
    "plt.grid(True)\n",
    "\n",
    "# Show the plot\n",
    "plt.show()\n",
    "slope = model.coef_[0]\n",
    "intercept = model.intercept_\n",
    "print(f\"Slope (Coefficient): {slope}\")\n",
    "print(f\"Intercept: {intercept}\")"
   ]
  },
  {
   "cell_type": "code",
   "execution_count": 19,
   "metadata": {},
   "outputs": [
    {
     "data": {
      "image/png": "[encoded data removed]",
      "text/plain": [
       "<Figure size 800x600 with 1 Axes>"
      ]
     },
     "metadata": {},
     "output_type": "display_data"
    },
    {
     "name": "stdout",
     "output_type": "stream",
     "text": [
      "Slope (Coefficient): -0.12552951148926061\n",
      "Intercept: 0.22087231249076356\n"
     ]
    }
   ],
   "source": [
    "X = tesla_result_df_clean_nan[['Polarity']]  \n",
    "y = tesla_result_df_clean_nan['Stock_Change']  \n",
    "\n",
    "# Fit a Linear Regression model\n",
    "model = LinearRegression()\n",
    "model.fit(X, y)\n",
    "\n",
    "# Predict values using the model\n",
    "y_pred = model.predict(X)\n",
    "\n",
    "# Plot the data points and the line of best fit\n",
    "plt.figure(figsize=(8, 6))\n",
    "plt.scatter(X, y, color='blue', label='Tweets')\n",
    "plt.plot(X, y_pred, color='red', label='Line of Best Fit')\n",
    "\n",
    "# Customize the plot\n",
    "plt.title('Sentiment vs Tesla Stock Price')\n",
    "plt.xlabel('Polarity')\n",
    "plt.ylabel('Stock Price Change')\n",
    "plt.legend()\n",
    "plt.grid(True)\n",
    "\n",
    "# Show the plot\n",
    "plt.show()\n",
    "\n",
    "slope = model.coef_[0]\n",
    "intercept = model.intercept_\n",
    "print(f\"Slope (Coefficient): {slope}\")\n",
    "print(f\"Intercept: {intercept}\")"
   ]
  },
  {
   "cell_type": "code",
   "execution_count": null,
   "metadata": {},
   "outputs": [],
   "source": []
  }
 ],
 "metadata": {
  "kernelspec": {
   "display_name": "Python 3",
   "language": "python",
   "name": "python3"
  },
  "language_info": {
   "codemirror_mode": {
    "name": "ipython",
    "version": 3
   },
   "file_extension": ".py",
   "mimetype": "text/x-python",
   "name": "python",
   "nbconvert_exporter": "python",
   "pygments_lexer": "ipython3",
   "version": "3.12.6"
  }
 },
 "nbformat": 4,
 "nbformat_minor": 2
}
